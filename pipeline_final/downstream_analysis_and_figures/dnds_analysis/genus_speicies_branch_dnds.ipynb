{
 "cells": [
  {
   "cell_type": "code",
   "execution_count": 1,
   "id": "b0f98bbe-8c36-44f7-80e2-7fc9c12765a5",
   "metadata": {},
   "outputs": [
    {
     "name": "stderr",
     "output_type": "stream",
     "text": [
      "/n/home11/rkapoor/.conda/envs/rishabh/lib/python3.9/site-packages/scipy/__init__.py:146: UserWarning: A NumPy version >=1.16.5 and <1.23.0 is required for this version of SciPy (detected version 1.26.4\n",
      "  warnings.warn(f\"A NumPy version >={np_minversion} and <{np_maxversion}\"\n"
     ]
    }
   ],
   "source": [
    "import numpy as np\n",
    "from scipy.stats import percentileofscore\n",
    "import itolapi\n",
    "from itolapi import Itol\n",
    "import os\n",
    "from pathlib import Path\n",
    "import sys\n",
    "\n",
    "import pandas as pd\n",
    "import toytree       # a tree plotting library\n",
    "import toyplot       # a general plotting library\n",
    "import numpy as np   # numerical library\n",
    "import os\n",
    "from Bio import SeqIO\n",
    "from Bio import Entrez\n",
    "import subprocess\n",
    "import toyplot.png\n",
    "import matplotlib.pyplot as plt\n",
    "import matplotlib.colors as mcolors\n",
    "import subprocess\n",
    "import multiprocessing as mp\n",
    "import ast\n",
    "from Bio.Data import CodonTable\n",
    "\n",
    "from Bio.Seq import Seq\n",
    "from Bio.SeqUtils import seq3\n",
    "import random\n",
    "from Bio.SeqUtils import GC123\n",
    "import pickle\n",
    "sys.path.insert(0, '/net/bos-nfsisilon/ifs/rc_labs/extavour_lab/rkapoor/home_migrate')\n",
    "import tax_pkg\n",
    "from tax_pkg import taxid\n",
    "import itertools"
   ]
  },
  {
   "cell_type": "code",
   "execution_count": null,
   "id": "9fc99063-6efa-490a-9bbf-35b86be01414",
   "metadata": {},
   "outputs": [],
   "source": [
    "hgt_pipeline_final_2/data_upload_3_24_2025/parent_neofunctionalization_dnds"
   ]
  },
  {
   "cell_type": "code",
   "execution_count": 3,
   "id": "b197956a-5af0-4f82-8b0e-cbc16d81b17d",
   "metadata": {},
   "outputs": [],
   "source": [
    "!tar -czf parent_neofunctionalization_dnds_data.tar.gz -C data_upload_3_24_2025 parent_neofunctionalization_dnds"
   ]
  },
  {
   "cell_type": "code",
   "execution_count": 11,
   "id": "92cc5e18-d313-4b02-a265-475e41997a4a",
   "metadata": {},
   "outputs": [],
   "source": [
    "#select all hgt and metazoan intervals from genus-specific chimeras for analysis \n",
    "dfc=pd.read_csv(\"revised_cluster_info_v3.csv\",index_col=0)\n",
    "genus=dfc[dfc.tax_span_rank.isin([\"species\",\"genus\",\"subgenus\",\"subspecies\"])]\n",
    "inters=[]\n",
    "for index, row in genus.iterrows():\n",
    "    inters.extend(ast.literal_eval(row.HGT_intervals))\n",
    "    inters.extend(ast.literal_eval(row.Meta_intervals))\n",
    "    ##load dictionary of within-genome parents at e=1e-10\n",
    "with open(\"meta_only.pickle\", 'rb') as file:\n",
    "    meta_only = pickle.load(file)\n",
    "with open(\"hgt_only.pickle\", 'rb') as file:\n",
    "    hgt_only = pickle.load(file)\n",
    "dfc=dfc.set_index(\"representative_seq\")"
   ]
  },
  {
   "cell_type": "markdown",
   "id": "b135dca7-92e3-474e-9667-bf57f09f15c4",
   "metadata": {},
   "source": [
    "## Branch-specific dn/ds analysis for chimeras found in multiple species within the same genus"
   ]
  },
  {
   "cell_type": "code",
   "execution_count": 3,
   "id": "20a3d6d3-5fc7-4e9c-bacd-f6d2815cbc9e",
   "metadata": {},
   "outputs": [],
   "source": [
    "genus_limited=dfc[dfc.tax_span_rank.str.contains(\"genus\")].representative_seq"
   ]
  },
  {
   "cell_type": "code",
   "execution_count": 8,
   "id": "60f942bc-6c9b-41c5-ad0f-14d9454a77a5",
   "metadata": {},
   "outputs": [
    {
     "name": "stdout",
     "output_type": "stream",
     "text": [
      "GCF_000002335.3;XP_015833841.1;HGT_(97,339)\n",
      "GCF_015228065.1;XP_037790819.1;HGT_(738,1165)\n",
      "GCF_021134715.1;XP_046456339.1;HGT_(49,253)\n",
      "GCF_019393585.1;XP_051173821.1;HGT_(17,106)\n",
      "GCF_021234035.1;XP_046649021.1;HGT_(451,633)\n"
     ]
    }
   ],
   "source": [
    "#populate a dictionary with the names and coordinates of homologous regions in non-chimeric hits\n",
    "#limit to hits within the same taxonomic family as each chimera\n",
    "non_chimeric_parvs={}\n",
    "hgt_one_inters=[x for x in hgt_only if x.split(';')[1] in set(genus_limited) and len(hgt_only[x])>0]\n",
    "for inter in hgt_one_inters:\n",
    "    # print(inter)\n",
    "    blast_inter_df=pd.read_csv(f\"blast_round_two_data/{inter}.tsv\",sep=\"\\t\")\n",
    "    try:\n",
    "        tid=int(blast_inter_df[blast_inter_df[\"sseqid\"]==inter.split(\";\")[1]].iloc[0,3])\n",
    "    except:\n",
    "        species_name=dfc.loc[inter.split(\";\")[1],\"organism\"].split(\"(\")[0].strip()\n",
    "        tid=int(blast_inter_df[blast_inter_df[\"sscinames\"]==species_name].iloc[0,4])\n",
    "    blast_inter_df=blast_inter_df[blast_inter_df['staxids'].astype(str)!=str(tid)]\n",
    "    l=taxid.get_lineage(tid,{})\n",
    "    self_family=l[\"family\"]\n",
    "    blast_inter_df=blast_inter_df[blast_inter_df['evalue']<1e-5]\n",
    "    blast_inter_df=blast_inter_df[blast_inter_df['sphylums']==\"Arthropoda\"]\n",
    "    \n",
    "    hgt_ids=set(blast_inter_df[\"sseqid\"])\n",
    "    for meta_inter in [x for x in os.listdir(f\"blast_round_two_data\") if inter.split(\";\")[1] in x and \"Meta\" in x]:\n",
    "        meta_df=pd.read_csv(f\"blast_round_two_data/{meta_inter}\",sep=\"\\t\",header=None)\n",
    "        ##filter out potential secondary chimeras (hits to metazoan region) in other species\n",
    "        hgt_ids=hgt_ids-set(meta_df[1])\n",
    "        \n",
    "    blast_inter_df=blast_inter_df[blast_inter_df[\"sseqid\"].isin(hgt_ids)]\n",
    "    taxids=[x.split(\";\") for x in blast_inter_df['staxids'].astype(str)]\n",
    "    taxids=set([int(x) for x in (itertools.chain.from_iterable(taxids))])\n",
    "    same_family=[]\n",
    "    for x in taxids:\n",
    "        l=taxid.get_lineage(x,{})\n",
    "        if \"family\" in l.keys() and str(l[\"family\"])==self_family:\n",
    "            same_family.append(x)\n",
    "    if len(same_family)>0:\n",
    "        print(inter)\n",
    "        same_family_index=[]\n",
    "        for ti in same_family:\n",
    "            for index, row in blast_inter_df.iterrows():\n",
    "                if str(ti) in str(row['staxids']):\n",
    "                    same_family_index.append(index)\n",
    "        blast_inter_df=blast_inter_df.loc[same_family_index,:]\n",
    "        blast_inter_df=blast_inter_df.loc[blast_inter_df.groupby('staxids')['evalue'].idxmin()]\n",
    "        \n",
    "        interv_par={}\n",
    "        for index, row in blast_inter_df.iterrows():\n",
    "            name=row['sseqid']\n",
    "            start=row['sstart']\n",
    "            end=row['send']\n",
    "            interv_par[name]=(start,end,row[4])\n",
    "        non_chimeric_parvs[inter]=interv_par\n",
    " "
   ]
  },
  {
   "cell_type": "code",
   "execution_count": 9,
   "id": "862d974e-9b29-4fdb-9ad3-6e064d2a815e",
   "metadata": {},
   "outputs": [
    {
     "name": "stderr",
     "output_type": "stream",
     "text": [
      "/tmp/ipykernel_3712973/2703076200.py:16: DtypeWarning: Columns (8,9,10,11,12,13,14,15,16,17) have mixed types. Specify dtype option on import or set low_memory=False.\n",
      "  hgt_df=pd.read_csv(f\"blast_round_two_data/{hgt_inter}\",sep=\"\\t\",header=None)\n"
     ]
    },
    {
     "name": "stdout",
     "output_type": "stream",
     "text": [
      "GCF_015228065.1;XP_037790819.1;Meta_(45,640)\n",
      "GCF_016920785.2;XP_029821973.3;Meta_(1,287)\n",
      "GCF_000002335.3;XP_015833841.1;Meta_(1114,1237)\n",
      "GCF_021234035.1;XP_046649021.1;Meta_(72,351)\n",
      "GCF_021134715.1;XP_046439036.1;Meta_(421,823)\n",
      "GCF_021134715.1;XP_046456339.1;Meta_(1765,1928)\n"
     ]
    }
   ],
   "source": [
    "##repeat above process but to find hgt intervals in other species\n",
    "meta_one_inters=[x for x in meta_only if x.split(';')[1] in set(genus_limited) and len(meta_only[x])>0]\n",
    "for inter in meta_one_inters:\n",
    "    blast_inter_df=pd.read_csv(f\"blast_round_two_data/{inter}.tsv\",sep=\"\\t\")\n",
    "    try:\n",
    "        tid=int(blast_inter_df[blast_inter_df[\"sseqid\"]==inter.split(\";\")[1]].iloc[0,3])\n",
    "    except:\n",
    "        species_name=dfc.loc[inter.split(\";\")[1],\"organism\"].split(\"(\")[0].strip()\n",
    "        tid=int(blast_inter_df[blast_inter_df[\"sscinames\"]==species_name].iloc[0,4])\n",
    "    blast_inter_df=blast_inter_df[blast_inter_df['staxids'].astype(str)!=str(tid)]\n",
    "    l=taxid.get_lineage(tid,{})\n",
    "    self_family=l[\"family\"]\n",
    "    blast_inter_df=blast_inter_df[blast_inter_df['evalue']<1e-5]\n",
    "    blast_inter_df=blast_inter_df[blast_inter_df['sphylums']==\"Arthropoda\"]\n",
    "    meta_ids=set(blast_inter_df[\"sseqid\"])\n",
    "    for hgt_inter in [x for x in os.listdir(f\"blast_round_two_data\") if inter.split(\";\")[1] in x and \"HGT\" in x]:\n",
    "        hgt_df=pd.read_csv(f\"blast_round_two_data/{hgt_inter}\",sep=\"\\t\",header=None)\n",
    "        meta_ids=meta_ids-set(hgt_df[1])\n",
    "        \n",
    "    blast_inter_df=blast_inter_df[blast_inter_df[\"sseqid\"].isin(meta_ids)]\n",
    "    taxids=[x.split(\";\") for x in blast_inter_df['staxids'].astype(str)]\n",
    "    taxids=set([int(x) for x in (itertools.chain.from_iterable(taxids))])\n",
    "    same_family=[]\n",
    "    for x in taxids:\n",
    "        l=taxid.get_lineage(x,{})\n",
    "        if \"family\" in l.keys() and str(l[\"family\"])==self_family:\n",
    "            same_family.append(x)\n",
    "    if len(same_family)>0:\n",
    "        print(inter)\n",
    "        same_family_index=[]\n",
    "        for ti in same_family:\n",
    "            for index, row in blast_inter_df.iterrows():\n",
    "                if str(ti) in str(row['staxids']):\n",
    "                    same_family_index.append(index)\n",
    "        blast_inter_df=blast_inter_df.loc[same_family_index,:]\n",
    "        blast_inter_df=blast_inter_df.loc[blast_inter_df.groupby('staxids')['evalue'].idxmin()]\n",
    "        blast_inter_df=blast_inter_df.loc[blast_inter_df.groupby('staxids')['evalue'].idxmin()]\n",
    "        interv_par={}\n",
    "        for index, row in blast_inter_df.iterrows():\n",
    "            name=row['sseqid']\n",
    "            start=row['sstart']\n",
    "            end=row['send']\n",
    "            interv_par[name]=(start,end,row[4])\n",
    "        non_chimeric_parvs[inter]=interv_par\n",
    "  "
   ]
  },
  {
   "cell_type": "code",
   "execution_count": 16,
   "id": "75053419-d728-4f4f-9f49-e34fb4fe1e7e",
   "metadata": {},
   "outputs": [],
   "source": [
    "chimeric_homologs={}\n",
    "for x in inters:\n",
    "    l=[]\n",
    "    if x in chimeric_parvs:\n",
    "        l=list(chimeric_parvs[x].keys())\n",
    "    l.append(x.split(\";\")[1])\n",
    "    chimeric_homologs[x]=l"
   ]
  },
  {
   "cell_type": "code",
   "execution_count": null,
   "id": "bc394ea9-f6ce-400b-be7e-c28c6647c28b",
   "metadata": {},
   "outputs": [],
   "source": [
    "import pickle\n"
   ]
  },
  {
   "cell_type": "code",
   "execution_count": 19,
   "id": "f773e732-4092-41e9-8668-d68b37a32134",
   "metadata": {},
   "outputs": [],
   "source": [
    "\n",
    "# Define the filename for the pickle file\n",
    "pickle_file = \"dnds_branch_chimeras.pickle\"\n",
    "\n",
    "# Save the dictionary as a pickle file\n",
    "with open(pickle_file, \"wb\") as f:\n",
    "    pickle.dump(chimeric_homologs, f)\n"
   ]
  },
  {
   "cell_type": "code",
   "execution_count": 11,
   "id": "4dd1831e-bc2c-4460-9396-4211ec078b8b",
   "metadata": {},
   "outputs": [
    {
     "name": "stdout",
     "output_type": "stream",
     "text": [
      "GCF_000002335.3;XP_015833841.1;HGT_(97,339)\n",
      "GCF_015228065.1;XP_037790819.1;HGT_(738,1165)\n",
      "GCF_021134715.1;XP_046456339.1;HGT_(49,253)\n",
      "GCF_019393585.1;XP_051173821.1;HGT_(17,106)\n",
      "GCF_021234035.1;XP_046649021.1;HGT_(451,633)\n",
      "GCF_015228065.1;XP_037790819.1;Meta_(45,640)\n",
      "GCF_016920785.2;XP_029821973.3;Meta_(1,287)\n",
      "GCF_000002335.3;XP_015833841.1;Meta_(1114,1237)\n",
      "GCF_021234035.1;XP_046649021.1;Meta_(72,351)\n",
      "GCF_021134715.1;XP_046439036.1;Meta_(421,823)\n",
      "GCF_021134715.1;XP_046456339.1;Meta_(1765,1928)\n"
     ]
    }
   ],
   "source": [
    "#populate a dictionary with the names and coordinates of homologous regions in chimeric genes (hits for all metazoan and hgt genes)\n",
    "#limit to hits within the same family as each chimera\n",
    "chimeric_parvs={}\n",
    "\n",
    "for inter in non_chimeric_parvs:\n",
    "    blast_inter_df=pd.read_csv(f\"blast_round_two_data/{inter}.tsv\",sep=\"\\t\")\n",
    "    try:\n",
    "        tid=int(blast_inter_df[blast_inter_df[\"sseqid\"]==inter.split(\";\")[1]].iloc[0,3])\n",
    "    except:\n",
    "        species_name=dfc.loc[inter.split(\";\")[1],\"organism\"].split(\"(\")[0].strip()\n",
    "        tid=int(blast_inter_df[blast_inter_df[\"sscinames\"]==species_name].iloc[0,4])\n",
    "    blast_inter_df=blast_inter_df[blast_inter_df['staxids'].astype(str)!=str(tid)]\n",
    "    l=taxid.get_lineage(tid,{})\n",
    "    self_family=l[\"family\"]\n",
    "    blast_inter_df=blast_inter_df[blast_inter_df['evalue']<1e-5]\n",
    "    blast_inter_df=blast_inter_df[blast_inter_df['sphylums']==\"Arthropoda\"]\n",
    "\n",
    "    both_ids=set(blast_inter_df[\"sseqid\"])\n",
    "    \n",
    "    if \"HGT\" in inter:\n",
    "        for meta_inter in [x for x in os.listdir(f\"blast_round_two_data\") if inter.split(\";\")[1] in x and \"Meta\" in x]:\n",
    "            meta_df=pd.read_csv(f\"blast_round_two_data/{meta_inter}\",sep=\"\\t\")\n",
    "            both_ids=both_ids&set(meta_df['sseqid'])\n",
    "    else:\n",
    "        for hgt_inter in [x for x in os.listdir(f\"blast_round_two_data\") if inter.split(\";\")[1] in x and \"HGT\" in x]:\n",
    "            hgt_df=pd.read_csv(f\"blast_round_two_data/{hgt_inter}\",sep=\"\\t\")\n",
    "            both_ids=both_ids&set(hgt_df['sseqid'])\n",
    "        \n",
    "        \n",
    "    blast_inter_df=blast_inter_df[blast_inter_df[\"sseqid\"].isin(both_ids)]\n",
    "    taxids=[x.split(\";\") for x in blast_inter_df['staxids'].astype(str)]\n",
    "    taxids=set([int(x) for x in (itertools.chain.from_iterable(taxids))])\n",
    "    same_family=[]\n",
    "    for x in taxids:\n",
    "        l=taxid.get_lineage(x,{})\n",
    "        if \"family\" in l.keys() and str(l[\"family\"])==self_family:\n",
    "            same_family.append(x)\n",
    "    if len(same_family)>0:\n",
    "        print(inter)\n",
    "        same_family_index=[]\n",
    "        for ti in same_family:\n",
    "            for index, row in blast_inter_df.iterrows():\n",
    "                if str(ti) in str(row['staxids']):\n",
    "                    same_family_index.append(index)\n",
    "        blast_inter_df=blast_inter_df.loc[same_family_index,:]\n",
    "        blast_inter_df=blast_inter_df.loc[blast_inter_df.groupby('staxids')['evalue'].idxmin()]\n",
    "        \n",
    "        interv_par={}\n",
    "        for index, row in blast_inter_df.iterrows():\n",
    "            name=row['sseqid']\n",
    "            start=row['sstart']\n",
    "            end=row['send']\n",
    "            interv_par[name]=(start,end,row[4])\n",
    "        chimeric_parvs[inter]=interv_par"
   ]
  },
  {
   "cell_type": "code",
   "execution_count": null,
   "id": "c6946c54-86be-4de0-b843-00ef077651fc",
   "metadata": {},
   "outputs": [],
   "source": [
    "#write protein and nucleotide fastas for all homologous intervals for each interval\n",
    "#generate alignments and run iqtree for ML tree inference\n",
    "for inter in non_chimeric_parvs:\n",
    "    interv_par=chimeric_parvs[inter]|non_chimeric_parvs[inter]\n",
    "    try:\n",
    "        subprocess.run([\"rm\",\"-r\", f\"multi_dnds_parent/{inter}\"])\n",
    "    except:\n",
    "        p=1\n",
    "    try:\n",
    "        subprocess.run([\"mkdir\", f\"multi_dnds_parent/{inter}\"])\n",
    "    except:\n",
    "        p=1\n",
    "    fprot=open(f\"multi_dnds_parent/{inter}/concatenated_prot1.fasta\",\"w\")\n",
    "    fnuc=open(f\"multi_dnds_parent/{inter}/concatenated_nuc1.fasta\",\"w\")\n",
    "    for c in interv_par:\n",
    "\n",
    "        try:\n",
    "            subprocess.run([\"mkdir\", f\"multi_dnds_parent/{inter}/{c}\"])\n",
    "        except:\n",
    "            p=1\n",
    "        url_na=f\"http://eutils.ncbi.nlm.nih.gov/entrez/eutils/efetch.fcgi?db=protein&id={c}&rettype=fasta_cds_na\" \n",
    "        url_prot=f\"http://eutils.ncbi.nlm.nih.gov/entrez/eutils/efetch.fcgi?db=protein&id={c}&rettype=fasta\" \n",
    "        subprocess.run([\"wget\",url_na,\"-O\",f\"multi_dnds_parent/{inter}/{c}/nuc.fasta\"])\n",
    "        subprocess.run([\"wget\",url_prot,\"-O\",f\"multi_dnds_parent/{inter}/{c}/prot.fasta\"])\n",
    "\n",
    "        input_file = open(f\"multi_dnds_parent/{inter}/{c}/prot.fasta\")\n",
    "        prot_dict = SeqIO.to_dict(SeqIO.parse(input_file, \"fasta\"))\n",
    "\n",
    "        start=interv_par[c][0]\n",
    "        stop=interv_par[c][1]\n",
    "        fprot.write(f\">{c}\\n\")\n",
    "        fprot.write(str(prot_dict[list(prot_dict.keys())[0]].seq)[start-1:stop]+\"\\n\")\n",
    "\n",
    "        input_file = open(f\"multi_dnds_parent/{inter}/{c}/nuc.fasta\")\n",
    "        nuc_dict = SeqIO.to_dict(SeqIO.parse(input_file, \"fasta\"))\n",
    "        start_nuc=start*3\n",
    "        stop_nuc=stop*3\n",
    "\n",
    "        fnuc.write(f\">{c}\\n\")\n",
    "        fnuc.write(str(nuc_dict[list(nuc_dict.keys())[0]].seq)[start_nuc-3:stop_nuc]+\"\\n\")\n",
    "    fprot.close()\n",
    "    fnuc.close()\n",
    "\n",
    "    # Define the paths to the input files and the output file\n",
    "    file1_path = f\"multi_dnds_parent/{inter}/concatenated_nuc1.fasta\"\n",
    "    file2_path = f\"dnds_parent/{inter}/concatenated_nuc.fasta\"\n",
    "    output_file_path = f\"multi_dnds_parent/{inter}/concatenated_nuc.fasta\"\n",
    "\n",
    "    # Concatenate the contents of the two input files and write to the output file\n",
    "    with open(output_file_path, 'w') as output_file:\n",
    "        with open(file1_path, 'r') as file1, open(file2_path, 'r') as file2:\n",
    "            output_file.write(file1.read() + file2.read())\n",
    "\n",
    "    # Define the paths to the input files and the output file\n",
    "    file1_path = f\"multi_dnds_parent/{inter}/concatenated_prot1.fasta\"\n",
    "    file2_path = f\"dnds_parent/{inter}/concatenated_prot.fasta\"\n",
    "    output_file_path = f\"multi_dnds_parent/{inter}/concatenated_prot.fasta\"\n",
    "\n",
    "    # Concatenate the contents of the two input files and write to the output file\n",
    "    with open(output_file_path, 'w') as output_file:\n",
    "        with open(file1_path, 'r') as file1, open(file2_path, 'r') as file2:\n",
    "            output_file.write(file1.read() + file2.read())\n",
    "    subprocess.run([\"sbatch\",\"dnds_scripts/run_iqtree_pipe.sh\",\"multi_dnds_parent\",inter])\n"
   ]
  },
  {
   "cell_type": "code",
   "execution_count": null,
   "id": "c772b594-0ea3-47c5-94f9-da2dd46a8ca2",
   "metadata": {},
   "outputs": [],
   "source": [
    "##for trees in which the chimeric sequences are monophyletic, set chimeras to the foreground branch and run a two-branch branch model\n",
    "for x in [x for x in os.listdir(\"multi_dnds_parent\") if \"tree_branch_hyphy.newick\" in os.listdir(f\"multi_dnds_parent/{x}\")]:\n",
    "    f=open(f\"multi_dnds_parent/{x}/tree_branch_hyphy.newick\",\"r\").readlines()\n",
    "    f2=open(f\"multi_dnds_parent/{x}/tree_branch.newick\",\"w\")\n",
    "    f2.write(f[0].replace(\"{Chimera}\",\" #1\").replace(\"{Foreground}\",\" #1\"))\n",
    "    f2.close()\n",
    "    subprocess.run([\"sh\",\"dnds_scripts/run_pal2nal.sh\",\"multi_dnds_parent\",x])\n",
    "    subprocess.run([\"sh\",\"dnds_scripts/run_branch.sh\",\"multi_dnds_parent\",x])"
   ]
  },
  {
   "cell_type": "code",
   "execution_count": null,
   "id": "ae37eb48-9c23-4462-aaea-1048a07e1e42",
   "metadata": {},
   "outputs": [],
   "source": [
    "##run an m0 model in which all banches have the same dn/ds\n",
    "for x in [x for x in os.listdir(\"multi_dnds_parent\") if \"tree_branch_hyphy.newick\" in os.listdir(f\"multi_dnds_parent/{x}\")]:\n",
    "    subprocess.run([\"sh\",\"dnds_scripts/run_m0_branch.sh\",\"multi_dnds_parent\",x])"
   ]
  },
  {
   "cell_type": "code",
   "execution_count": 24,
   "id": "5659cfd4-4029-4158-86b9-3ce32809badb",
   "metadata": {},
   "outputs": [],
   "source": [
    "##populate a dataframe with the results of the branch models\n",
    "dnds_data=pd.DataFrame(index= [x for x in os.listdir(\"multi_dnds_parent\") if \"tree_branch_hyphy.newick\" in os.listdir(f\"multi_dnds_parent/{x}\") and x in inters ], columns=[\"dnds_f\",\"lnL_f\",\"np_f\",\"dS_f\",\"dnds_b\",\"dnds_bch\",\"lnL_b\",\"np_b\",\"dS_b\"]) "
   ]
  },
  {
   "cell_type": "code",
   "execution_count": 25,
   "id": "82255eb4-97cd-4da6-bea2-ea581323ae7c",
   "metadata": {},
   "outputs": [],
   "source": [
    "##fill in results of single dn/ds model\n",
    "for c in ([x for x in os.listdir(\"multi_dnds_parent\") if \"tree_branch_hyphy.newick\" in os.listdir(f\"multi_dnds_parent/{x}\") and x in inters]):\n",
    "    \n",
    "    f=open(f\"multi_dnds_parent/{c}/m0_branch_paml_output.out\",\"r\").readlines()\n",
    "    t=False\n",
    "    for i  in range(len(f)):\n",
    "        x=f[i]\n",
    "        if \"omega (dN/dS) =\" in x:\n",
    "            dnds_data.loc[c,\"dnds_f\"]=ast.literal_eval(x.split(\"omega (dN/dS) =\")[1].strip())\n",
    "         \n",
    "            t=True\n",
    "        if \"lnL(\" in x:\n",
    "            dnds_data.loc[c,\"np_f\"]=ast.literal_eval(x.split(\"lnL(\")[1].split(\"np:\")[1].split(\")\")[0].strip())\n",
    "            dnds_data.loc[c,\"lnL_f\"]=ast.literal_eval(x.split(\"):\")[1].strip().split()[0])\n",
    "        if \"tree length for dS:\" in x:\n",
    "            dnds_data.loc[c,\"dS_f\"]=ast.literal_eval(x.split(\"tree length for dS:\")[1].strip().split()[0])\n",
    "        if \"Printing out site pattern counts\" in x:\n",
    "\n",
    "            dnds_data.loc[c,\"n_codons\"]=ast.literal_eval(f[i+3].split()[1])/3"
   ]
  },
  {
   "cell_type": "code",
   "execution_count": 60,
   "id": "766b9752-f7a9-4a8c-8c85-1f82127a2a6a",
   "metadata": {},
   "outputs": [],
   "source": [
    "!mkdir \"data_upload_3_24_2025/parent_neofunctionalization_dnds\""
   ]
  },
  {
   "cell_type": "code",
   "execution_count": 62,
   "id": "d898b6ed-0d2b-41c7-a484-dc71cf483b3f",
   "metadata": {},
   "outputs": [],
   "source": [
    "for x in combined_dnds.index:\n",
    "    d=[\"tree_branch.newick\",\"branch_paml_output.out\",\"m0_branch_paml_output.out\",\"concatenated_prot.fasta\",\"concatenated_nuc.fasta\",\"pal2nal.paml\"]\n",
    "    !mkdir \"data_upload_3_24_2025/parent_neofunctionalization_dnds\"/\"$x\"\n",
    "    for y in d:\n",
    "        !cp \"multi_dnds_parent\"/\"$x\"/\"$y\" \"data_upload_3_24_2025/parent_neofunctionalization_dnds/\"\"$x\"/\"$y\"\n",
    "    "
   ]
  },
  {
   "cell_type": "code",
   "execution_count": 26,
   "id": "e0d6ae81-bc77-4f47-8128-baeb0b9574f3",
   "metadata": {},
   "outputs": [],
   "source": [
    "for c in [x for x in os.listdir(\"multi_dnds_parent\") if \"tree_branch_hyphy.newick\" in os.listdir(f\"multi_dnds_parent/{x}\")]:\n",
    "    \n",
    "    f=open(f\"multi_dnds_parent/{c}/branch_paml_output.out\",\"r\").readlines()\n",
    "    t=False\n",
    "    for i  in range(len(f)):\n",
    "        x=f[i]\n",
    "        if \"w (dN/dS) for branches:\" in x:\n",
    "            dnds_data.loc[c,\"dnds_b\"]=ast.literal_eval(x.split(\"w (dN/dS) for branches:\")[1].split()[0])\n",
    "            dnds_data.loc[c,\"dnds_bch\"]=ast.literal_eval(x.split(\"w (dN/dS) for branches:\")[1].split()[1])\n",
    "         \n",
    "            t=True\n",
    "        if \"lnL(\" in x:\n",
    "            dnds_data.loc[c,\"np_b\"]=ast.literal_eval(x.split(\"lnL(\")[1].split(\"np:\")[1].split(\")\")[0].strip())\n",
    "            dnds_data.loc[c,\"lnL_b\"]=ast.literal_eval(x.split(\"):\")[1].strip().split()[0])\n",
    "        if \"tree length for dS:\" in x:\n",
    "            dnds_data.loc[c,\"dS_b\"]=ast.literal_eval(x.split(\"tree length for dS:\")[1].strip().split()[0])\n",
    "        if \"Printing out site pattern counts\" in x:\n",
    "\n",
    "            dnds_data.loc[c,\"n_codons\"]=ast.literal_eval(f[i+3].split()[1])/3"
   ]
  },
  {
   "cell_type": "code",
   "execution_count": 27,
   "id": "64fb6fa9-ff18-4288-87a1-faa70c9e18fc",
   "metadata": {},
   "outputs": [],
   "source": [
    "import scipy \n",
    "from scipy import stats\n",
    "dnds_data[\"2delta_L\"]=2*(np.array(dnds_data[\"lnL_b\"])-np.array(dnds_data[\"lnL_f\"]))\n",
    "dnds_data[\"2delta_L\"]=[max(x,0) for x in dnds_data[\"2delta_L\"] ]\n",
    "for index, row in dnds_data.iterrows():\n",
    "    dnds_data.loc[index,\"p_val\"]=scipy.stats.chi2.sf(row[\"2delta_L\"], 1)"
   ]
  },
  {
   "cell_type": "code",
   "execution_count": 29,
   "id": "93f133e0-cf24-49a8-a9ab-566c99946f03",
   "metadata": {},
   "outputs": [
    {
     "data": {
      "text/plain": [
       "5"
      ]
     },
     "execution_count": 29,
     "metadata": {},
     "output_type": "execute_result"
    }
   ],
   "source": [
    "dnds_data=dnds_data.dropna(axis=0)\n",
    "dnds_data.shape[0]"
   ]
  },
  {
   "cell_type": "code",
   "execution_count": null,
   "id": "9811ff4f-3f82-421a-85ee-0825874a398c",
   "metadata": {},
   "outputs": [],
   "source": [
    "dnds_data.to_csv(\"genus_specific_dnds.csv\")"
   ]
  },
  {
   "cell_type": "markdown",
   "id": "74987bc6-ba7f-4159-8497-18cea0c87dbf",
   "metadata": {},
   "source": [
    "## Branch models for species-specific chimeras\n",
    "repeat above steps fo species-specific chimeras"
   ]
  },
  {
   "cell_type": "code",
   "execution_count": 16,
   "id": "4a3b76d8-d5bf-49d8-a520-b4086ca6e2ee",
   "metadata": {},
   "outputs": [],
   "source": [
    "species=dfc[dfc.n_species==1]\n",
    "species_limited=species.index\n",
    "meta_one_inters=[x for x in meta_only if x.split(';')[1] in set(species_limited) and len(meta_only[x])>0]\n",
    "\n",
    "hgt_one_inters=[x for x in hgt_only if x.split(';')[1] in set(species_limited) and len(hgt_only[x])>0]"
   ]
  },
  {
   "cell_type": "code",
   "execution_count": null,
   "id": "ae7d4411-b312-431d-af25-8c260e680a1a",
   "metadata": {},
   "outputs": [],
   "source": [
    "meta_one_inters=[x for x in meta_only if x.split(';')[1] in set(species_limited) and len(meta_only[x])>0]\n",
    "for inter in meta_one_inters:\n",
    "    blast_inter_df=pd.read_csv(f\"blast_round_two_data/{inter}.tsv\",sep=\"\\t\",header=None)\n",
    "    try:\n",
    "        tid=int(blast_inter_df[blast_inter_df['staxids']==inter.split(\";\")[1]].iloc[0,3])\n",
    "    except:\n",
    "        species_name=dfc.loc[inter.split(\";\")[1],\"organism\"].split(\"(\")[0].strip()\n",
    "        tid=int(blast_inter_df[blast_inter_df['sscinames']==species_name].iloc[0,3])\n",
    "    blast_inter_df=blast_inter_df[blast_inter_df['staxids'].astype(str)!=str(tid)]\n",
    "    l=taxid.get_lineage(tid,{})\n",
    "    self_family=l[\"family\"]\n",
    "    blast_inter_df=blast_inter_df[blast_inter_df['evalue']<1e-5]\n",
    "    blast_inter_df=blast_inter_df[blast_inter_df['sphylums']==\"Arthropoda\"]\n",
    "    meta_ids=set(blast_inter_df['staxids'])\n",
    "    for hgt_inter in [x for x in os.listdir(f\"blast_round_two_data/\") if inter.split(\";\")[1] in x and \"HGT\" in x]:\n",
    "        hgt_df=pd.read_csv(f\"blast_round_two_data/{hgt_inter}\",sep=\"\\t\",header=None)\n",
    "        meta_ids=meta_ids-set(hgt_df[1])\n",
    "        \n",
    "    blast_inter_df=blast_inter_df[blast_inter_df['staxids'].isin(meta_ids)]\n",
    "    taxids=[x.split(\";\") for x in blast_inter_df['staxids'].astype(str)]\n",
    "    taxids=set([int(x) for x in (itertools.chain.from_iterable(taxids))])\n",
    "    same_family=[]\n",
    "    for x in taxids:\n",
    "        l=taxid.get_lineage(x,{})\n",
    "        if \"family\" in l.keys() and str(l[\"family\"])==self_family:\n",
    "            same_family.append(x)\n",
    "    if len(same_family)>0:\n",
    "        print(inter)\n",
    "        same_family_index=[]\n",
    "        for ti in same_family:\n",
    "            for index, row in blast_inter_df.iterrows():\n",
    "                if str(ti) in str(row[3]):\n",
    "                    same_family_index.append(index)\n",
    "        blast_inter_df=blast_inter_df.loc[same_family_index,:]\n",
    "        blast_inter_df=blast_inter_df.loc[blast_inter_df.groupby(3)[15].idxmin()]\n",
    "        blast_inter_df=blast_inter_df.loc[blast_inter_df.groupby(3)[15].idxmin()]\n",
    "        interv_par={}\n",
    "        for index, row in blast_inter_df.iterrows():\n",
    "            name=row['staxids']\n",
    "            start=row['sstart']\n",
    "            end=row['send']\n",
    "            interv_par[name]=(start,end,row[4])\n",
    "        interv_parvs[inter]=interv_par\n",
    "  "
   ]
  },
  {
   "cell_type": "code",
   "execution_count": null,
   "id": "ffa4ea8a-c8f9-444b-831e-badb65ee5862",
   "metadata": {},
   "outputs": [],
   "source": [
    "\n",
    "hgt_one_inters=[x for x in hgt_only if x.split(';')[1] in set(species_limited) and len(hgt_only[x])>0]\n",
    "for inter in hgt_one_inters:\n",
    "    # print(inter)\n",
    "    blast_inter_df=pd.read_csv(f\"blast_round_two_data/{inter}.tsv\",sep=\"\\t\",header=None)\n",
    "    try:\n",
    "        tid=int(blast_inter_df[blast_inter_df['staxids']==inter.split(\";\")[1]].iloc[0,3])\n",
    "    except:\n",
    "        species_name=dfc.loc[inter.split(\";\")[1],\"organism\"].split(\"(\")[0].strip()\n",
    "        tid=int(blast_inter_df[blast_inter_df['sscinames']==species_name].iloc[0,3])\n",
    "    blast_inter_df=blast_inter_df[blast_inter_df['staxids'].astype(str)!=str(tid)]\n",
    "    l=taxid.get_lineage(tid,{})\n",
    "    self_family=l[\"family\"]\n",
    "    blast_inter_df=blast_inter_df[blast_inter_df['evalue']<1e-5]\n",
    "    blast_inter_df=blast_inter_df[blast_inter_df['sphylums']==\"Arthropoda\"]\n",
    "    hgt_ids=set(blast_inter_df['staxids'])\n",
    "    for meta_inter in [x for x in os.listdir(f\"blast_round_two_data/\") if inter.split(\";\")[1] in x and \"Meta\" in x]:\n",
    "        meta_df=pd.read_csv(f\"blast_round_two_data/{meta_inter}\",sep=\"\\t\",header=None)\n",
    "        hgt_ids=hgt_ids-set(meta_df[1])\n",
    "        \n",
    "    blast_inter_df=blast_inter_df[blast_inter_df['staxids'].isin(hgt_ids)]\n",
    "    taxids=[x.split(\";\") for x in blast_inter_df['staxids'].astype(str)]\n",
    "    taxids=set([int(x) for x in (itertools.chain.from_iterable(taxids))])\n",
    "    same_family=[]\n",
    "    for x in taxids:\n",
    "        l=taxid.get_lineage(x,{})\n",
    "        if \"family\" in l.keys() and str(l[\"family\"])==self_family:\n",
    "            same_family.append(x)\n",
    "    if len(same_family)>0:\n",
    "        print(inter)\n",
    "        same_family_index=[]\n",
    "        for ti in same_family:\n",
    "            for index, row in blast_inter_df.iterrows():\n",
    "                if str(ti) in str(row[3]):\n",
    "                    same_family_index.append(index)\n",
    "        blast_inter_df=blast_inter_df.loc[same_family_index,:]\n",
    "        blast_inter_df=blast_inter_df.loc[blast_inter_df.groupby(3)[15].idxmin()]\n",
    "        \n",
    "        interv_par={}\n",
    "        for index, row in blast_inter_df.iterrows():\n",
    "            name=row['staxids']\n",
    "            start=row['sstart']\n",
    "            end=row['send']\n",
    "            interv_par[name]=(start,end,row[4])\n",
    "        interv_parvs[inter]=interv_par\n",
    "  "
   ]
  },
  {
   "cell_type": "code",
   "execution_count": null,
   "id": "c13e6f20-2753-47f6-8657-279f9eaa9586",
   "metadata": {},
   "outputs": [],
   "source": [
    "!rm -r multi_dnds_parent\n",
    "!mkdir multi_dnds_parent\n",
    "for inter in interv_parvs:\n",
    "    if \"HGT\" in inter:\n",
    "        try:\n",
    "            subprocess.run([\"rm\", \"-r\", f\"multi_dnds_parent/{inter}\"])\n",
    "        except:\n",
    "            p=1\n",
    "        interv_par=interv_parvs[inter]\n",
    "        try:\n",
    "            subprocess.run([\"mkdir\", f\"multi_dnds_parent/{inter}\"])\n",
    "        except:\n",
    "            p=1\n",
    "        fprot=open(f\"multi_dnds_parent/{inter}/concatenated_prot1.fasta\",\"w\")\n",
    "        fnuc=open(f\"multi_dnds_parent/{inter}/concatenated_nuc1.fasta\",\"w\")\n",
    "        for c in interv_par:\n",
    "\n",
    "            try:\n",
    "                subprocess.run([\"mkdir\", f\"multi_dnds_parent/{inter}/{c}\"])\n",
    "            except:\n",
    "                p=1\n",
    "            url_na=f\"http://eutils.ncbi.nlm.nih.gov/entrez/eutils/efetch.fcgi?db=protein&id={c}&rettype=fasta_cds_na\" \n",
    "            url_prot=f\"http://eutils.ncbi.nlm.nih.gov/entrez/eutils/efetch.fcgi?db=protein&id={c}&rettype=fasta\" \n",
    "            subprocess.run([\"wget\",url_na,\"-O\",f\"multi_dnds_parent/{inter}/{c}/nuc.fasta\"])\n",
    "            subprocess.run([\"wget\",url_prot,\"-O\",f\"multi_dnds_parent/{inter}/{c}/prot.fasta\"])\n",
    "\n",
    "            input_file = open(f\"multi_dnds_parent/{inter}/{c}/prot.fasta\")\n",
    "            prot_dict = SeqIO.to_dict(SeqIO.parse(input_file, \"fasta\"))\n",
    "\n",
    "            start=interv_par[c][0]\n",
    "            stop=interv_par[c][1]\n",
    "            fprot.write(f\">{c}\\n\")\n",
    "            fprot.write(str(prot_dict[list(prot_dict.keys())[0]].seq)[start-1:stop]+\"\\n\")\n",
    "\n",
    "            input_file = open(f\"multi_dnds_parent/{inter}/{c}/nuc.fasta\")\n",
    "            nuc_dict = SeqIO.to_dict(SeqIO.parse(input_file, \"fasta\"))\n",
    "            start_nuc=start*3\n",
    "            stop_nuc=stop*3\n",
    "\n",
    "            fnuc.write(f\">{c}\\n\")\n",
    "            fnuc.write(str(nuc_dict[list(nuc_dict.keys())[0]].seq)[start_nuc-3:stop_nuc]+\"\\n\")\n",
    "        fprot.close()\n",
    "        fnuc.close()\n",
    "\n",
    "        # Define the paths to the input files and the output file\n",
    "        file1_path = f\"multi_dnds_parent/{inter}/concatenated_nuc1.fasta\"\n",
    "        file2_path = f\"dnds_parent/{inter}/concatenated_nuc.fasta\"\n",
    "        output_file_path = f\"multi_dnds_parent/{inter}/concatenated_nuc.fasta\"\n",
    "\n",
    "        # Concatenate the contents of the two input files and write to the output file\n",
    "        with open(output_file_path, 'w') as output_file:\n",
    "            with open(file1_path, 'r') as file1, open(file2_path, 'r') as file2:\n",
    "                output_file.write(file1.read() + file2.read())\n",
    "\n",
    "        # Define the paths to the input files and the output file\n",
    "        file1_path = f\"multi_dnds_parent/{inter}/concatenated_prot1.fasta\"\n",
    "        file2_path = f\"dnds_parent/{inter}/concatenated_prot.fasta\"\n",
    "        output_file_path = f\"multi_dnds_parent/{inter}/concatenated_prot.fasta\"\n",
    "\n",
    "        # Concatenate the contents of the two input files and write to the output file\n",
    "        with open(output_file_path, 'w') as output_file:\n",
    "            with open(file1_path, 'r') as file1, open(file2_path, 'r') as file2:\n",
    "                output_file.write(file1.read() + file2.read())\n",
    "        subprocess.run([\"sbatch\",\"dnds_scripts/run_iqtree_pipe.sh\",\"multi_dnds_parent\",inter])\n"
   ]
  },
  {
   "cell_type": "code",
   "execution_count": null,
   "id": "090ccae0-0718-4c00-ba21-8329651e37b2",
   "metadata": {},
   "outputs": [],
   "source": [
    "for x in os.listdir(\"multi_dnds_parent\"):\n",
    "    if \"tree_branch.newick\" not in os.listdir(f\"multi_dnds_parent/{x}\"):\n",
    "        f=open(f\"multi_dnds_parent/{x}/tree.newick\",\"r\").readlines()\n",
    "        f1=open(f\"multi_dnds_parent/{x}/tree_branch.newick\",\"w\")\n",
    "        f1.write(f[0].replace(x.split(\";\")[1], x.split(\";\")[1]+\" #1\"))\n",
    "        f1.close()\n",
    "\n",
    "        input_file = open(f\"multi_dnds_parent/{x}/MSA_concatenated_prot.fasta\")\n",
    "        prot_dict = SeqIO.to_dict(SeqIO.parse(input_file, \"fasta\"))\n",
    "        input_file = open(f\"multi_dnds_parent/{x}/concatenated_nuc.fasta\")\n",
    "        nuc_dict = SeqIO.to_dict(SeqIO.parse(input_file, \"fasta\"))\n",
    "        #make sure msa and nucleotide fasta are in the same order \n",
    "        f=open(f\"multi_dnds_parent/{x}/concatenated_nuc.fasta\",\"w\")\n",
    "        f1=open(f\"multi_dnds_parent/{x}/MSA_concatenated_prot.fasta\",\"w\")\n",
    "        for p in prot_dict.keys():\n",
    "            kn=[x for x in nuc_dict.keys() if p in x]\n",
    "            if len(kn)>0:\n",
    "                kn=kn[0]\n",
    "                f.write(f\">{kn}\")\n",
    "                f.write(\"\\n\")\n",
    "                f.write(str(nuc_dict[kn].seq))\n",
    "                f.write(\"\\n\")\n",
    "\n",
    "                f1.write(f\">{p}\")\n",
    "                f1.write(\"\\n\")\n",
    "                f1.write(str(prot_dict[p].seq))\n",
    "                f1.write(\"\\n\")\n",
    "        f.close()\n",
    "        f1.close()\n",
    "        print(\"pal2nal\")\n",
    "        subprocess.run([\"sh\",\"dnds_scripts/run_pal2nal.sh\",\"multi_dnds_parent\",x])\n",
    "        print(\"paml\")\n",
    "        subprocess.run([\"sbatch\",\"dnds_scripts/run_branch.sh\",\"multi_dnds_parent\",x])"
   ]
  },
  {
   "cell_type": "code",
   "execution_count": null,
   "id": "19f8f2b0-5453-4784-b084-417ced9aa4d8",
   "metadata": {},
   "outputs": [],
   "source": [
    "for x in os.listdir(\"multi_dnds_parent\"):\n",
    "    if x in hgt_one_inters:\n",
    "        subprocess.run([\"sbatch\",\"dnds_scripts/run_m0_branch.sh\",\"multi_dnds_parent\",x])"
   ]
  },
  {
   "cell_type": "code",
   "execution_count": 17,
   "id": "3bdd9ca9-efcf-4211-b131-a1fc5923b275",
   "metadata": {},
   "outputs": [],
   "source": [
    "dnds_data=pd.DataFrame(index= ([x for x in os.listdir(\"multi_dnds_parent\") if x in meta_one_inters or x in hgt_one_inters ]), columns=[\"dnds_f\",\"lnL_f\",\"np_f\",\"dS_f\",\"dnds_b0\",\"dnds_b1\",\"lnL_b\",\"np_b\",\"dS_b\"]) "
   ]
  },
  {
   "cell_type": "code",
   "execution_count": 18,
   "id": "a6a925fb-4de0-471f-9c80-0c21a8d243b4",
   "metadata": {},
   "outputs": [],
   "source": [
    "for c in ([x for x in os.listdir(\"multi_dnds_parent\") if x in meta_one_inters or x in hgt_one_inters ]):\n",
    "    \n",
    "    f=open(f\"multi_dnds_parent/{c}/m0_branch_paml_output.out\",\"r\").readlines()\n",
    "    t=False\n",
    "    for i  in range(len(f)):\n",
    "        x=f[i]\n",
    "        if \"omega (dN/dS) =\" in x:\n",
    "            dnds_data.loc[c,\"dnds_f\"]=ast.literal_eval(x.split(\"omega (dN/dS) =\")[1].strip())\n",
    "         \n",
    "            t=True\n",
    "        if \"lnL(\" in x:\n",
    "            dnds_data.loc[c,\"np_f\"]=ast.literal_eval(x.split(\"lnL(\")[1].split(\"np:\")[1].split(\")\")[0].strip())\n",
    "            dnds_data.loc[c,\"lnL_f\"]=ast.literal_eval(x.split(\"):\")[1].strip().split()[0])\n",
    "        if \"tree length for dS:\" in x:\n",
    "            dnds_data.loc[c,\"dS_f\"]=ast.literal_eval(x.split(\"tree length for dS:\")[1].strip().split()[0])\n",
    "        if \"Printing out site pattern counts\" in x:\n",
    "\n",
    "            dnds_data.loc[c,\"n_codons\"]=ast.literal_eval(f[i+3].split()[1])/3"
   ]
  },
  {
   "cell_type": "code",
   "execution_count": 19,
   "id": "336bc312-fe1b-425f-9cf3-b0254d429feb",
   "metadata": {},
   "outputs": [],
   "source": [
    "for c in  ([x for x in os.listdir(\"multi_dnds_parent\") if x in meta_one_inters or x in hgt_one_inters ]):\n",
    "    \n",
    "    f=open(f\"multi_dnds_parent/{c}/branch_paml_output.out\",\"r\").readlines()\n",
    "    t=False\n",
    "    for i  in range(len(f)):\n",
    "        x=f[i]\n",
    "        if \"w (dN/dS) for branches:\" in x:\n",
    "            dnds_data.loc[c,\"dnds_b0\"]=ast.literal_eval(x.split(\"w (dN/dS) for branches:\")[1].split()[0])\n",
    "            dnds_data.loc[c,\"dnds_b1\"]=ast.literal_eval(x.split(\"w (dN/dS) for branches:\")[1].split()[1])\n",
    "         \n",
    "            t=True\n",
    "        if \"lnL(\" in x:\n",
    "            dnds_data.loc[c,\"np_b\"]=ast.literal_eval(x.split(\"lnL(\")[1].split(\"np:\")[1].split(\")\")[0].strip())\n",
    "            dnds_data.loc[c,\"lnL_b\"]=ast.literal_eval(x.split(\"):\")[1].strip().split()[0])\n",
    "        if \"tree length for dS:\" in x:\n",
    "            dnds_data.loc[c,\"dS_b\"]=ast.literal_eval(x.split(\"tree length for dS:\")[1].strip().split()[0])\n",
    "        if \"Printing out site pattern counts\" in x:\n",
    "\n",
    "            dnds_data.loc[c,\"n_codons\"]=ast.literal_eval(f[i+3].split()[1])/3"
   ]
  },
  {
   "cell_type": "code",
   "execution_count": 20,
   "id": "e29dd8e4-8083-41d6-ab8b-8dbb7f01aa6f",
   "metadata": {},
   "outputs": [],
   "source": [
    "import scipy \n",
    "from scipy import stats\n",
    "dnds_data[\"2delta_L\"]=2*(np.array(dnds_data[\"lnL_b\"])-np.array(dnds_data[\"lnL_f\"]))\n",
    "dnds_data[\"2delta_L\"]=[max(x,0) for x in dnds_data[\"2delta_L\"] ]\n",
    "for index, row in dnds_data.iterrows():\n",
    "    dnds_data.loc[index,\"p_val\"]=scipy.stats.chi2.sf(row[\"2delta_L\"], 1)"
   ]
  },
  {
   "cell_type": "code",
   "execution_count": 22,
   "id": "415b73d3-159e-483b-9d9a-0b91342754b6",
   "metadata": {},
   "outputs": [
    {
     "data": {
      "text/plain": [
       "23"
      ]
     },
     "execution_count": 22,
     "metadata": {},
     "output_type": "execute_result"
    }
   ],
   "source": [
    "dnds_data.shape[0]"
   ]
  },
  {
   "cell_type": "code",
   "execution_count": null,
   "id": "03019999-de31-4ec8-9851-e0bd60b99b5e",
   "metadata": {},
   "outputs": [],
   "source": [
    "dnds_data.to_csv(\"species_specific_branch_dnds.csv\")"
   ]
  },
  {
   "cell_type": "markdown",
   "id": "93d380ff-509d-4dcb-83eb-f49d8bd88292",
   "metadata": {},
   "source": [
    "## Combine genus and species-specific chimera data and plot"
   ]
  },
  {
   "cell_type": "code",
   "execution_count": 35,
   "id": "074e56fa-c113-42dd-8438-5d52e0b1685d",
   "metadata": {},
   "outputs": [],
   "source": [
    "dnds_data=pd.read_csv(\"species_specific_branch_dnds.csv\",index_col=0)\n",
    "genusdnds=pd.read_csv(\"genus_specific_dnds.csv\",index_col=0)\n",
    "genusdnds=genusdnds.loc[:,[\"dnds_b\",\"dnds_bch\",\"dnds_f\",\"dS_f\",\"n_codons\",\"p_val\"]]\n",
    "combined_dnds=dnds_data.loc[:,[\"dnds_b0\",\"dnds_b1\",\"dnds_f\",\"dS_f\",\"n_codons\",\"p_val\"]]\n",
    "combined_dnds.columns=[\"dnds_b\",\"dnds_bch\",\"dnds_f\",\"dS_f\",\"n_codons\",\"p_val\"]\n",
    "combined_dnds = pd.concat([combined_dnds, genusdnds])\n",
    "combined_dnds[\"annotation\"]=[x.split(\"_\")[-2].split(\";\")[1] for x in combined_dnds.index]\n",
    "combined_dnds[\"interval\"]=[\"'\"+x.split(\"_\")[-1]+\"'\" for x in combined_dnds.index]\n",
    "combined_dnds[\"protein\"]=[x.split(\";\")[1] for x in combined_dnds.index]"
   ]
  },
  {
   "cell_type": "code",
   "execution_count": 36,
   "id": "b9a77233-59de-4997-9b6f-2b53ebca3fe6",
   "metadata": {},
   "outputs": [],
   "source": [
    "from statsmodels.stats.multitest import multipletests\n",
    "\n",
    "# Example p-values\n",
    "p_values = combined_dnds.p_val\n",
    "\n",
    "# Perform Benjamini-Hochberg correction\n",
    "corrected_p_values = multipletests(p_values, method='fdr_bh')[1]\n",
    "combined_dnds.loc[:,\"corrected_p_values\"]=corrected_p_values"
   ]
  },
  {
   "cell_type": "code",
   "execution_count": 47,
   "id": "11a7582f-4f6b-4c43-a629-903072453f57",
   "metadata": {},
   "outputs": [],
   "source": [
    "dfa=pd.read_csv(\"data_upload_3_24_2025/Supplementary Table II_ All protein metadata - all_protein_tax_info.tsv\",sep='\\t',index_col=0)\n",
    "combined_dnds=combined_dnds[combined_dnds.protein.isin(dfa[dfa.representative_seq].index)]"
   ]
  },
  {
   "cell_type": "code",
   "execution_count": 51,
   "id": "30f2ad3a-5f03-400e-a730-b810bbd7654e",
   "metadata": {},
   "outputs": [],
   "source": [
    "combined_dnds.to_csv(\"data_upload_3_24_2025/Supplementary Table II_ All protein metadata - all_protein_tax_info.tsv\",sep='\\t')"
   ]
  },
  {
   "cell_type": "markdown",
   "id": "38d7cace-b6ce-439d-8504-f87ee6b2636c",
   "metadata": {},
   "source": [
    "## Figure 5G"
   ]
  },
  {
   "cell_type": "code",
   "execution_count": 49,
   "id": "4a95aaa3-4af6-4f79-b35a-ca49a8981e1b",
   "metadata": {},
   "outputs": [],
   "source": [
    "from pathlib import Path\n",
    "import sys\n",
    "import matplotlib.pyplot as plt\n",
    "\n",
    "import matplotlib.font_manager\n",
    "from matplotlib.font_manager import FontProperties\n",
    "\n",
    "import matplotlib as mpl\n",
    "from matplotlib.patches import Patch\n",
    "from matplotlib.lines import Line2D\n",
    "fpath = Path(mpl.get_data_path(), \"/n/holylabs/LABS/extavour_lab/Users/rkapoor/envs/plot/fonts/arial.ttf\")\n",
    "from matplotlib.font_manager import FontProperties\n",
    "from matplotlib import font_manager\n",
    "plt.rcParams['figure.dpi'] = 300\n",
    "font_path = \"/n/holylabs/LABS/extavour_lab/Users/rkapoor/envs/plot/fonts/arial.ttf\"\n",
    "font_manager.fontManager.addfont(\"/n/holylabs/LABS/extavour_lab/Users/rkapoor/envs/plot/fonts/arial.ttf\")\n",
    "prop = font_manager.FontProperties(fname=font_path)\n",
    "plt.rcParams['font.family'] = 'sans-serif'\n",
    "plt.rcParams['font.sans-serif'] = prop.get_name()\n",
    "plt.rcParams['svg.fonttype'] = 'none'\n",
    "plt.rcParams['svg.fonttype']='none'"
   ]
  },
  {
   "cell_type": "code",
   "execution_count": 54,
   "id": "b0405d4b-259c-474d-a853-257ded46bd01",
   "metadata": {},
   "outputs": [],
   "source": [
    "combined_dnds=pd.read_csv(\"data_upload_3_24_2025/Supplementary Table II_ All protein metadata - all_protein_tax_info.tsv\",sep='\\t',index_col=0)"
   ]
  },
  {
   "cell_type": "code",
   "execution_count": 58,
   "id": "184980c9-32d7-48d3-b241-df2eb41240c8",
   "metadata": {},
   "outputs": [
    {
     "data": {
      "image/png": "[encoded data removed]",
      "text/plain": [
       "<Figure size 3000x900 with 2 Axes>"
      ]
     },
     "metadata": {
      "needs_background": "light"
     },
     "output_type": "display_data"
    }
   ],
   "source": [
    "import matplotlib.pyplot as plt\n",
    "import numpy as np\n",
    "# Your data and scatter plot\n",
    "fig,ax=plt.subplots(1,2,dpi=300,figsize=(10,3))\n",
    "logfc= np.log10(list(combined_dnds[combined_dnds.annotation.str.contains(\"HGT\")].dnds_bch /combined_dnds[combined_dnds.annotation.str.contains(\"HGT\")].dnds_b))\n",
    "padj=[max(x,-10) for x in np.log10(combined_dnds[combined_dnds.annotation.astype(str).str.contains(\"HGT\")].corrected_p_values)]\n",
    "plt.scatter(padj, logfc,color=\"darkorchid\", s=20,label='HGT interval')\n",
    "\n",
    "logfc= np.log10(list(combined_dnds[~combined_dnds.annotation.str.contains(\"HGT\")].dnds_bch /combined_dnds[~combined_dnds.annotation.str.contains(\"HGT\")].dnds_b))\n",
    "padj=[max(x,-10) for x in np.log10(combined_dnds[~combined_dnds.annotation.str.contains(\"HGT\")].corrected_p_values)]\n",
    "ax[1].scatter(padj, logfc, s=20,color='gold',label='Metazoan interval')\n",
    "# Labeling the axes\n",
    "ax[1].set_ylabel(\"log10(Chimera dN/dS / Background dN/dS)\")\n",
    "ax[1].set_xlabel(\"log10(Adjusted p-values for Likelihood Ratio Test)\")\n",
    "\n",
    "ax[1].vlines(np.log10(.05),-5,5,linestyle='dashed',label=\"p_adj=.05\",color='black')\n",
    "ax[1].hlines(0,-11,20,color='black')\n",
    "\n",
    "ax[1].set_xlim(-10.5,1)\n",
    "ax[1].set_ylim(-4,4)\n",
    "custom_ticks=[-10,-8,-6,-4,-2,0]\n",
    "ax[1].set_xticks(ticks=custom_ticks)\n",
    "tick_labels = [f\"< {tick}\" if tick == -10 else tick for tick in custom_ticks]\n",
    "plt.gca().set_xticklabels(tick_labels)\n",
    "ax[1].legend( bbox_to_anchor=(1.04, 1), loc=\"upper left\")\n",
    "plt.savefig(\"2branch_dnds_plot.svg\",format=\"svg\",bbox_inches=\"tight\", transparent=True)\n",
    "\n",
    "plt.show()\n"
   ]
  }
 ],
 "metadata": {
  "kernelspec": {
   "display_name": "Python [conda env:.conda-rishabh]",
   "language": "python",
   "name": "conda-env-.conda-rishabh-py"
  },
  "language_info": {
   "codemirror_mode": {
    "name": "ipython",
    "version": 3
   },
   "file_extension": ".py",
   "mimetype": "text/x-python",
   "name": "python",
   "nbconvert_exporter": "python",
   "pygments_lexer": "ipython3",
   "version": "3.9.7"
  }
 },
 "nbformat": 4,
 "nbformat_minor": 5
}
