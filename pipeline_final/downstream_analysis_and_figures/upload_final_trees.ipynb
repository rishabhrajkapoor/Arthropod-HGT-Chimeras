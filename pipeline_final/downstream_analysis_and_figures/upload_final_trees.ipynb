{
 "cells": [
  {
   "cell_type": "code",
   "execution_count": 1,
   "id": "1d203022-f2b7-4741-b60d-23b5e2ce0b5d",
   "metadata": {},
   "outputs": [],
   "source": [
    "import itolapi\n",
    "from itolapi import Itol\n",
    "import os\n",
    "from pathlib import Path\n",
    "import sys\n",
    "\n",
    "import pandas as pd\n",
    "import toytree       # a tree plotting library\n",
    "import toyplot       # a general plotting library\n",
    "import numpy as np   # numerical library\n",
    "import os\n",
    "from Bio import SeqIO\n",
    "from Bio import Entrez\n",
    "import subprocess\n",
    "import toyplot.png\n",
    "import matplotlib.pyplot as plt\n",
    "import matplotlib.colors as mcolors\n",
    "import subprocess\n",
    "import multiprocessing as mp\n"
   ]
  },
  {
   "cell_type": "code",
   "execution_count": 2,
   "id": "f951a937-976c-406e-b44b-fb4cb0cadffd",
   "metadata": {},
   "outputs": [],
   "source": [
    "def upload(n,project,workspace):\n",
    "    \n",
    "    test = Itol()\n",
    "    try:\n",
    "        current_dir = Path(os.path.realpath(f\"{directory}/{n}/rev_aa.treefile.rooted2\")).parent\n",
    "        tree = current_dir/\"rev_aa.treefile.rooted2\"\n",
    "        test.add_file(tree)\n",
    "    except:\n",
    "        current_dir = Path(os.path.realpath(f\"{directory}/{n}/rev_aa.treefile\")).parent\n",
    "        tree = current_dir/\"rev_aa.treefile\"\n",
    "        test.add_file(tree)\n",
    "        upload_root(n,project,workspace)\n",
    "        \n",
    "    root_path = current_dir.parent\n",
    "    sys.path.append(str(root_path))\n",
    "    \n",
    "\n",
    "    # Set the tree file\n",
    "\n",
    "\n",
    "    \n",
    "    test.add_file(current_dir / 'colorstrip.txt')\n",
    "    test.add_file(current_dir / 'labels.txt')\n",
    "    test.add_file(current_dir / 'labels2.txt')\n",
    "    # Add parameters\n",
    "\n",
    "    test.params['APIkey'] = 'nsmHyk7faBGaJty82r9m5Q'\n",
    "    test.params['treeName'] = n\n",
    "    test.params['projectName'] = project\n",
    "    test.params['workspaceName'] = workspace\n",
    "  \n",
    "    # Submit the tree\n",
    "    good_upload = test.upload()\n",
    "    if not good_upload:\n",
    "        print('There was an error:' + test.comm.upload_output)\n",
    "        sys.exit(1)\n",
    " "
   ]
  },
  {
   "cell_type": "code",
   "execution_count": 3,
   "id": "43d09529-8271-4349-9cbd-696f9c90a077",
   "metadata": {},
   "outputs": [],
   "source": [
    "def upload_root(n,project,workspace):\n",
    "    current_dir = Path(os.path.realpath(f\"{directory}/{n}/rev_aa.treefile.rooted\")).parent\n",
    "    tree = current_dir/\"rev_aa.treefile.rooted\"\n",
    "\n",
    "        \n",
    "    root_path = current_dir.parent\n",
    "    sys.path.append(str(root_path))\n",
    "    test = Itol()\n",
    "\n",
    "    # Set the tree file\n",
    "\n",
    "\n",
    "    test.add_file(tree)\n",
    "    test.add_file(current_dir / 'colorstrip.txt')\n",
    "    test.add_file(current_dir / 'labels.txt')\n",
    "    test.add_file(current_dir / 'labels2.txt')\n",
    "    # Add parameters\n",
    "\n",
    "    test.params['APIkey'] = 'nsmHyk7faBGaJty82r9m5Q'\n",
    "    test.params['treeName'] = n\n",
    "    test.params['projectName'] = \"not_rooted_\"+project\n",
    "    test.params['workspaceName'] = workspace\n",
    "    \n",
    "    # Submit the tree\n",
    "    good_upload = test.upload()\n",
    "    if not good_upload:\n",
    "        print('There was an error:' + test.comm.upload_output)\n",
    "        sys.exit(1)\n",
    "\n",
    "\n",
    "    "
   ]
  },
  {
   "cell_type": "code",
   "execution_count": 4,
   "id": "a884640b-bfa7-4de6-9206-16a4d3103420",
   "metadata": {},
   "outputs": [],
   "source": [
    "metadf=pd.read_csv(\"meta_origin_final.csv\",index_col=0)\n",
    "metas=metadf.index\n",
    "hgtdf=pd.read_csv(\"hgt_origin_final.csv\",index_col=0)\n",
    "hgtdf[\"gene\"]=[x.split(\";\")[1] for x in hgtdf.index]\n",
    "gene_genome={x.split(\";\")[1]:x.split(\";\")[0] for x in hgtdf.index}\n",
    "gene_organism={x:y for x,y in zip(hgtdf.gene,hgtdf.organism)}\n",
    "hgts=hgtdf.index\n",
    "genes=set([x.split(\";\")[1] for x in  hgts])&set([x.split(\";\")[1] for x in metas])\n",
    "metas_2=[x for x in metas if x.split(\";\")[1] in genes]\n",
    "hgts_2=[x for x in hgts if x.split(\";\")[1] in genes]"
   ]
  },
  {
   "cell_type": "code",
   "execution_count": 5,
   "id": "fff30b6f-0b92-44dc-81e4-b1f30c9b0f4a",
   "metadata": {},
   "outputs": [],
   "source": [
    "td=list(set([x for x in hgt_annot.index if x.split(\";\")[1] in genes])|set(meta_annot.genes))"
   ]
  },
  {
   "cell_type": "code",
   "execution_count": 5,
   "id": "be311301-6c28-4367-9f4c-01ef30a4e6ca",
   "metadata": {},
   "outputs": [],
   "source": [
    "def upload_Wrapper(ps):\n",
    "    n, project, workspace = ps\n",
    "\n",
    "    upload(n,project,workspace)\n"
   ]
  },
  {
   "cell_type": "code",
   "execution_count": null,
   "id": "360a2e6b-548e-4a0f-ad6c-03ae83cd504c",
   "metadata": {},
   "outputs": [],
   "source": [
    "directory = \"\""
   ]
  },
  {
   "cell_type": "code",
   "execution_count": 12,
   "id": "889a122c-9666-4fe7-af0b-249200a98c1f",
   "metadata": {
    "tags": []
   },
   "outputs": [],
   "source": [
    "def upload_Wrapper(ps):\n",
    "    n, project, workspace = ps\n",
    "\n",
    "    upload(n,project,workspace)\n",
    "with mp.Pool(30) as p:\n",
    "    results = p.map(upload_Wrapper, [[n,\"HGT_MAD\",\"Arthropod_HGT_chimeras_final\"] for n in hgts_2])"
   ]
  },
  {
   "cell_type": "code",
   "execution_count": 13,
   "id": "8bb219c0-8d67-42cb-ac70-106a3f18e3f5",
   "metadata": {},
   "outputs": [],
   "source": [
    "with mp.Pool(30) as p:\n",
    "    results = p.map(upload_Wrapper, [[n,\"Meta_MAD\",\"Arthropod_HGT_chimeras_final\"] for n in metas_2])"
   ]
  },
  {
   "cell_type": "code",
   "execution_count": 5,
   "id": "1020de62-dfee-4af0-a37a-13734149bcc4",
   "metadata": {},
   "outputs": [],
   "source": [
    "hgt_annot[\"gene\"]=[x.split(\";\")[1] for x in hgt_annot.index]"
   ]
  },
  {
   "cell_type": "code",
   "execution_count": 6,
   "id": "32ca8a52-a75a-45a3-9ab9-7b48e43d9b92",
   "metadata": {},
   "outputs": [],
   "source": [
    "hgt_annot.loc[[x for x in hgt_annot.index if x.split(\";\")[1] in genes],:].loc[:,\"organism\"].sort_index().to_csv(\"hgt_origin_blank.csv\")"
   ]
  },
  {
   "cell_type": "code",
   "execution_count": 10,
   "id": "c37ee168-661b-496f-8e22-6856b286ee40",
   "metadata": {},
   "outputs": [],
   "source": [
    "meta_annot[meta_annot.Annotation==\"Yes\"].sort_values(\"genes\").to_csv(\"meta_origin_blank.csv\")"
   ]
  },
  {
   "cell_type": "code",
   "execution_count": null,
   "id": "ca2f92f1-af19-4f06-a576-a649efe0a3dd",
   "metadata": {},
   "outputs": [],
   "source": []
  }
 ],
 "metadata": {
  "kernelspec": {
   "display_name": "Python [conda env:.conda-rishabh]",
   "language": "python",
   "name": "conda-env-.conda-rishabh-py"
  },
  "language_info": {
   "codemirror_mode": {
    "name": "ipython",
    "version": 3
   },
   "file_extension": ".py",
   "mimetype": "text/x-python",
   "name": "python",
   "nbconvert_exporter": "python",
   "pygments_lexer": "ipython3",
   "version": "3.9.7"
  }
 },
 "nbformat": 4,
 "nbformat_minor": 5
}
