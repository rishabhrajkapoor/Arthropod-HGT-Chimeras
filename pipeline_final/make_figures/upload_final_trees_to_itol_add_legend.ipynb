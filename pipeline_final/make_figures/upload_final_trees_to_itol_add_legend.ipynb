{
 "cells": [
  {
   "cell_type": "code",
   "execution_count": 12,
   "id": "fe350954-c035-4e51-9457-61feb458b34f",
   "metadata": {},
   "outputs": [],
   "source": [
    "import matplotlib.pyplot as plt\n",
    "from matplotlib import colors as mcolors\n",
    "import pandas as pd"
   ]
  },
  {
   "cell_type": "code",
   "execution_count": 30,
   "id": "f9806587-462e-4556-9212-a18777d18ebd",
   "metadata": {},
   "outputs": [],
   "source": [
    "colors=[\"blue\",\"brown\",\"green\",\"teal\",\"pink\",\"orange\",\"black\",\"red\",\"yellow\",\"magenta\",\"black\"]\n",
    "cmap={mcolors.to_hex(c):c for c in colors}\n",
    "taxonomy_legend_to_color={'Bacteria': 'blue',\n",
    " 'Fungi': 'brown',\n",
    " 'Viridiplantae': 'green',\n",
    " 'Sar': 'teal',\n",
    " 'Viruses': 'yellow',\n",
    " 'Non-Arthropod Metazoa': 'orange',\n",
    " 'Arthropod (non-chimera)': 'pink',\n",
    " 'Arthropod chimera (primary)': 'magenta',\n",
    " 'Arthropod chimera (secondary)': 'red',\n",
    " 'Other': 'black'}\n",
    "color_to_taxonomy_legend={\n",
    "    \"blue\": \"Bacteria\",\n",
    "    \"brown\": \"Fungi\",\n",
    "    \"green\":\"Viridiplantae\",\n",
    "    \"teal\":\"Sar\",\n",
    "    \"yellow\" : \"Viruses\",\n",
    "    \"orange\": \"Non-Arthropod Metazoa\",\n",
    "    \"pink\": \"Arthropod (non-chimera)\",\n",
    "    \"magenta\" : \"Arthropod chimera (primary)\",\n",
    "    \"red\": \"Arthropod chimera (secondary)\",\n",
    "    \"black\": \"Other\"\n",
    "    \n",
    "}"
   ]
  },
  {
   "cell_type": "code",
   "execution_count": 7,
   "id": "7a0c9094-855f-475a-adba-73ff89b5e26c",
   "metadata": {},
   "outputs": [],
   "source": [
    "def add_legend(x):\n",
    "    \n",
    "    file_path=f\"data_upload_3_24_2025/chimera_phylogenetic_datasets/{x}/itol_annotation_colorstrip.txt\"\n",
    "    f=open(file_path,\"r\").readlines()\n",
    "    if \"LEGEND_TITLE Taxonomic labels\\n\" not in f:\n",
    "        \n",
    "        colorsi=list(set(dftax['color']))\n",
    "\n",
    "        cmapi={x:color_to_taxonomy_legend[cmap[x]] for x in colorsi}\n",
    "        cmapi = dict(sorted(cmapi.items(), key=lambda item: item[1]))\n",
    "        legend_text=\"LEGEND_TITLE Taxonomic labels\\n\"\n",
    "        shapes=\"LEGEND_SHAPES \"\n",
    "        for i in range(len(cmapi)):\n",
    "            shapes+=(\"1 \")\n",
    "        shapes=shapes[:-1]\n",
    "        legend_text=legend_text+\"\\n\"+shapes\n",
    "        legend_colors=\"LEGEND_COLORS \"\n",
    "        for c in cmapi:\n",
    "            legend_colors+=c+\" \"\n",
    "        legend_colors=legend_colors[:-1]\n",
    "        legend_text=legend_text+\"\\n\"+legend_colors\n",
    "        legend_LABELS=\"LEGEND_LABELS \"\n",
    "        for c in cmapi:\n",
    "            legend_LABELS+=cmapi[c].replace(\" \",\"_\")+\" \"\n",
    "        legend_LABELS=legend_LABELS[:-1]\n",
    "        legend_text=legend_text+\"\\n\"+legend_LABELS+\"\\n\"+\"\\n\"\n",
    "        legend_text=legend_text+\"STRIP_WIDTH 40\\n\\n\"\n",
    "        with open(file_path, \"r\") as file:\n",
    "            lines = file.readlines()\n",
    "\n",
    "        for i, line in enumerate(lines):\n",
    "            if line.strip() == \"DATA\":\n",
    "                insert_index = i\n",
    "                break\n",
    "        lines.insert(insert_index, legend_text)\n",
    "        with open(file_path, \"w\") as file:\n",
    "            file.writelines(lines)\n",
    "    else:\n",
    "        print(\"present\")\n",
    "    "
   ]
  },
  {
   "cell_type": "code",
   "execution_count": 32,
   "id": "29afa25f-8885-4d3e-b9fc-3f9d43b8cfdb",
   "metadata": {},
   "outputs": [],
   "source": [
    "def upload(n,project,workspace):\n",
    "    \n",
    "    test = Itol()\n",
    "    \n",
    "    try:\n",
    "        current_dir = Path(os.path.realpath(f\"{directory}/{n}/MAD_rooted_iqtree_result.treefile\")).parent\n",
    "        tree = current_dir/\"MAD_rooted_iqtree_result.treefile\"\n",
    "        test.add_file(tree)\n",
    "    except:\n",
    "        \n",
    "        current_dir = Path(os.path.realpath(f\"{directory}/{n}/iqtree_result.treefile\")).parent\n",
    "        tree = current_dir/\"iqtree_result.treefile\"\n",
    "        test.add_file(tree)\n",
    "        print(n)\n",
    "   \n",
    "    \n",
    "    root_path = current_dir.parent\n",
    "    sys.path.append(str(root_path))\n",
    "    \n",
    "\n",
    "    # Set the tree file\n",
    "\n",
    "\n",
    "    \n",
    "    test.add_file(current_dir / 'itol_annotation_colorstrip.txt')\n",
    "    test.add_file(current_dir / 'itol_annotation_taxonomic.txt')\n",
    "    test.add_file(current_dir / 'itol_annotation_sequence_description.txt')\n",
    "    # Add parameters\n",
    "\n",
    "    test.params['APIkey'] = 'xZMZCofEGnKYSfuydC0PaQ'\n",
    "    test.params['treeName'] = n\n",
    "    test.params['projectName'] = project\n",
    "    test.params['workspaceName'] = workspace\n",
    "  \n",
    "    # Submit the tree\n",
    "    good_upload = test.upload()\n",
    "    if not good_upload:\n",
    "        pprint(n)\n",
    "        print('There was an error:' + test.comm.upload_output)\n",
    "        sys.exit(1)\n",
    " "
   ]
  },
  {
   "cell_type": "code",
   "execution_count": 33,
   "id": "7a0869e4-c4a7-4f86-a59a-2423ba2dffa6",
   "metadata": {},
   "outputs": [],
   "source": [
    "def upload_Wrapper(ps):\n",
    "    n, project, workspace = ps\n",
    "    add_legend(n)\n",
    "    upload(n,project,workspace)\n"
   ]
  },
  {
   "cell_type": "code",
   "execution_count": 34,
   "id": "088142b4-34f7-4965-a6bc-f3864958ea5f",
   "metadata": {},
   "outputs": [],
   "source": [
    "import os\n",
    "directory=\"data_upload_3_24_2025/chimera_phylogenetic_datasets\""
   ]
  },
  {
   "cell_type": "code",
   "execution_count": 35,
   "id": "f8b2a4a6-6f62-4637-ae24-2120b0f1de31",
   "metadata": {},
   "outputs": [],
   "source": [
    "td=[x for x in os.listdir(f\"{directory}\") if \"Meta\" in x or \"HGT\" in x]\n",
    "with mp.Pool(30) as p:\n",
    "    results = p.map(upload_Wrapper, [[n,\"Arthropod_chimeric_HGT_trees\",\"Arthropod_chimeric_HGT_2024\"] for n in td])"
   ]
  }
 ],
 "metadata": {
  "kernelspec": {
   "display_name": "Python [conda env:.conda-rishabh]",
   "language": "python",
   "name": "conda-env-.conda-rishabh-py"
  },
  "language_info": {
   "codemirror_mode": {
    "name": "ipython",
    "version": 3
   },
   "file_extension": ".py",
   "mimetype": "text/x-python",
   "name": "python",
   "nbconvert_exporter": "python",
   "pygments_lexer": "ipython3",
   "version": "3.9.7"
  }
 },
 "nbformat": 4,
 "nbformat_minor": 5
}
