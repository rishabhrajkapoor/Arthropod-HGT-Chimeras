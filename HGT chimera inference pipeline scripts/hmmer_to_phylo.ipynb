{
 "cells": [
  {
   "cell_type": "code",
   "execution_count": 7,
   "id": "dfbf471a-6836-4fe3-9dab-286b44d13584",
   "metadata": {},
   "outputs": [],
   "source": [
    "import pandas as pd\n",
    "import multiprocessing as mp\n",
    "import ast\n",
    "from itertools import product\n",
    "import numpy as np\n",
    "import os\n",
    "from Bio import SeqIO\n",
    "import subprocess"
   ]
  },
  {
   "cell_type": "code",
   "execution_count": null,
   "id": "4d890757-0f69-475f-bc35-df0211a0be62",
   "metadata": {},
   "outputs": [],
   "source": [
    "!cp \"Overlap analysis.ipynb\" \"/n/home11/rkapoor/overlap analysis.ipynb\""
   ]
  },
  {
   "cell_type": "code",
   "execution_count": null,
   "id": "93fa3605-7cb5-445d-be6d-0b200c8bb479",
   "metadata": {},
   "outputs": [],
   "source": [
    "d=[x.replace(\".csv\",\"\") for x in os.listdir(\"hmmer_result_csv\") if \".ipynb\" not in x and \"XP_050043612.1\" not in x] \n"
   ]
  },
  {
   "cell_type": "markdown",
   "id": "4f4e6a6a-a9f1-471b-aadb-f0c9be74f3e0",
   "metadata": {
    "tags": []
   },
   "source": [
    "# Make a directory for each interval"
   ]
  },
  {
   "cell_type": "code",
   "execution_count": null,
   "id": "e1ac3ef3-7441-432f-8143-6bd2dd43aada",
   "metadata": {},
   "outputs": [],
   "source": [
    "os.mkdir(\"hmmer_phylo_data\")"
   ]
  },
  {
   "cell_type": "code",
   "execution_count": null,
   "id": "07622961-40cd-4006-b978-a6bc13e46ec3",
   "metadata": {},
   "outputs": [],
   "source": [
    "def mkdir(x):\n",
    "    os.mkdir(f\"hmmer_phylo_data/{x}\")\n",
    "    subprocess.run([\"cp\",f\"hmmer_result_csv/{x}.csv\",f\"hmmer_phylo_data/{x}/hmmer_result.tsv\"])\n",
    "    "
   ]
  },
  {
   "cell_type": "code",
   "execution_count": null,
   "id": "5769ee5b-e7ef-482a-891f-5ed918372363",
   "metadata": {},
   "outputs": [],
   "source": [
    "with mp.Pool(64) as p:\n",
    "    inter_cs = p.map(mkdir, d)"
   ]
  },
  {
   "cell_type": "markdown",
   "id": "67a39e6b-4a57-4b76-b338-da47780116cb",
   "metadata": {},
   "source": [
    "# Identify putative secondary chimeras \n",
    "Secondary chimeras are defined as sequences with intervals with HMMER hits E<.01 to all HGT and metazoan regions. HGT and metazoan homologous regions should overlap<15 residues. "
   ]
  },
  {
   "cell_type": "code",
   "execution_count": null,
   "id": "54185940-0c76-4fd1-9937-ae4c213c8e28",
   "metadata": {},
   "outputs": [],
   "source": [
    "ds=set([x.split(\";\")[0]+\";\"+x.split(\";\")[1] for x in d if \"ipynb\" not in x])\n",
    "#make a dictionary between chimera gene and its intervals\n",
    "dm={}\n",
    "for di in ds:\n",
    "    dm[di]=[x for x in d if di in x]\n"
   ]
  },
  {
   "cell_type": "code",
   "execution_count": null,
   "id": "f0912225-49b4-42e5-9dd4-04e95d268d1a",
   "metadata": {},
   "outputs": [],
   "source": [
    "cols=[\"target_name\", \"target_accession\",\"tlen\", \"query name\",\"accession\",\"qlen\", \"E-value\", \"score1\", \"bias1\",   \"#\", \"of\", \"c-Evalue\",  \"i-Evalue\",  \"score\",  \"bias\",  \"hmmfrom\",  \"hmmto\",    \"alifrom\",  \"alito\", \"envfrom\",  \"envto\", \"acc\", \"description of target\", \"species\"]"
   ]
  },
  {
   "cell_type": "code",
   "execution_count": null,
   "id": "61621f0b-8ed3-46e2-ba9a-14b65e2370bb",
   "metadata": {},
   "outputs": [],
   "source": [
    "#takes two lists of intervals and computes the overlap between all intervals in each list. returns the maximum\n",
    "#written by RK and ChatGPT\n",
    "def compute_max_overlap(intervals1, intervals2):\n",
    "    max_overlap = 0\n",
    "    for interval1 in intervals1:\n",
    "        for interval2 in intervals2:\n",
    "            overlap = min(interval1[1], interval2[1]) - max(interval1[0], interval2[0])\n",
    "            if overlap > max_overlap:\n",
    "                max_overlap = overlap\n",
    "    return max_overlap\n",
    "\n",
    "#takes a HMMER result dataframe and a protein name and returns all hit intervals in the protein\n",
    "def get_intercs(c,df):\n",
    "    dfi = df[df.target_name == c]\n",
    "    return set(zip(dfi['alifrom'].tolist(), dfi['alito'].tolist()))\n",
    "\n",
    "#finds all putative secondary chimeras and writes to a file \n",
    "#written by RK and ChatGPT\n",
    "def get_2nd_chimera(n):\n",
    "    #all putative secondary chimeras without sequence overlap\n",
    "    lt=dm[n]\n",
    "    ni=lt[0]\n",
    "    df=pd.read_csv(f\"hmmer_phylo_data/{ni}/hmmer_result.tsv\",sep=\"\\t\",comment='#',names=cols)\n",
    "    df=df[df[\"i-Evalue\"]<.01]\n",
    "    chimeras=set(df.target_name)\n",
    "    for ni in lt[1:]:\n",
    "        df=pd.read_csv(f\"hmmer_phylo_data/{ni}/hmmer_result.tsv\",sep=\"\\t\",comment='#',names=cols)\n",
    "        df=df[df[\"i-Evalue\"]<.01]\n",
    "        chimeras=set(df.target_name)&chimeras\n",
    "    #make a dataframe where rows are secondary chimeras, columns are all intervals w/in secondary chimera with HMMER E-value<.01\n",
    "    inters = {}\n",
    "    for ni in lt:\n",
    "        df = pd.read_csv(f\"hmmer_phylo_data/{ni}/hmmer_result.tsv\", sep=\"\\t\", comment='#', names=cols)\n",
    "        df=df[df[\"i-Evalue\"]<.01]\n",
    "        inters[ni]={}\n",
    "        for c in chimeras:\n",
    "            inters[ni][c]=get_intercs(c,df)\n",
    "    inter_df=pd.DataFrame(inters)\n",
    "    \n",
    "    #find maximal overlap between all hgt and metazoan intervals for each putative chimera\n",
    "    hgts=[x for x in lt if \"HGT\" in x]\n",
    "    metas=[x for x in lt if \"HGT\" not in x]\n",
    "    pairs = list(product(hgts,metas))\n",
    "    # Apply the function to compute maximal overlap for each row\n",
    "    for i in range(len(pairs)):\n",
    "        inter_df[f'max_overlap_{i}'] = inter_df.apply(lambda row: compute_max_overlap(row[pairs[i][0]], row[pairs[i][1]]), axis=1)\n",
    "    inter_df[\"max_overlap\"]=inter_df.loc[:,[x for x in inter_df.columns if \"max_overlap\" in x]].max(axis=1)\n",
    "    f=open(\"putative_secondary_chimeras.txt\",\"a\")\n",
    "    f.write(n+\":\"+str(list(inter_df[inter_df.max_overlap<15].index)))\n",
    "    f.write(\"\\n\")\n",
    "    f.close()\n",
    "    return "
   ]
  },
  {
   "cell_type": "code",
   "execution_count": null,
   "id": "32ccc315-ba27-4ebe-ab46-872346d55bc6",
   "metadata": {},
   "outputs": [],
   "source": [
    "with mp.Pool(12) as p:\n",
    "    inter_cs = p.map(get_2nd_chimera, set(dm.keys())-set(dp2_mp.keys()))"
   ]
  },
  {
   "cell_type": "code",
   "execution_count": null,
   "id": "0daf97bb-858b-4ec1-a1a0-232aee4f9a2e",
   "metadata": {},
   "outputs": [],
   "source": [
    "dps2=open(\"putative_secondary_chimeras.txt\",\"r\").readlines()\n",
    "dp2_mp={x.split(\":\")[0]:x.split(\":\")[1].strip().replace(\"[\",\"\").replace(\"]\",\"\").replace(\" \",\"\").replace(\"'\",\"\").split(\",\") for x in dps2}"
   ]
  },
  {
   "cell_type": "markdown",
   "id": "cc4bf40f-4ca2-47f6-b9d4-12851cbeda27",
   "metadata": {},
   "source": [
    "# Identify Arthropod Specific Chimeras"
   ]
  },
  {
   "cell_type": "code",
   "execution_count": null,
   "id": "b0e3d25b-bb88-4962-aa12-a46216d94c3a",
   "metadata": {
    "tags": []
   },
   "outputs": [],
   "source": [
    "import matplotlib.pyplot as plt\n",
    "from Bio import SeqIO\n",
    "import os\n",
    "import sys\n",
    "import os\n",
    "import subprocess\n",
    "from Bio import SearchIO\n",
    "sys.path.insert(0, '/n/home11/rkapoor')\n",
    "import tax_pkg\n",
    "from tax_pkg import taxid\n",
    "from tax_pkg import accession2taxid\n",
    "import pandas as pd\n",
    "import multiprocessing as mp\n",
    "import numpy as np"
   ]
  },
  {
   "cell_type": "code",
   "execution_count": null,
   "id": "92f544f6-775a-4dc6-83e3-27a970e56300",
   "metadata": {},
   "outputs": [],
   "source": [
    "def get_phylum(x):\n",
    "    try:\n",
    "        ti=accession2taxid.get_taxid(x)\n",
    "        l=taxid.get_lineage(ti,{})\n",
    "\n",
    "        o=taxid.get_phylum(ti,l)\n",
    "    except:\n",
    "        print(x)\n",
    "        ti=\"nan\"\n",
    "        return (\"nan\",\"nan\",\"nan\",\"nan\",\"nan\",\"nan\")\n",
    "\n",
    "    return o"
   ]
  },
  {
   "cell_type": "code",
   "execution_count": null,
   "id": "8e54fbbf-45c0-4dc4-9788-34fabe77b0c0",
   "metadata": {},
   "outputs": [],
   "source": [
    "dps=open(\"putative_secondary_chimeras.txt\",\"r\").readlines()\n",
    "dp_mp={x.split(\":\")[0]:x.split(\":\")[1].strip().replace(\"[\",\"\").replace(\"]\",\"\").replace(\" \",\"\").replace(\"'\",\"\").split(\",\") for x in dps}"
   ]
  },
  {
   "cell_type": "code",
   "execution_count": null,
   "id": "e1a6c79c-3967-4b56-81c6-e7cd5f09b38b",
   "metadata": {},
   "outputs": [],
   "source": [
    "def get_ap(x):\n",
    "    with mp.Pool(63) as p:\n",
    "        inter_cs = p.map(get_phylum, dp_mp[x])\n",
    "    amap={xi for xi,yi in zip(dp_mp[x],inter_cs) if yi==\"Arthropoda\"}\n",
    "    return amap"
   ]
  },
  {
   "cell_type": "code",
   "execution_count": null,
   "id": "d31307e7-2659-4564-9fc3-0411180c0a1c",
   "metadata": {},
   "outputs": [],
   "source": [
    "mids={}\n",
    "for x in dp_mp:\n",
    "    ids=get_ap(x)\n",
    "    mids[x]=ids"
   ]
  },
  {
   "cell_type": "code",
   "execution_count": null,
   "id": "5e608a70-e667-448d-b45f-b60950744c1c",
   "metadata": {},
   "outputs": [],
   "source": [
    "import pickle"
   ]
  },
  {
   "cell_type": "code",
   "execution_count": null,
   "id": "2937a66a-8c71-43f7-9254-e73ac0212ba7",
   "metadata": {},
   "outputs": [],
   "source": [
    "with open('arthropod_dps.pickle', 'wb') as file:\n",
    "    pickle.dump(mids,file)"
   ]
  },
  {
   "cell_type": "markdown",
   "id": "0ef4c35b-3d55-4dcd-ab8b-4ed1c5d9c206",
   "metadata": {},
   "source": [
    "# Secondary chimera blast"
   ]
  },
  {
   "cell_type": "code",
   "execution_count": null,
   "id": "84ed293f-ba2c-4214-ace1-4262b726cc0c",
   "metadata": {},
   "outputs": [],
   "source": [
    "import re"
   ]
  },
  {
   "cell_type": "code",
   "execution_count": null,
   "id": "ac138ff2-6753-43ed-9753-24116685a927",
   "metadata": {},
   "outputs": [],
   "source": [
    "with open('arthropod_dps.pickle', 'rb') as file:\n",
    "    chimeras=pickle.load(file)"
   ]
  },
  {
   "cell_type": "code",
   "execution_count": null,
   "id": "12e0edda-76af-4eb1-afd1-96f37c399f2d",
   "metadata": {},
   "outputs": [],
   "source": [
    "tm=[x for x in os.listdir(\"hmmer_phylo_data\") if \".ipynb\" not in x]"
   ]
  },
  {
   "cell_type": "code",
   "execution_count": null,
   "id": "29e31b76-d8bb-44e5-9951-9ba2d291d74e",
   "metadata": {},
   "outputs": [],
   "source": [
    "rdict=SeqIO.to_dict(SeqIO.parse(f\"query_sequences.fasta\", \"fasta\"))"
   ]
  },
  {
   "cell_type": "code",
   "execution_count": null,
   "id": "142fb40e-bf7a-4297-8be0-484e66d45a31",
   "metadata": {},
   "outputs": [],
   "source": [
    "query=\"XP_023324493.1\""
   ]
  },
  {
   "cell_type": "code",
   "execution_count": null,
   "id": "d7c89513-f36e-4849-b388-b49107fef1df",
   "metadata": {},
   "outputs": [],
   "source": [
    "des=rdict[query].description"
   ]
  },
  {
   "cell_type": "code",
   "execution_count": null,
   "id": "bf7189fd-baa1-41a1-9d60-127fadeb1c5c",
   "metadata": {},
   "outputs": [],
   "source": [
    "species = re.findall(r'\\[(.*?)\\]', des)[-1]\n"
   ]
  },
  {
   "cell_type": "code",
   "execution_count": null,
   "id": "5b31ffbb-1a00-43b5-b861-4303376fe45f",
   "metadata": {
    "tags": []
   },
   "outputs": [],
   "source": [
    "#make a dataframe of all secondary chimeras for each chimeric interval\n",
    "#limiting to one per species and using the same chimera across all intervals\n",
    "def make_chimera_df(xi):\n",
    "    inters=[x for x in tm if xi in x]\n",
    "    i=0\n",
    "    for x in inters:\n",
    "        df=pd.read_csv(f\"hmmer_phylo_data/{x}/hmmer_result.tsv\",sep=\"\\t\",comment='#',names=cols)\n",
    "        df=df[df.species!=\"synthetic construct\"]\n",
    "        query=x.split(\";\")[1]\n",
    "        if i==0:\n",
    "            #write info for secondary chimeras to csv\n",
    "            chs=set(chimeras[xi])-set([query])\n",
    "            df=df[df.target_name.isin(chs)]\n",
    "           \n",
    "            #write info for primary chimera to csv\n",
    "            leng=len(rdict[query].seq)\n",
    "            des=rdict[query].description\n",
    "            coords=ast.literal_eval(x.split(\"_\")[-1])\n",
    "            qspecies=re.findall(r'\\[(.*?)\\]', des)[-1]\n",
    "            df=df[df.species!=qspecies]\n",
    "            last=df.shape[0]\n",
    "            df.loc[last,'envfrom']=max(0,coords[0]-10)\n",
    "            df.loc[last,'envto']=min(coords[1]+10,leng-1)\n",
    "            df.loc[last,'description of target']=des\n",
    "            df.loc[last,\"target_name\"]=query\n",
    "            df.loc[last,\"species\"] = qspecies\n",
    "            \n",
    "            #limit to one query with lowest e-value per species\n",
    "            df=df.sort_values(\"i-Evalue\").groupby('species').first()\n",
    "            chs=set(df.target_name)\n",
    "        else:\n",
    "            chs=chs-set([query])\n",
    "            df=df[df.target_name.isin(chs)]\n",
    "            \n",
    "            #write info for primary chimera to csv\n",
    "            leng=len(rdict[query].seq)\n",
    "            des=rdict[query].description\n",
    "            coords=ast.literal_eval(x.split(\"_\")[-1])\n",
    "            qspecies=re.findall(r'\\[(.*?)\\]', des)[-1]\n",
    "            df=df[df.species!=qspecies]\n",
    "            \n",
    "            last=df.shape[0]\n",
    "            df.loc[last,'envfrom']=max(0,coords[0]-10)\n",
    "            df.loc[last,'envto']=min(coords[1]+10,leng-1)\n",
    "            df.loc[last,'description of target']=des\n",
    "            df.loc[last,\"target_name\"]=query\n",
    "            df.loc[last,\"species\"] = qspecies\n",
    "            \n",
    "            #limit to one query with lowest e-value per species\n",
    "            df=df.sort_values(\"i-Evalue\").groupby('species').first()\n",
    "            chs=set(df.target_name)\n",
    "            \n",
    "            \n",
    "        df.to_csv(f\"hmmer_phylo_data/{x}/secondary_chimera.tsv\",sep=\"\\t\")\n",
    "        i+=1"
   ]
  },
  {
   "cell_type": "code",
   "execution_count": null,
   "id": "2865eb6f-5217-4002-bce7-327f5e81addb",
   "metadata": {},
   "outputs": [],
   "source": [
    "cols=[\"target_name\", \"target_accession\",\"tlen\", \"query name\",\"accession\",\"qlen\", \"E-value\", \"score1\", \"bias1\",   \"#\", \"of\", \"c-Evalue\",  \"i-Evalue\",  \"score\",  \"bias\",  \"hmmfrom\",  \"hmmto\",    \"alifrom\",  \"alito\", \"envfrom\",  \"envto\", \"acc\", \"description of target\", \"species\"]"
   ]
  },
  {
   "cell_type": "code",
   "execution_count": null,
   "id": "8eb3bb01-d7b5-43e5-8d94-46a385098528",
   "metadata": {
    "tags": []
   },
   "outputs": [],
   "source": [
    "with mp.Pool(40) as p:\n",
    "    inter_cs = p.map(make_chimera_df, chimeras.keys())"
   ]
  },
  {
   "cell_type": "code",
   "execution_count": 10,
   "id": "756e77b7-0bd1-40d1-b048-79f973e116a4",
   "metadata": {
    "tags": []
   },
   "outputs": [],
   "source": [
    "#append a fasta of sequence n1 to file n2\n",
    "def get_fasta(n):\n",
    "    n1=n[0]\n",
    "    n2=n[1]\n",
    "    if n1 in rdict.keys():\n",
    "        f=open(n2,\"a\")\n",
    "        f.write(f\">{n1}\")\n",
    "        f.write(\"\\n\")\n",
    "        f.write(str(rdict[n1].seq))\n",
    "        f.write(\"\\n\")\n",
    "        f.close()\n",
    "    else:\n",
    "        subprocess.run([\"sh\",\"query_nr_protein.sh\",n1,n2])\n",
    "    return n\n",
    "from Bio import SeqIO\n",
    "#make a new fasta in output_file by using the HMMER coordinates in df \n",
    "def copy_fasta_with_substr(fasta_file, df, output_file):\n",
    "    with open(output_file, \"w\") as out_handle:\n",
    "        for seq_record in SeqIO.parse(fasta_file, \"fasta\"):\n",
    "            seq_name = seq_record.id\n",
    "            if seq_name in df[\"target_name\"].values:\n",
    "                sub_df = df[df[\"target_name\"] == seq_name]\n",
    "                for _, row in sub_df.iterrows():\n",
    "                    sstart = int(row[\"envfrom\"])\n",
    "                    send = int(row[\"envto\"])\n",
    "                    subseq = seq_record.seq[sstart:send]\n",
    "                    subseq_name = f\"{seq_name}_{sstart}_{send}\"\n",
    "                    subseq_record = seq_record\n",
    "                    subseq_record.id = subseq_name\n",
    "                    subseq_record.description = \"\"\n",
    "                    subseq_record.seq = subseq\n",
    "                    SeqIO.write(subseq_record, out_handle, \"fasta\")"
   ]
  },
  {
   "cell_type": "code",
   "execution_count": null,
   "id": "983e94dd-7056-4876-9399-88b8a0efc441",
   "metadata": {},
   "outputs": [],
   "source": [
    "def write_fasta(n):\n",
    "    df=pd.read_csv(f\"hmmer_phylo_data/{n}/secondary_chimera.tsv\",sep=\"\\t\")\n",
    "    with mp.Pool(40) as p:\n",
    "        inter_cs = p.map(get_fasta,  [(x,f\"hmmer_phylo_data/{n}/secondary_chimera.fasta\") for x in df.target_name])\n",
    "    copy_fasta_with_substr(f\"hmmer_phylo_data/{n}/secondary_chimera.fasta\",df,f\"hmmer_phylo_data/{n}/sub_secondary_chimera.fasta\")\n",
    "    return"
   ]
  },
  {
   "cell_type": "code",
   "execution_count": null,
   "id": "c58dd648-f276-4680-a24b-e59819a674e7",
   "metadata": {
    "tags": []
   },
   "outputs": [],
   "source": [
    "for n in tm:\n",
    "    write_fasta(n)"
   ]
  },
  {
   "cell_type": "code",
   "execution_count": null,
   "id": "9f1c6a32-2fb0-4b03-a8b2-cf3aef8b90c5",
   "metadata": {},
   "outputs": [],
   "source": [
    "#merge all secondary chimera intervals into one fasta\n",
    "#written by RK and ChatGPT\n",
    "directory = \"hmmer_phylo_data\"\n",
    "fasta_files = []\n",
    "added\n",
    "# Iterate over the subdirectories within the main directory and append \n",
    "for root, dirs, files in os.walk(directory):\n",
    "    if \"sub_secondary_chimera.fasta\" in files:\n",
    "        fasta_path = os.path.join(root, \"sub_secondary_chimera.fasta\")\n",
    "        fasta_files.append(fasta_path)\n",
    "\n",
    "# Create a new file to store the merged fasta data\n",
    "output_file = \"secondary_chimera_intervals.fasta\"\n",
    "\n",
    "# Open the output file in append mode\n",
    "with open(output_file, \"a\") as output:\n",
    "    for fasta_file in fasta_files:\n",
    "        with open(fasta_file, \"r\") as input_file:\n",
    "            fasta_data = input_file.read()\n",
    "            output.write(fasta_data)\n"
   ]
  },
  {
   "cell_type": "code",
   "execution_count": null,
   "id": "038dc091-5d01-4634-8795-cf7716ab3002",
   "metadata": {},
   "outputs": [],
   "source": [
    "#remove redundant seqs from interval fasta\n",
    "input_file = \"secondary_chimera_intervals.fasta\"\n",
    "output_file = \"filtered_secondary_chimera_intervals.fasta\"\n",
    "\n",
    "sequences = {}\n",
    "current_header = ''\n",
    "\n",
    "# Read input file and store unique sequences per header\n",
    "with open(input_file, 'r') as file:\n",
    "    for line in file:\n",
    "        line = line.strip()\n",
    "        if line.startswith('>'):\n",
    "            current_header = line\n",
    "            if current_header not in sequences:\n",
    "                sequences[current_header] = ''\n",
    "        else:\n",
    "            sequences[current_header] += line\n",
    "\n",
    "# Write unique sequences to output file\n",
    "with open(output_file, 'w') as file:\n",
    "    for header, sequence in sequences.items():\n",
    "        file.write(header + '\\n')\n",
    "        file.write(sequence + '\\n')\n"
   ]
  },
  {
   "cell_type": "code",
   "execution_count": null,
   "id": "b8d27184-a80b-4cfb-9263-4ced6f46142b",
   "metadata": {},
   "outputs": [],
   "source": [
    "#run diamond blast on secondary chimera intervls\n",
    "!sbatch secondary_chimera_blast.sh"
   ]
  },
  {
   "cell_type": "code",
   "execution_count": null,
   "id": "c73a266b-12ba-430c-b170-391cd77983e0",
   "metadata": {},
   "outputs": [],
   "source": [
    "#split secondary chimera \n",
    "!sbatch \"split_blast_table.sh\" \"secondary_chimera_blast_results\" \"secondary_chimera_results\""
   ]
  },
  {
   "cell_type": "markdown",
   "id": "d8a20ddc-5163-4410-a478-e97644e05ceb",
   "metadata": {},
   "source": [
    "# Filter chimeras by secondary chimera results"
   ]
  },
  {
   "cell_type": "code",
   "execution_count": null,
   "id": "e20dda99-29e9-4a6e-ab6c-6f62c670fc78",
   "metadata": {},
   "outputs": [],
   "source": [
    "!cd /n/holyscratch01/extavour_lab/Lab/rkapoor"
   ]
  },
  {
   "cell_type": "code",
   "execution_count": 2,
   "id": "c441bbf1-4d99-4fa3-85a4-c6bbcb9ec95e",
   "metadata": {},
   "outputs": [],
   "source": [
    "##annotate each secondary chimera as \"Meta\" \"HGT\" or \"Indeterminate\"\n",
    "def check_annot(n):\n",
    "    dfo=pd.read_csv(f\"secondary_chimera_blast_results/{n}\",sep=\"\\t\", names=\"qseqid sseqid stitle staxids sscinames sphylums skingdoms pident length mismatch gapopen qstart qend sstart send evalue bitscore\".split(\" \"))\n",
    "    gene=\";\".join(n.split(\";\")[0:2])\n",
    "    dfo=dfo[~dfo.sphylums.astype(str).str.contains(\"Arthropoda\")]\n",
    "    dfo=dfo[~dfo.sphylums.astype(str).str.contains(\"Rotifera\")]\n",
    "    dfo=dfo[dfo.staxids.astype(str)!=\"nan\"]\n",
    "    dfo=dfo[dfo.staxids!=32630]\n",
    "    dfm=dfo.iloc[0:30000,:]\n",
    "    dfmeta=dfm[dfm.skingdoms.astype(str).str.contains(\"Metazoa\")]\n",
    "    dfhgt=dfm[~dfm.skingdoms.astype(str).str.contains(\"Metazoa\")]\n",
    "    dfhgt[\"AI\"]=np.log10(dfmeta.evalue.min()+1e-200)-np.log10(dfhgt.evalue+1e-200)\n",
    "    dfmeta[\"MI\"]=np.log10(dfhgt.evalue.min()+1e-200)-np.log10(dfmeta.evalue+1e-200)\n",
    "    dfmi=dfm.iloc[0:300,:]\n",
    "    dfmetai=dfmi[dfmi.skingdoms.astype(str).str.contains(\"Metazoa\")]\n",
    "    dfhgti=dfmi[~dfmi.skingdoms.astype(str).str.contains(\"Metazoa\")]\n",
    "\n",
    "#     print(len(set(dfhgt[dfhgt.AI>5].staxids)),(len(set(dfhgti.staxids))/len(set(dfmi.staxids)),len(set(dfmeta[dfmeta.MI>5].staxids))),len(set(dfmetai.staxids))/len(set(dfmi.staxids)))\n",
    "#     print(dfmeta.evalue.min()<.1, len(set(dfmeta.staxids)),len(set(dfmeta[dfmeta.MI>0].staxids)))\n",
    "    if dfm.shape[0]>0:\n",
    "        if dfmeta.evalue.min()<.1  and (dfhgt.shape[0]==0 or len(set(dfmeta[dfmeta.MI>1].staxids))>5 or (len(set(dfmetai.staxids))/len(set(dfmi.staxids))>.40 and len(set(dfhgt[dfhgt.AI>5].staxids))<2)):\n",
    "            ret= \"Meta\"\n",
    "        elif dfhgt.evalue.min()<.1 and len(set(dfhgt.staxids))>10 and (dfmeta.shape[0]==0 or len(set(dfhgt[dfhgt.AI>5].staxids))>10 or (len(set(dfhgti.staxids))/len(set(dfmi.staxids))>.90 and len(set(dfmeta[dfmeta.MI>5].staxids))<2)) :\n",
    "            ret= \"HGT\"\n",
    "        else:\n",
    "            ret=\"Indeterminate\"\n",
    "    else:\n",
    "        ret=\"Indeterminate\"\n",
    "    f=open(\"secondary_blast_annot.txt\",\"a\")\n",
    "    n0=n.split(\".tsv\")[0]\n",
    "    f.write(f\"{n0}--{ret}\")\n",
    "    f.write(\"\\n\")\n",
    "    f.close()\n",
    "    return ret"
   ]
  },
  {
   "cell_type": "code",
   "execution_count": 20,
   "id": "76447ddd-f0ce-4590-a263-74dcfb94703a",
   "metadata": {},
   "outputs": [],
   "source": [
    "#run chimera annotations and load output as dictionary\n",
    "# ls=[x for x in os.listdir(\"secondary_chimera_blast_results\") if \"ipynb\" not in x]\n",
    "# with mp.Pool(30) as p:\n",
    "#     inter_cs = p.map(check_annot, ls)\n",
    "results=open(\"/n/holyscratch01/extavour_lab/Lab/rkapoor/secondary_blast_annot.txt\",\"r\").readlines()\n",
    "rm={x.split(\"--\")[0].replace(\".txt\",\"\"):x.split(\"--\")[1].strip() for x in results}"
   ]
  },
  {
   "cell_type": "code",
   "execution_count": 21,
   "id": "6aefa6d2-71ac-4c93-96cf-28b7cd34c69e",
   "metadata": {},
   "outputs": [],
   "source": [
    "def add_interval_map(x):\n",
    "    rdict=SeqIO.to_dict(SeqIO.parse(f\"{directory}/{x}/sub_secondary_chimera.fasta\", \"fasta\")).keys()\n",
    "        \n",
    "    interval_map[x]=rdict\n",
    "    print(x)\n",
    "    return rdict"
   ]
  },
  {
   "cell_type": "code",
   "execution_count": 9,
   "id": "bddaf93f-1729-4d84-9c45-fc8addcff380",
   "metadata": {},
   "outputs": [],
   "source": [
    "directory = \"/n/holyscratch01/extavour_lab/Lab/rkapoor/hmmer_phylo_data\"\n"
   ]
  },
  {
   "cell_type": "code",
   "execution_count": 23,
   "id": "2feb9b02-8465-4e6f-91d1-bda7dec2f8da",
   "metadata": {
    "tags": []
   },
   "outputs": [],
   "source": [
    "\n",
    "# make a dictionary between primary chimera and secondary chimera intervals\n",
    "directory = \"/n/holyscratch01/extavour_lab/Lab/rkapoor/hmmer_phylo_data\"\n",
    "interval_map={}\n",
    "for x in os.listdir(directory)[::-1]:\n",
    "    if \".ipynb\" not in x:\n",
    "        \n",
    "        rdict=SeqIO.to_dict(SeqIO.parse(f\"{directory}/{x}/sub_secondary_chimera.fasta\", \"fasta\")).keys()\n",
    "        \n",
    "        interval_map[x]=rdict\n",
    "        \n",
    "        \n",
    "\n",
    "    "
   ]
  },
  {
   "cell_type": "code",
   "execution_count": 12,
   "id": "3b524e06-96ff-44b3-a5ac-384e4139ab19",
   "metadata": {},
   "outputs": [],
   "source": [
    "#make a dictionary storing the percentage of secondary chimeras with each annotation type\n",
    "pmeta={} \n",
    "phgt={}\n",
    "pint={}\n",
    "for x in interval_map:\n",
    "    \n",
    "    xmp=interval_map[x]\n",
    "\n",
    "    pmeta[x]=len([rm[i] for i in xmp if i in rm.keys() and rm[i]==\"Meta\" ])/len([i for i in xmp if i in rm.keys()])\n",
    "    phgt[x]=len([rm[i] for i in xmp if i in rm.keys() and rm[i]==\"HGT\"])/len([i for i in xmp if i in rm.keys()])\n",
    "    pint[x]=len([rm[i] for i in xmp  if i in rm.keys() and rm[i]==\"Indeterminate\"])/len([i for i in xmp if i in rm.keys()])\n"
   ]
  },
  {
   "cell_type": "code",
   "execution_count": 13,
   "id": "6fb01f11-43a4-44eb-9935-50b88911cfd3",
   "metadata": {
    "tags": []
   },
   "outputs": [],
   "source": [
    "#hgt and meta intervals based off percent of secondary chimeras w/ annotation type\n",
    "hgt_true=[x for x in pmeta.keys() if \"HGT\" in x and pmeta[x]<=(1/3) and phgt[x]>pmeta[x]]\n",
    "meta_true=[x for x in pmeta.keys() if \"Meta\" in x and phgt[x]<=(1/3) and pmeta[x]>phgt[x] ]"
   ]
  },
  {
   "cell_type": "code",
   "execution_count": 73,
   "id": "55e57718-4afc-4612-a735-972c45b7c423",
   "metadata": {},
   "outputs": [
    {
     "data": {
      "text/plain": [
       "378"
      ]
     },
     "execution_count": 73,
     "metadata": {},
     "output_type": "execute_result"
    }
   ],
   "source": [
    "len(chimeras)"
   ]
  },
  {
   "cell_type": "code",
   "execution_count": 14,
   "id": "dfac063c-eb60-4c65-94d7-d0d0f45a31b4",
   "metadata": {},
   "outputs": [],
   "source": [
    "chimeras=set([x.split(\";\")[1] for x in meta_true])&set([x.split(\";\")[1] for x in hgt_true])\n",
    "hgt_true2=[x for x in hgt_true if x.split(\";\")[1] in chimeras]\n",
    "meta_true2=[x for x in meta_true if x.split(\";\")[1] in chimeras]"
   ]
  },
  {
   "cell_type": "code",
   "execution_count": 116,
   "id": "57641ae6-322f-4ba1-a39c-83c845336cb4",
   "metadata": {},
   "outputs": [],
   "source": [
    "chimera_intervals=set(hgt_true2)|set(meta_true2)"
   ]
  },
  {
   "cell_type": "code",
   "execution_count": 78,
   "id": "28583f28-8c17-4a63-92b0-dab8767c404b",
   "metadata": {},
   "outputs": [],
   "source": [
    "#make a dictionary between queries and confirmed secondary chimeras\n",
    "secondary_chimeras={}\n",
    "for gene in set([x.split(\";\")[1] for x in chimera_intervals]):\n",
    "    inters=[x for x in chimera_intervals if gene in x]\n",
    "    secondary_chimera_map={}\n",
    "    for i in inters:\n",
    "        annot=i.split(\";\")[-1].split(\"_\")[0]\n",
    "        secondary=[]\n",
    "        for sec in interval_map[i]:\n",
    "            if sec in rm.keys() and (rm[sec]==annot or rm[sec]==\"Indeterminate\"): \n",
    "                secondary.append(\"_\".join(sec.split(\"_\")[0:-2]))\n",
    "        secondary_chimera_map[i]=secondary\n",
    "    final_secondary = set.intersection(*[set(x) for x in secondary_chimera_map.values()])\n",
    "    secondary_chimeras[gene]=final_secondary"
   ]
  },
  {
   "cell_type": "code",
   "execution_count": 117,
   "id": "e94bf3f4-ac0b-460c-a22f-fa8e2c547e2c",
   "metadata": {},
   "outputs": [],
   "source": [
    "#write all chimera intervals to an output file\n",
    "import pickle\n",
    "\n",
    "\n",
    "file_path = 'chimera_intervals.pickle'\n",
    "with open(file_path, 'wb') as file:\n",
    "    pickle.dump(chimera_intervals, file)\n"
   ]
  },
  {
   "cell_type": "code",
   "execution_count": 79,
   "id": "0a55b8ff-47d6-436b-bc23-d54bdf7af246",
   "metadata": {},
   "outputs": [],
   "source": [
    "file_path = 'secondary_chimera_dict.pickle'\n",
    "with open(file_path, 'wb') as file:\n",
    "    pickle.dump(secondary_chimeras, file)"
   ]
  },
  {
   "cell_type": "markdown",
   "id": "7b3a678a-a46f-4f2c-b1d9-554bca5517ae",
   "metadata": {},
   "source": [
    "# Make a df with all primary and secondary chimeras and taxonomic info\n",
    "one per species/taxid "
   ]
  },
  {
   "cell_type": "code",
   "execution_count": 4,
   "id": "50fc3206-0bf4-47a0-95fb-72d1ddb05869",
   "metadata": {
    "tags": []
   },
   "outputs": [],
   "source": [
    "import pickle\n",
    "file_path = 'secondary_chimera_dict.pickle'\n",
    "with open(file_path, 'rb') as file:\n",
    "    secondary_chimera_dict=pickle.load(file)"
   ]
  },
  {
   "cell_type": "code",
   "execution_count": 5,
   "id": "dba48671-5821-4b89-a7e0-9d6693e5d94f",
   "metadata": {},
   "outputs": [],
   "source": [
    "\n",
    "file_path = 'chimera_intervals.pickle'\n",
    "with open(file_path, 'rb') as file:\n",
    "    chimera_intervals=pickle.load(file)"
   ]
  },
  {
   "cell_type": "code",
   "execution_count": 11,
   "id": "1b07d5dc-b0a3-4c23-9893-895301f80970",
   "metadata": {},
   "outputs": [],
   "source": [
    "def make_taxdf(x):\n",
    "    chdf=pd.read_csv(f\"{directory}/{x}/secondary_chimera.tsv\",sep=\"\\t\")\n",
    "    chdf=chdf[chdf.target_name.isin(secondary_chimera_dict[x.split(\";\")[1]])]\n",
    "    df=pd.read_csv(f\"{directory}/{x}/hmmer_result.tsv\",sep=\"\\t\",names=[\"target_name\", \"target_accession\",\"tlen\", \"query name\",\"accession\",\"qlen\", \"E-value\", \"score1\", \"bias1\",   \"#\", \"of\", \"c-Evalue\",  \"i-Evalue\",  \"score\",  \"bias\",  \"hmmfrom\",  \"hmmto\",    \"alifrom\",  \"alito\", \"envfrom\",  \"envto\", \"acc\", \"description of target\", \"species\"])\n",
    "    df=df[df.species!=\"synthetic construct\"]\n",
    "\n",
    "    # Sort the dataframe by 'E-value' in ascending order\n",
    "    sorted_df = df.sort_values('i-Evalue')\n",
    "\n",
    "    # Group the dataframe by 'species' and select the row with the lowest 'E-value'\n",
    "    new_df = sorted_df.groupby('species').first().reset_index().sort_values(\"i-Evalue\")\n",
    "    new_df=new_df.sort_values(\"i-Evalue\")\n",
    "    new_df=new_df[~new_df.species.isin(list(chdf.species))].iloc[0:1000-chdf.shape[0],:]\n",
    "    new_df.loc[:,\"chimera\"]=False\n",
    "    chdf.loc[:,\"chimera\"]=True\n",
    "    df_tax=pd.concat([chdf,new_df])\n",
    "    df_tax.to_csv(f\"{directory}/{x}/phylo_tax.tsv\",sep=\"\\t\")\n",
    "    return "
   ]
  },
  {
   "cell_type": "code",
   "execution_count": 12,
   "id": "ae277bae-c612-4759-9210-6b6ebc61df44",
   "metadata": {
    "tags": []
   },
   "outputs": [],
   "source": [
    "with mp.Pool(63) as p:\n",
    "    inter_cs = p.map(make_taxdf, chimera_intervals)"
   ]
  },
  {
   "cell_type": "code",
   "execution_count": 13,
   "id": "2b137e8d-511e-4542-a64a-2868a0b50cb9",
   "metadata": {},
   "outputs": [],
   "source": [
    "import matplotlib.pyplot as plt\n",
    "from Bio import SeqIO\n",
    "import os\n",
    "import sys\n",
    "import os\n",
    "import subprocess\n",
    "from Bio import SearchIO\n",
    "sys.path.insert(0, '/n/home11/rkapoor')\n",
    "import tax_pkg\n",
    "from tax_pkg import taxid\n",
    "from tax_pkg import accession2taxid\n",
    "import pandas as pd\n",
    "import multiprocessing as mp\n",
    "import numpy as np"
   ]
  },
  {
   "cell_type": "code",
   "execution_count": 14,
   "id": "a17c0f53-2d29-4726-b4d8-0868e2658b70",
   "metadata": {},
   "outputs": [],
   "source": [
    "def get_taxinfo(x):\n",
    "    try:\n",
    "        ti=accession2taxid.get_taxid(x)\n",
    "        l=taxid.get_lineage(ti,{})\n",
    "        sk=taxid.get_superkingdom(ti,l)\n",
    "        k=taxid.get_kingdom(ti,l)\n",
    "        p=taxid.get_phylum(ti,l)\n",
    "        o=taxid.get_order(ti,l)\n",
    "        s=taxid.get_species(ti,l)\n",
    "        c=taxid.get_colors(ti,l)\n",
    "        \n",
    "    except:\n",
    "        print(x)\n",
    "        ti=\"nan\"\n",
    "        return (\"nan\",\"nan\",\"nan\",\"nan\",\"nan\",\"nan\",\"nan\")\n",
    "\n",
    "    return (ti,sk,k,p,o,s,c)"
   ]
  },
  {
   "cell_type": "code",
   "execution_count": 15,
   "id": "899a4262-564f-4282-96d2-1643e7d0fcf8",
   "metadata": {},
   "outputs": [],
   "source": [
    "def fill_taxonomic_info(x):\n",
    "    df=pd.read_csv(f\"{directory}/{x}/phylo_tax.tsv\",sep=\"\\t\")\n",
    "    with mp.Pool(63) as p:\n",
    "        hgts = p.map(get_taxinfo, df.target_name)\n",
    "    df.loc[:,[\"taxid\",\"superkingdom\",\"kingdom\",\"phylum\",\"order\",\"sci_name\",\"color\"]]=hgts\n",
    "    chi=df[df.chimera].index\n",
    "    for index, row in df.iterrows():\n",
    "        df.loc[index,\"rE-value\"]=np.min\n",
    "        df.loc[index, \"rE-value\"]=row[\"i-Evalue\"]\n",
    "        \n",
    "    df2=df.sort_values(\"rE-value\").groupby('taxid').first().reset_index().sort_values(\"i-Evalue\")\n",
    "    df2=df2.drop(\"rE-value\",axis=1)\n",
    "    df2.to_csv(f\"{directory}/{x}/phylo_tax.tsv\",sep=\"\\t\")\n",
    "\n",
    "    "
   ]
  },
  {
   "cell_type": "code",
   "execution_count": null,
   "id": "e521f580-cde7-4eb5-aa70-5530ff0f9827",
   "metadata": {
    "collapsed": true,
    "jupyter": {
     "outputs_hidden": true
    },
    "tags": []
   },
   "outputs": [
    {
     "name": "stderr",
     "output_type": "stream",
     "text": [
      "/tmp/ipykernel_682895/273728966.py:5: FutureWarning: In a future version, `df.iloc[:, i] = newvals` will attempt to set the values inplace instead of always setting a new array. To retain the old behavior, use either `df[df.columns[i]] = newvals` or, if columns are non-unique, `df.isetitem(i, newvals)`\n",
      "  df.loc[:,[\"taxid\",\"superkingdom\",\"kingdom\",\"phylum\",\"order\",\"sci_name\",\"color\"]]=hgts\n"
     ]
    },
    {
     "name": "stdout",
     "output_type": "stream",
     "text": [
      "MCF8701893.1\n",
      "prf||1107279B\n"
     ]
    },
    {
     "name": "stderr",
     "output_type": "stream",
     "text": [
      "/tmp/ipykernel_682895/273728966.py:5: FutureWarning: In a future version, `df.iloc[:, i] = newvals` will attempt to set the values inplace instead of always setting a new array. To retain the old behavior, use either `df[df.columns[i]] = newvals` or, if columns are non-unique, `df.isetitem(i, newvals)`\n",
      "  df.loc[:,[\"taxid\",\"superkingdom\",\"kingdom\",\"phylum\",\"order\",\"sci_name\",\"color\"]]=hgts\n",
      "/tmp/ipykernel_682895/273728966.py:5: FutureWarning: In a future version, `df.iloc[:, i] = newvals` will attempt to set the values inplace instead of always setting a new array. To retain the old behavior, use either `df[df.columns[i]] = newvals` or, if columns are non-unique, `df.isetitem(i, newvals)`\n",
      "  df.loc[:,[\"taxid\",\"superkingdom\",\"kingdom\",\"phylum\",\"order\",\"sci_name\",\"color\"]]=hgts\n",
      "/tmp/ipykernel_682895/273728966.py:5: FutureWarning: In a future version, `df.iloc[:, i] = newvals` will attempt to set the values inplace instead of always setting a new array. To retain the old behavior, use either `df[df.columns[i]] = newvals` or, if columns are non-unique, `df.isetitem(i, newvals)`\n",
      "  df.loc[:,[\"taxid\",\"superkingdom\",\"kingdom\",\"phylum\",\"order\",\"sci_name\",\"color\"]]=hgts\n",
      "/tmp/ipykernel_682895/273728966.py:5: FutureWarning: In a future version, `df.iloc[:, i] = newvals` will attempt to set the values inplace instead of always setting a new array. To retain the old behavior, use either `df[df.columns[i]] = newvals` or, if columns are non-unique, `df.isetitem(i, newvals)`\n",
      "  df.loc[:,[\"taxid\",\"superkingdom\",\"kingdom\",\"phylum\",\"order\",\"sci_name\",\"color\"]]=hgts\n",
      "/tmp/ipykernel_682895/273728966.py:5: FutureWarning: In a future version, `df.iloc[:, i] = newvals` will attempt to set the values inplace instead of always setting a new array. To retain the old behavior, use either `df[df.columns[i]] = newvals` or, if columns are non-unique, `df.isetitem(i, newvals)`\n",
      "  df.loc[:,[\"taxid\",\"superkingdom\",\"kingdom\",\"phylum\",\"order\",\"sci_name\",\"color\"]]=hgts\n"
     ]
    },
    {
     "name": "stdout",
     "output_type": "stream",
     "text": [
      "CRY93850.1\n"
     ]
    },
    {
     "name": "stderr",
     "output_type": "stream",
     "text": [
      "/tmp/ipykernel_682895/273728966.py:5: FutureWarning: In a future version, `df.iloc[:, i] = newvals` will attempt to set the values inplace instead of always setting a new array. To retain the old behavior, use either `df[df.columns[i]] = newvals` or, if columns are non-unique, `df.isetitem(i, newvals)`\n",
      "  df.loc[:,[\"taxid\",\"superkingdom\",\"kingdom\",\"phylum\",\"order\",\"sci_name\",\"color\"]]=hgts\n"
     ]
    },
    {
     "name": "stdout",
     "output_type": "stream",
     "text": [
      "BDA76956.1\n",
      "QSV51899.1\n",
      "AHZ97961.1\n"
     ]
    },
    {
     "name": "stderr",
     "output_type": "stream",
     "text": [
      "/tmp/ipykernel_682895/273728966.py:5: FutureWarning: In a future version, `df.iloc[:, i] = newvals` will attempt to set the values inplace instead of always setting a new array. To retain the old behavior, use either `df[df.columns[i]] = newvals` or, if columns are non-unique, `df.isetitem(i, newvals)`\n",
      "  df.loc[:,[\"taxid\",\"superkingdom\",\"kingdom\",\"phylum\",\"order\",\"sci_name\",\"color\"]]=hgts\n"
     ]
    },
    {
     "name": "stdout",
     "output_type": "stream",
     "text": [
      "pir|S38811|\n",
      "WP_106170182.1\n",
      "AFR53956.1\n",
      "QXV47503.1\n"
     ]
    },
    {
     "name": "stderr",
     "output_type": "stream",
     "text": [
      "/tmp/ipykernel_682895/273728966.py:5: FutureWarning: In a future version, `df.iloc[:, i] = newvals` will attempt to set the values inplace instead of always setting a new array. To retain the old behavior, use either `df[df.columns[i]] = newvals` or, if columns are non-unique, `df.isetitem(i, newvals)`\n",
      "  df.loc[:,[\"taxid\",\"superkingdom\",\"kingdom\",\"phylum\",\"order\",\"sci_name\",\"color\"]]=hgts\n",
      "/tmp/ipykernel_682895/273728966.py:5: FutureWarning: In a future version, `df.iloc[:, i] = newvals` will attempt to set the values inplace instead of always setting a new array. To retain the old behavior, use either `df[df.columns[i]] = newvals` or, if columns are non-unique, `df.isetitem(i, newvals)`\n",
      "  df.loc[:,[\"taxid\",\"superkingdom\",\"kingdom\",\"phylum\",\"order\",\"sci_name\",\"color\"]]=hgts\n",
      "/tmp/ipykernel_682895/273728966.py:5: FutureWarning: In a future version, `df.iloc[:, i] = newvals` will attempt to set the values inplace instead of always setting a new array. To retain the old behavior, use either `df[df.columns[i]] = newvals` or, if columns are non-unique, `df.isetitem(i, newvals)`\n",
      "  df.loc[:,[\"taxid\",\"superkingdom\",\"kingdom\",\"phylum\",\"order\",\"sci_name\",\"color\"]]=hgts\n",
      "/tmp/ipykernel_682895/273728966.py:5: FutureWarning: In a future version, `df.iloc[:, i] = newvals` will attempt to set the values inplace instead of always setting a new array. To retain the old behavior, use either `df[df.columns[i]] = newvals` or, if columns are non-unique, `df.isetitem(i, newvals)`\n",
      "  df.loc[:,[\"taxid\",\"superkingdom\",\"kingdom\",\"phylum\",\"order\",\"sci_name\",\"color\"]]=hgts\n",
      "/tmp/ipykernel_682895/273728966.py:5: FutureWarning: In a future version, `df.iloc[:, i] = newvals` will attempt to set the values inplace instead of always setting a new array. To retain the old behavior, use either `df[df.columns[i]] = newvals` or, if columns are non-unique, `df.isetitem(i, newvals)`\n",
      "  df.loc[:,[\"taxid\",\"superkingdom\",\"kingdom\",\"phylum\",\"order\",\"sci_name\",\"color\"]]=hgts\n"
     ]
    },
    {
     "name": "stdout",
     "output_type": "stream",
     "text": [
      "prf||2121219A\n"
     ]
    },
    {
     "name": "stderr",
     "output_type": "stream",
     "text": [
      "/tmp/ipykernel_682895/273728966.py:5: FutureWarning: In a future version, `df.iloc[:, i] = newvals` will attempt to set the values inplace instead of always setting a new array. To retain the old behavior, use either `df[df.columns[i]] = newvals` or, if columns are non-unique, `df.isetitem(i, newvals)`\n",
      "  df.loc[:,[\"taxid\",\"superkingdom\",\"kingdom\",\"phylum\",\"order\",\"sci_name\",\"color\"]]=hgts\n"
     ]
    },
    {
     "name": "stdout",
     "output_type": "stream",
     "text": [
      "WP_243864564.1\n"
     ]
    },
    {
     "name": "stderr",
     "output_type": "stream",
     "text": [
      "/tmp/ipykernel_682895/273728966.py:5: FutureWarning: In a future version, `df.iloc[:, i] = newvals` will attempt to set the values inplace instead of always setting a new array. To retain the old behavior, use either `df[df.columns[i]] = newvals` or, if columns are non-unique, `df.isetitem(i, newvals)`\n",
      "  df.loc[:,[\"taxid\",\"superkingdom\",\"kingdom\",\"phylum\",\"order\",\"sci_name\",\"color\"]]=hgts\n",
      "/tmp/ipykernel_682895/273728966.py:5: FutureWarning: In a future version, `df.iloc[:, i] = newvals` will attempt to set the values inplace instead of always setting a new array. To retain the old behavior, use either `df[df.columns[i]] = newvals` or, if columns are non-unique, `df.isetitem(i, newvals)`\n",
      "  df.loc[:,[\"taxid\",\"superkingdom\",\"kingdom\",\"phylum\",\"order\",\"sci_name\",\"color\"]]=hgts\n",
      "/tmp/ipykernel_682895/273728966.py:5: FutureWarning: In a future version, `df.iloc[:, i] = newvals` will attempt to set the values inplace instead of always setting a new array. To retain the old behavior, use either `df[df.columns[i]] = newvals` or, if columns are non-unique, `df.isetitem(i, newvals)`\n",
      "  df.loc[:,[\"taxid\",\"superkingdom\",\"kingdom\",\"phylum\",\"order\",\"sci_name\",\"color\"]]=hgts\n",
      "/tmp/ipykernel_682895/273728966.py:5: FutureWarning: In a future version, `df.iloc[:, i] = newvals` will attempt to set the values inplace instead of always setting a new array. To retain the old behavior, use either `df[df.columns[i]] = newvals` or, if columns are non-unique, `df.isetitem(i, newvals)`\n",
      "  df.loc[:,[\"taxid\",\"superkingdom\",\"kingdom\",\"phylum\",\"order\",\"sci_name\",\"color\"]]=hgts\n"
     ]
    },
    {
     "name": "stdout",
     "output_type": "stream",
     "text": [
      "WP_199756008.1\n",
      "MBE6761797.1\n"
     ]
    },
    {
     "name": "stderr",
     "output_type": "stream",
     "text": [
      "/tmp/ipykernel_682895/273728966.py:5: FutureWarning: In a future version, `df.iloc[:, i] = newvals` will attempt to set the values inplace instead of always setting a new array. To retain the old behavior, use either `df[df.columns[i]] = newvals` or, if columns are non-unique, `df.isetitem(i, newvals)`\n",
      "  df.loc[:,[\"taxid\",\"superkingdom\",\"kingdom\",\"phylum\",\"order\",\"sci_name\",\"color\"]]=hgts\n",
      "/tmp/ipykernel_682895/273728966.py:5: FutureWarning: In a future version, `df.iloc[:, i] = newvals` will attempt to set the values inplace instead of always setting a new array. To retain the old behavior, use either `df[df.columns[i]] = newvals` or, if columns are non-unique, `df.isetitem(i, newvals)`\n",
      "  df.loc[:,[\"taxid\",\"superkingdom\",\"kingdom\",\"phylum\",\"order\",\"sci_name\",\"color\"]]=hgts\n",
      "/tmp/ipykernel_682895/273728966.py:5: FutureWarning: In a future version, `df.iloc[:, i] = newvals` will attempt to set the values inplace instead of always setting a new array. To retain the old behavior, use either `df[df.columns[i]] = newvals` or, if columns are non-unique, `df.isetitem(i, newvals)`\n",
      "  df.loc[:,[\"taxid\",\"superkingdom\",\"kingdom\",\"phylum\",\"order\",\"sci_name\",\"color\"]]=hgts\n",
      "/tmp/ipykernel_682895/273728966.py:5: FutureWarning: In a future version, `df.iloc[:, i] = newvals` will attempt to set the values inplace instead of always setting a new array. To retain the old behavior, use either `df[df.columns[i]] = newvals` or, if columns are non-unique, `df.isetitem(i, newvals)`\n",
      "  df.loc[:,[\"taxid\",\"superkingdom\",\"kingdom\",\"phylum\",\"order\",\"sci_name\",\"color\"]]=hgts\n",
      "/tmp/ipykernel_682895/273728966.py:5: FutureWarning: In a future version, `df.iloc[:, i] = newvals` will attempt to set the values inplace instead of always setting a new array. To retain the old behavior, use either `df[df.columns[i]] = newvals` or, if columns are non-unique, `df.isetitem(i, newvals)`\n",
      "  df.loc[:,[\"taxid\",\"superkingdom\",\"kingdom\",\"phylum\",\"order\",\"sci_name\",\"color\"]]=hgts\n",
      "/tmp/ipykernel_682895/273728966.py:5: FutureWarning: In a future version, `df.iloc[:, i] = newvals` will attempt to set the values inplace instead of always setting a new array. To retain the old behavior, use either `df[df.columns[i]] = newvals` or, if columns are non-unique, `df.isetitem(i, newvals)`\n",
      "  df.loc[:,[\"taxid\",\"superkingdom\",\"kingdom\",\"phylum\",\"order\",\"sci_name\",\"color\"]]=hgts\n",
      "/tmp/ipykernel_682895/273728966.py:5: FutureWarning: In a future version, `df.iloc[:, i] = newvals` will attempt to set the values inplace instead of always setting a new array. To retain the old behavior, use either `df[df.columns[i]] = newvals` or, if columns are non-unique, `df.isetitem(i, newvals)`\n",
      "  df.loc[:,[\"taxid\",\"superkingdom\",\"kingdom\",\"phylum\",\"order\",\"sci_name\",\"color\"]]=hgts\n",
      "/tmp/ipykernel_682895/273728966.py:5: FutureWarning: In a future version, `df.iloc[:, i] = newvals` will attempt to set the values inplace instead of always setting a new array. To retain the old behavior, use either `df[df.columns[i]] = newvals` or, if columns are non-unique, `df.isetitem(i, newvals)`\n",
      "  df.loc[:,[\"taxid\",\"superkingdom\",\"kingdom\",\"phylum\",\"order\",\"sci_name\",\"color\"]]=hgts\n",
      "/tmp/ipykernel_682895/273728966.py:5: FutureWarning: In a future version, `df.iloc[:, i] = newvals` will attempt to set the values inplace instead of always setting a new array. To retain the old behavior, use either `df[df.columns[i]] = newvals` or, if columns are non-unique, `df.isetitem(i, newvals)`\n",
      "  df.loc[:,[\"taxid\",\"superkingdom\",\"kingdom\",\"phylum\",\"order\",\"sci_name\",\"color\"]]=hgts\n",
      "/tmp/ipykernel_682895/273728966.py:5: FutureWarning: In a future version, `df.iloc[:, i] = newvals` will attempt to set the values inplace instead of always setting a new array. To retain the old behavior, use either `df[df.columns[i]] = newvals` or, if columns are non-unique, `df.isetitem(i, newvals)`\n",
      "  df.loc[:,[\"taxid\",\"superkingdom\",\"kingdom\",\"phylum\",\"order\",\"sci_name\",\"color\"]]=hgts\n",
      "/tmp/ipykernel_682895/273728966.py:5: FutureWarning: In a future version, `df.iloc[:, i] = newvals` will attempt to set the values inplace instead of always setting a new array. To retain the old behavior, use either `df[df.columns[i]] = newvals` or, if columns are non-unique, `df.isetitem(i, newvals)`\n",
      "  df.loc[:,[\"taxid\",\"superkingdom\",\"kingdom\",\"phylum\",\"order\",\"sci_name\",\"color\"]]=hgts\n",
      "/tmp/ipykernel_682895/273728966.py:5: FutureWarning: In a future version, `df.iloc[:, i] = newvals` will attempt to set the values inplace instead of always setting a new array. To retain the old behavior, use either `df[df.columns[i]] = newvals` or, if columns are non-unique, `df.isetitem(i, newvals)`\n",
      "  df.loc[:,[\"taxid\",\"superkingdom\",\"kingdom\",\"phylum\",\"order\",\"sci_name\",\"color\"]]=hgts\n"
     ]
    },
    {
     "name": "stdout",
     "output_type": "stream",
     "text": [
      "HBW63721.1\n"
     ]
    },
    {
     "name": "stderr",
     "output_type": "stream",
     "text": [
      "/tmp/ipykernel_682895/273728966.py:5: FutureWarning: In a future version, `df.iloc[:, i] = newvals` will attempt to set the values inplace instead of always setting a new array. To retain the old behavior, use either `df[df.columns[i]] = newvals` or, if columns are non-unique, `df.isetitem(i, newvals)`\n",
      "  df.loc[:,[\"taxid\",\"superkingdom\",\"kingdom\",\"phylum\",\"order\",\"sci_name\",\"color\"]]=hgts\n",
      "/tmp/ipykernel_682895/273728966.py:5: FutureWarning: In a future version, `df.iloc[:, i] = newvals` will attempt to set the values inplace instead of always setting a new array. To retain the old behavior, use either `df[df.columns[i]] = newvals` or, if columns are non-unique, `df.isetitem(i, newvals)`\n",
      "  df.loc[:,[\"taxid\",\"superkingdom\",\"kingdom\",\"phylum\",\"order\",\"sci_name\",\"color\"]]=hgts\n"
     ]
    },
    {
     "name": "stdout",
     "output_type": "stream",
     "text": [
      "SJL87863.1\n",
      "SJL86761.1\n",
      "SJL87854.1SJL87857.1\n",
      "\n",
      "SJL87851.1\n"
     ]
    },
    {
     "name": "stderr",
     "output_type": "stream",
     "text": [
      "/tmp/ipykernel_682895/273728966.py:5: FutureWarning: In a future version, `df.iloc[:, i] = newvals` will attempt to set the values inplace instead of always setting a new array. To retain the old behavior, use either `df[df.columns[i]] = newvals` or, if columns are non-unique, `df.isetitem(i, newvals)`\n",
      "  df.loc[:,[\"taxid\",\"superkingdom\",\"kingdom\",\"phylum\",\"order\",\"sci_name\",\"color\"]]=hgts\n"
     ]
    },
    {
     "name": "stdout",
     "output_type": "stream",
     "text": [
      "MBE6799352.1\n",
      "SJL87481.1\n",
      "SJL87560.1\n"
     ]
    },
    {
     "name": "stderr",
     "output_type": "stream",
     "text": [
      "/tmp/ipykernel_682895/273728966.py:5: FutureWarning: In a future version, `df.iloc[:, i] = newvals` will attempt to set the values inplace instead of always setting a new array. To retain the old behavior, use either `df[df.columns[i]] = newvals` or, if columns are non-unique, `df.isetitem(i, newvals)`\n",
      "  df.loc[:,[\"taxid\",\"superkingdom\",\"kingdom\",\"phylum\",\"order\",\"sci_name\",\"color\"]]=hgts\n",
      "/tmp/ipykernel_682895/273728966.py:5: FutureWarning: In a future version, `df.iloc[:, i] = newvals` will attempt to set the values inplace instead of always setting a new array. To retain the old behavior, use either `df[df.columns[i]] = newvals` or, if columns are non-unique, `df.isetitem(i, newvals)`\n",
      "  df.loc[:,[\"taxid\",\"superkingdom\",\"kingdom\",\"phylum\",\"order\",\"sci_name\",\"color\"]]=hgts\n",
      "/tmp/ipykernel_682895/273728966.py:5: FutureWarning: In a future version, `df.iloc[:, i] = newvals` will attempt to set the values inplace instead of always setting a new array. To retain the old behavior, use either `df[df.columns[i]] = newvals` or, if columns are non-unique, `df.isetitem(i, newvals)`\n",
      "  df.loc[:,[\"taxid\",\"superkingdom\",\"kingdom\",\"phylum\",\"order\",\"sci_name\",\"color\"]]=hgts\n",
      "/tmp/ipykernel_682895/273728966.py:5: FutureWarning: In a future version, `df.iloc[:, i] = newvals` will attempt to set the values inplace instead of always setting a new array. To retain the old behavior, use either `df[df.columns[i]] = newvals` or, if columns are non-unique, `df.isetitem(i, newvals)`\n",
      "  df.loc[:,[\"taxid\",\"superkingdom\",\"kingdom\",\"phylum\",\"order\",\"sci_name\",\"color\"]]=hgts\n",
      "/tmp/ipykernel_682895/273728966.py:5: FutureWarning: In a future version, `df.iloc[:, i] = newvals` will attempt to set the values inplace instead of always setting a new array. To retain the old behavior, use either `df[df.columns[i]] = newvals` or, if columns are non-unique, `df.isetitem(i, newvals)`\n",
      "  df.loc[:,[\"taxid\",\"superkingdom\",\"kingdom\",\"phylum\",\"order\",\"sci_name\",\"color\"]]=hgts\n",
      "/tmp/ipykernel_682895/273728966.py:5: FutureWarning: In a future version, `df.iloc[:, i] = newvals` will attempt to set the values inplace instead of always setting a new array. To retain the old behavior, use either `df[df.columns[i]] = newvals` or, if columns are non-unique, `df.isetitem(i, newvals)`\n",
      "  df.loc[:,[\"taxid\",\"superkingdom\",\"kingdom\",\"phylum\",\"order\",\"sci_name\",\"color\"]]=hgts\n",
      "/tmp/ipykernel_682895/273728966.py:5: FutureWarning: In a future version, `df.iloc[:, i] = newvals` will attempt to set the values inplace instead of always setting a new array. To retain the old behavior, use either `df[df.columns[i]] = newvals` or, if columns are non-unique, `df.isetitem(i, newvals)`\n",
      "  df.loc[:,[\"taxid\",\"superkingdom\",\"kingdom\",\"phylum\",\"order\",\"sci_name\",\"color\"]]=hgts\n",
      "/tmp/ipykernel_682895/273728966.py:5: FutureWarning: In a future version, `df.iloc[:, i] = newvals` will attempt to set the values inplace instead of always setting a new array. To retain the old behavior, use either `df[df.columns[i]] = newvals` or, if columns are non-unique, `df.isetitem(i, newvals)`\n",
      "  df.loc[:,[\"taxid\",\"superkingdom\",\"kingdom\",\"phylum\",\"order\",\"sci_name\",\"color\"]]=hgts\n",
      "/tmp/ipykernel_682895/273728966.py:5: FutureWarning: In a future version, `df.iloc[:, i] = newvals` will attempt to set the values inplace instead of always setting a new array. To retain the old behavior, use either `df[df.columns[i]] = newvals` or, if columns are non-unique, `df.isetitem(i, newvals)`\n",
      "  df.loc[:,[\"taxid\",\"superkingdom\",\"kingdom\",\"phylum\",\"order\",\"sci_name\",\"color\"]]=hgts\n",
      "/tmp/ipykernel_682895/273728966.py:5: FutureWarning: In a future version, `df.iloc[:, i] = newvals` will attempt to set the values inplace instead of always setting a new array. To retain the old behavior, use either `df[df.columns[i]] = newvals` or, if columns are non-unique, `df.isetitem(i, newvals)`\n",
      "  df.loc[:,[\"taxid\",\"superkingdom\",\"kingdom\",\"phylum\",\"order\",\"sci_name\",\"color\"]]=hgts\n",
      "/tmp/ipykernel_682895/273728966.py:5: FutureWarning: In a future version, `df.iloc[:, i] = newvals` will attempt to set the values inplace instead of always setting a new array. To retain the old behavior, use either `df[df.columns[i]] = newvals` or, if columns are non-unique, `df.isetitem(i, newvals)`\n",
      "  df.loc[:,[\"taxid\",\"superkingdom\",\"kingdom\",\"phylum\",\"order\",\"sci_name\",\"color\"]]=hgts\n"
     ]
    },
    {
     "name": "stdout",
     "output_type": "stream",
     "text": [
      "pir|B84500|\n",
      "MCF8701928.1\n",
      "prf||1107279B\n"
     ]
    },
    {
     "name": "stderr",
     "output_type": "stream",
     "text": [
      "/tmp/ipykernel_682895/273728966.py:5: FutureWarning: In a future version, `df.iloc[:, i] = newvals` will attempt to set the values inplace instead of always setting a new array. To retain the old behavior, use either `df[df.columns[i]] = newvals` or, if columns are non-unique, `df.isetitem(i, newvals)`\n",
      "  df.loc[:,[\"taxid\",\"superkingdom\",\"kingdom\",\"phylum\",\"order\",\"sci_name\",\"color\"]]=hgts\n",
      "/tmp/ipykernel_682895/273728966.py:5: FutureWarning: In a future version, `df.iloc[:, i] = newvals` will attempt to set the values inplace instead of always setting a new array. To retain the old behavior, use either `df[df.columns[i]] = newvals` or, if columns are non-unique, `df.isetitem(i, newvals)`\n",
      "  df.loc[:,[\"taxid\",\"superkingdom\",\"kingdom\",\"phylum\",\"order\",\"sci_name\",\"color\"]]=hgts\n",
      "/tmp/ipykernel_682895/273728966.py:5: FutureWarning: In a future version, `df.iloc[:, i] = newvals` will attempt to set the values inplace instead of always setting a new array. To retain the old behavior, use either `df[df.columns[i]] = newvals` or, if columns are non-unique, `df.isetitem(i, newvals)`\n",
      "  df.loc[:,[\"taxid\",\"superkingdom\",\"kingdom\",\"phylum\",\"order\",\"sci_name\",\"color\"]]=hgts\n",
      "/tmp/ipykernel_682895/273728966.py:5: FutureWarning: In a future version, `df.iloc[:, i] = newvals` will attempt to set the values inplace instead of always setting a new array. To retain the old behavior, use either `df[df.columns[i]] = newvals` or, if columns are non-unique, `df.isetitem(i, newvals)`\n",
      "  df.loc[:,[\"taxid\",\"superkingdom\",\"kingdom\",\"phylum\",\"order\",\"sci_name\",\"color\"]]=hgts\n",
      "/tmp/ipykernel_682895/273728966.py:5: FutureWarning: In a future version, `df.iloc[:, i] = newvals` will attempt to set the values inplace instead of always setting a new array. To retain the old behavior, use either `df[df.columns[i]] = newvals` or, if columns are non-unique, `df.isetitem(i, newvals)`\n",
      "  df.loc[:,[\"taxid\",\"superkingdom\",\"kingdom\",\"phylum\",\"order\",\"sci_name\",\"color\"]]=hgts\n",
      "/tmp/ipykernel_682895/273728966.py:5: FutureWarning: In a future version, `df.iloc[:, i] = newvals` will attempt to set the values inplace instead of always setting a new array. To retain the old behavior, use either `df[df.columns[i]] = newvals` or, if columns are non-unique, `df.isetitem(i, newvals)`\n",
      "  df.loc[:,[\"taxid\",\"superkingdom\",\"kingdom\",\"phylum\",\"order\",\"sci_name\",\"color\"]]=hgts\n",
      "/tmp/ipykernel_682895/273728966.py:5: FutureWarning: In a future version, `df.iloc[:, i] = newvals` will attempt to set the values inplace instead of always setting a new array. To retain the old behavior, use either `df[df.columns[i]] = newvals` or, if columns are non-unique, `df.isetitem(i, newvals)`\n",
      "  df.loc[:,[\"taxid\",\"superkingdom\",\"kingdom\",\"phylum\",\"order\",\"sci_name\",\"color\"]]=hgts\n",
      "/tmp/ipykernel_682895/273728966.py:5: FutureWarning: In a future version, `df.iloc[:, i] = newvals` will attempt to set the values inplace instead of always setting a new array. To retain the old behavior, use either `df[df.columns[i]] = newvals` or, if columns are non-unique, `df.isetitem(i, newvals)`\n",
      "  df.loc[:,[\"taxid\",\"superkingdom\",\"kingdom\",\"phylum\",\"order\",\"sci_name\",\"color\"]]=hgts\n",
      "/tmp/ipykernel_682895/273728966.py:5: FutureWarning: In a future version, `df.iloc[:, i] = newvals` will attempt to set the values inplace instead of always setting a new array. To retain the old behavior, use either `df[df.columns[i]] = newvals` or, if columns are non-unique, `df.isetitem(i, newvals)`\n",
      "  df.loc[:,[\"taxid\",\"superkingdom\",\"kingdom\",\"phylum\",\"order\",\"sci_name\",\"color\"]]=hgts\n"
     ]
    },
    {
     "name": "stdout",
     "output_type": "stream",
     "text": [
      "pir|S22293|\n"
     ]
    },
    {
     "name": "stderr",
     "output_type": "stream",
     "text": [
      "/tmp/ipykernel_682895/273728966.py:5: FutureWarning: In a future version, `df.iloc[:, i] = newvals` will attempt to set the values inplace instead of always setting a new array. To retain the old behavior, use either `df[df.columns[i]] = newvals` or, if columns are non-unique, `df.isetitem(i, newvals)`\n",
      "  df.loc[:,[\"taxid\",\"superkingdom\",\"kingdom\",\"phylum\",\"order\",\"sci_name\",\"color\"]]=hgts\n"
     ]
    },
    {
     "name": "stdout",
     "output_type": "stream",
     "text": [
      "QIR82180.1\n",
      "ALC76156.1\n",
      "CRY97241.1\n",
      "QGF19362.1\n",
      "ALC76159.1\n"
     ]
    },
    {
     "name": "stderr",
     "output_type": "stream",
     "text": [
      "/tmp/ipykernel_682895/273728966.py:5: FutureWarning: In a future version, `df.iloc[:, i] = newvals` will attempt to set the values inplace instead of always setting a new array. To retain the old behavior, use either `df[df.columns[i]] = newvals` or, if columns are non-unique, `df.isetitem(i, newvals)`\n",
      "  df.loc[:,[\"taxid\",\"superkingdom\",\"kingdom\",\"phylum\",\"order\",\"sci_name\",\"color\"]]=hgts\n",
      "/tmp/ipykernel_682895/273728966.py:5: FutureWarning: In a future version, `df.iloc[:, i] = newvals` will attempt to set the values inplace instead of always setting a new array. To retain the old behavior, use either `df[df.columns[i]] = newvals` or, if columns are non-unique, `df.isetitem(i, newvals)`\n",
      "  df.loc[:,[\"taxid\",\"superkingdom\",\"kingdom\",\"phylum\",\"order\",\"sci_name\",\"color\"]]=hgts\n",
      "/tmp/ipykernel_682895/273728966.py:5: FutureWarning: In a future version, `df.iloc[:, i] = newvals` will attempt to set the values inplace instead of always setting a new array. To retain the old behavior, use either `df[df.columns[i]] = newvals` or, if columns are non-unique, `df.isetitem(i, newvals)`\n",
      "  df.loc[:,[\"taxid\",\"superkingdom\",\"kingdom\",\"phylum\",\"order\",\"sci_name\",\"color\"]]=hgts\n",
      "/tmp/ipykernel_682895/273728966.py:5: FutureWarning: In a future version, `df.iloc[:, i] = newvals` will attempt to set the values inplace instead of always setting a new array. To retain the old behavior, use either `df[df.columns[i]] = newvals` or, if columns are non-unique, `df.isetitem(i, newvals)`\n",
      "  df.loc[:,[\"taxid\",\"superkingdom\",\"kingdom\",\"phylum\",\"order\",\"sci_name\",\"color\"]]=hgts\n"
     ]
    },
    {
     "name": "stdout",
     "output_type": "stream",
     "text": [
      "DAK69929.1\n"
     ]
    },
    {
     "name": "stderr",
     "output_type": "stream",
     "text": [
      "/tmp/ipykernel_682895/273728966.py:5: FutureWarning: In a future version, `df.iloc[:, i] = newvals` will attempt to set the values inplace instead of always setting a new array. To retain the old behavior, use either `df[df.columns[i]] = newvals` or, if columns are non-unique, `df.isetitem(i, newvals)`\n",
      "  df.loc[:,[\"taxid\",\"superkingdom\",\"kingdom\",\"phylum\",\"order\",\"sci_name\",\"color\"]]=hgts\n",
      "/tmp/ipykernel_682895/273728966.py:5: FutureWarning: In a future version, `df.iloc[:, i] = newvals` will attempt to set the values inplace instead of always setting a new array. To retain the old behavior, use either `df[df.columns[i]] = newvals` or, if columns are non-unique, `df.isetitem(i, newvals)`\n",
      "  df.loc[:,[\"taxid\",\"superkingdom\",\"kingdom\",\"phylum\",\"order\",\"sci_name\",\"color\"]]=hgts\n",
      "/tmp/ipykernel_682895/273728966.py:5: FutureWarning: In a future version, `df.iloc[:, i] = newvals` will attempt to set the values inplace instead of always setting a new array. To retain the old behavior, use either `df[df.columns[i]] = newvals` or, if columns are non-unique, `df.isetitem(i, newvals)`\n",
      "  df.loc[:,[\"taxid\",\"superkingdom\",\"kingdom\",\"phylum\",\"order\",\"sci_name\",\"color\"]]=hgts\n",
      "/tmp/ipykernel_682895/273728966.py:5: FutureWarning: In a future version, `df.iloc[:, i] = newvals` will attempt to set the values inplace instead of always setting a new array. To retain the old behavior, use either `df[df.columns[i]] = newvals` or, if columns are non-unique, `df.isetitem(i, newvals)`\n",
      "  df.loc[:,[\"taxid\",\"superkingdom\",\"kingdom\",\"phylum\",\"order\",\"sci_name\",\"color\"]]=hgts\n"
     ]
    },
    {
     "name": "stdout",
     "output_type": "stream",
     "text": [
      "MBE6698785.1\n"
     ]
    },
    {
     "name": "stderr",
     "output_type": "stream",
     "text": [
      "/tmp/ipykernel_682895/273728966.py:5: FutureWarning: In a future version, `df.iloc[:, i] = newvals` will attempt to set the values inplace instead of always setting a new array. To retain the old behavior, use either `df[df.columns[i]] = newvals` or, if columns are non-unique, `df.isetitem(i, newvals)`\n",
      "  df.loc[:,[\"taxid\",\"superkingdom\",\"kingdom\",\"phylum\",\"order\",\"sci_name\",\"color\"]]=hgts\n"
     ]
    },
    {
     "name": "stdout",
     "output_type": "stream",
     "text": [
      "MBH8560799.1\n"
     ]
    },
    {
     "name": "stderr",
     "output_type": "stream",
     "text": [
      "/tmp/ipykernel_682895/273728966.py:5: FutureWarning: In a future version, `df.iloc[:, i] = newvals` will attempt to set the values inplace instead of always setting a new array. To retain the old behavior, use either `df[df.columns[i]] = newvals` or, if columns are non-unique, `df.isetitem(i, newvals)`\n",
      "  df.loc[:,[\"taxid\",\"superkingdom\",\"kingdom\",\"phylum\",\"order\",\"sci_name\",\"color\"]]=hgts\n",
      "/tmp/ipykernel_682895/273728966.py:5: FutureWarning: In a future version, `df.iloc[:, i] = newvals` will attempt to set the values inplace instead of always setting a new array. To retain the old behavior, use either `df[df.columns[i]] = newvals` or, if columns are non-unique, `df.isetitem(i, newvals)`\n",
      "  df.loc[:,[\"taxid\",\"superkingdom\",\"kingdom\",\"phylum\",\"order\",\"sci_name\",\"color\"]]=hgts\n",
      "/tmp/ipykernel_682895/273728966.py:5: FutureWarning: In a future version, `df.iloc[:, i] = newvals` will attempt to set the values inplace instead of always setting a new array. To retain the old behavior, use either `df[df.columns[i]] = newvals` or, if columns are non-unique, `df.isetitem(i, newvals)`\n",
      "  df.loc[:,[\"taxid\",\"superkingdom\",\"kingdom\",\"phylum\",\"order\",\"sci_name\",\"color\"]]=hgts\n",
      "/tmp/ipykernel_682895/273728966.py:5: FutureWarning: In a future version, `df.iloc[:, i] = newvals` will attempt to set the values inplace instead of always setting a new array. To retain the old behavior, use either `df[df.columns[i]] = newvals` or, if columns are non-unique, `df.isetitem(i, newvals)`\n",
      "  df.loc[:,[\"taxid\",\"superkingdom\",\"kingdom\",\"phylum\",\"order\",\"sci_name\",\"color\"]]=hgts\n",
      "/tmp/ipykernel_682895/273728966.py:5: FutureWarning: In a future version, `df.iloc[:, i] = newvals` will attempt to set the values inplace instead of always setting a new array. To retain the old behavior, use either `df[df.columns[i]] = newvals` or, if columns are non-unique, `df.isetitem(i, newvals)`\n",
      "  df.loc[:,[\"taxid\",\"superkingdom\",\"kingdom\",\"phylum\",\"order\",\"sci_name\",\"color\"]]=hgts\n",
      "/tmp/ipykernel_682895/273728966.py:5: FutureWarning: In a future version, `df.iloc[:, i] = newvals` will attempt to set the values inplace instead of always setting a new array. To retain the old behavior, use either `df[df.columns[i]] = newvals` or, if columns are non-unique, `df.isetitem(i, newvals)`\n",
      "  df.loc[:,[\"taxid\",\"superkingdom\",\"kingdom\",\"phylum\",\"order\",\"sci_name\",\"color\"]]=hgts\n",
      "/tmp/ipykernel_682895/273728966.py:5: FutureWarning: In a future version, `df.iloc[:, i] = newvals` will attempt to set the values inplace instead of always setting a new array. To retain the old behavior, use either `df[df.columns[i]] = newvals` or, if columns are non-unique, `df.isetitem(i, newvals)`\n",
      "  df.loc[:,[\"taxid\",\"superkingdom\",\"kingdom\",\"phylum\",\"order\",\"sci_name\",\"color\"]]=hgts\n",
      "/tmp/ipykernel_682895/273728966.py:5: FutureWarning: In a future version, `df.iloc[:, i] = newvals` will attempt to set the values inplace instead of always setting a new array. To retain the old behavior, use either `df[df.columns[i]] = newvals` or, if columns are non-unique, `df.isetitem(i, newvals)`\n",
      "  df.loc[:,[\"taxid\",\"superkingdom\",\"kingdom\",\"phylum\",\"order\",\"sci_name\",\"color\"]]=hgts\n",
      "/tmp/ipykernel_682895/273728966.py:5: FutureWarning: In a future version, `df.iloc[:, i] = newvals` will attempt to set the values inplace instead of always setting a new array. To retain the old behavior, use either `df[df.columns[i]] = newvals` or, if columns are non-unique, `df.isetitem(i, newvals)`\n",
      "  df.loc[:,[\"taxid\",\"superkingdom\",\"kingdom\",\"phylum\",\"order\",\"sci_name\",\"color\"]]=hgts\n",
      "/tmp/ipykernel_682895/273728966.py:5: FutureWarning: In a future version, `df.iloc[:, i] = newvals` will attempt to set the values inplace instead of always setting a new array. To retain the old behavior, use either `df[df.columns[i]] = newvals` or, if columns are non-unique, `df.isetitem(i, newvals)`\n",
      "  df.loc[:,[\"taxid\",\"superkingdom\",\"kingdom\",\"phylum\",\"order\",\"sci_name\",\"color\"]]=hgts\n",
      "/tmp/ipykernel_682895/273728966.py:5: FutureWarning: In a future version, `df.iloc[:, i] = newvals` will attempt to set the values inplace instead of always setting a new array. To retain the old behavior, use either `df[df.columns[i]] = newvals` or, if columns are non-unique, `df.isetitem(i, newvals)`\n",
      "  df.loc[:,[\"taxid\",\"superkingdom\",\"kingdom\",\"phylum\",\"order\",\"sci_name\",\"color\"]]=hgts\n"
     ]
    },
    {
     "name": "stdout",
     "output_type": "stream",
     "text": [
      "pir|G89007|\n",
      "WP_221565183.1\n",
      "SBS70265.1\n"
     ]
    },
    {
     "name": "stderr",
     "output_type": "stream",
     "text": [
      "/tmp/ipykernel_682895/273728966.py:5: FutureWarning: In a future version, `df.iloc[:, i] = newvals` will attempt to set the values inplace instead of always setting a new array. To retain the old behavior, use either `df[df.columns[i]] = newvals` or, if columns are non-unique, `df.isetitem(i, newvals)`\n",
      "  df.loc[:,[\"taxid\",\"superkingdom\",\"kingdom\",\"phylum\",\"order\",\"sci_name\",\"color\"]]=hgts\n",
      "/tmp/ipykernel_682895/273728966.py:5: FutureWarning: In a future version, `df.iloc[:, i] = newvals` will attempt to set the values inplace instead of always setting a new array. To retain the old behavior, use either `df[df.columns[i]] = newvals` or, if columns are non-unique, `df.isetitem(i, newvals)`\n",
      "  df.loc[:,[\"taxid\",\"superkingdom\",\"kingdom\",\"phylum\",\"order\",\"sci_name\",\"color\"]]=hgts\n",
      "/tmp/ipykernel_682895/273728966.py:5: FutureWarning: In a future version, `df.iloc[:, i] = newvals` will attempt to set the values inplace instead of always setting a new array. To retain the old behavior, use either `df[df.columns[i]] = newvals` or, if columns are non-unique, `df.isetitem(i, newvals)`\n",
      "  df.loc[:,[\"taxid\",\"superkingdom\",\"kingdom\",\"phylum\",\"order\",\"sci_name\",\"color\"]]=hgts\n",
      "/tmp/ipykernel_682895/273728966.py:5: FutureWarning: In a future version, `df.iloc[:, i] = newvals` will attempt to set the values inplace instead of always setting a new array. To retain the old behavior, use either `df[df.columns[i]] = newvals` or, if columns are non-unique, `df.isetitem(i, newvals)`\n",
      "  df.loc[:,[\"taxid\",\"superkingdom\",\"kingdom\",\"phylum\",\"order\",\"sci_name\",\"color\"]]=hgts\n",
      "/tmp/ipykernel_682895/273728966.py:5: FutureWarning: In a future version, `df.iloc[:, i] = newvals` will attempt to set the values inplace instead of always setting a new array. To retain the old behavior, use either `df[df.columns[i]] = newvals` or, if columns are non-unique, `df.isetitem(i, newvals)`\n",
      "  df.loc[:,[\"taxid\",\"superkingdom\",\"kingdom\",\"phylum\",\"order\",\"sci_name\",\"color\"]]=hgts\n"
     ]
    },
    {
     "name": "stdout",
     "output_type": "stream",
     "text": [
      "DAK69929.1\n",
      "WP_244896703.1\n"
     ]
    },
    {
     "name": "stderr",
     "output_type": "stream",
     "text": [
      "/tmp/ipykernel_682895/273728966.py:5: FutureWarning: In a future version, `df.iloc[:, i] = newvals` will attempt to set the values inplace instead of always setting a new array. To retain the old behavior, use either `df[df.columns[i]] = newvals` or, if columns are non-unique, `df.isetitem(i, newvals)`\n",
      "  df.loc[:,[\"taxid\",\"superkingdom\",\"kingdom\",\"phylum\",\"order\",\"sci_name\",\"color\"]]=hgts\n",
      "/tmp/ipykernel_682895/273728966.py:5: FutureWarning: In a future version, `df.iloc[:, i] = newvals` will attempt to set the values inplace instead of always setting a new array. To retain the old behavior, use either `df[df.columns[i]] = newvals` or, if columns are non-unique, `df.isetitem(i, newvals)`\n",
      "  df.loc[:,[\"taxid\",\"superkingdom\",\"kingdom\",\"phylum\",\"order\",\"sci_name\",\"color\"]]=hgts\n",
      "/tmp/ipykernel_682895/273728966.py:5: FutureWarning: In a future version, `df.iloc[:, i] = newvals` will attempt to set the values inplace instead of always setting a new array. To retain the old behavior, use either `df[df.columns[i]] = newvals` or, if columns are non-unique, `df.isetitem(i, newvals)`\n",
      "  df.loc[:,[\"taxid\",\"superkingdom\",\"kingdom\",\"phylum\",\"order\",\"sci_name\",\"color\"]]=hgts\n",
      "/tmp/ipykernel_682895/273728966.py:5: FutureWarning: In a future version, `df.iloc[:, i] = newvals` will attempt to set the values inplace instead of always setting a new array. To retain the old behavior, use either `df[df.columns[i]] = newvals` or, if columns are non-unique, `df.isetitem(i, newvals)`\n",
      "  df.loc[:,[\"taxid\",\"superkingdom\",\"kingdom\",\"phylum\",\"order\",\"sci_name\",\"color\"]]=hgts\n",
      "/tmp/ipykernel_682895/273728966.py:5: FutureWarning: In a future version, `df.iloc[:, i] = newvals` will attempt to set the values inplace instead of always setting a new array. To retain the old behavior, use either `df[df.columns[i]] = newvals` or, if columns are non-unique, `df.isetitem(i, newvals)`\n",
      "  df.loc[:,[\"taxid\",\"superkingdom\",\"kingdom\",\"phylum\",\"order\",\"sci_name\",\"color\"]]=hgts\n"
     ]
    },
    {
     "name": "stdout",
     "output_type": "stream",
     "text": [
      "XP_050048162.1\n"
     ]
    },
    {
     "name": "stderr",
     "output_type": "stream",
     "text": [
      "/tmp/ipykernel_682895/273728966.py:5: FutureWarning: In a future version, `df.iloc[:, i] = newvals` will attempt to set the values inplace instead of always setting a new array. To retain the old behavior, use either `df[df.columns[i]] = newvals` or, if columns are non-unique, `df.isetitem(i, newvals)`\n",
      "  df.loc[:,[\"taxid\",\"superkingdom\",\"kingdom\",\"phylum\",\"order\",\"sci_name\",\"color\"]]=hgts\n"
     ]
    },
    {
     "name": "stdout",
     "output_type": "stream",
     "text": [
      "MBE7013699.1\n",
      "WP_170215940.1\n",
      "pir|S54987|\n",
      "pir|S54991|\n",
      "pir|S54990|\n",
      "pir|S54988|\n",
      "pir|S54995|\n",
      "pir|B56679|\n"
     ]
    },
    {
     "name": "stderr",
     "output_type": "stream",
     "text": [
      "/tmp/ipykernel_682895/273728966.py:5: FutureWarning: In a future version, `df.iloc[:, i] = newvals` will attempt to set the values inplace instead of always setting a new array. To retain the old behavior, use either `df[df.columns[i]] = newvals` or, if columns are non-unique, `df.isetitem(i, newvals)`\n",
      "  df.loc[:,[\"taxid\",\"superkingdom\",\"kingdom\",\"phylum\",\"order\",\"sci_name\",\"color\"]]=hgts\n",
      "/tmp/ipykernel_682895/273728966.py:5: FutureWarning: In a future version, `df.iloc[:, i] = newvals` will attempt to set the values inplace instead of always setting a new array. To retain the old behavior, use either `df[df.columns[i]] = newvals` or, if columns are non-unique, `df.isetitem(i, newvals)`\n",
      "  df.loc[:,[\"taxid\",\"superkingdom\",\"kingdom\",\"phylum\",\"order\",\"sci_name\",\"color\"]]=hgts\n",
      "/tmp/ipykernel_682895/273728966.py:5: FutureWarning: In a future version, `df.iloc[:, i] = newvals` will attempt to set the values inplace instead of always setting a new array. To retain the old behavior, use either `df[df.columns[i]] = newvals` or, if columns are non-unique, `df.isetitem(i, newvals)`\n",
      "  df.loc[:,[\"taxid\",\"superkingdom\",\"kingdom\",\"phylum\",\"order\",\"sci_name\",\"color\"]]=hgts\n"
     ]
    },
    {
     "name": "stdout",
     "output_type": "stream",
     "text": [
      "MBL3675340.1\n",
      "NNH78043.1\n",
      "pir|S54990|\n",
      "pir|S54995|\n",
      "pir|S54997|\n",
      "pir|S54987|\n",
      "pir|S54988|\n"
     ]
    },
    {
     "name": "stderr",
     "output_type": "stream",
     "text": [
      "/tmp/ipykernel_682895/273728966.py:5: FutureWarning: In a future version, `df.iloc[:, i] = newvals` will attempt to set the values inplace instead of always setting a new array. To retain the old behavior, use either `df[df.columns[i]] = newvals` or, if columns are non-unique, `df.isetitem(i, newvals)`\n",
      "  df.loc[:,[\"taxid\",\"superkingdom\",\"kingdom\",\"phylum\",\"order\",\"sci_name\",\"color\"]]=hgts\n"
     ]
    },
    {
     "name": "stdout",
     "output_type": "stream",
     "text": [
      "MBD5114801.1\n"
     ]
    },
    {
     "name": "stderr",
     "output_type": "stream",
     "text": [
      "/tmp/ipykernel_682895/273728966.py:5: FutureWarning: In a future version, `df.iloc[:, i] = newvals` will attempt to set the values inplace instead of always setting a new array. To retain the old behavior, use either `df[df.columns[i]] = newvals` or, if columns are non-unique, `df.isetitem(i, newvals)`\n",
      "  df.loc[:,[\"taxid\",\"superkingdom\",\"kingdom\",\"phylum\",\"order\",\"sci_name\",\"color\"]]=hgts\n",
      "/tmp/ipykernel_682895/273728966.py:5: FutureWarning: In a future version, `df.iloc[:, i] = newvals` will attempt to set the values inplace instead of always setting a new array. To retain the old behavior, use either `df[df.columns[i]] = newvals` or, if columns are non-unique, `df.isetitem(i, newvals)`\n",
      "  df.loc[:,[\"taxid\",\"superkingdom\",\"kingdom\",\"phylum\",\"order\",\"sci_name\",\"color\"]]=hgts\n"
     ]
    },
    {
     "name": "stdout",
     "output_type": "stream",
     "text": [
      "MBE6801969.1\n",
      "CAG8998987.1\n"
     ]
    },
    {
     "name": "stderr",
     "output_type": "stream",
     "text": [
      "/tmp/ipykernel_682895/273728966.py:5: FutureWarning: In a future version, `df.iloc[:, i] = newvals` will attempt to set the values inplace instead of always setting a new array. To retain the old behavior, use either `df[df.columns[i]] = newvals` or, if columns are non-unique, `df.isetitem(i, newvals)`\n",
      "  df.loc[:,[\"taxid\",\"superkingdom\",\"kingdom\",\"phylum\",\"order\",\"sci_name\",\"color\"]]=hgts\n",
      "/tmp/ipykernel_682895/273728966.py:5: FutureWarning: In a future version, `df.iloc[:, i] = newvals` will attempt to set the values inplace instead of always setting a new array. To retain the old behavior, use either `df[df.columns[i]] = newvals` or, if columns are non-unique, `df.isetitem(i, newvals)`\n",
      "  df.loc[:,[\"taxid\",\"superkingdom\",\"kingdom\",\"phylum\",\"order\",\"sci_name\",\"color\"]]=hgts\n",
      "/tmp/ipykernel_682895/273728966.py:5: FutureWarning: In a future version, `df.iloc[:, i] = newvals` will attempt to set the values inplace instead of always setting a new array. To retain the old behavior, use either `df[df.columns[i]] = newvals` or, if columns are non-unique, `df.isetitem(i, newvals)`\n",
      "  df.loc[:,[\"taxid\",\"superkingdom\",\"kingdom\",\"phylum\",\"order\",\"sci_name\",\"color\"]]=hgts\n"
     ]
    },
    {
     "name": "stdout",
     "output_type": "stream",
     "text": [
      "WP_127023951.1\n"
     ]
    },
    {
     "name": "stderr",
     "output_type": "stream",
     "text": [
      "/tmp/ipykernel_682895/273728966.py:5: FutureWarning: In a future version, `df.iloc[:, i] = newvals` will attempt to set the values inplace instead of always setting a new array. To retain the old behavior, use either `df[df.columns[i]] = newvals` or, if columns are non-unique, `df.isetitem(i, newvals)`\n",
      "  df.loc[:,[\"taxid\",\"superkingdom\",\"kingdom\",\"phylum\",\"order\",\"sci_name\",\"color\"]]=hgts\n"
     ]
    },
    {
     "name": "stdout",
     "output_type": "stream",
     "text": [
      "WGH58587.1\n",
      "prf||1007200C\n"
     ]
    },
    {
     "name": "stderr",
     "output_type": "stream",
     "text": [
      "/tmp/ipykernel_682895/273728966.py:5: FutureWarning: In a future version, `df.iloc[:, i] = newvals` will attempt to set the values inplace instead of always setting a new array. To retain the old behavior, use either `df[df.columns[i]] = newvals` or, if columns are non-unique, `df.isetitem(i, newvals)`\n",
      "  df.loc[:,[\"taxid\",\"superkingdom\",\"kingdom\",\"phylum\",\"order\",\"sci_name\",\"color\"]]=hgts\n",
      "/tmp/ipykernel_682895/273728966.py:5: FutureWarning: In a future version, `df.iloc[:, i] = newvals` will attempt to set the values inplace instead of always setting a new array. To retain the old behavior, use either `df[df.columns[i]] = newvals` or, if columns are non-unique, `df.isetitem(i, newvals)`\n",
      "  df.loc[:,[\"taxid\",\"superkingdom\",\"kingdom\",\"phylum\",\"order\",\"sci_name\",\"color\"]]=hgts\n",
      "/tmp/ipykernel_682895/273728966.py:5: FutureWarning: In a future version, `df.iloc[:, i] = newvals` will attempt to set the values inplace instead of always setting a new array. To retain the old behavior, use either `df[df.columns[i]] = newvals` or, if columns are non-unique, `df.isetitem(i, newvals)`\n",
      "  df.loc[:,[\"taxid\",\"superkingdom\",\"kingdom\",\"phylum\",\"order\",\"sci_name\",\"color\"]]=hgts\n",
      "/tmp/ipykernel_682895/273728966.py:5: FutureWarning: In a future version, `df.iloc[:, i] = newvals` will attempt to set the values inplace instead of always setting a new array. To retain the old behavior, use either `df[df.columns[i]] = newvals` or, if columns are non-unique, `df.isetitem(i, newvals)`\n",
      "  df.loc[:,[\"taxid\",\"superkingdom\",\"kingdom\",\"phylum\",\"order\",\"sci_name\",\"color\"]]=hgts\n"
     ]
    },
    {
     "name": "stdout",
     "output_type": "stream",
     "text": [
      "MBY8917251.1\n",
      "UVF58862.1\n",
      "QEA06020.1\n",
      "MBE6784606.1\n",
      "WP_127022801.1\n",
      "BBB44434.1\n"
     ]
    },
    {
     "name": "stderr",
     "output_type": "stream",
     "text": [
      "/tmp/ipykernel_682895/273728966.py:5: FutureWarning: In a future version, `df.iloc[:, i] = newvals` will attempt to set the values inplace instead of always setting a new array. To retain the old behavior, use either `df[df.columns[i]] = newvals` or, if columns are non-unique, `df.isetitem(i, newvals)`\n",
      "  df.loc[:,[\"taxid\",\"superkingdom\",\"kingdom\",\"phylum\",\"order\",\"sci_name\",\"color\"]]=hgts\n",
      "/tmp/ipykernel_682895/273728966.py:5: FutureWarning: In a future version, `df.iloc[:, i] = newvals` will attempt to set the values inplace instead of always setting a new array. To retain the old behavior, use either `df[df.columns[i]] = newvals` or, if columns are non-unique, `df.isetitem(i, newvals)`\n",
      "  df.loc[:,[\"taxid\",\"superkingdom\",\"kingdom\",\"phylum\",\"order\",\"sci_name\",\"color\"]]=hgts\n"
     ]
    },
    {
     "name": "stdout",
     "output_type": "stream",
     "text": [
      "MBE6801969.1\n",
      "MCJ1441678.1\n"
     ]
    },
    {
     "name": "stderr",
     "output_type": "stream",
     "text": [
      "/tmp/ipykernel_682895/273728966.py:5: FutureWarning: In a future version, `df.iloc[:, i] = newvals` will attempt to set the values inplace instead of always setting a new array. To retain the old behavior, use either `df[df.columns[i]] = newvals` or, if columns are non-unique, `df.isetitem(i, newvals)`\n",
      "  df.loc[:,[\"taxid\",\"superkingdom\",\"kingdom\",\"phylum\",\"order\",\"sci_name\",\"color\"]]=hgts\n"
     ]
    },
    {
     "name": "stdout",
     "output_type": "stream",
     "text": [
      "KAH3663165.1\n"
     ]
    },
    {
     "name": "stderr",
     "output_type": "stream",
     "text": [
      "/tmp/ipykernel_682895/273728966.py:5: FutureWarning: In a future version, `df.iloc[:, i] = newvals` will attempt to set the values inplace instead of always setting a new array. To retain the old behavior, use either `df[df.columns[i]] = newvals` or, if columns are non-unique, `df.isetitem(i, newvals)`\n",
      "  df.loc[:,[\"taxid\",\"superkingdom\",\"kingdom\",\"phylum\",\"order\",\"sci_name\",\"color\"]]=hgts\n",
      "/tmp/ipykernel_682895/273728966.py:5: FutureWarning: In a future version, `df.iloc[:, i] = newvals` will attempt to set the values inplace instead of always setting a new array. To retain the old behavior, use either `df[df.columns[i]] = newvals` or, if columns are non-unique, `df.isetitem(i, newvals)`\n",
      "  df.loc[:,[\"taxid\",\"superkingdom\",\"kingdom\",\"phylum\",\"order\",\"sci_name\",\"color\"]]=hgts\n"
     ]
    },
    {
     "name": "stdout",
     "output_type": "stream",
     "text": [
      "SJL87854.1SJL87851.1\n",
      "\n",
      "SJL87857.1\n",
      "SJL86761.1\n",
      "SJL87863.1\n"
     ]
    },
    {
     "name": "stderr",
     "output_type": "stream",
     "text": [
      "/tmp/ipykernel_682895/273728966.py:5: FutureWarning: In a future version, `df.iloc[:, i] = newvals` will attempt to set the values inplace instead of always setting a new array. To retain the old behavior, use either `df[df.columns[i]] = newvals` or, if columns are non-unique, `df.isetitem(i, newvals)`\n",
      "  df.loc[:,[\"taxid\",\"superkingdom\",\"kingdom\",\"phylum\",\"order\",\"sci_name\",\"color\"]]=hgts\n",
      "/tmp/ipykernel_682895/273728966.py:5: FutureWarning: In a future version, `df.iloc[:, i] = newvals` will attempt to set the values inplace instead of always setting a new array. To retain the old behavior, use either `df[df.columns[i]] = newvals` or, if columns are non-unique, `df.isetitem(i, newvals)`\n",
      "  df.loc[:,[\"taxid\",\"superkingdom\",\"kingdom\",\"phylum\",\"order\",\"sci_name\",\"color\"]]=hgts\n",
      "/tmp/ipykernel_682895/273728966.py:5: FutureWarning: In a future version, `df.iloc[:, i] = newvals` will attempt to set the values inplace instead of always setting a new array. To retain the old behavior, use either `df[df.columns[i]] = newvals` or, if columns are non-unique, `df.isetitem(i, newvals)`\n",
      "  df.loc[:,[\"taxid\",\"superkingdom\",\"kingdom\",\"phylum\",\"order\",\"sci_name\",\"color\"]]=hgts\n",
      "/tmp/ipykernel_682895/273728966.py:5: FutureWarning: In a future version, `df.iloc[:, i] = newvals` will attempt to set the values inplace instead of always setting a new array. To retain the old behavior, use either `df[df.columns[i]] = newvals` or, if columns are non-unique, `df.isetitem(i, newvals)`\n",
      "  df.loc[:,[\"taxid\",\"superkingdom\",\"kingdom\",\"phylum\",\"order\",\"sci_name\",\"color\"]]=hgts\n"
     ]
    },
    {
     "name": "stdout",
     "output_type": "stream",
     "text": [
      "MBP0949421.1\n",
      "WP_081897168.1\n",
      "WP_244862022.1\n",
      "NER60841.1\n",
      "HBU00609.1\n",
      "MCE7970155.1\n"
     ]
    },
    {
     "name": "stderr",
     "output_type": "stream",
     "text": [
      "/tmp/ipykernel_682895/273728966.py:5: FutureWarning: In a future version, `df.iloc[:, i] = newvals` will attempt to set the values inplace instead of always setting a new array. To retain the old behavior, use either `df[df.columns[i]] = newvals` or, if columns are non-unique, `df.isetitem(i, newvals)`\n",
      "  df.loc[:,[\"taxid\",\"superkingdom\",\"kingdom\",\"phylum\",\"order\",\"sci_name\",\"color\"]]=hgts\n",
      "/tmp/ipykernel_682895/273728966.py:5: FutureWarning: In a future version, `df.iloc[:, i] = newvals` will attempt to set the values inplace instead of always setting a new array. To retain the old behavior, use either `df[df.columns[i]] = newvals` or, if columns are non-unique, `df.isetitem(i, newvals)`\n",
      "  df.loc[:,[\"taxid\",\"superkingdom\",\"kingdom\",\"phylum\",\"order\",\"sci_name\",\"color\"]]=hgts\n",
      "/tmp/ipykernel_682895/273728966.py:5: FutureWarning: In a future version, `df.iloc[:, i] = newvals` will attempt to set the values inplace instead of always setting a new array. To retain the old behavior, use either `df[df.columns[i]] = newvals` or, if columns are non-unique, `df.isetitem(i, newvals)`\n",
      "  df.loc[:,[\"taxid\",\"superkingdom\",\"kingdom\",\"phylum\",\"order\",\"sci_name\",\"color\"]]=hgts\n"
     ]
    },
    {
     "name": "stdout",
     "output_type": "stream",
     "text": [
      "NLL62962.1\n",
      "WP_143558977.1\n",
      "MCU0597179.1\n"
     ]
    },
    {
     "name": "stderr",
     "output_type": "stream",
     "text": [
      "/tmp/ipykernel_682895/273728966.py:5: FutureWarning: In a future version, `df.iloc[:, i] = newvals` will attempt to set the values inplace instead of always setting a new array. To retain the old behavior, use either `df[df.columns[i]] = newvals` or, if columns are non-unique, `df.isetitem(i, newvals)`\n",
      "  df.loc[:,[\"taxid\",\"superkingdom\",\"kingdom\",\"phylum\",\"order\",\"sci_name\",\"color\"]]=hgts\n"
     ]
    },
    {
     "name": "stdout",
     "output_type": "stream",
     "text": [
      "MBY8917251.1\n"
     ]
    },
    {
     "name": "stderr",
     "output_type": "stream",
     "text": [
      "/tmp/ipykernel_682895/273728966.py:5: FutureWarning: In a future version, `df.iloc[:, i] = newvals` will attempt to set the values inplace instead of always setting a new array. To retain the old behavior, use either `df[df.columns[i]] = newvals` or, if columns are non-unique, `df.isetitem(i, newvals)`\n",
      "  df.loc[:,[\"taxid\",\"superkingdom\",\"kingdom\",\"phylum\",\"order\",\"sci_name\",\"color\"]]=hgts\n",
      "/tmp/ipykernel_682895/273728966.py:5: FutureWarning: In a future version, `df.iloc[:, i] = newvals` will attempt to set the values inplace instead of always setting a new array. To retain the old behavior, use either `df[df.columns[i]] = newvals` or, if columns are non-unique, `df.isetitem(i, newvals)`\n",
      "  df.loc[:,[\"taxid\",\"superkingdom\",\"kingdom\",\"phylum\",\"order\",\"sci_name\",\"color\"]]=hgts\n",
      "/tmp/ipykernel_682895/273728966.py:5: FutureWarning: In a future version, `df.iloc[:, i] = newvals` will attempt to set the values inplace instead of always setting a new array. To retain the old behavior, use either `df[df.columns[i]] = newvals` or, if columns are non-unique, `df.isetitem(i, newvals)`\n",
      "  df.loc[:,[\"taxid\",\"superkingdom\",\"kingdom\",\"phylum\",\"order\",\"sci_name\",\"color\"]]=hgts\n",
      "/tmp/ipykernel_682895/273728966.py:5: FutureWarning: In a future version, `df.iloc[:, i] = newvals` will attempt to set the values inplace instead of always setting a new array. To retain the old behavior, use either `df[df.columns[i]] = newvals` or, if columns are non-unique, `df.isetitem(i, newvals)`\n",
      "  df.loc[:,[\"taxid\",\"superkingdom\",\"kingdom\",\"phylum\",\"order\",\"sci_name\",\"color\"]]=hgts\n",
      "/tmp/ipykernel_682895/273728966.py:5: FutureWarning: In a future version, `df.iloc[:, i] = newvals` will attempt to set the values inplace instead of always setting a new array. To retain the old behavior, use either `df[df.columns[i]] = newvals` or, if columns are non-unique, `df.isetitem(i, newvals)`\n",
      "  df.loc[:,[\"taxid\",\"superkingdom\",\"kingdom\",\"phylum\",\"order\",\"sci_name\",\"color\"]]=hgts\n",
      "/tmp/ipykernel_682895/273728966.py:5: FutureWarning: In a future version, `df.iloc[:, i] = newvals` will attempt to set the values inplace instead of always setting a new array. To retain the old behavior, use either `df[df.columns[i]] = newvals` or, if columns are non-unique, `df.isetitem(i, newvals)`\n",
      "  df.loc[:,[\"taxid\",\"superkingdom\",\"kingdom\",\"phylum\",\"order\",\"sci_name\",\"color\"]]=hgts\n",
      "/tmp/ipykernel_682895/273728966.py:5: FutureWarning: In a future version, `df.iloc[:, i] = newvals` will attempt to set the values inplace instead of always setting a new array. To retain the old behavior, use either `df[df.columns[i]] = newvals` or, if columns are non-unique, `df.isetitem(i, newvals)`\n",
      "  df.loc[:,[\"taxid\",\"superkingdom\",\"kingdom\",\"phylum\",\"order\",\"sci_name\",\"color\"]]=hgts\n",
      "/tmp/ipykernel_682895/273728966.py:5: FutureWarning: In a future version, `df.iloc[:, i] = newvals` will attempt to set the values inplace instead of always setting a new array. To retain the old behavior, use either `df[df.columns[i]] = newvals` or, if columns are non-unique, `df.isetitem(i, newvals)`\n",
      "  df.loc[:,[\"taxid\",\"superkingdom\",\"kingdom\",\"phylum\",\"order\",\"sci_name\",\"color\"]]=hgts\n",
      "/tmp/ipykernel_682895/273728966.py:5: FutureWarning: In a future version, `df.iloc[:, i] = newvals` will attempt to set the values inplace instead of always setting a new array. To retain the old behavior, use either `df[df.columns[i]] = newvals` or, if columns are non-unique, `df.isetitem(i, newvals)`\n",
      "  df.loc[:,[\"taxid\",\"superkingdom\",\"kingdom\",\"phylum\",\"order\",\"sci_name\",\"color\"]]=hgts\n",
      "/tmp/ipykernel_682895/273728966.py:5: FutureWarning: In a future version, `df.iloc[:, i] = newvals` will attempt to set the values inplace instead of always setting a new array. To retain the old behavior, use either `df[df.columns[i]] = newvals` or, if columns are non-unique, `df.isetitem(i, newvals)`\n",
      "  df.loc[:,[\"taxid\",\"superkingdom\",\"kingdom\",\"phylum\",\"order\",\"sci_name\",\"color\"]]=hgts\n",
      "/tmp/ipykernel_682895/273728966.py:5: FutureWarning: In a future version, `df.iloc[:, i] = newvals` will attempt to set the values inplace instead of always setting a new array. To retain the old behavior, use either `df[df.columns[i]] = newvals` or, if columns are non-unique, `df.isetitem(i, newvals)`\n",
      "  df.loc[:,[\"taxid\",\"superkingdom\",\"kingdom\",\"phylum\",\"order\",\"sci_name\",\"color\"]]=hgts\n"
     ]
    },
    {
     "name": "stdout",
     "output_type": "stream",
     "text": [
      "XP_011196011.1\n",
      "MBQ3189829.1\n"
     ]
    },
    {
     "name": "stderr",
     "output_type": "stream",
     "text": [
      "/tmp/ipykernel_682895/273728966.py:5: FutureWarning: In a future version, `df.iloc[:, i] = newvals` will attempt to set the values inplace instead of always setting a new array. To retain the old behavior, use either `df[df.columns[i]] = newvals` or, if columns are non-unique, `df.isetitem(i, newvals)`\n",
      "  df.loc[:,[\"taxid\",\"superkingdom\",\"kingdom\",\"phylum\",\"order\",\"sci_name\",\"color\"]]=hgts\n"
     ]
    },
    {
     "name": "stdout",
     "output_type": "stream",
     "text": [
      "MBW0107275.1\n",
      "pir|T25782|\n"
     ]
    },
    {
     "name": "stderr",
     "output_type": "stream",
     "text": [
      "/tmp/ipykernel_682895/273728966.py:5: FutureWarning: In a future version, `df.iloc[:, i] = newvals` will attempt to set the values inplace instead of always setting a new array. To retain the old behavior, use either `df[df.columns[i]] = newvals` or, if columns are non-unique, `df.isetitem(i, newvals)`\n",
      "  df.loc[:,[\"taxid\",\"superkingdom\",\"kingdom\",\"phylum\",\"order\",\"sci_name\",\"color\"]]=hgts\n",
      "/tmp/ipykernel_682895/273728966.py:5: FutureWarning: In a future version, `df.iloc[:, i] = newvals` will attempt to set the values inplace instead of always setting a new array. To retain the old behavior, use either `df[df.columns[i]] = newvals` or, if columns are non-unique, `df.isetitem(i, newvals)`\n",
      "  df.loc[:,[\"taxid\",\"superkingdom\",\"kingdom\",\"phylum\",\"order\",\"sci_name\",\"color\"]]=hgts\n",
      "/tmp/ipykernel_682895/273728966.py:5: FutureWarning: In a future version, `df.iloc[:, i] = newvals` will attempt to set the values inplace instead of always setting a new array. To retain the old behavior, use either `df[df.columns[i]] = newvals` or, if columns are non-unique, `df.isetitem(i, newvals)`\n",
      "  df.loc[:,[\"taxid\",\"superkingdom\",\"kingdom\",\"phylum\",\"order\",\"sci_name\",\"color\"]]=hgts\n",
      "/tmp/ipykernel_682895/273728966.py:5: FutureWarning: In a future version, `df.iloc[:, i] = newvals` will attempt to set the values inplace instead of always setting a new array. To retain the old behavior, use either `df[df.columns[i]] = newvals` or, if columns are non-unique, `df.isetitem(i, newvals)`\n",
      "  df.loc[:,[\"taxid\",\"superkingdom\",\"kingdom\",\"phylum\",\"order\",\"sci_name\",\"color\"]]=hgts\n",
      "/tmp/ipykernel_682895/273728966.py:5: FutureWarning: In a future version, `df.iloc[:, i] = newvals` will attempt to set the values inplace instead of always setting a new array. To retain the old behavior, use either `df[df.columns[i]] = newvals` or, if columns are non-unique, `df.isetitem(i, newvals)`\n",
      "  df.loc[:,[\"taxid\",\"superkingdom\",\"kingdom\",\"phylum\",\"order\",\"sci_name\",\"color\"]]=hgts\n",
      "/tmp/ipykernel_682895/273728966.py:5: FutureWarning: In a future version, `df.iloc[:, i] = newvals` will attempt to set the values inplace instead of always setting a new array. To retain the old behavior, use either `df[df.columns[i]] = newvals` or, if columns are non-unique, `df.isetitem(i, newvals)`\n",
      "  df.loc[:,[\"taxid\",\"superkingdom\",\"kingdom\",\"phylum\",\"order\",\"sci_name\",\"color\"]]=hgts\n"
     ]
    },
    {
     "name": "stdout",
     "output_type": "stream",
     "text": [
      "QVT77350.1\n",
      "QVT77310.1\n",
      "QVT77330.1\n"
     ]
    },
    {
     "name": "stderr",
     "output_type": "stream",
     "text": [
      "/tmp/ipykernel_682895/273728966.py:5: FutureWarning: In a future version, `df.iloc[:, i] = newvals` will attempt to set the values inplace instead of always setting a new array. To retain the old behavior, use either `df[df.columns[i]] = newvals` or, if columns are non-unique, `df.isetitem(i, newvals)`\n",
      "  df.loc[:,[\"taxid\",\"superkingdom\",\"kingdom\",\"phylum\",\"order\",\"sci_name\",\"color\"]]=hgts\n",
      "/tmp/ipykernel_682895/273728966.py:5: FutureWarning: In a future version, `df.iloc[:, i] = newvals` will attempt to set the values inplace instead of always setting a new array. To retain the old behavior, use either `df[df.columns[i]] = newvals` or, if columns are non-unique, `df.isetitem(i, newvals)`\n",
      "  df.loc[:,[\"taxid\",\"superkingdom\",\"kingdom\",\"phylum\",\"order\",\"sci_name\",\"color\"]]=hgts\n",
      "/tmp/ipykernel_682895/273728966.py:5: FutureWarning: In a future version, `df.iloc[:, i] = newvals` will attempt to set the values inplace instead of always setting a new array. To retain the old behavior, use either `df[df.columns[i]] = newvals` or, if columns are non-unique, `df.isetitem(i, newvals)`\n",
      "  df.loc[:,[\"taxid\",\"superkingdom\",\"kingdom\",\"phylum\",\"order\",\"sci_name\",\"color\"]]=hgts\n",
      "/tmp/ipykernel_682895/273728966.py:5: FutureWarning: In a future version, `df.iloc[:, i] = newvals` will attempt to set the values inplace instead of always setting a new array. To retain the old behavior, use either `df[df.columns[i]] = newvals` or, if columns are non-unique, `df.isetitem(i, newvals)`\n",
      "  df.loc[:,[\"taxid\",\"superkingdom\",\"kingdom\",\"phylum\",\"order\",\"sci_name\",\"color\"]]=hgts\n",
      "/tmp/ipykernel_682895/273728966.py:5: FutureWarning: In a future version, `df.iloc[:, i] = newvals` will attempt to set the values inplace instead of always setting a new array. To retain the old behavior, use either `df[df.columns[i]] = newvals` or, if columns are non-unique, `df.isetitem(i, newvals)`\n",
      "  df.loc[:,[\"taxid\",\"superkingdom\",\"kingdom\",\"phylum\",\"order\",\"sci_name\",\"color\"]]=hgts\n"
     ]
    },
    {
     "name": "stdout",
     "output_type": "stream",
     "text": [
      "MCF8701924.1\n",
      "prf||1107279B\n",
      "MCH8487189.1\n"
     ]
    },
    {
     "name": "stderr",
     "output_type": "stream",
     "text": [
      "/tmp/ipykernel_682895/273728966.py:5: FutureWarning: In a future version, `df.iloc[:, i] = newvals` will attempt to set the values inplace instead of always setting a new array. To retain the old behavior, use either `df[df.columns[i]] = newvals` or, if columns are non-unique, `df.isetitem(i, newvals)`\n",
      "  df.loc[:,[\"taxid\",\"superkingdom\",\"kingdom\",\"phylum\",\"order\",\"sci_name\",\"color\"]]=hgts\n"
     ]
    },
    {
     "name": "stdout",
     "output_type": "stream",
     "text": [
      "MBE7045954.1\n"
     ]
    },
    {
     "name": "stderr",
     "output_type": "stream",
     "text": [
      "/tmp/ipykernel_682895/273728966.py:5: FutureWarning: In a future version, `df.iloc[:, i] = newvals` will attempt to set the values inplace instead of always setting a new array. To retain the old behavior, use either `df[df.columns[i]] = newvals` or, if columns are non-unique, `df.isetitem(i, newvals)`\n",
      "  df.loc[:,[\"taxid\",\"superkingdom\",\"kingdom\",\"phylum\",\"order\",\"sci_name\",\"color\"]]=hgts\n",
      "/tmp/ipykernel_682895/273728966.py:5: FutureWarning: In a future version, `df.iloc[:, i] = newvals` will attempt to set the values inplace instead of always setting a new array. To retain the old behavior, use either `df[df.columns[i]] = newvals` or, if columns are non-unique, `df.isetitem(i, newvals)`\n",
      "  df.loc[:,[\"taxid\",\"superkingdom\",\"kingdom\",\"phylum\",\"order\",\"sci_name\",\"color\"]]=hgts\n",
      "/tmp/ipykernel_682895/273728966.py:5: FutureWarning: In a future version, `df.iloc[:, i] = newvals` will attempt to set the values inplace instead of always setting a new array. To retain the old behavior, use either `df[df.columns[i]] = newvals` or, if columns are non-unique, `df.isetitem(i, newvals)`\n",
      "  df.loc[:,[\"taxid\",\"superkingdom\",\"kingdom\",\"phylum\",\"order\",\"sci_name\",\"color\"]]=hgts\n",
      "/tmp/ipykernel_682895/273728966.py:5: FutureWarning: In a future version, `df.iloc[:, i] = newvals` will attempt to set the values inplace instead of always setting a new array. To retain the old behavior, use either `df[df.columns[i]] = newvals` or, if columns are non-unique, `df.isetitem(i, newvals)`\n",
      "  df.loc[:,[\"taxid\",\"superkingdom\",\"kingdom\",\"phylum\",\"order\",\"sci_name\",\"color\"]]=hgts\n",
      "/tmp/ipykernel_682895/273728966.py:5: FutureWarning: In a future version, `df.iloc[:, i] = newvals` will attempt to set the values inplace instead of always setting a new array. To retain the old behavior, use either `df[df.columns[i]] = newvals` or, if columns are non-unique, `df.isetitem(i, newvals)`\n",
      "  df.loc[:,[\"taxid\",\"superkingdom\",\"kingdom\",\"phylum\",\"order\",\"sci_name\",\"color\"]]=hgts\n",
      "/tmp/ipykernel_682895/273728966.py:5: FutureWarning: In a future version, `df.iloc[:, i] = newvals` will attempt to set the values inplace instead of always setting a new array. To retain the old behavior, use either `df[df.columns[i]] = newvals` or, if columns are non-unique, `df.isetitem(i, newvals)`\n",
      "  df.loc[:,[\"taxid\",\"superkingdom\",\"kingdom\",\"phylum\",\"order\",\"sci_name\",\"color\"]]=hgts\n"
     ]
    },
    {
     "name": "stdout",
     "output_type": "stream",
     "text": [
      "pir|B56679|\n",
      "pir|T19605|\n",
      "WGH58587.1\n"
     ]
    },
    {
     "name": "stderr",
     "output_type": "stream",
     "text": [
      "/tmp/ipykernel_682895/273728966.py:5: FutureWarning: In a future version, `df.iloc[:, i] = newvals` will attempt to set the values inplace instead of always setting a new array. To retain the old behavior, use either `df[df.columns[i]] = newvals` or, if columns are non-unique, `df.isetitem(i, newvals)`\n",
      "  df.loc[:,[\"taxid\",\"superkingdom\",\"kingdom\",\"phylum\",\"order\",\"sci_name\",\"color\"]]=hgts\n"
     ]
    },
    {
     "name": "stdout",
     "output_type": "stream",
     "text": [
      "WP_261916743.1\n"
     ]
    },
    {
     "name": "stderr",
     "output_type": "stream",
     "text": [
      "/tmp/ipykernel_682895/273728966.py:5: FutureWarning: In a future version, `df.iloc[:, i] = newvals` will attempt to set the values inplace instead of always setting a new array. To retain the old behavior, use either `df[df.columns[i]] = newvals` or, if columns are non-unique, `df.isetitem(i, newvals)`\n",
      "  df.loc[:,[\"taxid\",\"superkingdom\",\"kingdom\",\"phylum\",\"order\",\"sci_name\",\"color\"]]=hgts\n",
      "/tmp/ipykernel_682895/273728966.py:5: FutureWarning: In a future version, `df.iloc[:, i] = newvals` will attempt to set the values inplace instead of always setting a new array. To retain the old behavior, use either `df[df.columns[i]] = newvals` or, if columns are non-unique, `df.isetitem(i, newvals)`\n",
      "  df.loc[:,[\"taxid\",\"superkingdom\",\"kingdom\",\"phylum\",\"order\",\"sci_name\",\"color\"]]=hgts\n"
     ]
    },
    {
     "name": "stdout",
     "output_type": "stream",
     "text": [
      "SJL87863.1\n",
      "SJL86761.1\n",
      "SJL87851.1\n",
      "SJL87857.1\n",
      "SJL87854.1\n",
      "7OBI_A\n"
     ]
    },
    {
     "name": "stderr",
     "output_type": "stream",
     "text": [
      "/tmp/ipykernel_682895/273728966.py:5: FutureWarning: In a future version, `df.iloc[:, i] = newvals` will attempt to set the values inplace instead of always setting a new array. To retain the old behavior, use either `df[df.columns[i]] = newvals` or, if columns are non-unique, `df.isetitem(i, newvals)`\n",
      "  df.loc[:,[\"taxid\",\"superkingdom\",\"kingdom\",\"phylum\",\"order\",\"sci_name\",\"color\"]]=hgts\n",
      "/tmp/ipykernel_682895/273728966.py:5: FutureWarning: In a future version, `df.iloc[:, i] = newvals` will attempt to set the values inplace instead of always setting a new array. To retain the old behavior, use either `df[df.columns[i]] = newvals` or, if columns are non-unique, `df.isetitem(i, newvals)`\n",
      "  df.loc[:,[\"taxid\",\"superkingdom\",\"kingdom\",\"phylum\",\"order\",\"sci_name\",\"color\"]]=hgts\n",
      "/tmp/ipykernel_682895/273728966.py:5: FutureWarning: In a future version, `df.iloc[:, i] = newvals` will attempt to set the values inplace instead of always setting a new array. To retain the old behavior, use either `df[df.columns[i]] = newvals` or, if columns are non-unique, `df.isetitem(i, newvals)`\n",
      "  df.loc[:,[\"taxid\",\"superkingdom\",\"kingdom\",\"phylum\",\"order\",\"sci_name\",\"color\"]]=hgts\n",
      "/tmp/ipykernel_682895/273728966.py:5: FutureWarning: In a future version, `df.iloc[:, i] = newvals` will attempt to set the values inplace instead of always setting a new array. To retain the old behavior, use either `df[df.columns[i]] = newvals` or, if columns are non-unique, `df.isetitem(i, newvals)`\n",
      "  df.loc[:,[\"taxid\",\"superkingdom\",\"kingdom\",\"phylum\",\"order\",\"sci_name\",\"color\"]]=hgts\n",
      "/tmp/ipykernel_682895/273728966.py:5: FutureWarning: In a future version, `df.iloc[:, i] = newvals` will attempt to set the values inplace instead of always setting a new array. To retain the old behavior, use either `df[df.columns[i]] = newvals` or, if columns are non-unique, `df.isetitem(i, newvals)`\n",
      "  df.loc[:,[\"taxid\",\"superkingdom\",\"kingdom\",\"phylum\",\"order\",\"sci_name\",\"color\"]]=hgts\n",
      "/tmp/ipykernel_682895/273728966.py:5: FutureWarning: In a future version, `df.iloc[:, i] = newvals` will attempt to set the values inplace instead of always setting a new array. To retain the old behavior, use either `df[df.columns[i]] = newvals` or, if columns are non-unique, `df.isetitem(i, newvals)`\n",
      "  df.loc[:,[\"taxid\",\"superkingdom\",\"kingdom\",\"phylum\",\"order\",\"sci_name\",\"color\"]]=hgts\n"
     ]
    },
    {
     "name": "stdout",
     "output_type": "stream",
     "text": [
      "pir|B56679|\n",
      "MBH8560799.1\n"
     ]
    },
    {
     "name": "stderr",
     "output_type": "stream",
     "text": [
      "/tmp/ipykernel_682895/273728966.py:5: FutureWarning: In a future version, `df.iloc[:, i] = newvals` will attempt to set the values inplace instead of always setting a new array. To retain the old behavior, use either `df[df.columns[i]] = newvals` or, if columns are non-unique, `df.isetitem(i, newvals)`\n",
      "  df.loc[:,[\"taxid\",\"superkingdom\",\"kingdom\",\"phylum\",\"order\",\"sci_name\",\"color\"]]=hgts\n",
      "/tmp/ipykernel_682895/273728966.py:5: FutureWarning: In a future version, `df.iloc[:, i] = newvals` will attempt to set the values inplace instead of always setting a new array. To retain the old behavior, use either `df[df.columns[i]] = newvals` or, if columns are non-unique, `df.isetitem(i, newvals)`\n",
      "  df.loc[:,[\"taxid\",\"superkingdom\",\"kingdom\",\"phylum\",\"order\",\"sci_name\",\"color\"]]=hgts\n",
      "/tmp/ipykernel_682895/273728966.py:5: FutureWarning: In a future version, `df.iloc[:, i] = newvals` will attempt to set the values inplace instead of always setting a new array. To retain the old behavior, use either `df[df.columns[i]] = newvals` or, if columns are non-unique, `df.isetitem(i, newvals)`\n",
      "  df.loc[:,[\"taxid\",\"superkingdom\",\"kingdom\",\"phylum\",\"order\",\"sci_name\",\"color\"]]=hgts\n",
      "/tmp/ipykernel_682895/273728966.py:5: FutureWarning: In a future version, `df.iloc[:, i] = newvals` will attempt to set the values inplace instead of always setting a new array. To retain the old behavior, use either `df[df.columns[i]] = newvals` or, if columns are non-unique, `df.isetitem(i, newvals)`\n",
      "  df.loc[:,[\"taxid\",\"superkingdom\",\"kingdom\",\"phylum\",\"order\",\"sci_name\",\"color\"]]=hgts\n",
      "/tmp/ipykernel_682895/273728966.py:5: FutureWarning: In a future version, `df.iloc[:, i] = newvals` will attempt to set the values inplace instead of always setting a new array. To retain the old behavior, use either `df[df.columns[i]] = newvals` or, if columns are non-unique, `df.isetitem(i, newvals)`\n",
      "  df.loc[:,[\"taxid\",\"superkingdom\",\"kingdom\",\"phylum\",\"order\",\"sci_name\",\"color\"]]=hgts\n",
      "/tmp/ipykernel_682895/273728966.py:5: FutureWarning: In a future version, `df.iloc[:, i] = newvals` will attempt to set the values inplace instead of always setting a new array. To retain the old behavior, use either `df[df.columns[i]] = newvals` or, if columns are non-unique, `df.isetitem(i, newvals)`\n",
      "  df.loc[:,[\"taxid\",\"superkingdom\",\"kingdom\",\"phylum\",\"order\",\"sci_name\",\"color\"]]=hgts\n",
      "/tmp/ipykernel_682895/273728966.py:5: FutureWarning: In a future version, `df.iloc[:, i] = newvals` will attempt to set the values inplace instead of always setting a new array. To retain the old behavior, use either `df[df.columns[i]] = newvals` or, if columns are non-unique, `df.isetitem(i, newvals)`\n",
      "  df.loc[:,[\"taxid\",\"superkingdom\",\"kingdom\",\"phylum\",\"order\",\"sci_name\",\"color\"]]=hgts\n"
     ]
    },
    {
     "name": "stdout",
     "output_type": "stream",
     "text": [
      "UVF58862.1\n",
      "WP_106169939.1\n"
     ]
    },
    {
     "name": "stderr",
     "output_type": "stream",
     "text": [
      "/tmp/ipykernel_682895/273728966.py:5: FutureWarning: In a future version, `df.iloc[:, i] = newvals` will attempt to set the values inplace instead of always setting a new array. To retain the old behavior, use either `df[df.columns[i]] = newvals` or, if columns are non-unique, `df.isetitem(i, newvals)`\n",
      "  df.loc[:,[\"taxid\",\"superkingdom\",\"kingdom\",\"phylum\",\"order\",\"sci_name\",\"color\"]]=hgts\n",
      "/tmp/ipykernel_682895/273728966.py:5: FutureWarning: In a future version, `df.iloc[:, i] = newvals` will attempt to set the values inplace instead of always setting a new array. To retain the old behavior, use either `df[df.columns[i]] = newvals` or, if columns are non-unique, `df.isetitem(i, newvals)`\n",
      "  df.loc[:,[\"taxid\",\"superkingdom\",\"kingdom\",\"phylum\",\"order\",\"sci_name\",\"color\"]]=hgts\n"
     ]
    },
    {
     "name": "stdout",
     "output_type": "stream",
     "text": [
      "MBE6609057.1\n"
     ]
    },
    {
     "name": "stderr",
     "output_type": "stream",
     "text": [
      "/tmp/ipykernel_682895/273728966.py:5: FutureWarning: In a future version, `df.iloc[:, i] = newvals` will attempt to set the values inplace instead of always setting a new array. To retain the old behavior, use either `df[df.columns[i]] = newvals` or, if columns are non-unique, `df.isetitem(i, newvals)`\n",
      "  df.loc[:,[\"taxid\",\"superkingdom\",\"kingdom\",\"phylum\",\"order\",\"sci_name\",\"color\"]]=hgts\n",
      "/tmp/ipykernel_682895/273728966.py:5: FutureWarning: In a future version, `df.iloc[:, i] = newvals` will attempt to set the values inplace instead of always setting a new array. To retain the old behavior, use either `df[df.columns[i]] = newvals` or, if columns are non-unique, `df.isetitem(i, newvals)`\n",
      "  df.loc[:,[\"taxid\",\"superkingdom\",\"kingdom\",\"phylum\",\"order\",\"sci_name\",\"color\"]]=hgts\n",
      "/tmp/ipykernel_682895/273728966.py:5: FutureWarning: In a future version, `df.iloc[:, i] = newvals` will attempt to set the values inplace instead of always setting a new array. To retain the old behavior, use either `df[df.columns[i]] = newvals` or, if columns are non-unique, `df.isetitem(i, newvals)`\n",
      "  df.loc[:,[\"taxid\",\"superkingdom\",\"kingdom\",\"phylum\",\"order\",\"sci_name\",\"color\"]]=hgts\n",
      "/tmp/ipykernel_682895/273728966.py:5: FutureWarning: In a future version, `df.iloc[:, i] = newvals` will attempt to set the values inplace instead of always setting a new array. To retain the old behavior, use either `df[df.columns[i]] = newvals` or, if columns are non-unique, `df.isetitem(i, newvals)`\n",
      "  df.loc[:,[\"taxid\",\"superkingdom\",\"kingdom\",\"phylum\",\"order\",\"sci_name\",\"color\"]]=hgts\n",
      "/tmp/ipykernel_682895/273728966.py:5: FutureWarning: In a future version, `df.iloc[:, i] = newvals` will attempt to set the values inplace instead of always setting a new array. To retain the old behavior, use either `df[df.columns[i]] = newvals` or, if columns are non-unique, `df.isetitem(i, newvals)`\n",
      "  df.loc[:,[\"taxid\",\"superkingdom\",\"kingdom\",\"phylum\",\"order\",\"sci_name\",\"color\"]]=hgts\n",
      "/tmp/ipykernel_682895/273728966.py:5: FutureWarning: In a future version, `df.iloc[:, i] = newvals` will attempt to set the values inplace instead of always setting a new array. To retain the old behavior, use either `df[df.columns[i]] = newvals` or, if columns are non-unique, `df.isetitem(i, newvals)`\n",
      "  df.loc[:,[\"taxid\",\"superkingdom\",\"kingdom\",\"phylum\",\"order\",\"sci_name\",\"color\"]]=hgts\n"
     ]
    },
    {
     "name": "stdout",
     "output_type": "stream",
     "text": [
      "WGH58587.1\n",
      "MCU0580733.1\n",
      "WP_199756008.1\n",
      "MBT1065318.1\n"
     ]
    },
    {
     "name": "stderr",
     "output_type": "stream",
     "text": [
      "/tmp/ipykernel_682895/273728966.py:5: FutureWarning: In a future version, `df.iloc[:, i] = newvals` will attempt to set the values inplace instead of always setting a new array. To retain the old behavior, use either `df[df.columns[i]] = newvals` or, if columns are non-unique, `df.isetitem(i, newvals)`\n",
      "  df.loc[:,[\"taxid\",\"superkingdom\",\"kingdom\",\"phylum\",\"order\",\"sci_name\",\"color\"]]=hgts\n",
      "/tmp/ipykernel_682895/273728966.py:5: FutureWarning: In a future version, `df.iloc[:, i] = newvals` will attempt to set the values inplace instead of always setting a new array. To retain the old behavior, use either `df[df.columns[i]] = newvals` or, if columns are non-unique, `df.isetitem(i, newvals)`\n",
      "  df.loc[:,[\"taxid\",\"superkingdom\",\"kingdom\",\"phylum\",\"order\",\"sci_name\",\"color\"]]=hgts\n",
      "/tmp/ipykernel_682895/273728966.py:5: FutureWarning: In a future version, `df.iloc[:, i] = newvals` will attempt to set the values inplace instead of always setting a new array. To retain the old behavior, use either `df[df.columns[i]] = newvals` or, if columns are non-unique, `df.isetitem(i, newvals)`\n",
      "  df.loc[:,[\"taxid\",\"superkingdom\",\"kingdom\",\"phylum\",\"order\",\"sci_name\",\"color\"]]=hgts\n",
      "/tmp/ipykernel_682895/273728966.py:5: FutureWarning: In a future version, `df.iloc[:, i] = newvals` will attempt to set the values inplace instead of always setting a new array. To retain the old behavior, use either `df[df.columns[i]] = newvals` or, if columns are non-unique, `df.isetitem(i, newvals)`\n",
      "  df.loc[:,[\"taxid\",\"superkingdom\",\"kingdom\",\"phylum\",\"order\",\"sci_name\",\"color\"]]=hgts\n",
      "/tmp/ipykernel_682895/273728966.py:5: FutureWarning: In a future version, `df.iloc[:, i] = newvals` will attempt to set the values inplace instead of always setting a new array. To retain the old behavior, use either `df[df.columns[i]] = newvals` or, if columns are non-unique, `df.isetitem(i, newvals)`\n",
      "  df.loc[:,[\"taxid\",\"superkingdom\",\"kingdom\",\"phylum\",\"order\",\"sci_name\",\"color\"]]=hgts\n",
      "/tmp/ipykernel_682895/273728966.py:5: FutureWarning: In a future version, `df.iloc[:, i] = newvals` will attempt to set the values inplace instead of always setting a new array. To retain the old behavior, use either `df[df.columns[i]] = newvals` or, if columns are non-unique, `df.isetitem(i, newvals)`\n",
      "  df.loc[:,[\"taxid\",\"superkingdom\",\"kingdom\",\"phylum\",\"order\",\"sci_name\",\"color\"]]=hgts\n",
      "/tmp/ipykernel_682895/273728966.py:5: FutureWarning: In a future version, `df.iloc[:, i] = newvals` will attempt to set the values inplace instead of always setting a new array. To retain the old behavior, use either `df[df.columns[i]] = newvals` or, if columns are non-unique, `df.isetitem(i, newvals)`\n",
      "  df.loc[:,[\"taxid\",\"superkingdom\",\"kingdom\",\"phylum\",\"order\",\"sci_name\",\"color\"]]=hgts\n",
      "/tmp/ipykernel_682895/273728966.py:5: FutureWarning: In a future version, `df.iloc[:, i] = newvals` will attempt to set the values inplace instead of always setting a new array. To retain the old behavior, use either `df[df.columns[i]] = newvals` or, if columns are non-unique, `df.isetitem(i, newvals)`\n",
      "  df.loc[:,[\"taxid\",\"superkingdom\",\"kingdom\",\"phylum\",\"order\",\"sci_name\",\"color\"]]=hgts\n"
     ]
    },
    {
     "name": "stdout",
     "output_type": "stream",
     "text": [
      "prf||1709357B\n"
     ]
    },
    {
     "name": "stderr",
     "output_type": "stream",
     "text": [
      "/tmp/ipykernel_682895/273728966.py:5: FutureWarning: In a future version, `df.iloc[:, i] = newvals` will attempt to set the values inplace instead of always setting a new array. To retain the old behavior, use either `df[df.columns[i]] = newvals` or, if columns are non-unique, `df.isetitem(i, newvals)`\n",
      "  df.loc[:,[\"taxid\",\"superkingdom\",\"kingdom\",\"phylum\",\"order\",\"sci_name\",\"color\"]]=hgts\n",
      "/tmp/ipykernel_682895/273728966.py:5: FutureWarning: In a future version, `df.iloc[:, i] = newvals` will attempt to set the values inplace instead of always setting a new array. To retain the old behavior, use either `df[df.columns[i]] = newvals` or, if columns are non-unique, `df.isetitem(i, newvals)`\n",
      "  df.loc[:,[\"taxid\",\"superkingdom\",\"kingdom\",\"phylum\",\"order\",\"sci_name\",\"color\"]]=hgts\n"
     ]
    },
    {
     "name": "stdout",
     "output_type": "stream",
     "text": [
      "pir|A39652|\n"
     ]
    },
    {
     "name": "stderr",
     "output_type": "stream",
     "text": [
      "/tmp/ipykernel_682895/273728966.py:5: FutureWarning: In a future version, `df.iloc[:, i] = newvals` will attempt to set the values inplace instead of always setting a new array. To retain the old behavior, use either `df[df.columns[i]] = newvals` or, if columns are non-unique, `df.isetitem(i, newvals)`\n",
      "  df.loc[:,[\"taxid\",\"superkingdom\",\"kingdom\",\"phylum\",\"order\",\"sci_name\",\"color\"]]=hgts\n",
      "/tmp/ipykernel_682895/273728966.py:5: FutureWarning: In a future version, `df.iloc[:, i] = newvals` will attempt to set the values inplace instead of always setting a new array. To retain the old behavior, use either `df[df.columns[i]] = newvals` or, if columns are non-unique, `df.isetitem(i, newvals)`\n",
      "  df.loc[:,[\"taxid\",\"superkingdom\",\"kingdom\",\"phylum\",\"order\",\"sci_name\",\"color\"]]=hgts\n",
      "/tmp/ipykernel_682895/273728966.py:5: FutureWarning: In a future version, `df.iloc[:, i] = newvals` will attempt to set the values inplace instead of always setting a new array. To retain the old behavior, use either `df[df.columns[i]] = newvals` or, if columns are non-unique, `df.isetitem(i, newvals)`\n",
      "  df.loc[:,[\"taxid\",\"superkingdom\",\"kingdom\",\"phylum\",\"order\",\"sci_name\",\"color\"]]=hgts\n"
     ]
    },
    {
     "name": "stdout",
     "output_type": "stream",
     "text": [
      "MCJ1440324.1\n"
     ]
    },
    {
     "name": "stderr",
     "output_type": "stream",
     "text": [
      "/tmp/ipykernel_682895/273728966.py:5: FutureWarning: In a future version, `df.iloc[:, i] = newvals` will attempt to set the values inplace instead of always setting a new array. To retain the old behavior, use either `df[df.columns[i]] = newvals` or, if columns are non-unique, `df.isetitem(i, newvals)`\n",
      "  df.loc[:,[\"taxid\",\"superkingdom\",\"kingdom\",\"phylum\",\"order\",\"sci_name\",\"color\"]]=hgts\n",
      "/tmp/ipykernel_682895/273728966.py:5: FutureWarning: In a future version, `df.iloc[:, i] = newvals` will attempt to set the values inplace instead of always setting a new array. To retain the old behavior, use either `df[df.columns[i]] = newvals` or, if columns are non-unique, `df.isetitem(i, newvals)`\n",
      "  df.loc[:,[\"taxid\",\"superkingdom\",\"kingdom\",\"phylum\",\"order\",\"sci_name\",\"color\"]]=hgts\n",
      "/tmp/ipykernel_682895/273728966.py:5: FutureWarning: In a future version, `df.iloc[:, i] = newvals` will attempt to set the values inplace instead of always setting a new array. To retain the old behavior, use either `df[df.columns[i]] = newvals` or, if columns are non-unique, `df.isetitem(i, newvals)`\n",
      "  df.loc[:,[\"taxid\",\"superkingdom\",\"kingdom\",\"phylum\",\"order\",\"sci_name\",\"color\"]]=hgts\n"
     ]
    },
    {
     "name": "stdout",
     "output_type": "stream",
     "text": [
      "pir|S54988|\n",
      "pir|S54992|\n",
      "pir|S54987|\n",
      "pir|S54990|\n",
      "pir|T19605|\n",
      "pir|B56679|\n",
      "UVF58862.1\n"
     ]
    },
    {
     "name": "stderr",
     "output_type": "stream",
     "text": [
      "/tmp/ipykernel_682895/273728966.py:5: FutureWarning: In a future version, `df.iloc[:, i] = newvals` will attempt to set the values inplace instead of always setting a new array. To retain the old behavior, use either `df[df.columns[i]] = newvals` or, if columns are non-unique, `df.isetitem(i, newvals)`\n",
      "  df.loc[:,[\"taxid\",\"superkingdom\",\"kingdom\",\"phylum\",\"order\",\"sci_name\",\"color\"]]=hgts\n",
      "/tmp/ipykernel_682895/273728966.py:5: FutureWarning: In a future version, `df.iloc[:, i] = newvals` will attempt to set the values inplace instead of always setting a new array. To retain the old behavior, use either `df[df.columns[i]] = newvals` or, if columns are non-unique, `df.isetitem(i, newvals)`\n",
      "  df.loc[:,[\"taxid\",\"superkingdom\",\"kingdom\",\"phylum\",\"order\",\"sci_name\",\"color\"]]=hgts\n"
     ]
    },
    {
     "name": "stdout",
     "output_type": "stream",
     "text": [
      "MCF8701902.1\n",
      "prf||1107279B\n",
      "MCU0597179.1\n"
     ]
    },
    {
     "name": "stderr",
     "output_type": "stream",
     "text": [
      "/tmp/ipykernel_682895/273728966.py:5: FutureWarning: In a future version, `df.iloc[:, i] = newvals` will attempt to set the values inplace instead of always setting a new array. To retain the old behavior, use either `df[df.columns[i]] = newvals` or, if columns are non-unique, `df.isetitem(i, newvals)`\n",
      "  df.loc[:,[\"taxid\",\"superkingdom\",\"kingdom\",\"phylum\",\"order\",\"sci_name\",\"color\"]]=hgts\n",
      "/tmp/ipykernel_682895/273728966.py:5: FutureWarning: In a future version, `df.iloc[:, i] = newvals` will attempt to set the values inplace instead of always setting a new array. To retain the old behavior, use either `df[df.columns[i]] = newvals` or, if columns are non-unique, `df.isetitem(i, newvals)`\n",
      "  df.loc[:,[\"taxid\",\"superkingdom\",\"kingdom\",\"phylum\",\"order\",\"sci_name\",\"color\"]]=hgts\n",
      "/tmp/ipykernel_682895/273728966.py:5: FutureWarning: In a future version, `df.iloc[:, i] = newvals` will attempt to set the values inplace instead of always setting a new array. To retain the old behavior, use either `df[df.columns[i]] = newvals` or, if columns are non-unique, `df.isetitem(i, newvals)`\n",
      "  df.loc[:,[\"taxid\",\"superkingdom\",\"kingdom\",\"phylum\",\"order\",\"sci_name\",\"color\"]]=hgts\n",
      "/tmp/ipykernel_682895/273728966.py:5: FutureWarning: In a future version, `df.iloc[:, i] = newvals` will attempt to set the values inplace instead of always setting a new array. To retain the old behavior, use either `df[df.columns[i]] = newvals` or, if columns are non-unique, `df.isetitem(i, newvals)`\n",
      "  df.loc[:,[\"taxid\",\"superkingdom\",\"kingdom\",\"phylum\",\"order\",\"sci_name\",\"color\"]]=hgts\n"
     ]
    },
    {
     "name": "stdout",
     "output_type": "stream",
     "text": [
      "MBE6738399.1\n",
      "MBE4735250.1\n",
      "MBM7026257.1\n",
      "WAC07380.1\n"
     ]
    },
    {
     "name": "stderr",
     "output_type": "stream",
     "text": [
      "/tmp/ipykernel_682895/273728966.py:5: FutureWarning: In a future version, `df.iloc[:, i] = newvals` will attempt to set the values inplace instead of always setting a new array. To retain the old behavior, use either `df[df.columns[i]] = newvals` or, if columns are non-unique, `df.isetitem(i, newvals)`\n",
      "  df.loc[:,[\"taxid\",\"superkingdom\",\"kingdom\",\"phylum\",\"order\",\"sci_name\",\"color\"]]=hgts\n",
      "/tmp/ipykernel_682895/273728966.py:5: FutureWarning: In a future version, `df.iloc[:, i] = newvals` will attempt to set the values inplace instead of always setting a new array. To retain the old behavior, use either `df[df.columns[i]] = newvals` or, if columns are non-unique, `df.isetitem(i, newvals)`\n",
      "  df.loc[:,[\"taxid\",\"superkingdom\",\"kingdom\",\"phylum\",\"order\",\"sci_name\",\"color\"]]=hgts\n"
     ]
    },
    {
     "name": "stdout",
     "output_type": "stream",
     "text": [
      "pir|B84500|\n",
      "MCF8701902.1\n",
      "prf||1107279B\n"
     ]
    },
    {
     "name": "stderr",
     "output_type": "stream",
     "text": [
      "/tmp/ipykernel_682895/273728966.py:5: FutureWarning: In a future version, `df.iloc[:, i] = newvals` will attempt to set the values inplace instead of always setting a new array. To retain the old behavior, use either `df[df.columns[i]] = newvals` or, if columns are non-unique, `df.isetitem(i, newvals)`\n",
      "  df.loc[:,[\"taxid\",\"superkingdom\",\"kingdom\",\"phylum\",\"order\",\"sci_name\",\"color\"]]=hgts\n",
      "/tmp/ipykernel_682895/273728966.py:5: FutureWarning: In a future version, `df.iloc[:, i] = newvals` will attempt to set the values inplace instead of always setting a new array. To retain the old behavior, use either `df[df.columns[i]] = newvals` or, if columns are non-unique, `df.isetitem(i, newvals)`\n",
      "  df.loc[:,[\"taxid\",\"superkingdom\",\"kingdom\",\"phylum\",\"order\",\"sci_name\",\"color\"]]=hgts\n",
      "/tmp/ipykernel_682895/273728966.py:5: FutureWarning: In a future version, `df.iloc[:, i] = newvals` will attempt to set the values inplace instead of always setting a new array. To retain the old behavior, use either `df[df.columns[i]] = newvals` or, if columns are non-unique, `df.isetitem(i, newvals)`\n",
      "  df.loc[:,[\"taxid\",\"superkingdom\",\"kingdom\",\"phylum\",\"order\",\"sci_name\",\"color\"]]=hgts\n",
      "/tmp/ipykernel_682895/273728966.py:5: FutureWarning: In a future version, `df.iloc[:, i] = newvals` will attempt to set the values inplace instead of always setting a new array. To retain the old behavior, use either `df[df.columns[i]] = newvals` or, if columns are non-unique, `df.isetitem(i, newvals)`\n",
      "  df.loc[:,[\"taxid\",\"superkingdom\",\"kingdom\",\"phylum\",\"order\",\"sci_name\",\"color\"]]=hgts\n"
     ]
    },
    {
     "name": "stdout",
     "output_type": "stream",
     "text": [
      "MBE7066255.1\n"
     ]
    },
    {
     "name": "stderr",
     "output_type": "stream",
     "text": [
      "/tmp/ipykernel_682895/273728966.py:5: FutureWarning: In a future version, `df.iloc[:, i] = newvals` will attempt to set the values inplace instead of always setting a new array. To retain the old behavior, use either `df[df.columns[i]] = newvals` or, if columns are non-unique, `df.isetitem(i, newvals)`\n",
      "  df.loc[:,[\"taxid\",\"superkingdom\",\"kingdom\",\"phylum\",\"order\",\"sci_name\",\"color\"]]=hgts\n",
      "/tmp/ipykernel_682895/273728966.py:5: FutureWarning: In a future version, `df.iloc[:, i] = newvals` will attempt to set the values inplace instead of always setting a new array. To retain the old behavior, use either `df[df.columns[i]] = newvals` or, if columns are non-unique, `df.isetitem(i, newvals)`\n",
      "  df.loc[:,[\"taxid\",\"superkingdom\",\"kingdom\",\"phylum\",\"order\",\"sci_name\",\"color\"]]=hgts\n"
     ]
    },
    {
     "name": "stdout",
     "output_type": "stream",
     "text": [
      "pir|B56679|\n",
      "pir|S42831|\n"
     ]
    },
    {
     "name": "stderr",
     "output_type": "stream",
     "text": [
      "/tmp/ipykernel_682895/273728966.py:5: FutureWarning: In a future version, `df.iloc[:, i] = newvals` will attempt to set the values inplace instead of always setting a new array. To retain the old behavior, use either `df[df.columns[i]] = newvals` or, if columns are non-unique, `df.isetitem(i, newvals)`\n",
      "  df.loc[:,[\"taxid\",\"superkingdom\",\"kingdom\",\"phylum\",\"order\",\"sci_name\",\"color\"]]=hgts\n"
     ]
    },
    {
     "name": "stdout",
     "output_type": "stream",
     "text": [
      "MBE6559409.1\n"
     ]
    },
    {
     "name": "stderr",
     "output_type": "stream",
     "text": [
      "/tmp/ipykernel_682895/273728966.py:5: FutureWarning: In a future version, `df.iloc[:, i] = newvals` will attempt to set the values inplace instead of always setting a new array. To retain the old behavior, use either `df[df.columns[i]] = newvals` or, if columns are non-unique, `df.isetitem(i, newvals)`\n",
      "  df.loc[:,[\"taxid\",\"superkingdom\",\"kingdom\",\"phylum\",\"order\",\"sci_name\",\"color\"]]=hgts\n",
      "/tmp/ipykernel_682895/273728966.py:5: FutureWarning: In a future version, `df.iloc[:, i] = newvals` will attempt to set the values inplace instead of always setting a new array. To retain the old behavior, use either `df[df.columns[i]] = newvals` or, if columns are non-unique, `df.isetitem(i, newvals)`\n",
      "  df.loc[:,[\"taxid\",\"superkingdom\",\"kingdom\",\"phylum\",\"order\",\"sci_name\",\"color\"]]=hgts\n",
      "/tmp/ipykernel_682895/273728966.py:5: FutureWarning: In a future version, `df.iloc[:, i] = newvals` will attempt to set the values inplace instead of always setting a new array. To retain the old behavior, use either `df[df.columns[i]] = newvals` or, if columns are non-unique, `df.isetitem(i, newvals)`\n",
      "  df.loc[:,[\"taxid\",\"superkingdom\",\"kingdom\",\"phylum\",\"order\",\"sci_name\",\"color\"]]=hgts\n",
      "/tmp/ipykernel_682895/273728966.py:5: FutureWarning: In a future version, `df.iloc[:, i] = newvals` will attempt to set the values inplace instead of always setting a new array. To retain the old behavior, use either `df[df.columns[i]] = newvals` or, if columns are non-unique, `df.isetitem(i, newvals)`\n",
      "  df.loc[:,[\"taxid\",\"superkingdom\",\"kingdom\",\"phylum\",\"order\",\"sci_name\",\"color\"]]=hgts\n",
      "/tmp/ipykernel_682895/273728966.py:5: FutureWarning: In a future version, `df.iloc[:, i] = newvals` will attempt to set the values inplace instead of always setting a new array. To retain the old behavior, use either `df[df.columns[i]] = newvals` or, if columns are non-unique, `df.isetitem(i, newvals)`\n",
      "  df.loc[:,[\"taxid\",\"superkingdom\",\"kingdom\",\"phylum\",\"order\",\"sci_name\",\"color\"]]=hgts\n",
      "/tmp/ipykernel_682895/273728966.py:5: FutureWarning: In a future version, `df.iloc[:, i] = newvals` will attempt to set the values inplace instead of always setting a new array. To retain the old behavior, use either `df[df.columns[i]] = newvals` or, if columns are non-unique, `df.isetitem(i, newvals)`\n",
      "  df.loc[:,[\"taxid\",\"superkingdom\",\"kingdom\",\"phylum\",\"order\",\"sci_name\",\"color\"]]=hgts\n"
     ]
    },
    {
     "name": "stdout",
     "output_type": "stream",
     "text": [
      "pir|S54987|pir|S54995|\n",
      "\n",
      "pir|S54990|\n",
      "pir|S54988|\n"
     ]
    },
    {
     "name": "stderr",
     "output_type": "stream",
     "text": [
      "/tmp/ipykernel_682895/273728966.py:5: FutureWarning: In a future version, `df.iloc[:, i] = newvals` will attempt to set the values inplace instead of always setting a new array. To retain the old behavior, use either `df[df.columns[i]] = newvals` or, if columns are non-unique, `df.isetitem(i, newvals)`\n",
      "  df.loc[:,[\"taxid\",\"superkingdom\",\"kingdom\",\"phylum\",\"order\",\"sci_name\",\"color\"]]=hgts\n",
      "/tmp/ipykernel_682895/273728966.py:5: FutureWarning: In a future version, `df.iloc[:, i] = newvals` will attempt to set the values inplace instead of always setting a new array. To retain the old behavior, use either `df[df.columns[i]] = newvals` or, if columns are non-unique, `df.isetitem(i, newvals)`\n",
      "  df.loc[:,[\"taxid\",\"superkingdom\",\"kingdom\",\"phylum\",\"order\",\"sci_name\",\"color\"]]=hgts\n"
     ]
    },
    {
     "name": "stdout",
     "output_type": "stream",
     "text": [
      "ADD95833.1\n"
     ]
    },
    {
     "name": "stderr",
     "output_type": "stream",
     "text": [
      "/tmp/ipykernel_682895/273728966.py:5: FutureWarning: In a future version, `df.iloc[:, i] = newvals` will attempt to set the values inplace instead of always setting a new array. To retain the old behavior, use either `df[df.columns[i]] = newvals` or, if columns are non-unique, `df.isetitem(i, newvals)`\n",
      "  df.loc[:,[\"taxid\",\"superkingdom\",\"kingdom\",\"phylum\",\"order\",\"sci_name\",\"color\"]]=hgts\n",
      "/tmp/ipykernel_682895/273728966.py:5: FutureWarning: In a future version, `df.iloc[:, i] = newvals` will attempt to set the values inplace instead of always setting a new array. To retain the old behavior, use either `df[df.columns[i]] = newvals` or, if columns are non-unique, `df.isetitem(i, newvals)`\n",
      "  df.loc[:,[\"taxid\",\"superkingdom\",\"kingdom\",\"phylum\",\"order\",\"sci_name\",\"color\"]]=hgts\n",
      "/tmp/ipykernel_682895/273728966.py:5: FutureWarning: In a future version, `df.iloc[:, i] = newvals` will attempt to set the values inplace instead of always setting a new array. To retain the old behavior, use either `df[df.columns[i]] = newvals` or, if columns are non-unique, `df.isetitem(i, newvals)`\n",
      "  df.loc[:,[\"taxid\",\"superkingdom\",\"kingdom\",\"phylum\",\"order\",\"sci_name\",\"color\"]]=hgts\n",
      "/tmp/ipykernel_682895/273728966.py:5: FutureWarning: In a future version, `df.iloc[:, i] = newvals` will attempt to set the values inplace instead of always setting a new array. To retain the old behavior, use either `df[df.columns[i]] = newvals` or, if columns are non-unique, `df.isetitem(i, newvals)`\n",
      "  df.loc[:,[\"taxid\",\"superkingdom\",\"kingdom\",\"phylum\",\"order\",\"sci_name\",\"color\"]]=hgts\n"
     ]
    },
    {
     "name": "stdout",
     "output_type": "stream",
     "text": [
      "MBH8563347.1\n",
      "VDS02580.1\n",
      "WP_244967808.1\n",
      "WP_244590647.1\n",
      "MBH8560799.1\n",
      "pir|T26836|\n"
     ]
    },
    {
     "name": "stderr",
     "output_type": "stream",
     "text": [
      "/tmp/ipykernel_682895/273728966.py:5: FutureWarning: In a future version, `df.iloc[:, i] = newvals` will attempt to set the values inplace instead of always setting a new array. To retain the old behavior, use either `df[df.columns[i]] = newvals` or, if columns are non-unique, `df.isetitem(i, newvals)`\n",
      "  df.loc[:,[\"taxid\",\"superkingdom\",\"kingdom\",\"phylum\",\"order\",\"sci_name\",\"color\"]]=hgts\n",
      "/tmp/ipykernel_682895/273728966.py:5: FutureWarning: In a future version, `df.iloc[:, i] = newvals` will attempt to set the values inplace instead of always setting a new array. To retain the old behavior, use either `df[df.columns[i]] = newvals` or, if columns are non-unique, `df.isetitem(i, newvals)`\n",
      "  df.loc[:,[\"taxid\",\"superkingdom\",\"kingdom\",\"phylum\",\"order\",\"sci_name\",\"color\"]]=hgts\n",
      "/tmp/ipykernel_682895/273728966.py:5: FutureWarning: In a future version, `df.iloc[:, i] = newvals` will attempt to set the values inplace instead of always setting a new array. To retain the old behavior, use either `df[df.columns[i]] = newvals` or, if columns are non-unique, `df.isetitem(i, newvals)`\n",
      "  df.loc[:,[\"taxid\",\"superkingdom\",\"kingdom\",\"phylum\",\"order\",\"sci_name\",\"color\"]]=hgts\n",
      "/tmp/ipykernel_682895/273728966.py:5: FutureWarning: In a future version, `df.iloc[:, i] = newvals` will attempt to set the values inplace instead of always setting a new array. To retain the old behavior, use either `df[df.columns[i]] = newvals` or, if columns are non-unique, `df.isetitem(i, newvals)`\n",
      "  df.loc[:,[\"taxid\",\"superkingdom\",\"kingdom\",\"phylum\",\"order\",\"sci_name\",\"color\"]]=hgts\n",
      "/tmp/ipykernel_682895/273728966.py:5: FutureWarning: In a future version, `df.iloc[:, i] = newvals` will attempt to set the values inplace instead of always setting a new array. To retain the old behavior, use either `df[df.columns[i]] = newvals` or, if columns are non-unique, `df.isetitem(i, newvals)`\n",
      "  df.loc[:,[\"taxid\",\"superkingdom\",\"kingdom\",\"phylum\",\"order\",\"sci_name\",\"color\"]]=hgts\n",
      "/tmp/ipykernel_682895/273728966.py:5: FutureWarning: In a future version, `df.iloc[:, i] = newvals` will attempt to set the values inplace instead of always setting a new array. To retain the old behavior, use either `df[df.columns[i]] = newvals` or, if columns are non-unique, `df.isetitem(i, newvals)`\n",
      "  df.loc[:,[\"taxid\",\"superkingdom\",\"kingdom\",\"phylum\",\"order\",\"sci_name\",\"color\"]]=hgts\n",
      "/tmp/ipykernel_682895/273728966.py:5: FutureWarning: In a future version, `df.iloc[:, i] = newvals` will attempt to set the values inplace instead of always setting a new array. To retain the old behavior, use either `df[df.columns[i]] = newvals` or, if columns are non-unique, `df.isetitem(i, newvals)`\n",
      "  df.loc[:,[\"taxid\",\"superkingdom\",\"kingdom\",\"phylum\",\"order\",\"sci_name\",\"color\"]]=hgts\n",
      "/tmp/ipykernel_682895/273728966.py:5: FutureWarning: In a future version, `df.iloc[:, i] = newvals` will attempt to set the values inplace instead of always setting a new array. To retain the old behavior, use either `df[df.columns[i]] = newvals` or, if columns are non-unique, `df.isetitem(i, newvals)`\n",
      "  df.loc[:,[\"taxid\",\"superkingdom\",\"kingdom\",\"phylum\",\"order\",\"sci_name\",\"color\"]]=hgts\n",
      "/tmp/ipykernel_682895/273728966.py:5: FutureWarning: In a future version, `df.iloc[:, i] = newvals` will attempt to set the values inplace instead of always setting a new array. To retain the old behavior, use either `df[df.columns[i]] = newvals` or, if columns are non-unique, `df.isetitem(i, newvals)`\n",
      "  df.loc[:,[\"taxid\",\"superkingdom\",\"kingdom\",\"phylum\",\"order\",\"sci_name\",\"color\"]]=hgts\n"
     ]
    },
    {
     "name": "stdout",
     "output_type": "stream",
     "text": [
      "pir|T34263|\n",
      "pir|S54988|\n",
      "pir|S54990|\n",
      "pir|S54987|\n",
      "XP_050048162.1\n"
     ]
    },
    {
     "name": "stderr",
     "output_type": "stream",
     "text": [
      "/tmp/ipykernel_682895/273728966.py:5: FutureWarning: In a future version, `df.iloc[:, i] = newvals` will attempt to set the values inplace instead of always setting a new array. To retain the old behavior, use either `df[df.columns[i]] = newvals` or, if columns are non-unique, `df.isetitem(i, newvals)`\n",
      "  df.loc[:,[\"taxid\",\"superkingdom\",\"kingdom\",\"phylum\",\"order\",\"sci_name\",\"color\"]]=hgts\n",
      "/tmp/ipykernel_682895/273728966.py:5: FutureWarning: In a future version, `df.iloc[:, i] = newvals` will attempt to set the values inplace instead of always setting a new array. To retain the old behavior, use either `df[df.columns[i]] = newvals` or, if columns are non-unique, `df.isetitem(i, newvals)`\n",
      "  df.loc[:,[\"taxid\",\"superkingdom\",\"kingdom\",\"phylum\",\"order\",\"sci_name\",\"color\"]]=hgts\n",
      "/tmp/ipykernel_682895/273728966.py:5: FutureWarning: In a future version, `df.iloc[:, i] = newvals` will attempt to set the values inplace instead of always setting a new array. To retain the old behavior, use either `df[df.columns[i]] = newvals` or, if columns are non-unique, `df.isetitem(i, newvals)`\n",
      "  df.loc[:,[\"taxid\",\"superkingdom\",\"kingdom\",\"phylum\",\"order\",\"sci_name\",\"color\"]]=hgts\n",
      "/tmp/ipykernel_682895/273728966.py:5: FutureWarning: In a future version, `df.iloc[:, i] = newvals` will attempt to set the values inplace instead of always setting a new array. To retain the old behavior, use either `df[df.columns[i]] = newvals` or, if columns are non-unique, `df.isetitem(i, newvals)`\n",
      "  df.loc[:,[\"taxid\",\"superkingdom\",\"kingdom\",\"phylum\",\"order\",\"sci_name\",\"color\"]]=hgts\n"
     ]
    },
    {
     "name": "stdout",
     "output_type": "stream",
     "text": [
      "NCJ05912.1\n"
     ]
    },
    {
     "name": "stderr",
     "output_type": "stream",
     "text": [
      "/tmp/ipykernel_682895/273728966.py:5: FutureWarning: In a future version, `df.iloc[:, i] = newvals` will attempt to set the values inplace instead of always setting a new array. To retain the old behavior, use either `df[df.columns[i]] = newvals` or, if columns are non-unique, `df.isetitem(i, newvals)`\n",
      "  df.loc[:,[\"taxid\",\"superkingdom\",\"kingdom\",\"phylum\",\"order\",\"sci_name\",\"color\"]]=hgts\n",
      "/tmp/ipykernel_682895/273728966.py:5: FutureWarning: In a future version, `df.iloc[:, i] = newvals` will attempt to set the values inplace instead of always setting a new array. To retain the old behavior, use either `df[df.columns[i]] = newvals` or, if columns are non-unique, `df.isetitem(i, newvals)`\n",
      "  df.loc[:,[\"taxid\",\"superkingdom\",\"kingdom\",\"phylum\",\"order\",\"sci_name\",\"color\"]]=hgts\n",
      "/tmp/ipykernel_682895/273728966.py:5: FutureWarning: In a future version, `df.iloc[:, i] = newvals` will attempt to set the values inplace instead of always setting a new array. To retain the old behavior, use either `df[df.columns[i]] = newvals` or, if columns are non-unique, `df.isetitem(i, newvals)`\n",
      "  df.loc[:,[\"taxid\",\"superkingdom\",\"kingdom\",\"phylum\",\"order\",\"sci_name\",\"color\"]]=hgts\n",
      "/tmp/ipykernel_682895/273728966.py:5: FutureWarning: In a future version, `df.iloc[:, i] = newvals` will attempt to set the values inplace instead of always setting a new array. To retain the old behavior, use either `df[df.columns[i]] = newvals` or, if columns are non-unique, `df.isetitem(i, newvals)`\n",
      "  df.loc[:,[\"taxid\",\"superkingdom\",\"kingdom\",\"phylum\",\"order\",\"sci_name\",\"color\"]]=hgts\n",
      "/tmp/ipykernel_682895/273728966.py:5: FutureWarning: In a future version, `df.iloc[:, i] = newvals` will attempt to set the values inplace instead of always setting a new array. To retain the old behavior, use either `df[df.columns[i]] = newvals` or, if columns are non-unique, `df.isetitem(i, newvals)`\n",
      "  df.loc[:,[\"taxid\",\"superkingdom\",\"kingdom\",\"phylum\",\"order\",\"sci_name\",\"color\"]]=hgts\n",
      "/tmp/ipykernel_682895/273728966.py:5: FutureWarning: In a future version, `df.iloc[:, i] = newvals` will attempt to set the values inplace instead of always setting a new array. To retain the old behavior, use either `df[df.columns[i]] = newvals` or, if columns are non-unique, `df.isetitem(i, newvals)`\n",
      "  df.loc[:,[\"taxid\",\"superkingdom\",\"kingdom\",\"phylum\",\"order\",\"sci_name\",\"color\"]]=hgts\n"
     ]
    },
    {
     "name": "stdout",
     "output_type": "stream",
     "text": [
      "AGU10417.1\n",
      "MCF8701934.1\n"
     ]
    },
    {
     "name": "stderr",
     "output_type": "stream",
     "text": [
      "/tmp/ipykernel_682895/273728966.py:5: FutureWarning: In a future version, `df.iloc[:, i] = newvals` will attempt to set the values inplace instead of always setting a new array. To retain the old behavior, use either `df[df.columns[i]] = newvals` or, if columns are non-unique, `df.isetitem(i, newvals)`\n",
      "  df.loc[:,[\"taxid\",\"superkingdom\",\"kingdom\",\"phylum\",\"order\",\"sci_name\",\"color\"]]=hgts\n",
      "/tmp/ipykernel_682895/273728966.py:5: FutureWarning: In a future version, `df.iloc[:, i] = newvals` will attempt to set the values inplace instead of always setting a new array. To retain the old behavior, use either `df[df.columns[i]] = newvals` or, if columns are non-unique, `df.isetitem(i, newvals)`\n",
      "  df.loc[:,[\"taxid\",\"superkingdom\",\"kingdom\",\"phylum\",\"order\",\"sci_name\",\"color\"]]=hgts\n",
      "/tmp/ipykernel_682895/273728966.py:5: FutureWarning: In a future version, `df.iloc[:, i] = newvals` will attempt to set the values inplace instead of always setting a new array. To retain the old behavior, use either `df[df.columns[i]] = newvals` or, if columns are non-unique, `df.isetitem(i, newvals)`\n",
      "  df.loc[:,[\"taxid\",\"superkingdom\",\"kingdom\",\"phylum\",\"order\",\"sci_name\",\"color\"]]=hgts\n",
      "/tmp/ipykernel_682895/273728966.py:5: FutureWarning: In a future version, `df.iloc[:, i] = newvals` will attempt to set the values inplace instead of always setting a new array. To retain the old behavior, use either `df[df.columns[i]] = newvals` or, if columns are non-unique, `df.isetitem(i, newvals)`\n",
      "  df.loc[:,[\"taxid\",\"superkingdom\",\"kingdom\",\"phylum\",\"order\",\"sci_name\",\"color\"]]=hgts\n",
      "/tmp/ipykernel_682895/273728966.py:5: FutureWarning: In a future version, `df.iloc[:, i] = newvals` will attempt to set the values inplace instead of always setting a new array. To retain the old behavior, use either `df[df.columns[i]] = newvals` or, if columns are non-unique, `df.isetitem(i, newvals)`\n",
      "  df.loc[:,[\"taxid\",\"superkingdom\",\"kingdom\",\"phylum\",\"order\",\"sci_name\",\"color\"]]=hgts\n",
      "/tmp/ipykernel_682895/273728966.py:5: FutureWarning: In a future version, `df.iloc[:, i] = newvals` will attempt to set the values inplace instead of always setting a new array. To retain the old behavior, use either `df[df.columns[i]] = newvals` or, if columns are non-unique, `df.isetitem(i, newvals)`\n",
      "  df.loc[:,[\"taxid\",\"superkingdom\",\"kingdom\",\"phylum\",\"order\",\"sci_name\",\"color\"]]=hgts\n",
      "/tmp/ipykernel_682895/273728966.py:5: FutureWarning: In a future version, `df.iloc[:, i] = newvals` will attempt to set the values inplace instead of always setting a new array. To retain the old behavior, use either `df[df.columns[i]] = newvals` or, if columns are non-unique, `df.isetitem(i, newvals)`\n",
      "  df.loc[:,[\"taxid\",\"superkingdom\",\"kingdom\",\"phylum\",\"order\",\"sci_name\",\"color\"]]=hgts\n",
      "/tmp/ipykernel_682895/273728966.py:5: FutureWarning: In a future version, `df.iloc[:, i] = newvals` will attempt to set the values inplace instead of always setting a new array. To retain the old behavior, use either `df[df.columns[i]] = newvals` or, if columns are non-unique, `df.isetitem(i, newvals)`\n",
      "  df.loc[:,[\"taxid\",\"superkingdom\",\"kingdom\",\"phylum\",\"order\",\"sci_name\",\"color\"]]=hgts\n",
      "/tmp/ipykernel_682895/273728966.py:5: FutureWarning: In a future version, `df.iloc[:, i] = newvals` will attempt to set the values inplace instead of always setting a new array. To retain the old behavior, use either `df[df.columns[i]] = newvals` or, if columns are non-unique, `df.isetitem(i, newvals)`\n",
      "  df.loc[:,[\"taxid\",\"superkingdom\",\"kingdom\",\"phylum\",\"order\",\"sci_name\",\"color\"]]=hgts\n",
      "/tmp/ipykernel_682895/273728966.py:5: FutureWarning: In a future version, `df.iloc[:, i] = newvals` will attempt to set the values inplace instead of always setting a new array. To retain the old behavior, use either `df[df.columns[i]] = newvals` or, if columns are non-unique, `df.isetitem(i, newvals)`\n",
      "  df.loc[:,[\"taxid\",\"superkingdom\",\"kingdom\",\"phylum\",\"order\",\"sci_name\",\"color\"]]=hgts\n",
      "/tmp/ipykernel_682895/273728966.py:5: FutureWarning: In a future version, `df.iloc[:, i] = newvals` will attempt to set the values inplace instead of always setting a new array. To retain the old behavior, use either `df[df.columns[i]] = newvals` or, if columns are non-unique, `df.isetitem(i, newvals)`\n",
      "  df.loc[:,[\"taxid\",\"superkingdom\",\"kingdom\",\"phylum\",\"order\",\"sci_name\",\"color\"]]=hgts\n",
      "/tmp/ipykernel_682895/273728966.py:5: FutureWarning: In a future version, `df.iloc[:, i] = newvals` will attempt to set the values inplace instead of always setting a new array. To retain the old behavior, use either `df[df.columns[i]] = newvals` or, if columns are non-unique, `df.isetitem(i, newvals)`\n",
      "  df.loc[:,[\"taxid\",\"superkingdom\",\"kingdom\",\"phylum\",\"order\",\"sci_name\",\"color\"]]=hgts\n"
     ]
    },
    {
     "name": "stdout",
     "output_type": "stream",
     "text": [
      "CRY93850.1\n",
      "HCS02006.1\n",
      "DAO96067.1\n"
     ]
    },
    {
     "name": "stderr",
     "output_type": "stream",
     "text": [
      "/tmp/ipykernel_682895/273728966.py:5: FutureWarning: In a future version, `df.iloc[:, i] = newvals` will attempt to set the values inplace instead of always setting a new array. To retain the old behavior, use either `df[df.columns[i]] = newvals` or, if columns are non-unique, `df.isetitem(i, newvals)`\n",
      "  df.loc[:,[\"taxid\",\"superkingdom\",\"kingdom\",\"phylum\",\"order\",\"sci_name\",\"color\"]]=hgts\n"
     ]
    },
    {
     "name": "stdout",
     "output_type": "stream",
     "text": [
      "WP_232475500.1\n",
      "MBK5072365.1\n",
      "pir|AD0531|\n",
      "MCC3294819.1\n",
      "MBE7051595.1\n",
      "MCU0595913.1\n",
      "MBA2117270.1\n",
      "pir|T31583|\n",
      "MBE6564449.1\n"
     ]
    },
    {
     "name": "stderr",
     "output_type": "stream",
     "text": [
      "/tmp/ipykernel_682895/273728966.py:5: FutureWarning: In a future version, `df.iloc[:, i] = newvals` will attempt to set the values inplace instead of always setting a new array. To retain the old behavior, use either `df[df.columns[i]] = newvals` or, if columns are non-unique, `df.isetitem(i, newvals)`\n",
      "  df.loc[:,[\"taxid\",\"superkingdom\",\"kingdom\",\"phylum\",\"order\",\"sci_name\",\"color\"]]=hgts\n"
     ]
    },
    {
     "name": "stdout",
     "output_type": "stream",
     "text": [
      "MBH8563215.1\n"
     ]
    },
    {
     "name": "stderr",
     "output_type": "stream",
     "text": [
      "/tmp/ipykernel_682895/273728966.py:5: FutureWarning: In a future version, `df.iloc[:, i] = newvals` will attempt to set the values inplace instead of always setting a new array. To retain the old behavior, use either `df[df.columns[i]] = newvals` or, if columns are non-unique, `df.isetitem(i, newvals)`\n",
      "  df.loc[:,[\"taxid\",\"superkingdom\",\"kingdom\",\"phylum\",\"order\",\"sci_name\",\"color\"]]=hgts\n",
      "/tmp/ipykernel_682895/273728966.py:5: FutureWarning: In a future version, `df.iloc[:, i] = newvals` will attempt to set the values inplace instead of always setting a new array. To retain the old behavior, use either `df[df.columns[i]] = newvals` or, if columns are non-unique, `df.isetitem(i, newvals)`\n",
      "  df.loc[:,[\"taxid\",\"superkingdom\",\"kingdom\",\"phylum\",\"order\",\"sci_name\",\"color\"]]=hgts\n",
      "/tmp/ipykernel_682895/273728966.py:5: FutureWarning: In a future version, `df.iloc[:, i] = newvals` will attempt to set the values inplace instead of always setting a new array. To retain the old behavior, use either `df[df.columns[i]] = newvals` or, if columns are non-unique, `df.isetitem(i, newvals)`\n",
      "  df.loc[:,[\"taxid\",\"superkingdom\",\"kingdom\",\"phylum\",\"order\",\"sci_name\",\"color\"]]=hgts\n",
      "/tmp/ipykernel_682895/273728966.py:5: FutureWarning: In a future version, `df.iloc[:, i] = newvals` will attempt to set the values inplace instead of always setting a new array. To retain the old behavior, use either `df[df.columns[i]] = newvals` or, if columns are non-unique, `df.isetitem(i, newvals)`\n",
      "  df.loc[:,[\"taxid\",\"superkingdom\",\"kingdom\",\"phylum\",\"order\",\"sci_name\",\"color\"]]=hgts\n"
     ]
    },
    {
     "name": "stdout",
     "output_type": "stream",
     "text": [
      "MPR12036.1\n"
     ]
    },
    {
     "name": "stderr",
     "output_type": "stream",
     "text": [
      "/tmp/ipykernel_682895/273728966.py:5: FutureWarning: In a future version, `df.iloc[:, i] = newvals` will attempt to set the values inplace instead of always setting a new array. To retain the old behavior, use either `df[df.columns[i]] = newvals` or, if columns are non-unique, `df.isetitem(i, newvals)`\n",
      "  df.loc[:,[\"taxid\",\"superkingdom\",\"kingdom\",\"phylum\",\"order\",\"sci_name\",\"color\"]]=hgts\n",
      "/tmp/ipykernel_682895/273728966.py:5: FutureWarning: In a future version, `df.iloc[:, i] = newvals` will attempt to set the values inplace instead of always setting a new array. To retain the old behavior, use either `df[df.columns[i]] = newvals` or, if columns are non-unique, `df.isetitem(i, newvals)`\n",
      "  df.loc[:,[\"taxid\",\"superkingdom\",\"kingdom\",\"phylum\",\"order\",\"sci_name\",\"color\"]]=hgts\n",
      "/tmp/ipykernel_682895/273728966.py:5: FutureWarning: In a future version, `df.iloc[:, i] = newvals` will attempt to set the values inplace instead of always setting a new array. To retain the old behavior, use either `df[df.columns[i]] = newvals` or, if columns are non-unique, `df.isetitem(i, newvals)`\n",
      "  df.loc[:,[\"taxid\",\"superkingdom\",\"kingdom\",\"phylum\",\"order\",\"sci_name\",\"color\"]]=hgts\n",
      "/tmp/ipykernel_682895/273728966.py:5: FutureWarning: In a future version, `df.iloc[:, i] = newvals` will attempt to set the values inplace instead of always setting a new array. To retain the old behavior, use either `df[df.columns[i]] = newvals` or, if columns are non-unique, `df.isetitem(i, newvals)`\n",
      "  df.loc[:,[\"taxid\",\"superkingdom\",\"kingdom\",\"phylum\",\"order\",\"sci_name\",\"color\"]]=hgts\n"
     ]
    },
    {
     "name": "stdout",
     "output_type": "stream",
     "text": [
      "MBE6559409.1\n"
     ]
    },
    {
     "name": "stderr",
     "output_type": "stream",
     "text": [
      "/tmp/ipykernel_682895/273728966.py:5: FutureWarning: In a future version, `df.iloc[:, i] = newvals` will attempt to set the values inplace instead of always setting a new array. To retain the old behavior, use either `df[df.columns[i]] = newvals` or, if columns are non-unique, `df.isetitem(i, newvals)`\n",
      "  df.loc[:,[\"taxid\",\"superkingdom\",\"kingdom\",\"phylum\",\"order\",\"sci_name\",\"color\"]]=hgts\n",
      "/tmp/ipykernel_682895/273728966.py:5: FutureWarning: In a future version, `df.iloc[:, i] = newvals` will attempt to set the values inplace instead of always setting a new array. To retain the old behavior, use either `df[df.columns[i]] = newvals` or, if columns are non-unique, `df.isetitem(i, newvals)`\n",
      "  df.loc[:,[\"taxid\",\"superkingdom\",\"kingdom\",\"phylum\",\"order\",\"sci_name\",\"color\"]]=hgts\n",
      "/tmp/ipykernel_682895/273728966.py:5: FutureWarning: In a future version, `df.iloc[:, i] = newvals` will attempt to set the values inplace instead of always setting a new array. To retain the old behavior, use either `df[df.columns[i]] = newvals` or, if columns are non-unique, `df.isetitem(i, newvals)`\n",
      "  df.loc[:,[\"taxid\",\"superkingdom\",\"kingdom\",\"phylum\",\"order\",\"sci_name\",\"color\"]]=hgts\n",
      "/tmp/ipykernel_682895/273728966.py:5: FutureWarning: In a future version, `df.iloc[:, i] = newvals` will attempt to set the values inplace instead of always setting a new array. To retain the old behavior, use either `df[df.columns[i]] = newvals` or, if columns are non-unique, `df.isetitem(i, newvals)`\n",
      "  df.loc[:,[\"taxid\",\"superkingdom\",\"kingdom\",\"phylum\",\"order\",\"sci_name\",\"color\"]]=hgts\n",
      "/tmp/ipykernel_682895/273728966.py:5: FutureWarning: In a future version, `df.iloc[:, i] = newvals` will attempt to set the values inplace instead of always setting a new array. To retain the old behavior, use either `df[df.columns[i]] = newvals` or, if columns are non-unique, `df.isetitem(i, newvals)`\n",
      "  df.loc[:,[\"taxid\",\"superkingdom\",\"kingdom\",\"phylum\",\"order\",\"sci_name\",\"color\"]]=hgts\n"
     ]
    },
    {
     "name": "stdout",
     "output_type": "stream",
     "text": [
      "pir|I48283|\n",
      "pir|S37765|\n"
     ]
    },
    {
     "name": "stderr",
     "output_type": "stream",
     "text": [
      "/tmp/ipykernel_682895/273728966.py:5: FutureWarning: In a future version, `df.iloc[:, i] = newvals` will attempt to set the values inplace instead of always setting a new array. To retain the old behavior, use either `df[df.columns[i]] = newvals` or, if columns are non-unique, `df.isetitem(i, newvals)`\n",
      "  df.loc[:,[\"taxid\",\"superkingdom\",\"kingdom\",\"phylum\",\"order\",\"sci_name\",\"color\"]]=hgts\n"
     ]
    },
    {
     "name": "stdout",
     "output_type": "stream",
     "text": [
      "MCJ1442698.1\n",
      "pir|I48171|\n",
      "prf||1010303Q\n",
      "SJL86761.1\n",
      "SJL87854.1\n",
      "SJL87863.1\n",
      "SJL87857.1\n",
      "SJL87851.1\n",
      "pir|S54988|\n",
      "pir|S54990|\n"
     ]
    },
    {
     "name": "stderr",
     "output_type": "stream",
     "text": [
      "/tmp/ipykernel_682895/273728966.py:5: FutureWarning: In a future version, `df.iloc[:, i] = newvals` will attempt to set the values inplace instead of always setting a new array. To retain the old behavior, use either `df[df.columns[i]] = newvals` or, if columns are non-unique, `df.isetitem(i, newvals)`\n",
      "  df.loc[:,[\"taxid\",\"superkingdom\",\"kingdom\",\"phylum\",\"order\",\"sci_name\",\"color\"]]=hgts\n",
      "/tmp/ipykernel_682895/273728966.py:5: FutureWarning: In a future version, `df.iloc[:, i] = newvals` will attempt to set the values inplace instead of always setting a new array. To retain the old behavior, use either `df[df.columns[i]] = newvals` or, if columns are non-unique, `df.isetitem(i, newvals)`\n",
      "  df.loc[:,[\"taxid\",\"superkingdom\",\"kingdom\",\"phylum\",\"order\",\"sci_name\",\"color\"]]=hgts\n",
      "/tmp/ipykernel_682895/273728966.py:5: FutureWarning: In a future version, `df.iloc[:, i] = newvals` will attempt to set the values inplace instead of always setting a new array. To retain the old behavior, use either `df[df.columns[i]] = newvals` or, if columns are non-unique, `df.isetitem(i, newvals)`\n",
      "  df.loc[:,[\"taxid\",\"superkingdom\",\"kingdom\",\"phylum\",\"order\",\"sci_name\",\"color\"]]=hgts\n",
      "/tmp/ipykernel_682895/273728966.py:5: FutureWarning: In a future version, `df.iloc[:, i] = newvals` will attempt to set the values inplace instead of always setting a new array. To retain the old behavior, use either `df[df.columns[i]] = newvals` or, if columns are non-unique, `df.isetitem(i, newvals)`\n",
      "  df.loc[:,[\"taxid\",\"superkingdom\",\"kingdom\",\"phylum\",\"order\",\"sci_name\",\"color\"]]=hgts\n",
      "/tmp/ipykernel_682895/273728966.py:5: FutureWarning: In a future version, `df.iloc[:, i] = newvals` will attempt to set the values inplace instead of always setting a new array. To retain the old behavior, use either `df[df.columns[i]] = newvals` or, if columns are non-unique, `df.isetitem(i, newvals)`\n",
      "  df.loc[:,[\"taxid\",\"superkingdom\",\"kingdom\",\"phylum\",\"order\",\"sci_name\",\"color\"]]=hgts\n",
      "/tmp/ipykernel_682895/273728966.py:5: FutureWarning: In a future version, `df.iloc[:, i] = newvals` will attempt to set the values inplace instead of always setting a new array. To retain the old behavior, use either `df[df.columns[i]] = newvals` or, if columns are non-unique, `df.isetitem(i, newvals)`\n",
      "  df.loc[:,[\"taxid\",\"superkingdom\",\"kingdom\",\"phylum\",\"order\",\"sci_name\",\"color\"]]=hgts\n",
      "/tmp/ipykernel_682895/273728966.py:5: FutureWarning: In a future version, `df.iloc[:, i] = newvals` will attempt to set the values inplace instead of always setting a new array. To retain the old behavior, use either `df[df.columns[i]] = newvals` or, if columns are non-unique, `df.isetitem(i, newvals)`\n",
      "  df.loc[:,[\"taxid\",\"superkingdom\",\"kingdom\",\"phylum\",\"order\",\"sci_name\",\"color\"]]=hgts\n",
      "/tmp/ipykernel_682895/273728966.py:5: FutureWarning: In a future version, `df.iloc[:, i] = newvals` will attempt to set the values inplace instead of always setting a new array. To retain the old behavior, use either `df[df.columns[i]] = newvals` or, if columns are non-unique, `df.isetitem(i, newvals)`\n",
      "  df.loc[:,[\"taxid\",\"superkingdom\",\"kingdom\",\"phylum\",\"order\",\"sci_name\",\"color\"]]=hgts\n",
      "/tmp/ipykernel_682895/273728966.py:5: FutureWarning: In a future version, `df.iloc[:, i] = newvals` will attempt to set the values inplace instead of always setting a new array. To retain the old behavior, use either `df[df.columns[i]] = newvals` or, if columns are non-unique, `df.isetitem(i, newvals)`\n",
      "  df.loc[:,[\"taxid\",\"superkingdom\",\"kingdom\",\"phylum\",\"order\",\"sci_name\",\"color\"]]=hgts\n",
      "/tmp/ipykernel_682895/273728966.py:5: FutureWarning: In a future version, `df.iloc[:, i] = newvals` will attempt to set the values inplace instead of always setting a new array. To retain the old behavior, use either `df[df.columns[i]] = newvals` or, if columns are non-unique, `df.isetitem(i, newvals)`\n",
      "  df.loc[:,[\"taxid\",\"superkingdom\",\"kingdom\",\"phylum\",\"order\",\"sci_name\",\"color\"]]=hgts\n",
      "/tmp/ipykernel_682895/273728966.py:5: FutureWarning: In a future version, `df.iloc[:, i] = newvals` will attempt to set the values inplace instead of always setting a new array. To retain the old behavior, use either `df[df.columns[i]] = newvals` or, if columns are non-unique, `df.isetitem(i, newvals)`\n",
      "  df.loc[:,[\"taxid\",\"superkingdom\",\"kingdom\",\"phylum\",\"order\",\"sci_name\",\"color\"]]=hgts\n",
      "/tmp/ipykernel_682895/273728966.py:5: FutureWarning: In a future version, `df.iloc[:, i] = newvals` will attempt to set the values inplace instead of always setting a new array. To retain the old behavior, use either `df[df.columns[i]] = newvals` or, if columns are non-unique, `df.isetitem(i, newvals)`\n",
      "  df.loc[:,[\"taxid\",\"superkingdom\",\"kingdom\",\"phylum\",\"order\",\"sci_name\",\"color\"]]=hgts\n",
      "/tmp/ipykernel_682895/273728966.py:5: FutureWarning: In a future version, `df.iloc[:, i] = newvals` will attempt to set the values inplace instead of always setting a new array. To retain the old behavior, use either `df[df.columns[i]] = newvals` or, if columns are non-unique, `df.isetitem(i, newvals)`\n",
      "  df.loc[:,[\"taxid\",\"superkingdom\",\"kingdom\",\"phylum\",\"order\",\"sci_name\",\"color\"]]=hgts\n"
     ]
    },
    {
     "name": "stdout",
     "output_type": "stream",
     "text": [
      "WP_274043557.1\n"
     ]
    },
    {
     "name": "stderr",
     "output_type": "stream",
     "text": [
      "/tmp/ipykernel_682895/273728966.py:5: FutureWarning: In a future version, `df.iloc[:, i] = newvals` will attempt to set the values inplace instead of always setting a new array. To retain the old behavior, use either `df[df.columns[i]] = newvals` or, if columns are non-unique, `df.isetitem(i, newvals)`\n",
      "  df.loc[:,[\"taxid\",\"superkingdom\",\"kingdom\",\"phylum\",\"order\",\"sci_name\",\"color\"]]=hgts\n",
      "/tmp/ipykernel_682895/273728966.py:5: FutureWarning: In a future version, `df.iloc[:, i] = newvals` will attempt to set the values inplace instead of always setting a new array. To retain the old behavior, use either `df[df.columns[i]] = newvals` or, if columns are non-unique, `df.isetitem(i, newvals)`\n",
      "  df.loc[:,[\"taxid\",\"superkingdom\",\"kingdom\",\"phylum\",\"order\",\"sci_name\",\"color\"]]=hgts\n"
     ]
    },
    {
     "name": "stdout",
     "output_type": "stream",
     "text": [
      "pir|I53106|\n",
      "ATQ62672.1ATQ62666.1ATQ62669.1ATQ62673.1\n",
      "\n",
      "\n",
      "\n",
      "ATQ62676.1\n",
      "ATQ62668.1\n",
      "pir|S54988|\n",
      "pir|S54995|\n",
      "pir|S54990|\n",
      "pir|S54987|\n"
     ]
    },
    {
     "name": "stderr",
     "output_type": "stream",
     "text": [
      "/tmp/ipykernel_682895/273728966.py:5: FutureWarning: In a future version, `df.iloc[:, i] = newvals` will attempt to set the values inplace instead of always setting a new array. To retain the old behavior, use either `df[df.columns[i]] = newvals` or, if columns are non-unique, `df.isetitem(i, newvals)`\n",
      "  df.loc[:,[\"taxid\",\"superkingdom\",\"kingdom\",\"phylum\",\"order\",\"sci_name\",\"color\"]]=hgts\n",
      "/tmp/ipykernel_682895/273728966.py:5: FutureWarning: In a future version, `df.iloc[:, i] = newvals` will attempt to set the values inplace instead of always setting a new array. To retain the old behavior, use either `df[df.columns[i]] = newvals` or, if columns are non-unique, `df.isetitem(i, newvals)`\n",
      "  df.loc[:,[\"taxid\",\"superkingdom\",\"kingdom\",\"phylum\",\"order\",\"sci_name\",\"color\"]]=hgts\n"
     ]
    },
    {
     "name": "stdout",
     "output_type": "stream",
     "text": [
      "BDA76956.1\n",
      "ADZ30891.1\n",
      "QMU24032.1\n"
     ]
    },
    {
     "name": "stderr",
     "output_type": "stream",
     "text": [
      "/tmp/ipykernel_682895/273728966.py:5: FutureWarning: In a future version, `df.iloc[:, i] = newvals` will attempt to set the values inplace instead of always setting a new array. To retain the old behavior, use either `df[df.columns[i]] = newvals` or, if columns are non-unique, `df.isetitem(i, newvals)`\n",
      "  df.loc[:,[\"taxid\",\"superkingdom\",\"kingdom\",\"phylum\",\"order\",\"sci_name\",\"color\"]]=hgts\n",
      "/tmp/ipykernel_682895/273728966.py:5: FutureWarning: In a future version, `df.iloc[:, i] = newvals` will attempt to set the values inplace instead of always setting a new array. To retain the old behavior, use either `df[df.columns[i]] = newvals` or, if columns are non-unique, `df.isetitem(i, newvals)`\n",
      "  df.loc[:,[\"taxid\",\"superkingdom\",\"kingdom\",\"phylum\",\"order\",\"sci_name\",\"color\"]]=hgts\n",
      "/tmp/ipykernel_682895/273728966.py:5: FutureWarning: In a future version, `df.iloc[:, i] = newvals` will attempt to set the values inplace instead of always setting a new array. To retain the old behavior, use either `df[df.columns[i]] = newvals` or, if columns are non-unique, `df.isetitem(i, newvals)`\n",
      "  df.loc[:,[\"taxid\",\"superkingdom\",\"kingdom\",\"phylum\",\"order\",\"sci_name\",\"color\"]]=hgts\n",
      "/tmp/ipykernel_682895/273728966.py:5: FutureWarning: In a future version, `df.iloc[:, i] = newvals` will attempt to set the values inplace instead of always setting a new array. To retain the old behavior, use either `df[df.columns[i]] = newvals` or, if columns are non-unique, `df.isetitem(i, newvals)`\n",
      "  df.loc[:,[\"taxid\",\"superkingdom\",\"kingdom\",\"phylum\",\"order\",\"sci_name\",\"color\"]]=hgts\n"
     ]
    },
    {
     "name": "stdout",
     "output_type": "stream",
     "text": [
      "WGH58587.1\n",
      "WAC07964.1\n",
      "ABZ06576.1\n",
      "1NA0_A\n"
     ]
    },
    {
     "name": "stderr",
     "output_type": "stream",
     "text": [
      "/tmp/ipykernel_682895/273728966.py:5: FutureWarning: In a future version, `df.iloc[:, i] = newvals` will attempt to set the values inplace instead of always setting a new array. To retain the old behavior, use either `df[df.columns[i]] = newvals` or, if columns are non-unique, `df.isetitem(i, newvals)`\n",
      "  df.loc[:,[\"taxid\",\"superkingdom\",\"kingdom\",\"phylum\",\"order\",\"sci_name\",\"color\"]]=hgts\n",
      "/tmp/ipykernel_682895/273728966.py:5: FutureWarning: In a future version, `df.iloc[:, i] = newvals` will attempt to set the values inplace instead of always setting a new array. To retain the old behavior, use either `df[df.columns[i]] = newvals` or, if columns are non-unique, `df.isetitem(i, newvals)`\n",
      "  df.loc[:,[\"taxid\",\"superkingdom\",\"kingdom\",\"phylum\",\"order\",\"sci_name\",\"color\"]]=hgts\n",
      "/tmp/ipykernel_682895/273728966.py:5: FutureWarning: In a future version, `df.iloc[:, i] = newvals` will attempt to set the values inplace instead of always setting a new array. To retain the old behavior, use either `df[df.columns[i]] = newvals` or, if columns are non-unique, `df.isetitem(i, newvals)`\n",
      "  df.loc[:,[\"taxid\",\"superkingdom\",\"kingdom\",\"phylum\",\"order\",\"sci_name\",\"color\"]]=hgts\n"
     ]
    },
    {
     "name": "stdout",
     "output_type": "stream",
     "text": [
      "SJL86761.1\n",
      "SJL87854.1SJL87863.1\n",
      "\n",
      "SJL87857.1\n",
      "SJL87851.1\n"
     ]
    },
    {
     "name": "stderr",
     "output_type": "stream",
     "text": [
      "/tmp/ipykernel_682895/273728966.py:5: FutureWarning: In a future version, `df.iloc[:, i] = newvals` will attempt to set the values inplace instead of always setting a new array. To retain the old behavior, use either `df[df.columns[i]] = newvals` or, if columns are non-unique, `df.isetitem(i, newvals)`\n",
      "  df.loc[:,[\"taxid\",\"superkingdom\",\"kingdom\",\"phylum\",\"order\",\"sci_name\",\"color\"]]=hgts\n",
      "/tmp/ipykernel_682895/273728966.py:5: FutureWarning: In a future version, `df.iloc[:, i] = newvals` will attempt to set the values inplace instead of always setting a new array. To retain the old behavior, use either `df[df.columns[i]] = newvals` or, if columns are non-unique, `df.isetitem(i, newvals)`\n",
      "  df.loc[:,[\"taxid\",\"superkingdom\",\"kingdom\",\"phylum\",\"order\",\"sci_name\",\"color\"]]=hgts\n",
      "/tmp/ipykernel_682895/273728966.py:5: FutureWarning: In a future version, `df.iloc[:, i] = newvals` will attempt to set the values inplace instead of always setting a new array. To retain the old behavior, use either `df[df.columns[i]] = newvals` or, if columns are non-unique, `df.isetitem(i, newvals)`\n",
      "  df.loc[:,[\"taxid\",\"superkingdom\",\"kingdom\",\"phylum\",\"order\",\"sci_name\",\"color\"]]=hgts\n",
      "/tmp/ipykernel_682895/273728966.py:5: FutureWarning: In a future version, `df.iloc[:, i] = newvals` will attempt to set the values inplace instead of always setting a new array. To retain the old behavior, use either `df[df.columns[i]] = newvals` or, if columns are non-unique, `df.isetitem(i, newvals)`\n",
      "  df.loc[:,[\"taxid\",\"superkingdom\",\"kingdom\",\"phylum\",\"order\",\"sci_name\",\"color\"]]=hgts\n",
      "/tmp/ipykernel_682895/273728966.py:5: FutureWarning: In a future version, `df.iloc[:, i] = newvals` will attempt to set the values inplace instead of always setting a new array. To retain the old behavior, use either `df[df.columns[i]] = newvals` or, if columns are non-unique, `df.isetitem(i, newvals)`\n",
      "  df.loc[:,[\"taxid\",\"superkingdom\",\"kingdom\",\"phylum\",\"order\",\"sci_name\",\"color\"]]=hgts\n",
      "/tmp/ipykernel_682895/273728966.py:5: FutureWarning: In a future version, `df.iloc[:, i] = newvals` will attempt to set the values inplace instead of always setting a new array. To retain the old behavior, use either `df[df.columns[i]] = newvals` or, if columns are non-unique, `df.isetitem(i, newvals)`\n",
      "  df.loc[:,[\"taxid\",\"superkingdom\",\"kingdom\",\"phylum\",\"order\",\"sci_name\",\"color\"]]=hgts\n"
     ]
    },
    {
     "name": "stdout",
     "output_type": "stream",
     "text": [
      "CAM98678.1\n",
      "CAM98677.1\n"
     ]
    },
    {
     "name": "stderr",
     "output_type": "stream",
     "text": [
      "/tmp/ipykernel_682895/273728966.py:5: FutureWarning: In a future version, `df.iloc[:, i] = newvals` will attempt to set the values inplace instead of always setting a new array. To retain the old behavior, use either `df[df.columns[i]] = newvals` or, if columns are non-unique, `df.isetitem(i, newvals)`\n",
      "  df.loc[:,[\"taxid\",\"superkingdom\",\"kingdom\",\"phylum\",\"order\",\"sci_name\",\"color\"]]=hgts\n",
      "/tmp/ipykernel_682895/273728966.py:5: FutureWarning: In a future version, `df.iloc[:, i] = newvals` will attempt to set the values inplace instead of always setting a new array. To retain the old behavior, use either `df[df.columns[i]] = newvals` or, if columns are non-unique, `df.isetitem(i, newvals)`\n",
      "  df.loc[:,[\"taxid\",\"superkingdom\",\"kingdom\",\"phylum\",\"order\",\"sci_name\",\"color\"]]=hgts\n",
      "/tmp/ipykernel_682895/273728966.py:5: FutureWarning: In a future version, `df.iloc[:, i] = newvals` will attempt to set the values inplace instead of always setting a new array. To retain the old behavior, use either `df[df.columns[i]] = newvals` or, if columns are non-unique, `df.isetitem(i, newvals)`\n",
      "  df.loc[:,[\"taxid\",\"superkingdom\",\"kingdom\",\"phylum\",\"order\",\"sci_name\",\"color\"]]=hgts\n",
      "/tmp/ipykernel_682895/273728966.py:5: FutureWarning: In a future version, `df.iloc[:, i] = newvals` will attempt to set the values inplace instead of always setting a new array. To retain the old behavior, use either `df[df.columns[i]] = newvals` or, if columns are non-unique, `df.isetitem(i, newvals)`\n",
      "  df.loc[:,[\"taxid\",\"superkingdom\",\"kingdom\",\"phylum\",\"order\",\"sci_name\",\"color\"]]=hgts\n",
      "/tmp/ipykernel_682895/273728966.py:5: FutureWarning: In a future version, `df.iloc[:, i] = newvals` will attempt to set the values inplace instead of always setting a new array. To retain the old behavior, use either `df[df.columns[i]] = newvals` or, if columns are non-unique, `df.isetitem(i, newvals)`\n",
      "  df.loc[:,[\"taxid\",\"superkingdom\",\"kingdom\",\"phylum\",\"order\",\"sci_name\",\"color\"]]=hgts\n",
      "/tmp/ipykernel_682895/273728966.py:5: FutureWarning: In a future version, `df.iloc[:, i] = newvals` will attempt to set the values inplace instead of always setting a new array. To retain the old behavior, use either `df[df.columns[i]] = newvals` or, if columns are non-unique, `df.isetitem(i, newvals)`\n",
      "  df.loc[:,[\"taxid\",\"superkingdom\",\"kingdom\",\"phylum\",\"order\",\"sci_name\",\"color\"]]=hgts\n",
      "/tmp/ipykernel_682895/273728966.py:5: FutureWarning: In a future version, `df.iloc[:, i] = newvals` will attempt to set the values inplace instead of always setting a new array. To retain the old behavior, use either `df[df.columns[i]] = newvals` or, if columns are non-unique, `df.isetitem(i, newvals)`\n",
      "  df.loc[:,[\"taxid\",\"superkingdom\",\"kingdom\",\"phylum\",\"order\",\"sci_name\",\"color\"]]=hgts\n",
      "/tmp/ipykernel_682895/273728966.py:5: FutureWarning: In a future version, `df.iloc[:, i] = newvals` will attempt to set the values inplace instead of always setting a new array. To retain the old behavior, use either `df[df.columns[i]] = newvals` or, if columns are non-unique, `df.isetitem(i, newvals)`\n",
      "  df.loc[:,[\"taxid\",\"superkingdom\",\"kingdom\",\"phylum\",\"order\",\"sci_name\",\"color\"]]=hgts\n",
      "/tmp/ipykernel_682895/273728966.py:5: FutureWarning: In a future version, `df.iloc[:, i] = newvals` will attempt to set the values inplace instead of always setting a new array. To retain the old behavior, use either `df[df.columns[i]] = newvals` or, if columns are non-unique, `df.isetitem(i, newvals)`\n",
      "  df.loc[:,[\"taxid\",\"superkingdom\",\"kingdom\",\"phylum\",\"order\",\"sci_name\",\"color\"]]=hgts\n"
     ]
    },
    {
     "name": "stdout",
     "output_type": "stream",
     "text": [
      "UVF58862.1\n",
      "6OB5_C\n",
      "WGH58587.1\n",
      "NEU80153.1\n"
     ]
    },
    {
     "name": "stderr",
     "output_type": "stream",
     "text": [
      "/tmp/ipykernel_682895/273728966.py:5: FutureWarning: In a future version, `df.iloc[:, i] = newvals` will attempt to set the values inplace instead of always setting a new array. To retain the old behavior, use either `df[df.columns[i]] = newvals` or, if columns are non-unique, `df.isetitem(i, newvals)`\n",
      "  df.loc[:,[\"taxid\",\"superkingdom\",\"kingdom\",\"phylum\",\"order\",\"sci_name\",\"color\"]]=hgts\n"
     ]
    },
    {
     "name": "stdout",
     "output_type": "stream",
     "text": [
      "NHO33720.1\n",
      "AFR53956.1\n",
      "MPR10488.1\n",
      "MBH8566095.1\n",
      "RUS92242.1\n",
      "WP_212925619.1\n",
      "WP_244721351.1\n",
      "WP_244960958.1\n",
      "HCB04000.1\n"
     ]
    },
    {
     "name": "stderr",
     "output_type": "stream",
     "text": [
      "/tmp/ipykernel_682895/273728966.py:5: FutureWarning: In a future version, `df.iloc[:, i] = newvals` will attempt to set the values inplace instead of always setting a new array. To retain the old behavior, use either `df[df.columns[i]] = newvals` or, if columns are non-unique, `df.isetitem(i, newvals)`\n",
      "  df.loc[:,[\"taxid\",\"superkingdom\",\"kingdom\",\"phylum\",\"order\",\"sci_name\",\"color\"]]=hgts\n",
      "/tmp/ipykernel_682895/273728966.py:5: FutureWarning: In a future version, `df.iloc[:, i] = newvals` will attempt to set the values inplace instead of always setting a new array. To retain the old behavior, use either `df[df.columns[i]] = newvals` or, if columns are non-unique, `df.isetitem(i, newvals)`\n",
      "  df.loc[:,[\"taxid\",\"superkingdom\",\"kingdom\",\"phylum\",\"order\",\"sci_name\",\"color\"]]=hgts\n"
     ]
    },
    {
     "name": "stdout",
     "output_type": "stream",
     "text": [
      "MBV2113383.1\n"
     ]
    },
    {
     "name": "stderr",
     "output_type": "stream",
     "text": [
      "/tmp/ipykernel_682895/273728966.py:5: FutureWarning: In a future version, `df.iloc[:, i] = newvals` will attempt to set the values inplace instead of always setting a new array. To retain the old behavior, use either `df[df.columns[i]] = newvals` or, if columns are non-unique, `df.isetitem(i, newvals)`\n",
      "  df.loc[:,[\"taxid\",\"superkingdom\",\"kingdom\",\"phylum\",\"order\",\"sci_name\",\"color\"]]=hgts\n",
      "/tmp/ipykernel_682895/273728966.py:5: FutureWarning: In a future version, `df.iloc[:, i] = newvals` will attempt to set the values inplace instead of always setting a new array. To retain the old behavior, use either `df[df.columns[i]] = newvals` or, if columns are non-unique, `df.isetitem(i, newvals)`\n",
      "  df.loc[:,[\"taxid\",\"superkingdom\",\"kingdom\",\"phylum\",\"order\",\"sci_name\",\"color\"]]=hgts\n",
      "/tmp/ipykernel_682895/273728966.py:5: FutureWarning: In a future version, `df.iloc[:, i] = newvals` will attempt to set the values inplace instead of always setting a new array. To retain the old behavior, use either `df[df.columns[i]] = newvals` or, if columns are non-unique, `df.isetitem(i, newvals)`\n",
      "  df.loc[:,[\"taxid\",\"superkingdom\",\"kingdom\",\"phylum\",\"order\",\"sci_name\",\"color\"]]=hgts\n",
      "/tmp/ipykernel_682895/273728966.py:5: FutureWarning: In a future version, `df.iloc[:, i] = newvals` will attempt to set the values inplace instead of always setting a new array. To retain the old behavior, use either `df[df.columns[i]] = newvals` or, if columns are non-unique, `df.isetitem(i, newvals)`\n",
      "  df.loc[:,[\"taxid\",\"superkingdom\",\"kingdom\",\"phylum\",\"order\",\"sci_name\",\"color\"]]=hgts\n",
      "/tmp/ipykernel_682895/273728966.py:5: FutureWarning: In a future version, `df.iloc[:, i] = newvals` will attempt to set the values inplace instead of always setting a new array. To retain the old behavior, use either `df[df.columns[i]] = newvals` or, if columns are non-unique, `df.isetitem(i, newvals)`\n",
      "  df.loc[:,[\"taxid\",\"superkingdom\",\"kingdom\",\"phylum\",\"order\",\"sci_name\",\"color\"]]=hgts\n",
      "/tmp/ipykernel_682895/273728966.py:5: FutureWarning: In a future version, `df.iloc[:, i] = newvals` will attempt to set the values inplace instead of always setting a new array. To retain the old behavior, use either `df[df.columns[i]] = newvals` or, if columns are non-unique, `df.isetitem(i, newvals)`\n",
      "  df.loc[:,[\"taxid\",\"superkingdom\",\"kingdom\",\"phylum\",\"order\",\"sci_name\",\"color\"]]=hgts\n",
      "/tmp/ipykernel_682895/273728966.py:5: FutureWarning: In a future version, `df.iloc[:, i] = newvals` will attempt to set the values inplace instead of always setting a new array. To retain the old behavior, use either `df[df.columns[i]] = newvals` or, if columns are non-unique, `df.isetitem(i, newvals)`\n",
      "  df.loc[:,[\"taxid\",\"superkingdom\",\"kingdom\",\"phylum\",\"order\",\"sci_name\",\"color\"]]=hgts\n",
      "/tmp/ipykernel_682895/273728966.py:5: FutureWarning: In a future version, `df.iloc[:, i] = newvals` will attempt to set the values inplace instead of always setting a new array. To retain the old behavior, use either `df[df.columns[i]] = newvals` or, if columns are non-unique, `df.isetitem(i, newvals)`\n",
      "  df.loc[:,[\"taxid\",\"superkingdom\",\"kingdom\",\"phylum\",\"order\",\"sci_name\",\"color\"]]=hgts\n"
     ]
    },
    {
     "name": "stdout",
     "output_type": "stream",
     "text": [
      "MCF8701907.1\n",
      "prf||1107279B\n"
     ]
    },
    {
     "name": "stderr",
     "output_type": "stream",
     "text": [
      "/tmp/ipykernel_682895/273728966.py:5: FutureWarning: In a future version, `df.iloc[:, i] = newvals` will attempt to set the values inplace instead of always setting a new array. To retain the old behavior, use either `df[df.columns[i]] = newvals` or, if columns are non-unique, `df.isetitem(i, newvals)`\n",
      "  df.loc[:,[\"taxid\",\"superkingdom\",\"kingdom\",\"phylum\",\"order\",\"sci_name\",\"color\"]]=hgts\n",
      "/tmp/ipykernel_682895/273728966.py:5: FutureWarning: In a future version, `df.iloc[:, i] = newvals` will attempt to set the values inplace instead of always setting a new array. To retain the old behavior, use either `df[df.columns[i]] = newvals` or, if columns are non-unique, `df.isetitem(i, newvals)`\n",
      "  df.loc[:,[\"taxid\",\"superkingdom\",\"kingdom\",\"phylum\",\"order\",\"sci_name\",\"color\"]]=hgts\n",
      "/tmp/ipykernel_682895/273728966.py:5: FutureWarning: In a future version, `df.iloc[:, i] = newvals` will attempt to set the values inplace instead of always setting a new array. To retain the old behavior, use either `df[df.columns[i]] = newvals` or, if columns are non-unique, `df.isetitem(i, newvals)`\n",
      "  df.loc[:,[\"taxid\",\"superkingdom\",\"kingdom\",\"phylum\",\"order\",\"sci_name\",\"color\"]]=hgts\n",
      "/tmp/ipykernel_682895/273728966.py:5: FutureWarning: In a future version, `df.iloc[:, i] = newvals` will attempt to set the values inplace instead of always setting a new array. To retain the old behavior, use either `df[df.columns[i]] = newvals` or, if columns are non-unique, `df.isetitem(i, newvals)`\n",
      "  df.loc[:,[\"taxid\",\"superkingdom\",\"kingdom\",\"phylum\",\"order\",\"sci_name\",\"color\"]]=hgts\n"
     ]
    },
    {
     "name": "stdout",
     "output_type": "stream",
     "text": [
      "CRY94011.1\n"
     ]
    },
    {
     "name": "stderr",
     "output_type": "stream",
     "text": [
      "/tmp/ipykernel_682895/273728966.py:5: FutureWarning: In a future version, `df.iloc[:, i] = newvals` will attempt to set the values inplace instead of always setting a new array. To retain the old behavior, use either `df[df.columns[i]] = newvals` or, if columns are non-unique, `df.isetitem(i, newvals)`\n",
      "  df.loc[:,[\"taxid\",\"superkingdom\",\"kingdom\",\"phylum\",\"order\",\"sci_name\",\"color\"]]=hgts\n"
     ]
    },
    {
     "name": "stdout",
     "output_type": "stream",
     "text": [
      "MCU0595913.1\n",
      "MBT2988222.1\n",
      "MBH8560799.1\n"
     ]
    },
    {
     "name": "stderr",
     "output_type": "stream",
     "text": [
      "/tmp/ipykernel_682895/273728966.py:5: FutureWarning: In a future version, `df.iloc[:, i] = newvals` will attempt to set the values inplace instead of always setting a new array. To retain the old behavior, use either `df[df.columns[i]] = newvals` or, if columns are non-unique, `df.isetitem(i, newvals)`\n",
      "  df.loc[:,[\"taxid\",\"superkingdom\",\"kingdom\",\"phylum\",\"order\",\"sci_name\",\"color\"]]=hgts\n",
      "/tmp/ipykernel_682895/273728966.py:5: FutureWarning: In a future version, `df.iloc[:, i] = newvals` will attempt to set the values inplace instead of always setting a new array. To retain the old behavior, use either `df[df.columns[i]] = newvals` or, if columns are non-unique, `df.isetitem(i, newvals)`\n",
      "  df.loc[:,[\"taxid\",\"superkingdom\",\"kingdom\",\"phylum\",\"order\",\"sci_name\",\"color\"]]=hgts\n"
     ]
    },
    {
     "name": "stdout",
     "output_type": "stream",
     "text": [
      "ABZ10029.1\n"
     ]
    },
    {
     "name": "stderr",
     "output_type": "stream",
     "text": [
      "/tmp/ipykernel_682895/273728966.py:5: FutureWarning: In a future version, `df.iloc[:, i] = newvals` will attempt to set the values inplace instead of always setting a new array. To retain the old behavior, use either `df[df.columns[i]] = newvals` or, if columns are non-unique, `df.isetitem(i, newvals)`\n",
      "  df.loc[:,[\"taxid\",\"superkingdom\",\"kingdom\",\"phylum\",\"order\",\"sci_name\",\"color\"]]=hgts\n",
      "/tmp/ipykernel_682895/273728966.py:5: FutureWarning: In a future version, `df.iloc[:, i] = newvals` will attempt to set the values inplace instead of always setting a new array. To retain the old behavior, use either `df[df.columns[i]] = newvals` or, if columns are non-unique, `df.isetitem(i, newvals)`\n",
      "  df.loc[:,[\"taxid\",\"superkingdom\",\"kingdom\",\"phylum\",\"order\",\"sci_name\",\"color\"]]=hgts\n",
      "/tmp/ipykernel_682895/273728966.py:5: FutureWarning: In a future version, `df.iloc[:, i] = newvals` will attempt to set the values inplace instead of always setting a new array. To retain the old behavior, use either `df[df.columns[i]] = newvals` or, if columns are non-unique, `df.isetitem(i, newvals)`\n",
      "  df.loc[:,[\"taxid\",\"superkingdom\",\"kingdom\",\"phylum\",\"order\",\"sci_name\",\"color\"]]=hgts\n",
      "/tmp/ipykernel_682895/273728966.py:5: FutureWarning: In a future version, `df.iloc[:, i] = newvals` will attempt to set the values inplace instead of always setting a new array. To retain the old behavior, use either `df[df.columns[i]] = newvals` or, if columns are non-unique, `df.isetitem(i, newvals)`\n",
      "  df.loc[:,[\"taxid\",\"superkingdom\",\"kingdom\",\"phylum\",\"order\",\"sci_name\",\"color\"]]=hgts\n",
      "/tmp/ipykernel_682895/273728966.py:5: FutureWarning: In a future version, `df.iloc[:, i] = newvals` will attempt to set the values inplace instead of always setting a new array. To retain the old behavior, use either `df[df.columns[i]] = newvals` or, if columns are non-unique, `df.isetitem(i, newvals)`\n",
      "  df.loc[:,[\"taxid\",\"superkingdom\",\"kingdom\",\"phylum\",\"order\",\"sci_name\",\"color\"]]=hgts\n"
     ]
    },
    {
     "name": "stdout",
     "output_type": "stream",
     "text": [
      "MCH8487189.1\n",
      "WAC06688.1\n",
      "MBE6918786.1\n"
     ]
    },
    {
     "name": "stderr",
     "output_type": "stream",
     "text": [
      "/tmp/ipykernel_682895/273728966.py:5: FutureWarning: In a future version, `df.iloc[:, i] = newvals` will attempt to set the values inplace instead of always setting a new array. To retain the old behavior, use either `df[df.columns[i]] = newvals` or, if columns are non-unique, `df.isetitem(i, newvals)`\n",
      "  df.loc[:,[\"taxid\",\"superkingdom\",\"kingdom\",\"phylum\",\"order\",\"sci_name\",\"color\"]]=hgts\n",
      "/tmp/ipykernel_682895/273728966.py:5: FutureWarning: In a future version, `df.iloc[:, i] = newvals` will attempt to set the values inplace instead of always setting a new array. To retain the old behavior, use either `df[df.columns[i]] = newvals` or, if columns are non-unique, `df.isetitem(i, newvals)`\n",
      "  df.loc[:,[\"taxid\",\"superkingdom\",\"kingdom\",\"phylum\",\"order\",\"sci_name\",\"color\"]]=hgts\n"
     ]
    },
    {
     "name": "stdout",
     "output_type": "stream",
     "text": [
      "HBM02918.1\n"
     ]
    },
    {
     "name": "stderr",
     "output_type": "stream",
     "text": [
      "/tmp/ipykernel_682895/273728966.py:5: FutureWarning: In a future version, `df.iloc[:, i] = newvals` will attempt to set the values inplace instead of always setting a new array. To retain the old behavior, use either `df[df.columns[i]] = newvals` or, if columns are non-unique, `df.isetitem(i, newvals)`\n",
      "  df.loc[:,[\"taxid\",\"superkingdom\",\"kingdom\",\"phylum\",\"order\",\"sci_name\",\"color\"]]=hgts\n",
      "/tmp/ipykernel_682895/273728966.py:5: FutureWarning: In a future version, `df.iloc[:, i] = newvals` will attempt to set the values inplace instead of always setting a new array. To retain the old behavior, use either `df[df.columns[i]] = newvals` or, if columns are non-unique, `df.isetitem(i, newvals)`\n",
      "  df.loc[:,[\"taxid\",\"superkingdom\",\"kingdom\",\"phylum\",\"order\",\"sci_name\",\"color\"]]=hgts\n",
      "/tmp/ipykernel_682895/273728966.py:5: FutureWarning: In a future version, `df.iloc[:, i] = newvals` will attempt to set the values inplace instead of always setting a new array. To retain the old behavior, use either `df[df.columns[i]] = newvals` or, if columns are non-unique, `df.isetitem(i, newvals)`\n",
      "  df.loc[:,[\"taxid\",\"superkingdom\",\"kingdom\",\"phylum\",\"order\",\"sci_name\",\"color\"]]=hgts\n"
     ]
    },
    {
     "name": "stdout",
     "output_type": "stream",
     "text": [
      "MCF8701927.1\n"
     ]
    },
    {
     "name": "stderr",
     "output_type": "stream",
     "text": [
      "/tmp/ipykernel_682895/273728966.py:5: FutureWarning: In a future version, `df.iloc[:, i] = newvals` will attempt to set the values inplace instead of always setting a new array. To retain the old behavior, use either `df[df.columns[i]] = newvals` or, if columns are non-unique, `df.isetitem(i, newvals)`\n",
      "  df.loc[:,[\"taxid\",\"superkingdom\",\"kingdom\",\"phylum\",\"order\",\"sci_name\",\"color\"]]=hgts\n",
      "/tmp/ipykernel_682895/273728966.py:5: FutureWarning: In a future version, `df.iloc[:, i] = newvals` will attempt to set the values inplace instead of always setting a new array. To retain the old behavior, use either `df[df.columns[i]] = newvals` or, if columns are non-unique, `df.isetitem(i, newvals)`\n",
      "  df.loc[:,[\"taxid\",\"superkingdom\",\"kingdom\",\"phylum\",\"order\",\"sci_name\",\"color\"]]=hgts\n",
      "/tmp/ipykernel_682895/273728966.py:5: FutureWarning: In a future version, `df.iloc[:, i] = newvals` will attempt to set the values inplace instead of always setting a new array. To retain the old behavior, use either `df[df.columns[i]] = newvals` or, if columns are non-unique, `df.isetitem(i, newvals)`\n",
      "  df.loc[:,[\"taxid\",\"superkingdom\",\"kingdom\",\"phylum\",\"order\",\"sci_name\",\"color\"]]=hgts\n",
      "/tmp/ipykernel_682895/273728966.py:5: FutureWarning: In a future version, `df.iloc[:, i] = newvals` will attempt to set the values inplace instead of always setting a new array. To retain the old behavior, use either `df[df.columns[i]] = newvals` or, if columns are non-unique, `df.isetitem(i, newvals)`\n",
      "  df.loc[:,[\"taxid\",\"superkingdom\",\"kingdom\",\"phylum\",\"order\",\"sci_name\",\"color\"]]=hgts\n",
      "/tmp/ipykernel_682895/273728966.py:5: FutureWarning: In a future version, `df.iloc[:, i] = newvals` will attempt to set the values inplace instead of always setting a new array. To retain the old behavior, use either `df[df.columns[i]] = newvals` or, if columns are non-unique, `df.isetitem(i, newvals)`\n",
      "  df.loc[:,[\"taxid\",\"superkingdom\",\"kingdom\",\"phylum\",\"order\",\"sci_name\",\"color\"]]=hgts\n",
      "/tmp/ipykernel_682895/273728966.py:5: FutureWarning: In a future version, `df.iloc[:, i] = newvals` will attempt to set the values inplace instead of always setting a new array. To retain the old behavior, use either `df[df.columns[i]] = newvals` or, if columns are non-unique, `df.isetitem(i, newvals)`\n",
      "  df.loc[:,[\"taxid\",\"superkingdom\",\"kingdom\",\"phylum\",\"order\",\"sci_name\",\"color\"]]=hgts\n",
      "/tmp/ipykernel_682895/273728966.py:5: FutureWarning: In a future version, `df.iloc[:, i] = newvals` will attempt to set the values inplace instead of always setting a new array. To retain the old behavior, use either `df[df.columns[i]] = newvals` or, if columns are non-unique, `df.isetitem(i, newvals)`\n",
      "  df.loc[:,[\"taxid\",\"superkingdom\",\"kingdom\",\"phylum\",\"order\",\"sci_name\",\"color\"]]=hgts\n",
      "/tmp/ipykernel_682895/273728966.py:5: FutureWarning: In a future version, `df.iloc[:, i] = newvals` will attempt to set the values inplace instead of always setting a new array. To retain the old behavior, use either `df[df.columns[i]] = newvals` or, if columns are non-unique, `df.isetitem(i, newvals)`\n",
      "  df.loc[:,[\"taxid\",\"superkingdom\",\"kingdom\",\"phylum\",\"order\",\"sci_name\",\"color\"]]=hgts\n"
     ]
    },
    {
     "name": "stdout",
     "output_type": "stream",
     "text": [
      "MCJ1444475.1\n"
     ]
    },
    {
     "name": "stderr",
     "output_type": "stream",
     "text": [
      "/tmp/ipykernel_682895/273728966.py:5: FutureWarning: In a future version, `df.iloc[:, i] = newvals` will attempt to set the values inplace instead of always setting a new array. To retain the old behavior, use either `df[df.columns[i]] = newvals` or, if columns are non-unique, `df.isetitem(i, newvals)`\n",
      "  df.loc[:,[\"taxid\",\"superkingdom\",\"kingdom\",\"phylum\",\"order\",\"sci_name\",\"color\"]]=hgts\n"
     ]
    },
    {
     "name": "stdout",
     "output_type": "stream",
     "text": [
      "MCF8701928.1\n",
      "pir|PC1232|\n",
      "KAH3663304.1\n",
      "prf||1107279B\n",
      "pir|S18210|\n",
      "MBE6801969.1\n",
      "CAG8998987.1\n"
     ]
    },
    {
     "name": "stderr",
     "output_type": "stream",
     "text": [
      "/tmp/ipykernel_682895/273728966.py:5: FutureWarning: In a future version, `df.iloc[:, i] = newvals` will attempt to set the values inplace instead of always setting a new array. To retain the old behavior, use either `df[df.columns[i]] = newvals` or, if columns are non-unique, `df.isetitem(i, newvals)`\n",
      "  df.loc[:,[\"taxid\",\"superkingdom\",\"kingdom\",\"phylum\",\"order\",\"sci_name\",\"color\"]]=hgts\n",
      "/tmp/ipykernel_682895/273728966.py:5: FutureWarning: In a future version, `df.iloc[:, i] = newvals` will attempt to set the values inplace instead of always setting a new array. To retain the old behavior, use either `df[df.columns[i]] = newvals` or, if columns are non-unique, `df.isetitem(i, newvals)`\n",
      "  df.loc[:,[\"taxid\",\"superkingdom\",\"kingdom\",\"phylum\",\"order\",\"sci_name\",\"color\"]]=hgts\n",
      "/tmp/ipykernel_682895/273728966.py:5: FutureWarning: In a future version, `df.iloc[:, i] = newvals` will attempt to set the values inplace instead of always setting a new array. To retain the old behavior, use either `df[df.columns[i]] = newvals` or, if columns are non-unique, `df.isetitem(i, newvals)`\n",
      "  df.loc[:,[\"taxid\",\"superkingdom\",\"kingdom\",\"phylum\",\"order\",\"sci_name\",\"color\"]]=hgts\n",
      "/tmp/ipykernel_682895/273728966.py:5: FutureWarning: In a future version, `df.iloc[:, i] = newvals` will attempt to set the values inplace instead of always setting a new array. To retain the old behavior, use either `df[df.columns[i]] = newvals` or, if columns are non-unique, `df.isetitem(i, newvals)`\n",
      "  df.loc[:,[\"taxid\",\"superkingdom\",\"kingdom\",\"phylum\",\"order\",\"sci_name\",\"color\"]]=hgts\n",
      "/tmp/ipykernel_682895/273728966.py:5: FutureWarning: In a future version, `df.iloc[:, i] = newvals` will attempt to set the values inplace instead of always setting a new array. To retain the old behavior, use either `df[df.columns[i]] = newvals` or, if columns are non-unique, `df.isetitem(i, newvals)`\n",
      "  df.loc[:,[\"taxid\",\"superkingdom\",\"kingdom\",\"phylum\",\"order\",\"sci_name\",\"color\"]]=hgts\n",
      "/tmp/ipykernel_682895/273728966.py:5: FutureWarning: In a future version, `df.iloc[:, i] = newvals` will attempt to set the values inplace instead of always setting a new array. To retain the old behavior, use either `df[df.columns[i]] = newvals` or, if columns are non-unique, `df.isetitem(i, newvals)`\n",
      "  df.loc[:,[\"taxid\",\"superkingdom\",\"kingdom\",\"phylum\",\"order\",\"sci_name\",\"color\"]]=hgts\n",
      "/tmp/ipykernel_682895/273728966.py:5: FutureWarning: In a future version, `df.iloc[:, i] = newvals` will attempt to set the values inplace instead of always setting a new array. To retain the old behavior, use either `df[df.columns[i]] = newvals` or, if columns are non-unique, `df.isetitem(i, newvals)`\n",
      "  df.loc[:,[\"taxid\",\"superkingdom\",\"kingdom\",\"phylum\",\"order\",\"sci_name\",\"color\"]]=hgts\n",
      "/tmp/ipykernel_682895/273728966.py:5: FutureWarning: In a future version, `df.iloc[:, i] = newvals` will attempt to set the values inplace instead of always setting a new array. To retain the old behavior, use either `df[df.columns[i]] = newvals` or, if columns are non-unique, `df.isetitem(i, newvals)`\n",
      "  df.loc[:,[\"taxid\",\"superkingdom\",\"kingdom\",\"phylum\",\"order\",\"sci_name\",\"color\"]]=hgts\n",
      "/tmp/ipykernel_682895/273728966.py:5: FutureWarning: In a future version, `df.iloc[:, i] = newvals` will attempt to set the values inplace instead of always setting a new array. To retain the old behavior, use either `df[df.columns[i]] = newvals` or, if columns are non-unique, `df.isetitem(i, newvals)`\n",
      "  df.loc[:,[\"taxid\",\"superkingdom\",\"kingdom\",\"phylum\",\"order\",\"sci_name\",\"color\"]]=hgts\n"
     ]
    },
    {
     "name": "stdout",
     "output_type": "stream",
     "text": [
      "MBH8560799.1\n"
     ]
    },
    {
     "name": "stderr",
     "output_type": "stream",
     "text": [
      "/tmp/ipykernel_682895/273728966.py:5: FutureWarning: In a future version, `df.iloc[:, i] = newvals` will attempt to set the values inplace instead of always setting a new array. To retain the old behavior, use either `df[df.columns[i]] = newvals` or, if columns are non-unique, `df.isetitem(i, newvals)`\n",
      "  df.loc[:,[\"taxid\",\"superkingdom\",\"kingdom\",\"phylum\",\"order\",\"sci_name\",\"color\"]]=hgts\n",
      "/tmp/ipykernel_682895/273728966.py:5: FutureWarning: In a future version, `df.iloc[:, i] = newvals` will attempt to set the values inplace instead of always setting a new array. To retain the old behavior, use either `df[df.columns[i]] = newvals` or, if columns are non-unique, `df.isetitem(i, newvals)`\n",
      "  df.loc[:,[\"taxid\",\"superkingdom\",\"kingdom\",\"phylum\",\"order\",\"sci_name\",\"color\"]]=hgts\n"
     ]
    },
    {
     "name": "stdout",
     "output_type": "stream",
     "text": [
      "MCJ1447719.1\n"
     ]
    },
    {
     "name": "stderr",
     "output_type": "stream",
     "text": [
      "/tmp/ipykernel_682895/273728966.py:5: FutureWarning: In a future version, `df.iloc[:, i] = newvals` will attempt to set the values inplace instead of always setting a new array. To retain the old behavior, use either `df[df.columns[i]] = newvals` or, if columns are non-unique, `df.isetitem(i, newvals)`\n",
      "  df.loc[:,[\"taxid\",\"superkingdom\",\"kingdom\",\"phylum\",\"order\",\"sci_name\",\"color\"]]=hgts\n",
      "/tmp/ipykernel_682895/273728966.py:5: FutureWarning: In a future version, `df.iloc[:, i] = newvals` will attempt to set the values inplace instead of always setting a new array. To retain the old behavior, use either `df[df.columns[i]] = newvals` or, if columns are non-unique, `df.isetitem(i, newvals)`\n",
      "  df.loc[:,[\"taxid\",\"superkingdom\",\"kingdom\",\"phylum\",\"order\",\"sci_name\",\"color\"]]=hgts\n",
      "/tmp/ipykernel_682895/273728966.py:5: FutureWarning: In a future version, `df.iloc[:, i] = newvals` will attempt to set the values inplace instead of always setting a new array. To retain the old behavior, use either `df[df.columns[i]] = newvals` or, if columns are non-unique, `df.isetitem(i, newvals)`\n",
      "  df.loc[:,[\"taxid\",\"superkingdom\",\"kingdom\",\"phylum\",\"order\",\"sci_name\",\"color\"]]=hgts\n",
      "/tmp/ipykernel_682895/273728966.py:5: FutureWarning: In a future version, `df.iloc[:, i] = newvals` will attempt to set the values inplace instead of always setting a new array. To retain the old behavior, use either `df[df.columns[i]] = newvals` or, if columns are non-unique, `df.isetitem(i, newvals)`\n",
      "  df.loc[:,[\"taxid\",\"superkingdom\",\"kingdom\",\"phylum\",\"order\",\"sci_name\",\"color\"]]=hgts\n",
      "/tmp/ipykernel_682895/273728966.py:5: FutureWarning: In a future version, `df.iloc[:, i] = newvals` will attempt to set the values inplace instead of always setting a new array. To retain the old behavior, use either `df[df.columns[i]] = newvals` or, if columns are non-unique, `df.isetitem(i, newvals)`\n",
      "  df.loc[:,[\"taxid\",\"superkingdom\",\"kingdom\",\"phylum\",\"order\",\"sci_name\",\"color\"]]=hgts\n"
     ]
    },
    {
     "name": "stdout",
     "output_type": "stream",
     "text": [
      "MCJ1443143.1\n"
     ]
    },
    {
     "name": "stderr",
     "output_type": "stream",
     "text": [
      "/tmp/ipykernel_682895/273728966.py:5: FutureWarning: In a future version, `df.iloc[:, i] = newvals` will attempt to set the values inplace instead of always setting a new array. To retain the old behavior, use either `df[df.columns[i]] = newvals` or, if columns are non-unique, `df.isetitem(i, newvals)`\n",
      "  df.loc[:,[\"taxid\",\"superkingdom\",\"kingdom\",\"phylum\",\"order\",\"sci_name\",\"color\"]]=hgts\n",
      "/tmp/ipykernel_682895/273728966.py:5: FutureWarning: In a future version, `df.iloc[:, i] = newvals` will attempt to set the values inplace instead of always setting a new array. To retain the old behavior, use either `df[df.columns[i]] = newvals` or, if columns are non-unique, `df.isetitem(i, newvals)`\n",
      "  df.loc[:,[\"taxid\",\"superkingdom\",\"kingdom\",\"phylum\",\"order\",\"sci_name\",\"color\"]]=hgts\n",
      "/tmp/ipykernel_682895/273728966.py:5: FutureWarning: In a future version, `df.iloc[:, i] = newvals` will attempt to set the values inplace instead of always setting a new array. To retain the old behavior, use either `df[df.columns[i]] = newvals` or, if columns are non-unique, `df.isetitem(i, newvals)`\n",
      "  df.loc[:,[\"taxid\",\"superkingdom\",\"kingdom\",\"phylum\",\"order\",\"sci_name\",\"color\"]]=hgts\n"
     ]
    },
    {
     "name": "stdout",
     "output_type": "stream",
     "text": [
      "pir|B88633|\n",
      "MBE6537720.1\n",
      "MCJ1443878.1\n"
     ]
    },
    {
     "name": "stderr",
     "output_type": "stream",
     "text": [
      "/tmp/ipykernel_682895/273728966.py:5: FutureWarning: In a future version, `df.iloc[:, i] = newvals` will attempt to set the values inplace instead of always setting a new array. To retain the old behavior, use either `df[df.columns[i]] = newvals` or, if columns are non-unique, `df.isetitem(i, newvals)`\n",
      "  df.loc[:,[\"taxid\",\"superkingdom\",\"kingdom\",\"phylum\",\"order\",\"sci_name\",\"color\"]]=hgts\n",
      "/tmp/ipykernel_682895/273728966.py:5: FutureWarning: In a future version, `df.iloc[:, i] = newvals` will attempt to set the values inplace instead of always setting a new array. To retain the old behavior, use either `df[df.columns[i]] = newvals` or, if columns are non-unique, `df.isetitem(i, newvals)`\n",
      "  df.loc[:,[\"taxid\",\"superkingdom\",\"kingdom\",\"phylum\",\"order\",\"sci_name\",\"color\"]]=hgts\n",
      "/tmp/ipykernel_682895/273728966.py:5: FutureWarning: In a future version, `df.iloc[:, i] = newvals` will attempt to set the values inplace instead of always setting a new array. To retain the old behavior, use either `df[df.columns[i]] = newvals` or, if columns are non-unique, `df.isetitem(i, newvals)`\n",
      "  df.loc[:,[\"taxid\",\"superkingdom\",\"kingdom\",\"phylum\",\"order\",\"sci_name\",\"color\"]]=hgts\n",
      "/tmp/ipykernel_682895/273728966.py:5: FutureWarning: In a future version, `df.iloc[:, i] = newvals` will attempt to set the values inplace instead of always setting a new array. To retain the old behavior, use either `df[df.columns[i]] = newvals` or, if columns are non-unique, `df.isetitem(i, newvals)`\n",
      "  df.loc[:,[\"taxid\",\"superkingdom\",\"kingdom\",\"phylum\",\"order\",\"sci_name\",\"color\"]]=hgts\n"
     ]
    },
    {
     "name": "stdout",
     "output_type": "stream",
     "text": [
      "MCJ1440888.1\n",
      "ABZ10029.1\n"
     ]
    },
    {
     "name": "stderr",
     "output_type": "stream",
     "text": [
      "/tmp/ipykernel_682895/273728966.py:5: FutureWarning: In a future version, `df.iloc[:, i] = newvals` will attempt to set the values inplace instead of always setting a new array. To retain the old behavior, use either `df[df.columns[i]] = newvals` or, if columns are non-unique, `df.isetitem(i, newvals)`\n",
      "  df.loc[:,[\"taxid\",\"superkingdom\",\"kingdom\",\"phylum\",\"order\",\"sci_name\",\"color\"]]=hgts\n",
      "/tmp/ipykernel_682895/273728966.py:5: FutureWarning: In a future version, `df.iloc[:, i] = newvals` will attempt to set the values inplace instead of always setting a new array. To retain the old behavior, use either `df[df.columns[i]] = newvals` or, if columns are non-unique, `df.isetitem(i, newvals)`\n",
      "  df.loc[:,[\"taxid\",\"superkingdom\",\"kingdom\",\"phylum\",\"order\",\"sci_name\",\"color\"]]=hgts\n",
      "/tmp/ipykernel_682895/273728966.py:5: FutureWarning: In a future version, `df.iloc[:, i] = newvals` will attempt to set the values inplace instead of always setting a new array. To retain the old behavior, use either `df[df.columns[i]] = newvals` or, if columns are non-unique, `df.isetitem(i, newvals)`\n",
      "  df.loc[:,[\"taxid\",\"superkingdom\",\"kingdom\",\"phylum\",\"order\",\"sci_name\",\"color\"]]=hgts\n",
      "/tmp/ipykernel_682895/273728966.py:5: FutureWarning: In a future version, `df.iloc[:, i] = newvals` will attempt to set the values inplace instead of always setting a new array. To retain the old behavior, use either `df[df.columns[i]] = newvals` or, if columns are non-unique, `df.isetitem(i, newvals)`\n",
      "  df.loc[:,[\"taxid\",\"superkingdom\",\"kingdom\",\"phylum\",\"order\",\"sci_name\",\"color\"]]=hgts\n",
      "/tmp/ipykernel_682895/273728966.py:5: FutureWarning: In a future version, `df.iloc[:, i] = newvals` will attempt to set the values inplace instead of always setting a new array. To retain the old behavior, use either `df[df.columns[i]] = newvals` or, if columns are non-unique, `df.isetitem(i, newvals)`\n",
      "  df.loc[:,[\"taxid\",\"superkingdom\",\"kingdom\",\"phylum\",\"order\",\"sci_name\",\"color\"]]=hgts\n",
      "/tmp/ipykernel_682895/273728966.py:5: FutureWarning: In a future version, `df.iloc[:, i] = newvals` will attempt to set the values inplace instead of always setting a new array. To retain the old behavior, use either `df[df.columns[i]] = newvals` or, if columns are non-unique, `df.isetitem(i, newvals)`\n",
      "  df.loc[:,[\"taxid\",\"superkingdom\",\"kingdom\",\"phylum\",\"order\",\"sci_name\",\"color\"]]=hgts\n",
      "/tmp/ipykernel_682895/273728966.py:5: FutureWarning: In a future version, `df.iloc[:, i] = newvals` will attempt to set the values inplace instead of always setting a new array. To retain the old behavior, use either `df[df.columns[i]] = newvals` or, if columns are non-unique, `df.isetitem(i, newvals)`\n",
      "  df.loc[:,[\"taxid\",\"superkingdom\",\"kingdom\",\"phylum\",\"order\",\"sci_name\",\"color\"]]=hgts\n",
      "/tmp/ipykernel_682895/273728966.py:5: FutureWarning: In a future version, `df.iloc[:, i] = newvals` will attempt to set the values inplace instead of always setting a new array. To retain the old behavior, use either `df[df.columns[i]] = newvals` or, if columns are non-unique, `df.isetitem(i, newvals)`\n",
      "  df.loc[:,[\"taxid\",\"superkingdom\",\"kingdom\",\"phylum\",\"order\",\"sci_name\",\"color\"]]=hgts\n",
      "/tmp/ipykernel_682895/273728966.py:5: FutureWarning: In a future version, `df.iloc[:, i] = newvals` will attempt to set the values inplace instead of always setting a new array. To retain the old behavior, use either `df[df.columns[i]] = newvals` or, if columns are non-unique, `df.isetitem(i, newvals)`\n",
      "  df.loc[:,[\"taxid\",\"superkingdom\",\"kingdom\",\"phylum\",\"order\",\"sci_name\",\"color\"]]=hgts\n",
      "/tmp/ipykernel_682895/273728966.py:5: FutureWarning: In a future version, `df.iloc[:, i] = newvals` will attempt to set the values inplace instead of always setting a new array. To retain the old behavior, use either `df[df.columns[i]] = newvals` or, if columns are non-unique, `df.isetitem(i, newvals)`\n",
      "  df.loc[:,[\"taxid\",\"superkingdom\",\"kingdom\",\"phylum\",\"order\",\"sci_name\",\"color\"]]=hgts\n",
      "/tmp/ipykernel_682895/273728966.py:5: FutureWarning: In a future version, `df.iloc[:, i] = newvals` will attempt to set the values inplace instead of always setting a new array. To retain the old behavior, use either `df[df.columns[i]] = newvals` or, if columns are non-unique, `df.isetitem(i, newvals)`\n",
      "  df.loc[:,[\"taxid\",\"superkingdom\",\"kingdom\",\"phylum\",\"order\",\"sci_name\",\"color\"]]=hgts\n",
      "/tmp/ipykernel_682895/273728966.py:5: FutureWarning: In a future version, `df.iloc[:, i] = newvals` will attempt to set the values inplace instead of always setting a new array. To retain the old behavior, use either `df[df.columns[i]] = newvals` or, if columns are non-unique, `df.isetitem(i, newvals)`\n",
      "  df.loc[:,[\"taxid\",\"superkingdom\",\"kingdom\",\"phylum\",\"order\",\"sci_name\",\"color\"]]=hgts\n"
     ]
    },
    {
     "name": "stdout",
     "output_type": "stream",
     "text": [
      "6OB5_C\n",
      "WP_106169939.1\n"
     ]
    },
    {
     "name": "stderr",
     "output_type": "stream",
     "text": [
      "/tmp/ipykernel_682895/273728966.py:5: FutureWarning: In a future version, `df.iloc[:, i] = newvals` will attempt to set the values inplace instead of always setting a new array. To retain the old behavior, use either `df[df.columns[i]] = newvals` or, if columns are non-unique, `df.isetitem(i, newvals)`\n",
      "  df.loc[:,[\"taxid\",\"superkingdom\",\"kingdom\",\"phylum\",\"order\",\"sci_name\",\"color\"]]=hgts\n",
      "/tmp/ipykernel_682895/273728966.py:5: FutureWarning: In a future version, `df.iloc[:, i] = newvals` will attempt to set the values inplace instead of always setting a new array. To retain the old behavior, use either `df[df.columns[i]] = newvals` or, if columns are non-unique, `df.isetitem(i, newvals)`\n",
      "  df.loc[:,[\"taxid\",\"superkingdom\",\"kingdom\",\"phylum\",\"order\",\"sci_name\",\"color\"]]=hgts\n",
      "/tmp/ipykernel_682895/273728966.py:5: FutureWarning: In a future version, `df.iloc[:, i] = newvals` will attempt to set the values inplace instead of always setting a new array. To retain the old behavior, use either `df[df.columns[i]] = newvals` or, if columns are non-unique, `df.isetitem(i, newvals)`\n",
      "  df.loc[:,[\"taxid\",\"superkingdom\",\"kingdom\",\"phylum\",\"order\",\"sci_name\",\"color\"]]=hgts\n"
     ]
    },
    {
     "name": "stdout",
     "output_type": "stream",
     "text": [
      "pir|B56679|\n",
      "pir|PC1123|\n",
      "pir|T25005|\n",
      "MCJ1446699.1\n",
      "pir|S54991|pir|S54995|\n",
      "\n",
      "pir|S54988|\n",
      "pir|S54992|\n",
      "pir|S54987|\n",
      "pir|S54990|\n"
     ]
    },
    {
     "name": "stderr",
     "output_type": "stream",
     "text": [
      "/tmp/ipykernel_682895/273728966.py:5: FutureWarning: In a future version, `df.iloc[:, i] = newvals` will attempt to set the values inplace instead of always setting a new array. To retain the old behavior, use either `df[df.columns[i]] = newvals` or, if columns are non-unique, `df.isetitem(i, newvals)`\n",
      "  df.loc[:,[\"taxid\",\"superkingdom\",\"kingdom\",\"phylum\",\"order\",\"sci_name\",\"color\"]]=hgts\n",
      "/tmp/ipykernel_682895/273728966.py:5: FutureWarning: In a future version, `df.iloc[:, i] = newvals` will attempt to set the values inplace instead of always setting a new array. To retain the old behavior, use either `df[df.columns[i]] = newvals` or, if columns are non-unique, `df.isetitem(i, newvals)`\n",
      "  df.loc[:,[\"taxid\",\"superkingdom\",\"kingdom\",\"phylum\",\"order\",\"sci_name\",\"color\"]]=hgts\n",
      "/tmp/ipykernel_682895/273728966.py:5: FutureWarning: In a future version, `df.iloc[:, i] = newvals` will attempt to set the values inplace instead of always setting a new array. To retain the old behavior, use either `df[df.columns[i]] = newvals` or, if columns are non-unique, `df.isetitem(i, newvals)`\n",
      "  df.loc[:,[\"taxid\",\"superkingdom\",\"kingdom\",\"phylum\",\"order\",\"sci_name\",\"color\"]]=hgts\n"
     ]
    },
    {
     "name": "stdout",
     "output_type": "stream",
     "text": [
      "ABZ06576.1\n",
      "pir|S54987|\n",
      "pir|S54990|pir|S54988|\n",
      "\n",
      "pir|S54995|\n",
      "QJC19409.1\n",
      "UID85567.1\n",
      "UID85568.1\n",
      "AAO43224.1\n",
      "BAJ41852.1\n",
      "AFN89782.1\n"
     ]
    },
    {
     "name": "stderr",
     "output_type": "stream",
     "text": [
      "/tmp/ipykernel_682895/273728966.py:5: FutureWarning: In a future version, `df.iloc[:, i] = newvals` will attempt to set the values inplace instead of always setting a new array. To retain the old behavior, use either `df[df.columns[i]] = newvals` or, if columns are non-unique, `df.isetitem(i, newvals)`\n",
      "  df.loc[:,[\"taxid\",\"superkingdom\",\"kingdom\",\"phylum\",\"order\",\"sci_name\",\"color\"]]=hgts\n"
     ]
    },
    {
     "name": "stdout",
     "output_type": "stream",
     "text": [
      "AFR53956.1\n",
      "QXV47503.1\n"
     ]
    },
    {
     "name": "stderr",
     "output_type": "stream",
     "text": [
      "/tmp/ipykernel_682895/273728966.py:5: FutureWarning: In a future version, `df.iloc[:, i] = newvals` will attempt to set the values inplace instead of always setting a new array. To retain the old behavior, use either `df[df.columns[i]] = newvals` or, if columns are non-unique, `df.isetitem(i, newvals)`\n",
      "  df.loc[:,[\"taxid\",\"superkingdom\",\"kingdom\",\"phylum\",\"order\",\"sci_name\",\"color\"]]=hgts\n",
      "/tmp/ipykernel_682895/273728966.py:5: FutureWarning: In a future version, `df.iloc[:, i] = newvals` will attempt to set the values inplace instead of always setting a new array. To retain the old behavior, use either `df[df.columns[i]] = newvals` or, if columns are non-unique, `df.isetitem(i, newvals)`\n",
      "  df.loc[:,[\"taxid\",\"superkingdom\",\"kingdom\",\"phylum\",\"order\",\"sci_name\",\"color\"]]=hgts\n",
      "/tmp/ipykernel_682895/273728966.py:5: FutureWarning: In a future version, `df.iloc[:, i] = newvals` will attempt to set the values inplace instead of always setting a new array. To retain the old behavior, use either `df[df.columns[i]] = newvals` or, if columns are non-unique, `df.isetitem(i, newvals)`\n",
      "  df.loc[:,[\"taxid\",\"superkingdom\",\"kingdom\",\"phylum\",\"order\",\"sci_name\",\"color\"]]=hgts\n"
     ]
    },
    {
     "name": "stdout",
     "output_type": "stream",
     "text": [
      "MBE7011603.1\n",
      "WP_244966314.1\n",
      "MBE6913014.1\n",
      "MBI6120453.1\n"
     ]
    },
    {
     "name": "stderr",
     "output_type": "stream",
     "text": [
      "/tmp/ipykernel_682895/273728966.py:5: FutureWarning: In a future version, `df.iloc[:, i] = newvals` will attempt to set the values inplace instead of always setting a new array. To retain the old behavior, use either `df[df.columns[i]] = newvals` or, if columns are non-unique, `df.isetitem(i, newvals)`\n",
      "  df.loc[:,[\"taxid\",\"superkingdom\",\"kingdom\",\"phylum\",\"order\",\"sci_name\",\"color\"]]=hgts\n",
      "/tmp/ipykernel_682895/273728966.py:5: FutureWarning: In a future version, `df.iloc[:, i] = newvals` will attempt to set the values inplace instead of always setting a new array. To retain the old behavior, use either `df[df.columns[i]] = newvals` or, if columns are non-unique, `df.isetitem(i, newvals)`\n",
      "  df.loc[:,[\"taxid\",\"superkingdom\",\"kingdom\",\"phylum\",\"order\",\"sci_name\",\"color\"]]=hgts\n",
      "/tmp/ipykernel_682895/273728966.py:5: FutureWarning: In a future version, `df.iloc[:, i] = newvals` will attempt to set the values inplace instead of always setting a new array. To retain the old behavior, use either `df[df.columns[i]] = newvals` or, if columns are non-unique, `df.isetitem(i, newvals)`\n",
      "  df.loc[:,[\"taxid\",\"superkingdom\",\"kingdom\",\"phylum\",\"order\",\"sci_name\",\"color\"]]=hgts\n"
     ]
    },
    {
     "name": "stdout",
     "output_type": "stream",
     "text": [
      "pir|T26836|\n"
     ]
    },
    {
     "name": "stderr",
     "output_type": "stream",
     "text": [
      "/tmp/ipykernel_682895/273728966.py:5: FutureWarning: In a future version, `df.iloc[:, i] = newvals` will attempt to set the values inplace instead of always setting a new array. To retain the old behavior, use either `df[df.columns[i]] = newvals` or, if columns are non-unique, `df.isetitem(i, newvals)`\n",
      "  df.loc[:,[\"taxid\",\"superkingdom\",\"kingdom\",\"phylum\",\"order\",\"sci_name\",\"color\"]]=hgts\n",
      "/tmp/ipykernel_682895/273728966.py:5: FutureWarning: In a future version, `df.iloc[:, i] = newvals` will attempt to set the values inplace instead of always setting a new array. To retain the old behavior, use either `df[df.columns[i]] = newvals` or, if columns are non-unique, `df.isetitem(i, newvals)`\n",
      "  df.loc[:,[\"taxid\",\"superkingdom\",\"kingdom\",\"phylum\",\"order\",\"sci_name\",\"color\"]]=hgts\n",
      "/tmp/ipykernel_682895/273728966.py:5: FutureWarning: In a future version, `df.iloc[:, i] = newvals` will attempt to set the values inplace instead of always setting a new array. To retain the old behavior, use either `df[df.columns[i]] = newvals` or, if columns are non-unique, `df.isetitem(i, newvals)`\n",
      "  df.loc[:,[\"taxid\",\"superkingdom\",\"kingdom\",\"phylum\",\"order\",\"sci_name\",\"color\"]]=hgts\n",
      "/tmp/ipykernel_682895/273728966.py:5: FutureWarning: In a future version, `df.iloc[:, i] = newvals` will attempt to set the values inplace instead of always setting a new array. To retain the old behavior, use either `df[df.columns[i]] = newvals` or, if columns are non-unique, `df.isetitem(i, newvals)`\n",
      "  df.loc[:,[\"taxid\",\"superkingdom\",\"kingdom\",\"phylum\",\"order\",\"sci_name\",\"color\"]]=hgts\n",
      "/tmp/ipykernel_682895/273728966.py:5: FutureWarning: In a future version, `df.iloc[:, i] = newvals` will attempt to set the values inplace instead of always setting a new array. To retain the old behavior, use either `df[df.columns[i]] = newvals` or, if columns are non-unique, `df.isetitem(i, newvals)`\n",
      "  df.loc[:,[\"taxid\",\"superkingdom\",\"kingdom\",\"phylum\",\"order\",\"sci_name\",\"color\"]]=hgts\n",
      "/tmp/ipykernel_682895/273728966.py:5: FutureWarning: In a future version, `df.iloc[:, i] = newvals` will attempt to set the values inplace instead of always setting a new array. To retain the old behavior, use either `df[df.columns[i]] = newvals` or, if columns are non-unique, `df.isetitem(i, newvals)`\n",
      "  df.loc[:,[\"taxid\",\"superkingdom\",\"kingdom\",\"phylum\",\"order\",\"sci_name\",\"color\"]]=hgts\n"
     ]
    },
    {
     "name": "stdout",
     "output_type": "stream",
     "text": [
      "MCJ1441902.1\n",
      "MBB2199797.1\n"
     ]
    },
    {
     "name": "stderr",
     "output_type": "stream",
     "text": [
      "/tmp/ipykernel_682895/273728966.py:5: FutureWarning: In a future version, `df.iloc[:, i] = newvals` will attempt to set the values inplace instead of always setting a new array. To retain the old behavior, use either `df[df.columns[i]] = newvals` or, if columns are non-unique, `df.isetitem(i, newvals)`\n",
      "  df.loc[:,[\"taxid\",\"superkingdom\",\"kingdom\",\"phylum\",\"order\",\"sci_name\",\"color\"]]=hgts\n",
      "/tmp/ipykernel_682895/273728966.py:5: FutureWarning: In a future version, `df.iloc[:, i] = newvals` will attempt to set the values inplace instead of always setting a new array. To retain the old behavior, use either `df[df.columns[i]] = newvals` or, if columns are non-unique, `df.isetitem(i, newvals)`\n",
      "  df.loc[:,[\"taxid\",\"superkingdom\",\"kingdom\",\"phylum\",\"order\",\"sci_name\",\"color\"]]=hgts\n"
     ]
    },
    {
     "name": "stdout",
     "output_type": "stream",
     "text": [
      "AGU10929.1\n"
     ]
    },
    {
     "name": "stderr",
     "output_type": "stream",
     "text": [
      "/tmp/ipykernel_682895/273728966.py:5: FutureWarning: In a future version, `df.iloc[:, i] = newvals` will attempt to set the values inplace instead of always setting a new array. To retain the old behavior, use either `df[df.columns[i]] = newvals` or, if columns are non-unique, `df.isetitem(i, newvals)`\n",
      "  df.loc[:,[\"taxid\",\"superkingdom\",\"kingdom\",\"phylum\",\"order\",\"sci_name\",\"color\"]]=hgts\n",
      "/tmp/ipykernel_682895/273728966.py:5: FutureWarning: In a future version, `df.iloc[:, i] = newvals` will attempt to set the values inplace instead of always setting a new array. To retain the old behavior, use either `df[df.columns[i]] = newvals` or, if columns are non-unique, `df.isetitem(i, newvals)`\n",
      "  df.loc[:,[\"taxid\",\"superkingdom\",\"kingdom\",\"phylum\",\"order\",\"sci_name\",\"color\"]]=hgts\n"
     ]
    },
    {
     "name": "stdout",
     "output_type": "stream",
     "text": [
      "AAM82289.1\n",
      "ADQ57456.1\n",
      "pir|T26925|\n",
      "AEZ51500.1\n",
      "AAT79489.1\n",
      "NLL62676.1\n"
     ]
    },
    {
     "name": "stderr",
     "output_type": "stream",
     "text": [
      "/tmp/ipykernel_682895/273728966.py:5: FutureWarning: In a future version, `df.iloc[:, i] = newvals` will attempt to set the values inplace instead of always setting a new array. To retain the old behavior, use either `df[df.columns[i]] = newvals` or, if columns are non-unique, `df.isetitem(i, newvals)`\n",
      "  df.loc[:,[\"taxid\",\"superkingdom\",\"kingdom\",\"phylum\",\"order\",\"sci_name\",\"color\"]]=hgts\n",
      "/tmp/ipykernel_682895/273728966.py:5: FutureWarning: In a future version, `df.iloc[:, i] = newvals` will attempt to set the values inplace instead of always setting a new array. To retain the old behavior, use either `df[df.columns[i]] = newvals` or, if columns are non-unique, `df.isetitem(i, newvals)`\n",
      "  df.loc[:,[\"taxid\",\"superkingdom\",\"kingdom\",\"phylum\",\"order\",\"sci_name\",\"color\"]]=hgts\n",
      "/tmp/ipykernel_682895/273728966.py:5: FutureWarning: In a future version, `df.iloc[:, i] = newvals` will attempt to set the values inplace instead of always setting a new array. To retain the old behavior, use either `df[df.columns[i]] = newvals` or, if columns are non-unique, `df.isetitem(i, newvals)`\n",
      "  df.loc[:,[\"taxid\",\"superkingdom\",\"kingdom\",\"phylum\",\"order\",\"sci_name\",\"color\"]]=hgts\n",
      "/tmp/ipykernel_682895/273728966.py:5: FutureWarning: In a future version, `df.iloc[:, i] = newvals` will attempt to set the values inplace instead of always setting a new array. To retain the old behavior, use either `df[df.columns[i]] = newvals` or, if columns are non-unique, `df.isetitem(i, newvals)`\n",
      "  df.loc[:,[\"taxid\",\"superkingdom\",\"kingdom\",\"phylum\",\"order\",\"sci_name\",\"color\"]]=hgts\n",
      "/tmp/ipykernel_682895/273728966.py:5: FutureWarning: In a future version, `df.iloc[:, i] = newvals` will attempt to set the values inplace instead of always setting a new array. To retain the old behavior, use either `df[df.columns[i]] = newvals` or, if columns are non-unique, `df.isetitem(i, newvals)`\n",
      "  df.loc[:,[\"taxid\",\"superkingdom\",\"kingdom\",\"phylum\",\"order\",\"sci_name\",\"color\"]]=hgts\n"
     ]
    },
    {
     "name": "stdout",
     "output_type": "stream",
     "text": [
      "MCJ1443143.1\n"
     ]
    },
    {
     "name": "stderr",
     "output_type": "stream",
     "text": [
      "/tmp/ipykernel_682895/273728966.py:5: FutureWarning: In a future version, `df.iloc[:, i] = newvals` will attempt to set the values inplace instead of always setting a new array. To retain the old behavior, use either `df[df.columns[i]] = newvals` or, if columns are non-unique, `df.isetitem(i, newvals)`\n",
      "  df.loc[:,[\"taxid\",\"superkingdom\",\"kingdom\",\"phylum\",\"order\",\"sci_name\",\"color\"]]=hgts\n",
      "/tmp/ipykernel_682895/273728966.py:5: FutureWarning: In a future version, `df.iloc[:, i] = newvals` will attempt to set the values inplace instead of always setting a new array. To retain the old behavior, use either `df[df.columns[i]] = newvals` or, if columns are non-unique, `df.isetitem(i, newvals)`\n",
      "  df.loc[:,[\"taxid\",\"superkingdom\",\"kingdom\",\"phylum\",\"order\",\"sci_name\",\"color\"]]=hgts\n",
      "/tmp/ipykernel_682895/273728966.py:5: FutureWarning: In a future version, `df.iloc[:, i] = newvals` will attempt to set the values inplace instead of always setting a new array. To retain the old behavior, use either `df[df.columns[i]] = newvals` or, if columns are non-unique, `df.isetitem(i, newvals)`\n",
      "  df.loc[:,[\"taxid\",\"superkingdom\",\"kingdom\",\"phylum\",\"order\",\"sci_name\",\"color\"]]=hgts\n",
      "/tmp/ipykernel_682895/273728966.py:5: FutureWarning: In a future version, `df.iloc[:, i] = newvals` will attempt to set the values inplace instead of always setting a new array. To retain the old behavior, use either `df[df.columns[i]] = newvals` or, if columns are non-unique, `df.isetitem(i, newvals)`\n",
      "  df.loc[:,[\"taxid\",\"superkingdom\",\"kingdom\",\"phylum\",\"order\",\"sci_name\",\"color\"]]=hgts\n",
      "/tmp/ipykernel_682895/273728966.py:5: FutureWarning: In a future version, `df.iloc[:, i] = newvals` will attempt to set the values inplace instead of always setting a new array. To retain the old behavior, use either `df[df.columns[i]] = newvals` or, if columns are non-unique, `df.isetitem(i, newvals)`\n",
      "  df.loc[:,[\"taxid\",\"superkingdom\",\"kingdom\",\"phylum\",\"order\",\"sci_name\",\"color\"]]=hgts\n",
      "/tmp/ipykernel_682895/273728966.py:5: FutureWarning: In a future version, `df.iloc[:, i] = newvals` will attempt to set the values inplace instead of always setting a new array. To retain the old behavior, use either `df[df.columns[i]] = newvals` or, if columns are non-unique, `df.isetitem(i, newvals)`\n",
      "  df.loc[:,[\"taxid\",\"superkingdom\",\"kingdom\",\"phylum\",\"order\",\"sci_name\",\"color\"]]=hgts\n",
      "/tmp/ipykernel_682895/273728966.py:5: FutureWarning: In a future version, `df.iloc[:, i] = newvals` will attempt to set the values inplace instead of always setting a new array. To retain the old behavior, use either `df[df.columns[i]] = newvals` or, if columns are non-unique, `df.isetitem(i, newvals)`\n",
      "  df.loc[:,[\"taxid\",\"superkingdom\",\"kingdom\",\"phylum\",\"order\",\"sci_name\",\"color\"]]=hgts\n",
      "/tmp/ipykernel_682895/273728966.py:5: FutureWarning: In a future version, `df.iloc[:, i] = newvals` will attempt to set the values inplace instead of always setting a new array. To retain the old behavior, use either `df[df.columns[i]] = newvals` or, if columns are non-unique, `df.isetitem(i, newvals)`\n",
      "  df.loc[:,[\"taxid\",\"superkingdom\",\"kingdom\",\"phylum\",\"order\",\"sci_name\",\"color\"]]=hgts\n"
     ]
    },
    {
     "name": "stdout",
     "output_type": "stream",
     "text": [
      "MBH8560799.1\n"
     ]
    },
    {
     "name": "stderr",
     "output_type": "stream",
     "text": [
      "/tmp/ipykernel_682895/273728966.py:5: FutureWarning: In a future version, `df.iloc[:, i] = newvals` will attempt to set the values inplace instead of always setting a new array. To retain the old behavior, use either `df[df.columns[i]] = newvals` or, if columns are non-unique, `df.isetitem(i, newvals)`\n",
      "  df.loc[:,[\"taxid\",\"superkingdom\",\"kingdom\",\"phylum\",\"order\",\"sci_name\",\"color\"]]=hgts\n",
      "/tmp/ipykernel_682895/273728966.py:5: FutureWarning: In a future version, `df.iloc[:, i] = newvals` will attempt to set the values inplace instead of always setting a new array. To retain the old behavior, use either `df[df.columns[i]] = newvals` or, if columns are non-unique, `df.isetitem(i, newvals)`\n",
      "  df.loc[:,[\"taxid\",\"superkingdom\",\"kingdom\",\"phylum\",\"order\",\"sci_name\",\"color\"]]=hgts\n",
      "/tmp/ipykernel_682895/273728966.py:5: FutureWarning: In a future version, `df.iloc[:, i] = newvals` will attempt to set the values inplace instead of always setting a new array. To retain the old behavior, use either `df[df.columns[i]] = newvals` or, if columns are non-unique, `df.isetitem(i, newvals)`\n",
      "  df.loc[:,[\"taxid\",\"superkingdom\",\"kingdom\",\"phylum\",\"order\",\"sci_name\",\"color\"]]=hgts\n",
      "/tmp/ipykernel_682895/273728966.py:5: FutureWarning: In a future version, `df.iloc[:, i] = newvals` will attempt to set the values inplace instead of always setting a new array. To retain the old behavior, use either `df[df.columns[i]] = newvals` or, if columns are non-unique, `df.isetitem(i, newvals)`\n",
      "  df.loc[:,[\"taxid\",\"superkingdom\",\"kingdom\",\"phylum\",\"order\",\"sci_name\",\"color\"]]=hgts\n"
     ]
    },
    {
     "name": "stdout",
     "output_type": "stream",
     "text": [
      "MBD9061442.1\n"
     ]
    },
    {
     "name": "stderr",
     "output_type": "stream",
     "text": [
      "/tmp/ipykernel_682895/273728966.py:5: FutureWarning: In a future version, `df.iloc[:, i] = newvals` will attempt to set the values inplace instead of always setting a new array. To retain the old behavior, use either `df[df.columns[i]] = newvals` or, if columns are non-unique, `df.isetitem(i, newvals)`\n",
      "  df.loc[:,[\"taxid\",\"superkingdom\",\"kingdom\",\"phylum\",\"order\",\"sci_name\",\"color\"]]=hgts\n",
      "/tmp/ipykernel_682895/273728966.py:5: FutureWarning: In a future version, `df.iloc[:, i] = newvals` will attempt to set the values inplace instead of always setting a new array. To retain the old behavior, use either `df[df.columns[i]] = newvals` or, if columns are non-unique, `df.isetitem(i, newvals)`\n",
      "  df.loc[:,[\"taxid\",\"superkingdom\",\"kingdom\",\"phylum\",\"order\",\"sci_name\",\"color\"]]=hgts\n",
      "/tmp/ipykernel_682895/273728966.py:5: FutureWarning: In a future version, `df.iloc[:, i] = newvals` will attempt to set the values inplace instead of always setting a new array. To retain the old behavior, use either `df[df.columns[i]] = newvals` or, if columns are non-unique, `df.isetitem(i, newvals)`\n",
      "  df.loc[:,[\"taxid\",\"superkingdom\",\"kingdom\",\"phylum\",\"order\",\"sci_name\",\"color\"]]=hgts\n",
      "/tmp/ipykernel_682895/273728966.py:5: FutureWarning: In a future version, `df.iloc[:, i] = newvals` will attempt to set the values inplace instead of always setting a new array. To retain the old behavior, use either `df[df.columns[i]] = newvals` or, if columns are non-unique, `df.isetitem(i, newvals)`\n",
      "  df.loc[:,[\"taxid\",\"superkingdom\",\"kingdom\",\"phylum\",\"order\",\"sci_name\",\"color\"]]=hgts\n"
     ]
    },
    {
     "name": "stdout",
     "output_type": "stream",
     "text": [
      "MCF8701902.1\n",
      "pir|PC1232|\n",
      "prf||1107279B\n"
     ]
    },
    {
     "name": "stderr",
     "output_type": "stream",
     "text": [
      "/tmp/ipykernel_682895/273728966.py:5: FutureWarning: In a future version, `df.iloc[:, i] = newvals` will attempt to set the values inplace instead of always setting a new array. To retain the old behavior, use either `df[df.columns[i]] = newvals` or, if columns are non-unique, `df.isetitem(i, newvals)`\n",
      "  df.loc[:,[\"taxid\",\"superkingdom\",\"kingdom\",\"phylum\",\"order\",\"sci_name\",\"color\"]]=hgts\n",
      "/tmp/ipykernel_682895/273728966.py:5: FutureWarning: In a future version, `df.iloc[:, i] = newvals` will attempt to set the values inplace instead of always setting a new array. To retain the old behavior, use either `df[df.columns[i]] = newvals` or, if columns are non-unique, `df.isetitem(i, newvals)`\n",
      "  df.loc[:,[\"taxid\",\"superkingdom\",\"kingdom\",\"phylum\",\"order\",\"sci_name\",\"color\"]]=hgts\n"
     ]
    },
    {
     "name": "stdout",
     "output_type": "stream",
     "text": [
      "HHY72689.1\n"
     ]
    },
    {
     "name": "stderr",
     "output_type": "stream",
     "text": [
      "/tmp/ipykernel_682895/273728966.py:5: FutureWarning: In a future version, `df.iloc[:, i] = newvals` will attempt to set the values inplace instead of always setting a new array. To retain the old behavior, use either `df[df.columns[i]] = newvals` or, if columns are non-unique, `df.isetitem(i, newvals)`\n",
      "  df.loc[:,[\"taxid\",\"superkingdom\",\"kingdom\",\"phylum\",\"order\",\"sci_name\",\"color\"]]=hgts\n",
      "/tmp/ipykernel_682895/273728966.py:5: FutureWarning: In a future version, `df.iloc[:, i] = newvals` will attempt to set the values inplace instead of always setting a new array. To retain the old behavior, use either `df[df.columns[i]] = newvals` or, if columns are non-unique, `df.isetitem(i, newvals)`\n",
      "  df.loc[:,[\"taxid\",\"superkingdom\",\"kingdom\",\"phylum\",\"order\",\"sci_name\",\"color\"]]=hgts\n"
     ]
    },
    {
     "name": "stdout",
     "output_type": "stream",
     "text": [
      "MCJ1441651.1\n"
     ]
    },
    {
     "name": "stderr",
     "output_type": "stream",
     "text": [
      "/tmp/ipykernel_682895/273728966.py:5: FutureWarning: In a future version, `df.iloc[:, i] = newvals` will attempt to set the values inplace instead of always setting a new array. To retain the old behavior, use either `df[df.columns[i]] = newvals` or, if columns are non-unique, `df.isetitem(i, newvals)`\n",
      "  df.loc[:,[\"taxid\",\"superkingdom\",\"kingdom\",\"phylum\",\"order\",\"sci_name\",\"color\"]]=hgts\n",
      "/tmp/ipykernel_682895/273728966.py:5: FutureWarning: In a future version, `df.iloc[:, i] = newvals` will attempt to set the values inplace instead of always setting a new array. To retain the old behavior, use either `df[df.columns[i]] = newvals` or, if columns are non-unique, `df.isetitem(i, newvals)`\n",
      "  df.loc[:,[\"taxid\",\"superkingdom\",\"kingdom\",\"phylum\",\"order\",\"sci_name\",\"color\"]]=hgts\n",
      "/tmp/ipykernel_682895/273728966.py:5: FutureWarning: In a future version, `df.iloc[:, i] = newvals` will attempt to set the values inplace instead of always setting a new array. To retain the old behavior, use either `df[df.columns[i]] = newvals` or, if columns are non-unique, `df.isetitem(i, newvals)`\n",
      "  df.loc[:,[\"taxid\",\"superkingdom\",\"kingdom\",\"phylum\",\"order\",\"sci_name\",\"color\"]]=hgts\n",
      "/tmp/ipykernel_682895/273728966.py:5: FutureWarning: In a future version, `df.iloc[:, i] = newvals` will attempt to set the values inplace instead of always setting a new array. To retain the old behavior, use either `df[df.columns[i]] = newvals` or, if columns are non-unique, `df.isetitem(i, newvals)`\n",
      "  df.loc[:,[\"taxid\",\"superkingdom\",\"kingdom\",\"phylum\",\"order\",\"sci_name\",\"color\"]]=hgts\n",
      "/tmp/ipykernel_682895/273728966.py:5: FutureWarning: In a future version, `df.iloc[:, i] = newvals` will attempt to set the values inplace instead of always setting a new array. To retain the old behavior, use either `df[df.columns[i]] = newvals` or, if columns are non-unique, `df.isetitem(i, newvals)`\n",
      "  df.loc[:,[\"taxid\",\"superkingdom\",\"kingdom\",\"phylum\",\"order\",\"sci_name\",\"color\"]]=hgts\n",
      "/tmp/ipykernel_682895/273728966.py:5: FutureWarning: In a future version, `df.iloc[:, i] = newvals` will attempt to set the values inplace instead of always setting a new array. To retain the old behavior, use either `df[df.columns[i]] = newvals` or, if columns are non-unique, `df.isetitem(i, newvals)`\n",
      "  df.loc[:,[\"taxid\",\"superkingdom\",\"kingdom\",\"phylum\",\"order\",\"sci_name\",\"color\"]]=hgts\n",
      "/tmp/ipykernel_682895/273728966.py:5: FutureWarning: In a future version, `df.iloc[:, i] = newvals` will attempt to set the values inplace instead of always setting a new array. To retain the old behavior, use either `df[df.columns[i]] = newvals` or, if columns are non-unique, `df.isetitem(i, newvals)`\n",
      "  df.loc[:,[\"taxid\",\"superkingdom\",\"kingdom\",\"phylum\",\"order\",\"sci_name\",\"color\"]]=hgts\n"
     ]
    },
    {
     "name": "stdout",
     "output_type": "stream",
     "text": [
      "MBV2113395.1\n"
     ]
    },
    {
     "name": "stderr",
     "output_type": "stream",
     "text": [
      "/tmp/ipykernel_682895/273728966.py:5: FutureWarning: In a future version, `df.iloc[:, i] = newvals` will attempt to set the values inplace instead of always setting a new array. To retain the old behavior, use either `df[df.columns[i]] = newvals` or, if columns are non-unique, `df.isetitem(i, newvals)`\n",
      "  df.loc[:,[\"taxid\",\"superkingdom\",\"kingdom\",\"phylum\",\"order\",\"sci_name\",\"color\"]]=hgts\n"
     ]
    },
    {
     "name": "stdout",
     "output_type": "stream",
     "text": [
      "MBV2113489.1\n"
     ]
    },
    {
     "name": "stderr",
     "output_type": "stream",
     "text": [
      "/tmp/ipykernel_682895/273728966.py:5: FutureWarning: In a future version, `df.iloc[:, i] = newvals` will attempt to set the values inplace instead of always setting a new array. To retain the old behavior, use either `df[df.columns[i]] = newvals` or, if columns are non-unique, `df.isetitem(i, newvals)`\n",
      "  df.loc[:,[\"taxid\",\"superkingdom\",\"kingdom\",\"phylum\",\"order\",\"sci_name\",\"color\"]]=hgts\n",
      "/tmp/ipykernel_682895/273728966.py:5: FutureWarning: In a future version, `df.iloc[:, i] = newvals` will attempt to set the values inplace instead of always setting a new array. To retain the old behavior, use either `df[df.columns[i]] = newvals` or, if columns are non-unique, `df.isetitem(i, newvals)`\n",
      "  df.loc[:,[\"taxid\",\"superkingdom\",\"kingdom\",\"phylum\",\"order\",\"sci_name\",\"color\"]]=hgts\n",
      "/tmp/ipykernel_682895/273728966.py:5: FutureWarning: In a future version, `df.iloc[:, i] = newvals` will attempt to set the values inplace instead of always setting a new array. To retain the old behavior, use either `df[df.columns[i]] = newvals` or, if columns are non-unique, `df.isetitem(i, newvals)`\n",
      "  df.loc[:,[\"taxid\",\"superkingdom\",\"kingdom\",\"phylum\",\"order\",\"sci_name\",\"color\"]]=hgts\n",
      "/tmp/ipykernel_682895/273728966.py:5: FutureWarning: In a future version, `df.iloc[:, i] = newvals` will attempt to set the values inplace instead of always setting a new array. To retain the old behavior, use either `df[df.columns[i]] = newvals` or, if columns are non-unique, `df.isetitem(i, newvals)`\n",
      "  df.loc[:,[\"taxid\",\"superkingdom\",\"kingdom\",\"phylum\",\"order\",\"sci_name\",\"color\"]]=hgts\n",
      "/tmp/ipykernel_682895/273728966.py:5: FutureWarning: In a future version, `df.iloc[:, i] = newvals` will attempt to set the values inplace instead of always setting a new array. To retain the old behavior, use either `df[df.columns[i]] = newvals` or, if columns are non-unique, `df.isetitem(i, newvals)`\n",
      "  df.loc[:,[\"taxid\",\"superkingdom\",\"kingdom\",\"phylum\",\"order\",\"sci_name\",\"color\"]]=hgts\n",
      "/tmp/ipykernel_682895/273728966.py:5: FutureWarning: In a future version, `df.iloc[:, i] = newvals` will attempt to set the values inplace instead of always setting a new array. To retain the old behavior, use either `df[df.columns[i]] = newvals` or, if columns are non-unique, `df.isetitem(i, newvals)`\n",
      "  df.loc[:,[\"taxid\",\"superkingdom\",\"kingdom\",\"phylum\",\"order\",\"sci_name\",\"color\"]]=hgts\n",
      "/tmp/ipykernel_682895/273728966.py:5: FutureWarning: In a future version, `df.iloc[:, i] = newvals` will attempt to set the values inplace instead of always setting a new array. To retain the old behavior, use either `df[df.columns[i]] = newvals` or, if columns are non-unique, `df.isetitem(i, newvals)`\n",
      "  df.loc[:,[\"taxid\",\"superkingdom\",\"kingdom\",\"phylum\",\"order\",\"sci_name\",\"color\"]]=hgts\n"
     ]
    },
    {
     "name": "stdout",
     "output_type": "stream",
     "text": [
      "SJL87857.1\n",
      "SJL86761.1\n",
      "SJL87863.1\n",
      "SJL87854.1\n",
      "SJL87851.1\n"
     ]
    },
    {
     "name": "stderr",
     "output_type": "stream",
     "text": [
      "/tmp/ipykernel_682895/273728966.py:5: FutureWarning: In a future version, `df.iloc[:, i] = newvals` will attempt to set the values inplace instead of always setting a new array. To retain the old behavior, use either `df[df.columns[i]] = newvals` or, if columns are non-unique, `df.isetitem(i, newvals)`\n",
      "  df.loc[:,[\"taxid\",\"superkingdom\",\"kingdom\",\"phylum\",\"order\",\"sci_name\",\"color\"]]=hgts\n"
     ]
    },
    {
     "name": "stdout",
     "output_type": "stream",
     "text": [
      "MBE6630047.1\n"
     ]
    },
    {
     "name": "stderr",
     "output_type": "stream",
     "text": [
      "/tmp/ipykernel_682895/273728966.py:5: FutureWarning: In a future version, `df.iloc[:, i] = newvals` will attempt to set the values inplace instead of always setting a new array. To retain the old behavior, use either `df[df.columns[i]] = newvals` or, if columns are non-unique, `df.isetitem(i, newvals)`\n",
      "  df.loc[:,[\"taxid\",\"superkingdom\",\"kingdom\",\"phylum\",\"order\",\"sci_name\",\"color\"]]=hgts\n",
      "/tmp/ipykernel_682895/273728966.py:5: FutureWarning: In a future version, `df.iloc[:, i] = newvals` will attempt to set the values inplace instead of always setting a new array. To retain the old behavior, use either `df[df.columns[i]] = newvals` or, if columns are non-unique, `df.isetitem(i, newvals)`\n",
      "  df.loc[:,[\"taxid\",\"superkingdom\",\"kingdom\",\"phylum\",\"order\",\"sci_name\",\"color\"]]=hgts\n",
      "/tmp/ipykernel_682895/273728966.py:5: FutureWarning: In a future version, `df.iloc[:, i] = newvals` will attempt to set the values inplace instead of always setting a new array. To retain the old behavior, use either `df[df.columns[i]] = newvals` or, if columns are non-unique, `df.isetitem(i, newvals)`\n",
      "  df.loc[:,[\"taxid\",\"superkingdom\",\"kingdom\",\"phylum\",\"order\",\"sci_name\",\"color\"]]=hgts\n",
      "/tmp/ipykernel_682895/273728966.py:5: FutureWarning: In a future version, `df.iloc[:, i] = newvals` will attempt to set the values inplace instead of always setting a new array. To retain the old behavior, use either `df[df.columns[i]] = newvals` or, if columns are non-unique, `df.isetitem(i, newvals)`\n",
      "  df.loc[:,[\"taxid\",\"superkingdom\",\"kingdom\",\"phylum\",\"order\",\"sci_name\",\"color\"]]=hgts\n",
      "/tmp/ipykernel_682895/273728966.py:5: FutureWarning: In a future version, `df.iloc[:, i] = newvals` will attempt to set the values inplace instead of always setting a new array. To retain the old behavior, use either `df[df.columns[i]] = newvals` or, if columns are non-unique, `df.isetitem(i, newvals)`\n",
      "  df.loc[:,[\"taxid\",\"superkingdom\",\"kingdom\",\"phylum\",\"order\",\"sci_name\",\"color\"]]=hgts\n"
     ]
    },
    {
     "name": "stdout",
     "output_type": "stream",
     "text": [
      "WGH58587.1\n",
      "NEU80153.1\n"
     ]
    },
    {
     "name": "stderr",
     "output_type": "stream",
     "text": [
      "/tmp/ipykernel_682895/273728966.py:5: FutureWarning: In a future version, `df.iloc[:, i] = newvals` will attempt to set the values inplace instead of always setting a new array. To retain the old behavior, use either `df[df.columns[i]] = newvals` or, if columns are non-unique, `df.isetitem(i, newvals)`\n",
      "  df.loc[:,[\"taxid\",\"superkingdom\",\"kingdom\",\"phylum\",\"order\",\"sci_name\",\"color\"]]=hgts\n"
     ]
    },
    {
     "name": "stdout",
     "output_type": "stream",
     "text": [
      "MCF8701899.1\n",
      "pir|E84492|\n",
      "pir|S00954|\n"
     ]
    },
    {
     "name": "stderr",
     "output_type": "stream",
     "text": [
      "/tmp/ipykernel_682895/273728966.py:5: FutureWarning: In a future version, `df.iloc[:, i] = newvals` will attempt to set the values inplace instead of always setting a new array. To retain the old behavior, use either `df[df.columns[i]] = newvals` or, if columns are non-unique, `df.isetitem(i, newvals)`\n",
      "  df.loc[:,[\"taxid\",\"superkingdom\",\"kingdom\",\"phylum\",\"order\",\"sci_name\",\"color\"]]=hgts\n",
      "/tmp/ipykernel_682895/273728966.py:5: FutureWarning: In a future version, `df.iloc[:, i] = newvals` will attempt to set the values inplace instead of always setting a new array. To retain the old behavior, use either `df[df.columns[i]] = newvals` or, if columns are non-unique, `df.isetitem(i, newvals)`\n",
      "  df.loc[:,[\"taxid\",\"superkingdom\",\"kingdom\",\"phylum\",\"order\",\"sci_name\",\"color\"]]=hgts\n",
      "/tmp/ipykernel_682895/273728966.py:5: FutureWarning: In a future version, `df.iloc[:, i] = newvals` will attempt to set the values inplace instead of always setting a new array. To retain the old behavior, use either `df[df.columns[i]] = newvals` or, if columns are non-unique, `df.isetitem(i, newvals)`\n",
      "  df.loc[:,[\"taxid\",\"superkingdom\",\"kingdom\",\"phylum\",\"order\",\"sci_name\",\"color\"]]=hgts\n"
     ]
    },
    {
     "name": "stdout",
     "output_type": "stream",
     "text": [
      "MBH8560799.1\n"
     ]
    },
    {
     "name": "stderr",
     "output_type": "stream",
     "text": [
      "/tmp/ipykernel_682895/273728966.py:5: FutureWarning: In a future version, `df.iloc[:, i] = newvals` will attempt to set the values inplace instead of always setting a new array. To retain the old behavior, use either `df[df.columns[i]] = newvals` or, if columns are non-unique, `df.isetitem(i, newvals)`\n",
      "  df.loc[:,[\"taxid\",\"superkingdom\",\"kingdom\",\"phylum\",\"order\",\"sci_name\",\"color\"]]=hgts\n",
      "/tmp/ipykernel_682895/273728966.py:5: FutureWarning: In a future version, `df.iloc[:, i] = newvals` will attempt to set the values inplace instead of always setting a new array. To retain the old behavior, use either `df[df.columns[i]] = newvals` or, if columns are non-unique, `df.isetitem(i, newvals)`\n",
      "  df.loc[:,[\"taxid\",\"superkingdom\",\"kingdom\",\"phylum\",\"order\",\"sci_name\",\"color\"]]=hgts\n",
      "/tmp/ipykernel_682895/273728966.py:5: FutureWarning: In a future version, `df.iloc[:, i] = newvals` will attempt to set the values inplace instead of always setting a new array. To retain the old behavior, use either `df[df.columns[i]] = newvals` or, if columns are non-unique, `df.isetitem(i, newvals)`\n",
      "  df.loc[:,[\"taxid\",\"superkingdom\",\"kingdom\",\"phylum\",\"order\",\"sci_name\",\"color\"]]=hgts\n",
      "/tmp/ipykernel_682895/273728966.py:5: FutureWarning: In a future version, `df.iloc[:, i] = newvals` will attempt to set the values inplace instead of always setting a new array. To retain the old behavior, use either `df[df.columns[i]] = newvals` or, if columns are non-unique, `df.isetitem(i, newvals)`\n",
      "  df.loc[:,[\"taxid\",\"superkingdom\",\"kingdom\",\"phylum\",\"order\",\"sci_name\",\"color\"]]=hgts\n",
      "/tmp/ipykernel_682895/273728966.py:5: FutureWarning: In a future version, `df.iloc[:, i] = newvals` will attempt to set the values inplace instead of always setting a new array. To retain the old behavior, use either `df[df.columns[i]] = newvals` or, if columns are non-unique, `df.isetitem(i, newvals)`\n",
      "  df.loc[:,[\"taxid\",\"superkingdom\",\"kingdom\",\"phylum\",\"order\",\"sci_name\",\"color\"]]=hgts\n",
      "/tmp/ipykernel_682895/273728966.py:5: FutureWarning: In a future version, `df.iloc[:, i] = newvals` will attempt to set the values inplace instead of always setting a new array. To retain the old behavior, use either `df[df.columns[i]] = newvals` or, if columns are non-unique, `df.isetitem(i, newvals)`\n",
      "  df.loc[:,[\"taxid\",\"superkingdom\",\"kingdom\",\"phylum\",\"order\",\"sci_name\",\"color\"]]=hgts\n",
      "/tmp/ipykernel_682895/273728966.py:5: FutureWarning: In a future version, `df.iloc[:, i] = newvals` will attempt to set the values inplace instead of always setting a new array. To retain the old behavior, use either `df[df.columns[i]] = newvals` or, if columns are non-unique, `df.isetitem(i, newvals)`\n",
      "  df.loc[:,[\"taxid\",\"superkingdom\",\"kingdom\",\"phylum\",\"order\",\"sci_name\",\"color\"]]=hgts\n"
     ]
    },
    {
     "name": "stdout",
     "output_type": "stream",
     "text": [
      "WP_199755952.1\n",
      "RUT03355.1\n",
      "ABZ80160.1\n",
      "WAC06707.1\n",
      "MCU0594663.1\n"
     ]
    },
    {
     "name": "stderr",
     "output_type": "stream",
     "text": [
      "/tmp/ipykernel_682895/273728966.py:5: FutureWarning: In a future version, `df.iloc[:, i] = newvals` will attempt to set the values inplace instead of always setting a new array. To retain the old behavior, use either `df[df.columns[i]] = newvals` or, if columns are non-unique, `df.isetitem(i, newvals)`\n",
      "  df.loc[:,[\"taxid\",\"superkingdom\",\"kingdom\",\"phylum\",\"order\",\"sci_name\",\"color\"]]=hgts\n"
     ]
    },
    {
     "name": "stdout",
     "output_type": "stream",
     "text": [
      "MBV2113391.1\n",
      "MCF8701926.1\n",
      "MBB2199797.1\n",
      "WP_244899669.1\n"
     ]
    },
    {
     "name": "stderr",
     "output_type": "stream",
     "text": [
      "/tmp/ipykernel_682895/273728966.py:5: FutureWarning: In a future version, `df.iloc[:, i] = newvals` will attempt to set the values inplace instead of always setting a new array. To retain the old behavior, use either `df[df.columns[i]] = newvals` or, if columns are non-unique, `df.isetitem(i, newvals)`\n",
      "  df.loc[:,[\"taxid\",\"superkingdom\",\"kingdom\",\"phylum\",\"order\",\"sci_name\",\"color\"]]=hgts\n",
      "/tmp/ipykernel_682895/273728966.py:5: FutureWarning: In a future version, `df.iloc[:, i] = newvals` will attempt to set the values inplace instead of always setting a new array. To retain the old behavior, use either `df[df.columns[i]] = newvals` or, if columns are non-unique, `df.isetitem(i, newvals)`\n",
      "  df.loc[:,[\"taxid\",\"superkingdom\",\"kingdom\",\"phylum\",\"order\",\"sci_name\",\"color\"]]=hgts\n",
      "/tmp/ipykernel_682895/273728966.py:5: FutureWarning: In a future version, `df.iloc[:, i] = newvals` will attempt to set the values inplace instead of always setting a new array. To retain the old behavior, use either `df[df.columns[i]] = newvals` or, if columns are non-unique, `df.isetitem(i, newvals)`\n",
      "  df.loc[:,[\"taxid\",\"superkingdom\",\"kingdom\",\"phylum\",\"order\",\"sci_name\",\"color\"]]=hgts\n",
      "/tmp/ipykernel_682895/273728966.py:5: FutureWarning: In a future version, `df.iloc[:, i] = newvals` will attempt to set the values inplace instead of always setting a new array. To retain the old behavior, use either `df[df.columns[i]] = newvals` or, if columns are non-unique, `df.isetitem(i, newvals)`\n",
      "  df.loc[:,[\"taxid\",\"superkingdom\",\"kingdom\",\"phylum\",\"order\",\"sci_name\",\"color\"]]=hgts\n",
      "/tmp/ipykernel_682895/273728966.py:5: FutureWarning: In a future version, `df.iloc[:, i] = newvals` will attempt to set the values inplace instead of always setting a new array. To retain the old behavior, use either `df[df.columns[i]] = newvals` or, if columns are non-unique, `df.isetitem(i, newvals)`\n",
      "  df.loc[:,[\"taxid\",\"superkingdom\",\"kingdom\",\"phylum\",\"order\",\"sci_name\",\"color\"]]=hgts\n",
      "/tmp/ipykernel_682895/273728966.py:5: FutureWarning: In a future version, `df.iloc[:, i] = newvals` will attempt to set the values inplace instead of always setting a new array. To retain the old behavior, use either `df[df.columns[i]] = newvals` or, if columns are non-unique, `df.isetitem(i, newvals)`\n",
      "  df.loc[:,[\"taxid\",\"superkingdom\",\"kingdom\",\"phylum\",\"order\",\"sci_name\",\"color\"]]=hgts\n",
      "/tmp/ipykernel_682895/273728966.py:5: FutureWarning: In a future version, `df.iloc[:, i] = newvals` will attempt to set the values inplace instead of always setting a new array. To retain the old behavior, use either `df[df.columns[i]] = newvals` or, if columns are non-unique, `df.isetitem(i, newvals)`\n",
      "  df.loc[:,[\"taxid\",\"superkingdom\",\"kingdom\",\"phylum\",\"order\",\"sci_name\",\"color\"]]=hgts\n",
      "/tmp/ipykernel_682895/273728966.py:5: FutureWarning: In a future version, `df.iloc[:, i] = newvals` will attempt to set the values inplace instead of always setting a new array. To retain the old behavior, use either `df[df.columns[i]] = newvals` or, if columns are non-unique, `df.isetitem(i, newvals)`\n",
      "  df.loc[:,[\"taxid\",\"superkingdom\",\"kingdom\",\"phylum\",\"order\",\"sci_name\",\"color\"]]=hgts\n",
      "/tmp/ipykernel_682895/273728966.py:5: FutureWarning: In a future version, `df.iloc[:, i] = newvals` will attempt to set the values inplace instead of always setting a new array. To retain the old behavior, use either `df[df.columns[i]] = newvals` or, if columns are non-unique, `df.isetitem(i, newvals)`\n",
      "  df.loc[:,[\"taxid\",\"superkingdom\",\"kingdom\",\"phylum\",\"order\",\"sci_name\",\"color\"]]=hgts\n"
     ]
    },
    {
     "name": "stdout",
     "output_type": "stream",
     "text": [
      "UID85567.1BAJ41852.1\n",
      "\n",
      "QJC19409.1\n",
      "AFN89782.1\n",
      "AAO43224.1\n",
      "UID85568.1\n"
     ]
    },
    {
     "name": "stderr",
     "output_type": "stream",
     "text": [
      "/tmp/ipykernel_682895/273728966.py:5: FutureWarning: In a future version, `df.iloc[:, i] = newvals` will attempt to set the values inplace instead of always setting a new array. To retain the old behavior, use either `df[df.columns[i]] = newvals` or, if columns are non-unique, `df.isetitem(i, newvals)`\n",
      "  df.loc[:,[\"taxid\",\"superkingdom\",\"kingdom\",\"phylum\",\"order\",\"sci_name\",\"color\"]]=hgts\n",
      "/tmp/ipykernel_682895/273728966.py:5: FutureWarning: In a future version, `df.iloc[:, i] = newvals` will attempt to set the values inplace instead of always setting a new array. To retain the old behavior, use either `df[df.columns[i]] = newvals` or, if columns are non-unique, `df.isetitem(i, newvals)`\n",
      "  df.loc[:,[\"taxid\",\"superkingdom\",\"kingdom\",\"phylum\",\"order\",\"sci_name\",\"color\"]]=hgts\n",
      "/tmp/ipykernel_682895/273728966.py:5: FutureWarning: In a future version, `df.iloc[:, i] = newvals` will attempt to set the values inplace instead of always setting a new array. To retain the old behavior, use either `df[df.columns[i]] = newvals` or, if columns are non-unique, `df.isetitem(i, newvals)`\n",
      "  df.loc[:,[\"taxid\",\"superkingdom\",\"kingdom\",\"phylum\",\"order\",\"sci_name\",\"color\"]]=hgts\n"
     ]
    },
    {
     "name": "stdout",
     "output_type": "stream",
     "text": [
      "HAQ64148.1\n",
      "MBY0795068.1\n",
      "WP_219888941.1\n",
      "SBS75743.1\n"
     ]
    },
    {
     "name": "stderr",
     "output_type": "stream",
     "text": [
      "/tmp/ipykernel_682895/273728966.py:5: FutureWarning: In a future version, `df.iloc[:, i] = newvals` will attempt to set the values inplace instead of always setting a new array. To retain the old behavior, use either `df[df.columns[i]] = newvals` or, if columns are non-unique, `df.isetitem(i, newvals)`\n",
      "  df.loc[:,[\"taxid\",\"superkingdom\",\"kingdom\",\"phylum\",\"order\",\"sci_name\",\"color\"]]=hgts\n",
      "/tmp/ipykernel_682895/273728966.py:5: FutureWarning: In a future version, `df.iloc[:, i] = newvals` will attempt to set the values inplace instead of always setting a new array. To retain the old behavior, use either `df[df.columns[i]] = newvals` or, if columns are non-unique, `df.isetitem(i, newvals)`\n",
      "  df.loc[:,[\"taxid\",\"superkingdom\",\"kingdom\",\"phylum\",\"order\",\"sci_name\",\"color\"]]=hgts\n",
      "/tmp/ipykernel_682895/273728966.py:5: FutureWarning: In a future version, `df.iloc[:, i] = newvals` will attempt to set the values inplace instead of always setting a new array. To retain the old behavior, use either `df[df.columns[i]] = newvals` or, if columns are non-unique, `df.isetitem(i, newvals)`\n",
      "  df.loc[:,[\"taxid\",\"superkingdom\",\"kingdom\",\"phylum\",\"order\",\"sci_name\",\"color\"]]=hgts\n",
      "/tmp/ipykernel_682895/273728966.py:5: FutureWarning: In a future version, `df.iloc[:, i] = newvals` will attempt to set the values inplace instead of always setting a new array. To retain the old behavior, use either `df[df.columns[i]] = newvals` or, if columns are non-unique, `df.isetitem(i, newvals)`\n",
      "  df.loc[:,[\"taxid\",\"superkingdom\",\"kingdom\",\"phylum\",\"order\",\"sci_name\",\"color\"]]=hgts\n"
     ]
    },
    {
     "name": "stdout",
     "output_type": "stream",
     "text": [
      "UVF58862.1\n",
      "QEA06020.1\n",
      "UVF58865.1\n"
     ]
    },
    {
     "name": "stderr",
     "output_type": "stream",
     "text": [
      "/tmp/ipykernel_682895/273728966.py:5: FutureWarning: In a future version, `df.iloc[:, i] = newvals` will attempt to set the values inplace instead of always setting a new array. To retain the old behavior, use either `df[df.columns[i]] = newvals` or, if columns are non-unique, `df.isetitem(i, newvals)`\n",
      "  df.loc[:,[\"taxid\",\"superkingdom\",\"kingdom\",\"phylum\",\"order\",\"sci_name\",\"color\"]]=hgts\n",
      "/tmp/ipykernel_682895/273728966.py:5: FutureWarning: In a future version, `df.iloc[:, i] = newvals` will attempt to set the values inplace instead of always setting a new array. To retain the old behavior, use either `df[df.columns[i]] = newvals` or, if columns are non-unique, `df.isetitem(i, newvals)`\n",
      "  df.loc[:,[\"taxid\",\"superkingdom\",\"kingdom\",\"phylum\",\"order\",\"sci_name\",\"color\"]]=hgts\n"
     ]
    },
    {
     "name": "stdout",
     "output_type": "stream",
     "text": [
      "MBH8560799.1\n",
      "CAG8998217.1\n"
     ]
    },
    {
     "name": "stderr",
     "output_type": "stream",
     "text": [
      "/tmp/ipykernel_682895/273728966.py:5: FutureWarning: In a future version, `df.iloc[:, i] = newvals` will attempt to set the values inplace instead of always setting a new array. To retain the old behavior, use either `df[df.columns[i]] = newvals` or, if columns are non-unique, `df.isetitem(i, newvals)`\n",
      "  df.loc[:,[\"taxid\",\"superkingdom\",\"kingdom\",\"phylum\",\"order\",\"sci_name\",\"color\"]]=hgts\n"
     ]
    },
    {
     "name": "stdout",
     "output_type": "stream",
     "text": [
      "MCF6774896.1\n",
      "ABZ79920.1\n"
     ]
    },
    {
     "name": "stderr",
     "output_type": "stream",
     "text": [
      "/tmp/ipykernel_682895/273728966.py:5: FutureWarning: In a future version, `df.iloc[:, i] = newvals` will attempt to set the values inplace instead of always setting a new array. To retain the old behavior, use either `df[df.columns[i]] = newvals` or, if columns are non-unique, `df.isetitem(i, newvals)`\n",
      "  df.loc[:,[\"taxid\",\"superkingdom\",\"kingdom\",\"phylum\",\"order\",\"sci_name\",\"color\"]]=hgts\n",
      "/tmp/ipykernel_682895/273728966.py:5: FutureWarning: In a future version, `df.iloc[:, i] = newvals` will attempt to set the values inplace instead of always setting a new array. To retain the old behavior, use either `df[df.columns[i]] = newvals` or, if columns are non-unique, `df.isetitem(i, newvals)`\n",
      "  df.loc[:,[\"taxid\",\"superkingdom\",\"kingdom\",\"phylum\",\"order\",\"sci_name\",\"color\"]]=hgts\n"
     ]
    },
    {
     "name": "stdout",
     "output_type": "stream",
     "text": [
      "2K16_A\n",
      "MBV4412147.1\n",
      "MCJ1447719.1\n"
     ]
    },
    {
     "name": "stderr",
     "output_type": "stream",
     "text": [
      "/tmp/ipykernel_682895/273728966.py:5: FutureWarning: In a future version, `df.iloc[:, i] = newvals` will attempt to set the values inplace instead of always setting a new array. To retain the old behavior, use either `df[df.columns[i]] = newvals` or, if columns are non-unique, `df.isetitem(i, newvals)`\n",
      "  df.loc[:,[\"taxid\",\"superkingdom\",\"kingdom\",\"phylum\",\"order\",\"sci_name\",\"color\"]]=hgts\n",
      "/tmp/ipykernel_682895/273728966.py:5: FutureWarning: In a future version, `df.iloc[:, i] = newvals` will attempt to set the values inplace instead of always setting a new array. To retain the old behavior, use either `df[df.columns[i]] = newvals` or, if columns are non-unique, `df.isetitem(i, newvals)`\n",
      "  df.loc[:,[\"taxid\",\"superkingdom\",\"kingdom\",\"phylum\",\"order\",\"sci_name\",\"color\"]]=hgts\n",
      "/tmp/ipykernel_682895/273728966.py:5: FutureWarning: In a future version, `df.iloc[:, i] = newvals` will attempt to set the values inplace instead of always setting a new array. To retain the old behavior, use either `df[df.columns[i]] = newvals` or, if columns are non-unique, `df.isetitem(i, newvals)`\n",
      "  df.loc[:,[\"taxid\",\"superkingdom\",\"kingdom\",\"phylum\",\"order\",\"sci_name\",\"color\"]]=hgts\n",
      "/tmp/ipykernel_682895/273728966.py:5: FutureWarning: In a future version, `df.iloc[:, i] = newvals` will attempt to set the values inplace instead of always setting a new array. To retain the old behavior, use either `df[df.columns[i]] = newvals` or, if columns are non-unique, `df.isetitem(i, newvals)`\n",
      "  df.loc[:,[\"taxid\",\"superkingdom\",\"kingdom\",\"phylum\",\"order\",\"sci_name\",\"color\"]]=hgts\n"
     ]
    },
    {
     "name": "stdout",
     "output_type": "stream",
     "text": [
      "MBE6736852.1\n"
     ]
    },
    {
     "name": "stderr",
     "output_type": "stream",
     "text": [
      "/tmp/ipykernel_682895/273728966.py:5: FutureWarning: In a future version, `df.iloc[:, i] = newvals` will attempt to set the values inplace instead of always setting a new array. To retain the old behavior, use either `df[df.columns[i]] = newvals` or, if columns are non-unique, `df.isetitem(i, newvals)`\n",
      "  df.loc[:,[\"taxid\",\"superkingdom\",\"kingdom\",\"phylum\",\"order\",\"sci_name\",\"color\"]]=hgts\n",
      "/tmp/ipykernel_682895/273728966.py:5: FutureWarning: In a future version, `df.iloc[:, i] = newvals` will attempt to set the values inplace instead of always setting a new array. To retain the old behavior, use either `df[df.columns[i]] = newvals` or, if columns are non-unique, `df.isetitem(i, newvals)`\n",
      "  df.loc[:,[\"taxid\",\"superkingdom\",\"kingdom\",\"phylum\",\"order\",\"sci_name\",\"color\"]]=hgts\n",
      "/tmp/ipykernel_682895/273728966.py:5: FutureWarning: In a future version, `df.iloc[:, i] = newvals` will attempt to set the values inplace instead of always setting a new array. To retain the old behavior, use either `df[df.columns[i]] = newvals` or, if columns are non-unique, `df.isetitem(i, newvals)`\n",
      "  df.loc[:,[\"taxid\",\"superkingdom\",\"kingdom\",\"phylum\",\"order\",\"sci_name\",\"color\"]]=hgts\n"
     ]
    },
    {
     "name": "stdout",
     "output_type": "stream",
     "text": [
      "YP_010298132.1\n",
      "YP_010298518.1\n"
     ]
    },
    {
     "name": "stderr",
     "output_type": "stream",
     "text": [
      "/tmp/ipykernel_682895/273728966.py:5: FutureWarning: In a future version, `df.iloc[:, i] = newvals` will attempt to set the values inplace instead of always setting a new array. To retain the old behavior, use either `df[df.columns[i]] = newvals` or, if columns are non-unique, `df.isetitem(i, newvals)`\n",
      "  df.loc[:,[\"taxid\",\"superkingdom\",\"kingdom\",\"phylum\",\"order\",\"sci_name\",\"color\"]]=hgts\n",
      "/tmp/ipykernel_682895/273728966.py:5: FutureWarning: In a future version, `df.iloc[:, i] = newvals` will attempt to set the values inplace instead of always setting a new array. To retain the old behavior, use either `df[df.columns[i]] = newvals` or, if columns are non-unique, `df.isetitem(i, newvals)`\n",
      "  df.loc[:,[\"taxid\",\"superkingdom\",\"kingdom\",\"phylum\",\"order\",\"sci_name\",\"color\"]]=hgts\n"
     ]
    },
    {
     "name": "stdout",
     "output_type": "stream",
     "text": [
      "MBE6790735.1\n"
     ]
    },
    {
     "name": "stderr",
     "output_type": "stream",
     "text": [
      "/tmp/ipykernel_682895/273728966.py:5: FutureWarning: In a future version, `df.iloc[:, i] = newvals` will attempt to set the values inplace instead of always setting a new array. To retain the old behavior, use either `df[df.columns[i]] = newvals` or, if columns are non-unique, `df.isetitem(i, newvals)`\n",
      "  df.loc[:,[\"taxid\",\"superkingdom\",\"kingdom\",\"phylum\",\"order\",\"sci_name\",\"color\"]]=hgts\n",
      "/tmp/ipykernel_682895/273728966.py:5: FutureWarning: In a future version, `df.iloc[:, i] = newvals` will attempt to set the values inplace instead of always setting a new array. To retain the old behavior, use either `df[df.columns[i]] = newvals` or, if columns are non-unique, `df.isetitem(i, newvals)`\n",
      "  df.loc[:,[\"taxid\",\"superkingdom\",\"kingdom\",\"phylum\",\"order\",\"sci_name\",\"color\"]]=hgts\n",
      "/tmp/ipykernel_682895/273728966.py:5: FutureWarning: In a future version, `df.iloc[:, i] = newvals` will attempt to set the values inplace instead of always setting a new array. To retain the old behavior, use either `df[df.columns[i]] = newvals` or, if columns are non-unique, `df.isetitem(i, newvals)`\n",
      "  df.loc[:,[\"taxid\",\"superkingdom\",\"kingdom\",\"phylum\",\"order\",\"sci_name\",\"color\"]]=hgts\n",
      "/tmp/ipykernel_682895/273728966.py:5: FutureWarning: In a future version, `df.iloc[:, i] = newvals` will attempt to set the values inplace instead of always setting a new array. To retain the old behavior, use either `df[df.columns[i]] = newvals` or, if columns are non-unique, `df.isetitem(i, newvals)`\n",
      "  df.loc[:,[\"taxid\",\"superkingdom\",\"kingdom\",\"phylum\",\"order\",\"sci_name\",\"color\"]]=hgts\n"
     ]
    },
    {
     "name": "stdout",
     "output_type": "stream",
     "text": [
      "WP_244755929.1\n",
      "MCR6691922.1\n",
      "WP_219854952.1\n"
     ]
    },
    {
     "name": "stderr",
     "output_type": "stream",
     "text": [
      "/tmp/ipykernel_682895/273728966.py:5: FutureWarning: In a future version, `df.iloc[:, i] = newvals` will attempt to set the values inplace instead of always setting a new array. To retain the old behavior, use either `df[df.columns[i]] = newvals` or, if columns are non-unique, `df.isetitem(i, newvals)`\n",
      "  df.loc[:,[\"taxid\",\"superkingdom\",\"kingdom\",\"phylum\",\"order\",\"sci_name\",\"color\"]]=hgts\n",
      "/tmp/ipykernel_682895/273728966.py:5: FutureWarning: In a future version, `df.iloc[:, i] = newvals` will attempt to set the values inplace instead of always setting a new array. To retain the old behavior, use either `df[df.columns[i]] = newvals` or, if columns are non-unique, `df.isetitem(i, newvals)`\n",
      "  df.loc[:,[\"taxid\",\"superkingdom\",\"kingdom\",\"phylum\",\"order\",\"sci_name\",\"color\"]]=hgts\n",
      "/tmp/ipykernel_682895/273728966.py:5: FutureWarning: In a future version, `df.iloc[:, i] = newvals` will attempt to set the values inplace instead of always setting a new array. To retain the old behavior, use either `df[df.columns[i]] = newvals` or, if columns are non-unique, `df.isetitem(i, newvals)`\n",
      "  df.loc[:,[\"taxid\",\"superkingdom\",\"kingdom\",\"phylum\",\"order\",\"sci_name\",\"color\"]]=hgts\n",
      "/tmp/ipykernel_682895/273728966.py:5: FutureWarning: In a future version, `df.iloc[:, i] = newvals` will attempt to set the values inplace instead of always setting a new array. To retain the old behavior, use either `df[df.columns[i]] = newvals` or, if columns are non-unique, `df.isetitem(i, newvals)`\n",
      "  df.loc[:,[\"taxid\",\"superkingdom\",\"kingdom\",\"phylum\",\"order\",\"sci_name\",\"color\"]]=hgts\n",
      "/tmp/ipykernel_682895/273728966.py:5: FutureWarning: In a future version, `df.iloc[:, i] = newvals` will attempt to set the values inplace instead of always setting a new array. To retain the old behavior, use either `df[df.columns[i]] = newvals` or, if columns are non-unique, `df.isetitem(i, newvals)`\n",
      "  df.loc[:,[\"taxid\",\"superkingdom\",\"kingdom\",\"phylum\",\"order\",\"sci_name\",\"color\"]]=hgts\n",
      "/tmp/ipykernel_682895/273728966.py:5: FutureWarning: In a future version, `df.iloc[:, i] = newvals` will attempt to set the values inplace instead of always setting a new array. To retain the old behavior, use either `df[df.columns[i]] = newvals` or, if columns are non-unique, `df.isetitem(i, newvals)`\n",
      "  df.loc[:,[\"taxid\",\"superkingdom\",\"kingdom\",\"phylum\",\"order\",\"sci_name\",\"color\"]]=hgts\n",
      "/tmp/ipykernel_682895/273728966.py:5: FutureWarning: In a future version, `df.iloc[:, i] = newvals` will attempt to set the values inplace instead of always setting a new array. To retain the old behavior, use either `df[df.columns[i]] = newvals` or, if columns are non-unique, `df.isetitem(i, newvals)`\n",
      "  df.loc[:,[\"taxid\",\"superkingdom\",\"kingdom\",\"phylum\",\"order\",\"sci_name\",\"color\"]]=hgts\n"
     ]
    },
    {
     "name": "stdout",
     "output_type": "stream",
     "text": [
      "WP_143558977.1\n",
      "HCA05370.1\n"
     ]
    },
    {
     "name": "stderr",
     "output_type": "stream",
     "text": [
      "/tmp/ipykernel_682895/273728966.py:5: FutureWarning: In a future version, `df.iloc[:, i] = newvals` will attempt to set the values inplace instead of always setting a new array. To retain the old behavior, use either `df[df.columns[i]] = newvals` or, if columns are non-unique, `df.isetitem(i, newvals)`\n",
      "  df.loc[:,[\"taxid\",\"superkingdom\",\"kingdom\",\"phylum\",\"order\",\"sci_name\",\"color\"]]=hgts\n",
      "/tmp/ipykernel_682895/273728966.py:5: FutureWarning: In a future version, `df.iloc[:, i] = newvals` will attempt to set the values inplace instead of always setting a new array. To retain the old behavior, use either `df[df.columns[i]] = newvals` or, if columns are non-unique, `df.isetitem(i, newvals)`\n",
      "  df.loc[:,[\"taxid\",\"superkingdom\",\"kingdom\",\"phylum\",\"order\",\"sci_name\",\"color\"]]=hgts\n",
      "/tmp/ipykernel_682895/273728966.py:5: FutureWarning: In a future version, `df.iloc[:, i] = newvals` will attempt to set the values inplace instead of always setting a new array. To retain the old behavior, use either `df[df.columns[i]] = newvals` or, if columns are non-unique, `df.isetitem(i, newvals)`\n",
      "  df.loc[:,[\"taxid\",\"superkingdom\",\"kingdom\",\"phylum\",\"order\",\"sci_name\",\"color\"]]=hgts\n",
      "/tmp/ipykernel_682895/273728966.py:5: FutureWarning: In a future version, `df.iloc[:, i] = newvals` will attempt to set the values inplace instead of always setting a new array. To retain the old behavior, use either `df[df.columns[i]] = newvals` or, if columns are non-unique, `df.isetitem(i, newvals)`\n",
      "  df.loc[:,[\"taxid\",\"superkingdom\",\"kingdom\",\"phylum\",\"order\",\"sci_name\",\"color\"]]=hgts\n",
      "/tmp/ipykernel_682895/273728966.py:5: FutureWarning: In a future version, `df.iloc[:, i] = newvals` will attempt to set the values inplace instead of always setting a new array. To retain the old behavior, use either `df[df.columns[i]] = newvals` or, if columns are non-unique, `df.isetitem(i, newvals)`\n",
      "  df.loc[:,[\"taxid\",\"superkingdom\",\"kingdom\",\"phylum\",\"order\",\"sci_name\",\"color\"]]=hgts\n",
      "/tmp/ipykernel_682895/273728966.py:5: FutureWarning: In a future version, `df.iloc[:, i] = newvals` will attempt to set the values inplace instead of always setting a new array. To retain the old behavior, use either `df[df.columns[i]] = newvals` or, if columns are non-unique, `df.isetitem(i, newvals)`\n",
      "  df.loc[:,[\"taxid\",\"superkingdom\",\"kingdom\",\"phylum\",\"order\",\"sci_name\",\"color\"]]=hgts\n",
      "/tmp/ipykernel_682895/273728966.py:5: FutureWarning: In a future version, `df.iloc[:, i] = newvals` will attempt to set the values inplace instead of always setting a new array. To retain the old behavior, use either `df[df.columns[i]] = newvals` or, if columns are non-unique, `df.isetitem(i, newvals)`\n",
      "  df.loc[:,[\"taxid\",\"superkingdom\",\"kingdom\",\"phylum\",\"order\",\"sci_name\",\"color\"]]=hgts\n",
      "/tmp/ipykernel_682895/273728966.py:5: FutureWarning: In a future version, `df.iloc[:, i] = newvals` will attempt to set the values inplace instead of always setting a new array. To retain the old behavior, use either `df[df.columns[i]] = newvals` or, if columns are non-unique, `df.isetitem(i, newvals)`\n",
      "  df.loc[:,[\"taxid\",\"superkingdom\",\"kingdom\",\"phylum\",\"order\",\"sci_name\",\"color\"]]=hgts\n",
      "/tmp/ipykernel_682895/273728966.py:5: FutureWarning: In a future version, `df.iloc[:, i] = newvals` will attempt to set the values inplace instead of always setting a new array. To retain the old behavior, use either `df[df.columns[i]] = newvals` or, if columns are non-unique, `df.isetitem(i, newvals)`\n",
      "  df.loc[:,[\"taxid\",\"superkingdom\",\"kingdom\",\"phylum\",\"order\",\"sci_name\",\"color\"]]=hgts\n",
      "/tmp/ipykernel_682895/273728966.py:5: FutureWarning: In a future version, `df.iloc[:, i] = newvals` will attempt to set the values inplace instead of always setting a new array. To retain the old behavior, use either `df[df.columns[i]] = newvals` or, if columns are non-unique, `df.isetitem(i, newvals)`\n",
      "  df.loc[:,[\"taxid\",\"superkingdom\",\"kingdom\",\"phylum\",\"order\",\"sci_name\",\"color\"]]=hgts\n",
      "/tmp/ipykernel_682895/273728966.py:5: FutureWarning: In a future version, `df.iloc[:, i] = newvals` will attempt to set the values inplace instead of always setting a new array. To retain the old behavior, use either `df[df.columns[i]] = newvals` or, if columns are non-unique, `df.isetitem(i, newvals)`\n",
      "  df.loc[:,[\"taxid\",\"superkingdom\",\"kingdom\",\"phylum\",\"order\",\"sci_name\",\"color\"]]=hgts\n"
     ]
    },
    {
     "name": "stdout",
     "output_type": "stream",
     "text": [
      "UID85567.1\n",
      "QJC19409.1AFN89782.1\n",
      "\n",
      "BAJ41852.1\n",
      "UID85568.1\n",
      "AAO43224.1\n"
     ]
    },
    {
     "name": "stderr",
     "output_type": "stream",
     "text": [
      "/tmp/ipykernel_682895/273728966.py:5: FutureWarning: In a future version, `df.iloc[:, i] = newvals` will attempt to set the values inplace instead of always setting a new array. To retain the old behavior, use either `df[df.columns[i]] = newvals` or, if columns are non-unique, `df.isetitem(i, newvals)`\n",
      "  df.loc[:,[\"taxid\",\"superkingdom\",\"kingdom\",\"phylum\",\"order\",\"sci_name\",\"color\"]]=hgts\n",
      "/tmp/ipykernel_682895/273728966.py:5: FutureWarning: In a future version, `df.iloc[:, i] = newvals` will attempt to set the values inplace instead of always setting a new array. To retain the old behavior, use either `df[df.columns[i]] = newvals` or, if columns are non-unique, `df.isetitem(i, newvals)`\n",
      "  df.loc[:,[\"taxid\",\"superkingdom\",\"kingdom\",\"phylum\",\"order\",\"sci_name\",\"color\"]]=hgts\n",
      "/tmp/ipykernel_682895/273728966.py:5: FutureWarning: In a future version, `df.iloc[:, i] = newvals` will attempt to set the values inplace instead of always setting a new array. To retain the old behavior, use either `df[df.columns[i]] = newvals` or, if columns are non-unique, `df.isetitem(i, newvals)`\n",
      "  df.loc[:,[\"taxid\",\"superkingdom\",\"kingdom\",\"phylum\",\"order\",\"sci_name\",\"color\"]]=hgts\n",
      "/tmp/ipykernel_682895/273728966.py:5: FutureWarning: In a future version, `df.iloc[:, i] = newvals` will attempt to set the values inplace instead of always setting a new array. To retain the old behavior, use either `df[df.columns[i]] = newvals` or, if columns are non-unique, `df.isetitem(i, newvals)`\n",
      "  df.loc[:,[\"taxid\",\"superkingdom\",\"kingdom\",\"phylum\",\"order\",\"sci_name\",\"color\"]]=hgts\n",
      "/tmp/ipykernel_682895/273728966.py:5: FutureWarning: In a future version, `df.iloc[:, i] = newvals` will attempt to set the values inplace instead of always setting a new array. To retain the old behavior, use either `df[df.columns[i]] = newvals` or, if columns are non-unique, `df.isetitem(i, newvals)`\n",
      "  df.loc[:,[\"taxid\",\"superkingdom\",\"kingdom\",\"phylum\",\"order\",\"sci_name\",\"color\"]]=hgts\n",
      "/tmp/ipykernel_682895/273728966.py:5: FutureWarning: In a future version, `df.iloc[:, i] = newvals` will attempt to set the values inplace instead of always setting a new array. To retain the old behavior, use either `df[df.columns[i]] = newvals` or, if columns are non-unique, `df.isetitem(i, newvals)`\n",
      "  df.loc[:,[\"taxid\",\"superkingdom\",\"kingdom\",\"phylum\",\"order\",\"sci_name\",\"color\"]]=hgts\n",
      "/tmp/ipykernel_682895/273728966.py:5: FutureWarning: In a future version, `df.iloc[:, i] = newvals` will attempt to set the values inplace instead of always setting a new array. To retain the old behavior, use either `df[df.columns[i]] = newvals` or, if columns are non-unique, `df.isetitem(i, newvals)`\n",
      "  df.loc[:,[\"taxid\",\"superkingdom\",\"kingdom\",\"phylum\",\"order\",\"sci_name\",\"color\"]]=hgts\n",
      "/tmp/ipykernel_682895/273728966.py:5: FutureWarning: In a future version, `df.iloc[:, i] = newvals` will attempt to set the values inplace instead of always setting a new array. To retain the old behavior, use either `df[df.columns[i]] = newvals` or, if columns are non-unique, `df.isetitem(i, newvals)`\n",
      "  df.loc[:,[\"taxid\",\"superkingdom\",\"kingdom\",\"phylum\",\"order\",\"sci_name\",\"color\"]]=hgts\n"
     ]
    },
    {
     "name": "stdout",
     "output_type": "stream",
     "text": [
      "MCF7184019.1\n"
     ]
    },
    {
     "name": "stderr",
     "output_type": "stream",
     "text": [
      "/tmp/ipykernel_682895/273728966.py:5: FutureWarning: In a future version, `df.iloc[:, i] = newvals` will attempt to set the values inplace instead of always setting a new array. To retain the old behavior, use either `df[df.columns[i]] = newvals` or, if columns are non-unique, `df.isetitem(i, newvals)`\n",
      "  df.loc[:,[\"taxid\",\"superkingdom\",\"kingdom\",\"phylum\",\"order\",\"sci_name\",\"color\"]]=hgts\n"
     ]
    },
    {
     "name": "stdout",
     "output_type": "stream",
     "text": [
      "pir|T31583|\n",
      "QVT77350.1\n",
      "WP_143558977.1\n"
     ]
    },
    {
     "name": "stderr",
     "output_type": "stream",
     "text": [
      "/tmp/ipykernel_682895/273728966.py:5: FutureWarning: In a future version, `df.iloc[:, i] = newvals` will attempt to set the values inplace instead of always setting a new array. To retain the old behavior, use either `df[df.columns[i]] = newvals` or, if columns are non-unique, `df.isetitem(i, newvals)`\n",
      "  df.loc[:,[\"taxid\",\"superkingdom\",\"kingdom\",\"phylum\",\"order\",\"sci_name\",\"color\"]]=hgts\n",
      "/tmp/ipykernel_682895/273728966.py:5: FutureWarning: In a future version, `df.iloc[:, i] = newvals` will attempt to set the values inplace instead of always setting a new array. To retain the old behavior, use either `df[df.columns[i]] = newvals` or, if columns are non-unique, `df.isetitem(i, newvals)`\n",
      "  df.loc[:,[\"taxid\",\"superkingdom\",\"kingdom\",\"phylum\",\"order\",\"sci_name\",\"color\"]]=hgts\n",
      "/tmp/ipykernel_682895/273728966.py:5: FutureWarning: In a future version, `df.iloc[:, i] = newvals` will attempt to set the values inplace instead of always setting a new array. To retain the old behavior, use either `df[df.columns[i]] = newvals` or, if columns are non-unique, `df.isetitem(i, newvals)`\n",
      "  df.loc[:,[\"taxid\",\"superkingdom\",\"kingdom\",\"phylum\",\"order\",\"sci_name\",\"color\"]]=hgts\n",
      "/tmp/ipykernel_682895/273728966.py:5: FutureWarning: In a future version, `df.iloc[:, i] = newvals` will attempt to set the values inplace instead of always setting a new array. To retain the old behavior, use either `df[df.columns[i]] = newvals` or, if columns are non-unique, `df.isetitem(i, newvals)`\n",
      "  df.loc[:,[\"taxid\",\"superkingdom\",\"kingdom\",\"phylum\",\"order\",\"sci_name\",\"color\"]]=hgts\n",
      "/tmp/ipykernel_682895/273728966.py:5: FutureWarning: In a future version, `df.iloc[:, i] = newvals` will attempt to set the values inplace instead of always setting a new array. To retain the old behavior, use either `df[df.columns[i]] = newvals` or, if columns are non-unique, `df.isetitem(i, newvals)`\n",
      "  df.loc[:,[\"taxid\",\"superkingdom\",\"kingdom\",\"phylum\",\"order\",\"sci_name\",\"color\"]]=hgts\n",
      "/tmp/ipykernel_682895/273728966.py:5: FutureWarning: In a future version, `df.iloc[:, i] = newvals` will attempt to set the values inplace instead of always setting a new array. To retain the old behavior, use either `df[df.columns[i]] = newvals` or, if columns are non-unique, `df.isetitem(i, newvals)`\n",
      "  df.loc[:,[\"taxid\",\"superkingdom\",\"kingdom\",\"phylum\",\"order\",\"sci_name\",\"color\"]]=hgts\n",
      "/tmp/ipykernel_682895/273728966.py:5: FutureWarning: In a future version, `df.iloc[:, i] = newvals` will attempt to set the values inplace instead of always setting a new array. To retain the old behavior, use either `df[df.columns[i]] = newvals` or, if columns are non-unique, `df.isetitem(i, newvals)`\n",
      "  df.loc[:,[\"taxid\",\"superkingdom\",\"kingdom\",\"phylum\",\"order\",\"sci_name\",\"color\"]]=hgts\n"
     ]
    },
    {
     "name": "stdout",
     "output_type": "stream",
     "text": [
      "UVF58862.1\n"
     ]
    },
    {
     "name": "stderr",
     "output_type": "stream",
     "text": [
      "/tmp/ipykernel_682895/273728966.py:5: FutureWarning: In a future version, `df.iloc[:, i] = newvals` will attempt to set the values inplace instead of always setting a new array. To retain the old behavior, use either `df[df.columns[i]] = newvals` or, if columns are non-unique, `df.isetitem(i, newvals)`\n",
      "  df.loc[:,[\"taxid\",\"superkingdom\",\"kingdom\",\"phylum\",\"order\",\"sci_name\",\"color\"]]=hgts\n"
     ]
    },
    {
     "name": "stdout",
     "output_type": "stream",
     "text": [
      "UVF58865.1\n"
     ]
    },
    {
     "name": "stderr",
     "output_type": "stream",
     "text": [
      "/tmp/ipykernel_682895/273728966.py:5: FutureWarning: In a future version, `df.iloc[:, i] = newvals` will attempt to set the values inplace instead of always setting a new array. To retain the old behavior, use either `df[df.columns[i]] = newvals` or, if columns are non-unique, `df.isetitem(i, newvals)`\n",
      "  df.loc[:,[\"taxid\",\"superkingdom\",\"kingdom\",\"phylum\",\"order\",\"sci_name\",\"color\"]]=hgts\n",
      "/tmp/ipykernel_682895/273728966.py:5: FutureWarning: In a future version, `df.iloc[:, i] = newvals` will attempt to set the values inplace instead of always setting a new array. To retain the old behavior, use either `df[df.columns[i]] = newvals` or, if columns are non-unique, `df.isetitem(i, newvals)`\n",
      "  df.loc[:,[\"taxid\",\"superkingdom\",\"kingdom\",\"phylum\",\"order\",\"sci_name\",\"color\"]]=hgts\n",
      "/tmp/ipykernel_682895/273728966.py:5: FutureWarning: In a future version, `df.iloc[:, i] = newvals` will attempt to set the values inplace instead of always setting a new array. To retain the old behavior, use either `df[df.columns[i]] = newvals` or, if columns are non-unique, `df.isetitem(i, newvals)`\n",
      "  df.loc[:,[\"taxid\",\"superkingdom\",\"kingdom\",\"phylum\",\"order\",\"sci_name\",\"color\"]]=hgts\n",
      "/tmp/ipykernel_682895/273728966.py:5: FutureWarning: In a future version, `df.iloc[:, i] = newvals` will attempt to set the values inplace instead of always setting a new array. To retain the old behavior, use either `df[df.columns[i]] = newvals` or, if columns are non-unique, `df.isetitem(i, newvals)`\n",
      "  df.loc[:,[\"taxid\",\"superkingdom\",\"kingdom\",\"phylum\",\"order\",\"sci_name\",\"color\"]]=hgts\n"
     ]
    },
    {
     "name": "stdout",
     "output_type": "stream",
     "text": [
      "HBH95733.1\n"
     ]
    },
    {
     "name": "stderr",
     "output_type": "stream",
     "text": [
      "/tmp/ipykernel_682895/273728966.py:5: FutureWarning: In a future version, `df.iloc[:, i] = newvals` will attempt to set the values inplace instead of always setting a new array. To retain the old behavior, use either `df[df.columns[i]] = newvals` or, if columns are non-unique, `df.isetitem(i, newvals)`\n",
      "  df.loc[:,[\"taxid\",\"superkingdom\",\"kingdom\",\"phylum\",\"order\",\"sci_name\",\"color\"]]=hgts\n",
      "/tmp/ipykernel_682895/273728966.py:5: FutureWarning: In a future version, `df.iloc[:, i] = newvals` will attempt to set the values inplace instead of always setting a new array. To retain the old behavior, use either `df[df.columns[i]] = newvals` or, if columns are non-unique, `df.isetitem(i, newvals)`\n",
      "  df.loc[:,[\"taxid\",\"superkingdom\",\"kingdom\",\"phylum\",\"order\",\"sci_name\",\"color\"]]=hgts\n"
     ]
    },
    {
     "name": "stdout",
     "output_type": "stream",
     "text": [
      "MCJ1449493.1\n"
     ]
    },
    {
     "name": "stderr",
     "output_type": "stream",
     "text": [
      "/tmp/ipykernel_682895/273728966.py:5: FutureWarning: In a future version, `df.iloc[:, i] = newvals` will attempt to set the values inplace instead of always setting a new array. To retain the old behavior, use either `df[df.columns[i]] = newvals` or, if columns are non-unique, `df.isetitem(i, newvals)`\n",
      "  df.loc[:,[\"taxid\",\"superkingdom\",\"kingdom\",\"phylum\",\"order\",\"sci_name\",\"color\"]]=hgts\n",
      "/tmp/ipykernel_682895/273728966.py:5: FutureWarning: In a future version, `df.iloc[:, i] = newvals` will attempt to set the values inplace instead of always setting a new array. To retain the old behavior, use either `df[df.columns[i]] = newvals` or, if columns are non-unique, `df.isetitem(i, newvals)`\n",
      "  df.loc[:,[\"taxid\",\"superkingdom\",\"kingdom\",\"phylum\",\"order\",\"sci_name\",\"color\"]]=hgts\n",
      "/tmp/ipykernel_682895/273728966.py:5: FutureWarning: In a future version, `df.iloc[:, i] = newvals` will attempt to set the values inplace instead of always setting a new array. To retain the old behavior, use either `df[df.columns[i]] = newvals` or, if columns are non-unique, `df.isetitem(i, newvals)`\n",
      "  df.loc[:,[\"taxid\",\"superkingdom\",\"kingdom\",\"phylum\",\"order\",\"sci_name\",\"color\"]]=hgts\n",
      "/tmp/ipykernel_682895/273728966.py:5: FutureWarning: In a future version, `df.iloc[:, i] = newvals` will attempt to set the values inplace instead of always setting a new array. To retain the old behavior, use either `df[df.columns[i]] = newvals` or, if columns are non-unique, `df.isetitem(i, newvals)`\n",
      "  df.loc[:,[\"taxid\",\"superkingdom\",\"kingdom\",\"phylum\",\"order\",\"sci_name\",\"color\"]]=hgts\n",
      "/tmp/ipykernel_682895/273728966.py:5: FutureWarning: In a future version, `df.iloc[:, i] = newvals` will attempt to set the values inplace instead of always setting a new array. To retain the old behavior, use either `df[df.columns[i]] = newvals` or, if columns are non-unique, `df.isetitem(i, newvals)`\n",
      "  df.loc[:,[\"taxid\",\"superkingdom\",\"kingdom\",\"phylum\",\"order\",\"sci_name\",\"color\"]]=hgts\n"
     ]
    },
    {
     "name": "stdout",
     "output_type": "stream",
     "text": [
      "ABZ79920.1\n",
      "pir|T25005|\n"
     ]
    },
    {
     "name": "stderr",
     "output_type": "stream",
     "text": [
      "/tmp/ipykernel_682895/273728966.py:5: FutureWarning: In a future version, `df.iloc[:, i] = newvals` will attempt to set the values inplace instead of always setting a new array. To retain the old behavior, use either `df[df.columns[i]] = newvals` or, if columns are non-unique, `df.isetitem(i, newvals)`\n",
      "  df.loc[:,[\"taxid\",\"superkingdom\",\"kingdom\",\"phylum\",\"order\",\"sci_name\",\"color\"]]=hgts\n",
      "/tmp/ipykernel_682895/273728966.py:5: FutureWarning: In a future version, `df.iloc[:, i] = newvals` will attempt to set the values inplace instead of always setting a new array. To retain the old behavior, use either `df[df.columns[i]] = newvals` or, if columns are non-unique, `df.isetitem(i, newvals)`\n",
      "  df.loc[:,[\"taxid\",\"superkingdom\",\"kingdom\",\"phylum\",\"order\",\"sci_name\",\"color\"]]=hgts\n",
      "/tmp/ipykernel_682895/273728966.py:5: FutureWarning: In a future version, `df.iloc[:, i] = newvals` will attempt to set the values inplace instead of always setting a new array. To retain the old behavior, use either `df[df.columns[i]] = newvals` or, if columns are non-unique, `df.isetitem(i, newvals)`\n",
      "  df.loc[:,[\"taxid\",\"superkingdom\",\"kingdom\",\"phylum\",\"order\",\"sci_name\",\"color\"]]=hgts\n",
      "/tmp/ipykernel_682895/273728966.py:5: FutureWarning: In a future version, `df.iloc[:, i] = newvals` will attempt to set the values inplace instead of always setting a new array. To retain the old behavior, use either `df[df.columns[i]] = newvals` or, if columns are non-unique, `df.isetitem(i, newvals)`\n",
      "  df.loc[:,[\"taxid\",\"superkingdom\",\"kingdom\",\"phylum\",\"order\",\"sci_name\",\"color\"]]=hgts\n",
      "/tmp/ipykernel_682895/273728966.py:5: FutureWarning: In a future version, `df.iloc[:, i] = newvals` will attempt to set the values inplace instead of always setting a new array. To retain the old behavior, use either `df[df.columns[i]] = newvals` or, if columns are non-unique, `df.isetitem(i, newvals)`\n",
      "  df.loc[:,[\"taxid\",\"superkingdom\",\"kingdom\",\"phylum\",\"order\",\"sci_name\",\"color\"]]=hgts\n"
     ]
    },
    {
     "name": "stdout",
     "output_type": "stream",
     "text": [
      "prf||2117157A\n",
      "MCJ1440785.1\n"
     ]
    },
    {
     "name": "stderr",
     "output_type": "stream",
     "text": [
      "/tmp/ipykernel_682895/273728966.py:5: FutureWarning: In a future version, `df.iloc[:, i] = newvals` will attempt to set the values inplace instead of always setting a new array. To retain the old behavior, use either `df[df.columns[i]] = newvals` or, if columns are non-unique, `df.isetitem(i, newvals)`\n",
      "  df.loc[:,[\"taxid\",\"superkingdom\",\"kingdom\",\"phylum\",\"order\",\"sci_name\",\"color\"]]=hgts\n",
      "/tmp/ipykernel_682895/273728966.py:5: FutureWarning: In a future version, `df.iloc[:, i] = newvals` will attempt to set the values inplace instead of always setting a new array. To retain the old behavior, use either `df[df.columns[i]] = newvals` or, if columns are non-unique, `df.isetitem(i, newvals)`\n",
      "  df.loc[:,[\"taxid\",\"superkingdom\",\"kingdom\",\"phylum\",\"order\",\"sci_name\",\"color\"]]=hgts\n"
     ]
    },
    {
     "name": "stdout",
     "output_type": "stream",
     "text": [
      "WP_181246423.1\n",
      "MBE6559409.1\n"
     ]
    },
    {
     "name": "stderr",
     "output_type": "stream",
     "text": [
      "/tmp/ipykernel_682895/273728966.py:5: FutureWarning: In a future version, `df.iloc[:, i] = newvals` will attempt to set the values inplace instead of always setting a new array. To retain the old behavior, use either `df[df.columns[i]] = newvals` or, if columns are non-unique, `df.isetitem(i, newvals)`\n",
      "  df.loc[:,[\"taxid\",\"superkingdom\",\"kingdom\",\"phylum\",\"order\",\"sci_name\",\"color\"]]=hgts\n",
      "/tmp/ipykernel_682895/273728966.py:5: FutureWarning: In a future version, `df.iloc[:, i] = newvals` will attempt to set the values inplace instead of always setting a new array. To retain the old behavior, use either `df[df.columns[i]] = newvals` or, if columns are non-unique, `df.isetitem(i, newvals)`\n",
      "  df.loc[:,[\"taxid\",\"superkingdom\",\"kingdom\",\"phylum\",\"order\",\"sci_name\",\"color\"]]=hgts\n",
      "/tmp/ipykernel_682895/273728966.py:5: FutureWarning: In a future version, `df.iloc[:, i] = newvals` will attempt to set the values inplace instead of always setting a new array. To retain the old behavior, use either `df[df.columns[i]] = newvals` or, if columns are non-unique, `df.isetitem(i, newvals)`\n",
      "  df.loc[:,[\"taxid\",\"superkingdom\",\"kingdom\",\"phylum\",\"order\",\"sci_name\",\"color\"]]=hgts\n",
      "/tmp/ipykernel_682895/273728966.py:5: FutureWarning: In a future version, `df.iloc[:, i] = newvals` will attempt to set the values inplace instead of always setting a new array. To retain the old behavior, use either `df[df.columns[i]] = newvals` or, if columns are non-unique, `df.isetitem(i, newvals)`\n",
      "  df.loc[:,[\"taxid\",\"superkingdom\",\"kingdom\",\"phylum\",\"order\",\"sci_name\",\"color\"]]=hgts\n",
      "/tmp/ipykernel_682895/273728966.py:5: FutureWarning: In a future version, `df.iloc[:, i] = newvals` will attempt to set the values inplace instead of always setting a new array. To retain the old behavior, use either `df[df.columns[i]] = newvals` or, if columns are non-unique, `df.isetitem(i, newvals)`\n",
      "  df.loc[:,[\"taxid\",\"superkingdom\",\"kingdom\",\"phylum\",\"order\",\"sci_name\",\"color\"]]=hgts\n",
      "/tmp/ipykernel_682895/273728966.py:5: FutureWarning: In a future version, `df.iloc[:, i] = newvals` will attempt to set the values inplace instead of always setting a new array. To retain the old behavior, use either `df[df.columns[i]] = newvals` or, if columns are non-unique, `df.isetitem(i, newvals)`\n",
      "  df.loc[:,[\"taxid\",\"superkingdom\",\"kingdom\",\"phylum\",\"order\",\"sci_name\",\"color\"]]=hgts\n",
      "/tmp/ipykernel_682895/273728966.py:5: FutureWarning: In a future version, `df.iloc[:, i] = newvals` will attempt to set the values inplace instead of always setting a new array. To retain the old behavior, use either `df[df.columns[i]] = newvals` or, if columns are non-unique, `df.isetitem(i, newvals)`\n",
      "  df.loc[:,[\"taxid\",\"superkingdom\",\"kingdom\",\"phylum\",\"order\",\"sci_name\",\"color\"]]=hgts\n",
      "/tmp/ipykernel_682895/273728966.py:5: FutureWarning: In a future version, `df.iloc[:, i] = newvals` will attempt to set the values inplace instead of always setting a new array. To retain the old behavior, use either `df[df.columns[i]] = newvals` or, if columns are non-unique, `df.isetitem(i, newvals)`\n",
      "  df.loc[:,[\"taxid\",\"superkingdom\",\"kingdom\",\"phylum\",\"order\",\"sci_name\",\"color\"]]=hgts\n",
      "/tmp/ipykernel_682895/273728966.py:5: FutureWarning: In a future version, `df.iloc[:, i] = newvals` will attempt to set the values inplace instead of always setting a new array. To retain the old behavior, use either `df[df.columns[i]] = newvals` or, if columns are non-unique, `df.isetitem(i, newvals)`\n",
      "  df.loc[:,[\"taxid\",\"superkingdom\",\"kingdom\",\"phylum\",\"order\",\"sci_name\",\"color\"]]=hgts\n",
      "/tmp/ipykernel_682895/273728966.py:5: FutureWarning: In a future version, `df.iloc[:, i] = newvals` will attempt to set the values inplace instead of always setting a new array. To retain the old behavior, use either `df[df.columns[i]] = newvals` or, if columns are non-unique, `df.isetitem(i, newvals)`\n",
      "  df.loc[:,[\"taxid\",\"superkingdom\",\"kingdom\",\"phylum\",\"order\",\"sci_name\",\"color\"]]=hgts\n",
      "/tmp/ipykernel_682895/273728966.py:5: FutureWarning: In a future version, `df.iloc[:, i] = newvals` will attempt to set the values inplace instead of always setting a new array. To retain the old behavior, use either `df[df.columns[i]] = newvals` or, if columns are non-unique, `df.isetitem(i, newvals)`\n",
      "  df.loc[:,[\"taxid\",\"superkingdom\",\"kingdom\",\"phylum\",\"order\",\"sci_name\",\"color\"]]=hgts\n",
      "/tmp/ipykernel_682895/273728966.py:5: FutureWarning: In a future version, `df.iloc[:, i] = newvals` will attempt to set the values inplace instead of always setting a new array. To retain the old behavior, use either `df[df.columns[i]] = newvals` or, if columns are non-unique, `df.isetitem(i, newvals)`\n",
      "  df.loc[:,[\"taxid\",\"superkingdom\",\"kingdom\",\"phylum\",\"order\",\"sci_name\",\"color\"]]=hgts\n"
     ]
    },
    {
     "name": "stdout",
     "output_type": "stream",
     "text": [
      "XP_011196011.1\n"
     ]
    },
    {
     "name": "stderr",
     "output_type": "stream",
     "text": [
      "/tmp/ipykernel_682895/273728966.py:5: FutureWarning: In a future version, `df.iloc[:, i] = newvals` will attempt to set the values inplace instead of always setting a new array. To retain the old behavior, use either `df[df.columns[i]] = newvals` or, if columns are non-unique, `df.isetitem(i, newvals)`\n",
      "  df.loc[:,[\"taxid\",\"superkingdom\",\"kingdom\",\"phylum\",\"order\",\"sci_name\",\"color\"]]=hgts\n",
      "/tmp/ipykernel_682895/273728966.py:5: FutureWarning: In a future version, `df.iloc[:, i] = newvals` will attempt to set the values inplace instead of always setting a new array. To retain the old behavior, use either `df[df.columns[i]] = newvals` or, if columns are non-unique, `df.isetitem(i, newvals)`\n",
      "  df.loc[:,[\"taxid\",\"superkingdom\",\"kingdom\",\"phylum\",\"order\",\"sci_name\",\"color\"]]=hgts\n"
     ]
    },
    {
     "name": "stdout",
     "output_type": "stream",
     "text": [
      "pir|T25005|\n",
      "pir|B56679|\n",
      "pir|C87861|\n"
     ]
    },
    {
     "name": "stderr",
     "output_type": "stream",
     "text": [
      "/tmp/ipykernel_682895/273728966.py:5: FutureWarning: In a future version, `df.iloc[:, i] = newvals` will attempt to set the values inplace instead of always setting a new array. To retain the old behavior, use either `df[df.columns[i]] = newvals` or, if columns are non-unique, `df.isetitem(i, newvals)`\n",
      "  df.loc[:,[\"taxid\",\"superkingdom\",\"kingdom\",\"phylum\",\"order\",\"sci_name\",\"color\"]]=hgts\n",
      "/tmp/ipykernel_682895/273728966.py:5: FutureWarning: In a future version, `df.iloc[:, i] = newvals` will attempt to set the values inplace instead of always setting a new array. To retain the old behavior, use either `df[df.columns[i]] = newvals` or, if columns are non-unique, `df.isetitem(i, newvals)`\n",
      "  df.loc[:,[\"taxid\",\"superkingdom\",\"kingdom\",\"phylum\",\"order\",\"sci_name\",\"color\"]]=hgts\n",
      "/tmp/ipykernel_682895/273728966.py:5: FutureWarning: In a future version, `df.iloc[:, i] = newvals` will attempt to set the values inplace instead of always setting a new array. To retain the old behavior, use either `df[df.columns[i]] = newvals` or, if columns are non-unique, `df.isetitem(i, newvals)`\n",
      "  df.loc[:,[\"taxid\",\"superkingdom\",\"kingdom\",\"phylum\",\"order\",\"sci_name\",\"color\"]]=hgts\n"
     ]
    },
    {
     "name": "stdout",
     "output_type": "stream",
     "text": [
      "MBS1473995.1\n",
      "MBH8560799.1\n",
      "KAH3678297.1\n",
      "MBH8560799.1\n",
      "QFR04620.1\n",
      "HBZ11562.1\n",
      "QFR04621.1\n",
      "QFR04619.1\n",
      "AGT20780.1\n",
      "AHF53542.1\n"
     ]
    },
    {
     "name": "stderr",
     "output_type": "stream",
     "text": [
      "/tmp/ipykernel_682895/273728966.py:5: FutureWarning: In a future version, `df.iloc[:, i] = newvals` will attempt to set the values inplace instead of always setting a new array. To retain the old behavior, use either `df[df.columns[i]] = newvals` or, if columns are non-unique, `df.isetitem(i, newvals)`\n",
      "  df.loc[:,[\"taxid\",\"superkingdom\",\"kingdom\",\"phylum\",\"order\",\"sci_name\",\"color\"]]=hgts\n",
      "/tmp/ipykernel_682895/273728966.py:5: FutureWarning: In a future version, `df.iloc[:, i] = newvals` will attempt to set the values inplace instead of always setting a new array. To retain the old behavior, use either `df[df.columns[i]] = newvals` or, if columns are non-unique, `df.isetitem(i, newvals)`\n",
      "  df.loc[:,[\"taxid\",\"superkingdom\",\"kingdom\",\"phylum\",\"order\",\"sci_name\",\"color\"]]=hgts\n",
      "/tmp/ipykernel_682895/273728966.py:5: FutureWarning: In a future version, `df.iloc[:, i] = newvals` will attempt to set the values inplace instead of always setting a new array. To retain the old behavior, use either `df[df.columns[i]] = newvals` or, if columns are non-unique, `df.isetitem(i, newvals)`\n",
      "  df.loc[:,[\"taxid\",\"superkingdom\",\"kingdom\",\"phylum\",\"order\",\"sci_name\",\"color\"]]=hgts\n",
      "/tmp/ipykernel_682895/273728966.py:5: FutureWarning: In a future version, `df.iloc[:, i] = newvals` will attempt to set the values inplace instead of always setting a new array. To retain the old behavior, use either `df[df.columns[i]] = newvals` or, if columns are non-unique, `df.isetitem(i, newvals)`\n",
      "  df.loc[:,[\"taxid\",\"superkingdom\",\"kingdom\",\"phylum\",\"order\",\"sci_name\",\"color\"]]=hgts\n"
     ]
    },
    {
     "name": "stdout",
     "output_type": "stream",
     "text": [
      "HCT16532.1\n",
      "QDS02902.1\n",
      "3CYW_A\n"
     ]
    },
    {
     "name": "stderr",
     "output_type": "stream",
     "text": [
      "/tmp/ipykernel_682895/273728966.py:5: FutureWarning: In a future version, `df.iloc[:, i] = newvals` will attempt to set the values inplace instead of always setting a new array. To retain the old behavior, use either `df[df.columns[i]] = newvals` or, if columns are non-unique, `df.isetitem(i, newvals)`\n",
      "  df.loc[:,[\"taxid\",\"superkingdom\",\"kingdom\",\"phylum\",\"order\",\"sci_name\",\"color\"]]=hgts\n",
      "/tmp/ipykernel_682895/273728966.py:5: FutureWarning: In a future version, `df.iloc[:, i] = newvals` will attempt to set the values inplace instead of always setting a new array. To retain the old behavior, use either `df[df.columns[i]] = newvals` or, if columns are non-unique, `df.isetitem(i, newvals)`\n",
      "  df.loc[:,[\"taxid\",\"superkingdom\",\"kingdom\",\"phylum\",\"order\",\"sci_name\",\"color\"]]=hgts\n",
      "/tmp/ipykernel_682895/273728966.py:5: FutureWarning: In a future version, `df.iloc[:, i] = newvals` will attempt to set the values inplace instead of always setting a new array. To retain the old behavior, use either `df[df.columns[i]] = newvals` or, if columns are non-unique, `df.isetitem(i, newvals)`\n",
      "  df.loc[:,[\"taxid\",\"superkingdom\",\"kingdom\",\"phylum\",\"order\",\"sci_name\",\"color\"]]=hgts\n",
      "/tmp/ipykernel_682895/273728966.py:5: FutureWarning: In a future version, `df.iloc[:, i] = newvals` will attempt to set the values inplace instead of always setting a new array. To retain the old behavior, use either `df[df.columns[i]] = newvals` or, if columns are non-unique, `df.isetitem(i, newvals)`\n",
      "  df.loc[:,[\"taxid\",\"superkingdom\",\"kingdom\",\"phylum\",\"order\",\"sci_name\",\"color\"]]=hgts\n",
      "/tmp/ipykernel_682895/273728966.py:5: FutureWarning: In a future version, `df.iloc[:, i] = newvals` will attempt to set the values inplace instead of always setting a new array. To retain the old behavior, use either `df[df.columns[i]] = newvals` or, if columns are non-unique, `df.isetitem(i, newvals)`\n",
      "  df.loc[:,[\"taxid\",\"superkingdom\",\"kingdom\",\"phylum\",\"order\",\"sci_name\",\"color\"]]=hgts\n"
     ]
    },
    {
     "name": "stdout",
     "output_type": "stream",
     "text": [
      "UVF58862.1\n",
      "UVF58865.1\n",
      "pir|B56679|\n",
      "pir|T31857|\n",
      "WAC07380.1\n",
      "MBE6817847.1\n"
     ]
    },
    {
     "name": "stderr",
     "output_type": "stream",
     "text": [
      "/tmp/ipykernel_682895/273728966.py:5: FutureWarning: In a future version, `df.iloc[:, i] = newvals` will attempt to set the values inplace instead of always setting a new array. To retain the old behavior, use either `df[df.columns[i]] = newvals` or, if columns are non-unique, `df.isetitem(i, newvals)`\n",
      "  df.loc[:,[\"taxid\",\"superkingdom\",\"kingdom\",\"phylum\",\"order\",\"sci_name\",\"color\"]]=hgts\n",
      "/tmp/ipykernel_682895/273728966.py:5: FutureWarning: In a future version, `df.iloc[:, i] = newvals` will attempt to set the values inplace instead of always setting a new array. To retain the old behavior, use either `df[df.columns[i]] = newvals` or, if columns are non-unique, `df.isetitem(i, newvals)`\n",
      "  df.loc[:,[\"taxid\",\"superkingdom\",\"kingdom\",\"phylum\",\"order\",\"sci_name\",\"color\"]]=hgts\n",
      "/tmp/ipykernel_682895/273728966.py:5: FutureWarning: In a future version, `df.iloc[:, i] = newvals` will attempt to set the values inplace instead of always setting a new array. To retain the old behavior, use either `df[df.columns[i]] = newvals` or, if columns are non-unique, `df.isetitem(i, newvals)`\n",
      "  df.loc[:,[\"taxid\",\"superkingdom\",\"kingdom\",\"phylum\",\"order\",\"sci_name\",\"color\"]]=hgts\n"
     ]
    },
    {
     "name": "stdout",
     "output_type": "stream",
     "text": [
      "MCF8701898.1\n",
      "pir|PC1232|\n",
      "prf||1107279B\n",
      "QJC19409.1\n",
      "AFN89782.1\n",
      "UID85567.1BAJ41852.1\n",
      "\n",
      "AAO43224.1\n",
      "UID85568.1\n"
     ]
    },
    {
     "name": "stderr",
     "output_type": "stream",
     "text": [
      "/tmp/ipykernel_682895/273728966.py:5: FutureWarning: In a future version, `df.iloc[:, i] = newvals` will attempt to set the values inplace instead of always setting a new array. To retain the old behavior, use either `df[df.columns[i]] = newvals` or, if columns are non-unique, `df.isetitem(i, newvals)`\n",
      "  df.loc[:,[\"taxid\",\"superkingdom\",\"kingdom\",\"phylum\",\"order\",\"sci_name\",\"color\"]]=hgts\n"
     ]
    },
    {
     "name": "stdout",
     "output_type": "stream",
     "text": [
      "WGH58587.1\n"
     ]
    },
    {
     "name": "stderr",
     "output_type": "stream",
     "text": [
      "/tmp/ipykernel_682895/273728966.py:5: FutureWarning: In a future version, `df.iloc[:, i] = newvals` will attempt to set the values inplace instead of always setting a new array. To retain the old behavior, use either `df[df.columns[i]] = newvals` or, if columns are non-unique, `df.isetitem(i, newvals)`\n",
      "  df.loc[:,[\"taxid\",\"superkingdom\",\"kingdom\",\"phylum\",\"order\",\"sci_name\",\"color\"]]=hgts\n",
      "/tmp/ipykernel_682895/273728966.py:5: FutureWarning: In a future version, `df.iloc[:, i] = newvals` will attempt to set the values inplace instead of always setting a new array. To retain the old behavior, use either `df[df.columns[i]] = newvals` or, if columns are non-unique, `df.isetitem(i, newvals)`\n",
      "  df.loc[:,[\"taxid\",\"superkingdom\",\"kingdom\",\"phylum\",\"order\",\"sci_name\",\"color\"]]=hgts\n",
      "/tmp/ipykernel_682895/273728966.py:5: FutureWarning: In a future version, `df.iloc[:, i] = newvals` will attempt to set the values inplace instead of always setting a new array. To retain the old behavior, use either `df[df.columns[i]] = newvals` or, if columns are non-unique, `df.isetitem(i, newvals)`\n",
      "  df.loc[:,[\"taxid\",\"superkingdom\",\"kingdom\",\"phylum\",\"order\",\"sci_name\",\"color\"]]=hgts\n"
     ]
    },
    {
     "name": "stdout",
     "output_type": "stream",
     "text": [
      "WGH58587.1\n",
      "NEU80153.1\n"
     ]
    },
    {
     "name": "stderr",
     "output_type": "stream",
     "text": [
      "/tmp/ipykernel_682895/273728966.py:5: FutureWarning: In a future version, `df.iloc[:, i] = newvals` will attempt to set the values inplace instead of always setting a new array. To retain the old behavior, use either `df[df.columns[i]] = newvals` or, if columns are non-unique, `df.isetitem(i, newvals)`\n",
      "  df.loc[:,[\"taxid\",\"superkingdom\",\"kingdom\",\"phylum\",\"order\",\"sci_name\",\"color\"]]=hgts\n",
      "/tmp/ipykernel_682895/273728966.py:5: FutureWarning: In a future version, `df.iloc[:, i] = newvals` will attempt to set the values inplace instead of always setting a new array. To retain the old behavior, use either `df[df.columns[i]] = newvals` or, if columns are non-unique, `df.isetitem(i, newvals)`\n",
      "  df.loc[:,[\"taxid\",\"superkingdom\",\"kingdom\",\"phylum\",\"order\",\"sci_name\",\"color\"]]=hgts\n",
      "/tmp/ipykernel_682895/273728966.py:5: FutureWarning: In a future version, `df.iloc[:, i] = newvals` will attempt to set the values inplace instead of always setting a new array. To retain the old behavior, use either `df[df.columns[i]] = newvals` or, if columns are non-unique, `df.isetitem(i, newvals)`\n",
      "  df.loc[:,[\"taxid\",\"superkingdom\",\"kingdom\",\"phylum\",\"order\",\"sci_name\",\"color\"]]=hgts\n"
     ]
    },
    {
     "name": "stdout",
     "output_type": "stream",
     "text": [
      "MCJ1444902.1\n"
     ]
    },
    {
     "name": "stderr",
     "output_type": "stream",
     "text": [
      "/tmp/ipykernel_682895/273728966.py:5: FutureWarning: In a future version, `df.iloc[:, i] = newvals` will attempt to set the values inplace instead of always setting a new array. To retain the old behavior, use either `df[df.columns[i]] = newvals` or, if columns are non-unique, `df.isetitem(i, newvals)`\n",
      "  df.loc[:,[\"taxid\",\"superkingdom\",\"kingdom\",\"phylum\",\"order\",\"sci_name\",\"color\"]]=hgts\n",
      "/tmp/ipykernel_682895/273728966.py:5: FutureWarning: In a future version, `df.iloc[:, i] = newvals` will attempt to set the values inplace instead of always setting a new array. To retain the old behavior, use either `df[df.columns[i]] = newvals` or, if columns are non-unique, `df.isetitem(i, newvals)`\n",
      "  df.loc[:,[\"taxid\",\"superkingdom\",\"kingdom\",\"phylum\",\"order\",\"sci_name\",\"color\"]]=hgts\n"
     ]
    },
    {
     "name": "stdout",
     "output_type": "stream",
     "text": [
      "ABZ79920.1\n"
     ]
    },
    {
     "name": "stderr",
     "output_type": "stream",
     "text": [
      "/tmp/ipykernel_682895/273728966.py:5: FutureWarning: In a future version, `df.iloc[:, i] = newvals` will attempt to set the values inplace instead of always setting a new array. To retain the old behavior, use either `df[df.columns[i]] = newvals` or, if columns are non-unique, `df.isetitem(i, newvals)`\n",
      "  df.loc[:,[\"taxid\",\"superkingdom\",\"kingdom\",\"phylum\",\"order\",\"sci_name\",\"color\"]]=hgts\n",
      "/tmp/ipykernel_682895/273728966.py:5: FutureWarning: In a future version, `df.iloc[:, i] = newvals` will attempt to set the values inplace instead of always setting a new array. To retain the old behavior, use either `df[df.columns[i]] = newvals` or, if columns are non-unique, `df.isetitem(i, newvals)`\n",
      "  df.loc[:,[\"taxid\",\"superkingdom\",\"kingdom\",\"phylum\",\"order\",\"sci_name\",\"color\"]]=hgts\n",
      "/tmp/ipykernel_682895/273728966.py:5: FutureWarning: In a future version, `df.iloc[:, i] = newvals` will attempt to set the values inplace instead of always setting a new array. To retain the old behavior, use either `df[df.columns[i]] = newvals` or, if columns are non-unique, `df.isetitem(i, newvals)`\n",
      "  df.loc[:,[\"taxid\",\"superkingdom\",\"kingdom\",\"phylum\",\"order\",\"sci_name\",\"color\"]]=hgts\n"
     ]
    },
    {
     "name": "stdout",
     "output_type": "stream",
     "text": [
      "HBU00217.1\n",
      "MBN7784340.1\n"
     ]
    },
    {
     "name": "stderr",
     "output_type": "stream",
     "text": [
      "/tmp/ipykernel_682895/273728966.py:5: FutureWarning: In a future version, `df.iloc[:, i] = newvals` will attempt to set the values inplace instead of always setting a new array. To retain the old behavior, use either `df[df.columns[i]] = newvals` or, if columns are non-unique, `df.isetitem(i, newvals)`\n",
      "  df.loc[:,[\"taxid\",\"superkingdom\",\"kingdom\",\"phylum\",\"order\",\"sci_name\",\"color\"]]=hgts\n"
     ]
    }
   ],
   "source": [
    "for x in chimera_intervals:\n",
    "    fill_taxonomic_info(x)"
   ]
  },
  {
   "cell_type": "markdown",
   "id": "b2d80de5-ee82-49d8-9fa3-175b78a80aeb",
   "metadata": {},
   "source": [
    "# Run phylogenetics\n",
    "Makes a fasta file for each chimera interval, then runs MUSCLE and IQ-Tree for tree inference\n"
   ]
  },
  {
   "cell_type": "code",
   "execution_count": 2,
   "id": "cf14439f-3b31-4ed1-802a-11e1e04291d1",
   "metadata": {},
   "outputs": [],
   "source": [
    "import pickle\n",
    "file_path = 'chimera_intervals.pickle'\n",
    "with open(file_path, 'rb') as file:\n",
    "    chimera_intervals=pickle.load(file)\n"
   ]
  },
  {
   "cell_type": "code",
   "execution_count": 3,
   "id": "eeb089d6-3080-4ffb-85d7-676e3c34e558",
   "metadata": {},
   "outputs": [],
   "source": [
    "#append a fasta of sequence n1 to file n2\n",
    "def get_fasta(n):\n",
    "    n1=n[0]\n",
    "    n2=n[1]\n",
    "    try:\n",
    "        subprocess.run([\"sh\",f\"/n/holyscratch01/extavour_lab/Lab/rkapoor/query_nr_protein.sh\",n1,n2])\n",
    "    except:\n",
    "        print(n1)\n",
    "    return n\n",
    "from Bio import SeqIO\n",
    "#make a new fasta in output_file by using the HMMER coordinates in df \n",
    "def copy_fasta_with_substr(fasta_file, df, output_file):\n",
    "    with open(output_file, \"w\") as out_handle:\n",
    "        for seq_record in SeqIO.parse(fasta_file, \"fasta\"):\n",
    "            seq_name = seq_record.id\n",
    "            if seq_name in df[\"target_name\"].values:\n",
    "                sub_df = df[df[\"target_name\"] == seq_name]\n",
    "                for _, row in sub_df.iterrows():\n",
    "                    sstart = int(row[\"envfrom\"])\n",
    "                    send = int(row[\"envto\"])\n",
    "                    subseq = seq_record.seq[sstart:send]\n",
    "                    subseq_name = f\"{seq_name}_{sstart}_{send}\"\n",
    "                    subseq_record = seq_record\n",
    "                    subseq_record.id = subseq_name\n",
    "                    subseq_record.description = \"\"\n",
    "                    subseq_record.seq = subseq\n",
    "                    SeqIO.write(subseq_record, out_handle, \"fasta\")"
   ]
  },
  {
   "cell_type": "code",
   "execution_count": 4,
   "id": "0b9f6177-f602-4997-8d99-b37651b0ce62",
   "metadata": {},
   "outputs": [],
   "source": [
    "def write_fasta(n):\n",
    "    df=pd.read_csv(f\"{directory}/{n}/phylo_tax.tsv\",sep=\"\\t\")\n",
    "    dft=df[df.chimera==False]\n",
    "    with mp.Pool(39) as p:\n",
    "        inter_cs = p.map(get_fasta,  [(x,f\"{directory}/{n}/phylo_tax.fasta\") for x in dft.target_name])\n",
    "    copy_fasta_with_substr(f\"{directory}/{n}/phylo_tax.fasta\",dft,f\"{directory}/{n}/sub_phylo_tax.fasta\")\n",
    "    # Paths to the FASTA files\n",
    "    fasta1_path = f'{directory}/{n}/sub_phylo_tax.fasta'\n",
    "    fasta2_path = f'{directory}/{n}/sub_secondary_chimera.fasta'\n",
    "\n",
    "    # Read the FASTA files\n",
    "    fasta1_records = list(SeqIO.parse(fasta1_path, 'fasta'))\n",
    "    fasta2_records = list(SeqIO.parse(fasta2_path, 'fasta'))\n",
    "\n",
    "    # Merge the records\n",
    "    merged_records = fasta1_records + fasta2_records\n",
    "\n",
    "    # Path to save the merged FASTA file\n",
    "    merged_fasta_path = f'{directory}/{n}/merged.fasta'\n",
    "\n",
    "    # Write the merged records to a new FASTA file\n",
    "    SeqIO.write(merged_records, merged_fasta_path, 'fasta')\n",
    "    return"
   ]
  },
  {
   "cell_type": "code",
   "execution_count": 8,
   "id": "605040b7-7929-4ca6-aa3a-7f4acd523c35",
   "metadata": {
    "tags": []
   },
   "outputs": [],
   "source": [
    "for n in chimera_intervals:\n",
    "    if \"merged.fasta\" not in os.listdir(f\"{directory}/{n}\"):\n",
    "        write_fasta(n)"
   ]
  },
  {
   "cell_type": "code",
   "execution_count": 4,
   "id": "2777bd2e-06f5-4282-b01a-b63ffe6b75cf",
   "metadata": {},
   "outputs": [],
   "source": [
    "import subprocess\n",
    "import os"
   ]
  },
  {
   "cell_type": "code",
   "execution_count": 7,
   "id": "b6c99d0a-1f92-4090-82b2-71501e3f2f78",
   "metadata": {
    "collapsed": true,
    "jupyter": {
     "outputs_hidden": true
    },
    "tags": []
   },
   "outputs": [
    {
     "name": "stdout",
     "output_type": "stream",
     "text": [
      "Submitted batch job 61796906\n",
      "Submitted batch job 61796907\n",
      "Submitted batch job 61796908\n",
      "Submitted batch job 61796909\n",
      "Submitted batch job 61796910\n",
      "Submitted batch job 61796911\n",
      "Submitted batch job 61796912\n",
      "Submitted batch job 61796913\n",
      "Submitted batch job 61796914\n",
      "Submitted batch job 61796915\n",
      "Submitted batch job 61796916\n",
      "Submitted batch job 61796917\n",
      "Submitted batch job 61796918\n",
      "Submitted batch job 61796919\n",
      "Submitted batch job 61796920\n",
      "Submitted batch job 61796921\n",
      "Submitted batch job 61796922\n",
      "Submitted batch job 61796923\n",
      "Submitted batch job 61796924\n",
      "Submitted batch job 61796925\n",
      "Submitted batch job 61796926\n",
      "Submitted batch job 61796927\n",
      "Submitted batch job 61796928\n",
      "Submitted batch job 61796929\n",
      "Submitted batch job 61796930\n",
      "Submitted batch job 61796931\n",
      "Submitted batch job 61796932\n",
      "Submitted batch job 61796933\n",
      "Submitted batch job 61796934\n",
      "Submitted batch job 61796935\n",
      "Submitted batch job 61796936\n",
      "Submitted batch job 61796937\n",
      "Submitted batch job 61796939\n",
      "Submitted batch job 61796940\n",
      "Submitted batch job 61796941\n",
      "Submitted batch job 61796942\n",
      "Submitted batch job 61796943\n",
      "Submitted batch job 61796944\n",
      "Submitted batch job 61796945\n",
      "Submitted batch job 61796946\n",
      "Submitted batch job 61796947\n",
      "Submitted batch job 61796948\n",
      "Submitted batch job 61796949\n",
      "Submitted batch job 61796950\n",
      "Submitted batch job 61796951\n",
      "Submitted batch job 61796952\n",
      "Submitted batch job 61796953\n",
      "Submitted batch job 61796954\n",
      "Submitted batch job 61796955\n",
      "Submitted batch job 61796956\n",
      "Submitted batch job 61796957\n",
      "Submitted batch job 61796958\n",
      "Submitted batch job 61796959\n",
      "Submitted batch job 61796960\n",
      "Submitted batch job 61796961\n",
      "Submitted batch job 61796962\n",
      "Submitted batch job 61796963\n",
      "Submitted batch job 61796964\n",
      "Submitted batch job 61796965\n",
      "Submitted batch job 61796966\n",
      "Submitted batch job 61796967\n",
      "Submitted batch job 61796968\n",
      "Submitted batch job 61796969\n",
      "Submitted batch job 61796970\n",
      "Submitted batch job 61796971\n",
      "Submitted batch job 61796972\n",
      "Submitted batch job 61796973\n",
      "Submitted batch job 61796974\n",
      "Submitted batch job 61796975\n",
      "Submitted batch job 61796976\n",
      "Submitted batch job 61796977\n",
      "Submitted batch job 61796978\n",
      "Submitted batch job 61796979\n",
      "Submitted batch job 61796980\n",
      "Submitted batch job 61796981\n",
      "Submitted batch job 61796982\n",
      "Submitted batch job 61796983\n",
      "Submitted batch job 61796984\n",
      "Submitted batch job 61796985\n",
      "Submitted batch job 61796986\n",
      "Submitted batch job 61796987\n",
      "Submitted batch job 61796988\n",
      "Submitted batch job 61796989\n",
      "Submitted batch job 61796990\n",
      "Submitted batch job 61796991\n",
      "Submitted batch job 61796992\n",
      "Submitted batch job 61796993\n",
      "Submitted batch job 61796994\n",
      "Submitted batch job 61796995\n",
      "Submitted batch job 61796996\n",
      "Submitted batch job 61796997\n",
      "Submitted batch job 61796998\n",
      "Submitted batch job 61796999\n",
      "Submitted batch job 61797000\n",
      "Submitted batch job 61797001\n",
      "Submitted batch job 61797002\n",
      "Submitted batch job 61797003\n",
      "Submitted batch job 61797004\n",
      "Submitted batch job 61797005\n",
      "Submitted batch job 61797006\n",
      "Submitted batch job 61797007\n",
      "Submitted batch job 61797008\n",
      "Submitted batch job 61797009\n",
      "Submitted batch job 61797010\n",
      "Submitted batch job 61797011\n",
      "Submitted batch job 61797012\n",
      "Submitted batch job 61797013\n",
      "Submitted batch job 61797014\n",
      "Submitted batch job 61797015\n",
      "Submitted batch job 61797016\n",
      "Submitted batch job 61797017\n",
      "Submitted batch job 61797018\n",
      "Submitted batch job 61797019\n",
      "Submitted batch job 61797020\n",
      "Submitted batch job 61797021\n",
      "Submitted batch job 61797022\n",
      "Submitted batch job 61797023\n",
      "Submitted batch job 61797024\n",
      "Submitted batch job 61797025\n",
      "Submitted batch job 61797026\n",
      "Submitted batch job 61797027\n",
      "Submitted batch job 61797028\n",
      "Submitted batch job 61797029\n",
      "Submitted batch job 61797030\n",
      "Submitted batch job 61797031\n",
      "Submitted batch job 61797032\n",
      "Submitted batch job 61797033\n",
      "Submitted batch job 61797034\n",
      "Submitted batch job 61797035\n",
      "Submitted batch job 61797036\n",
      "Submitted batch job 61797037\n",
      "Submitted batch job 61797038\n",
      "Submitted batch job 61797039\n",
      "Submitted batch job 61797040\n",
      "Submitted batch job 61797041\n",
      "Submitted batch job 61797042\n",
      "Submitted batch job 61797043\n",
      "Submitted batch job 61797044\n",
      "Submitted batch job 61797045\n",
      "Submitted batch job 61797046\n",
      "Submitted batch job 61797047\n",
      "Submitted batch job 61797048\n",
      "Submitted batch job 61797049\n",
      "Submitted batch job 61797050\n",
      "Submitted batch job 61797051\n",
      "Submitted batch job 61797052\n",
      "Submitted batch job 61797053\n",
      "Submitted batch job 61797054\n",
      "Submitted batch job 61797055\n",
      "Submitted batch job 61797056\n",
      "Submitted batch job 61797057\n",
      "Submitted batch job 61797058\n",
      "Submitted batch job 61797059\n",
      "Submitted batch job 61797060\n",
      "Submitted batch job 61797061\n",
      "Submitted batch job 61797062\n",
      "Submitted batch job 61797063\n",
      "Submitted batch job 61797064\n",
      "Submitted batch job 61797065\n",
      "Submitted batch job 61797066\n",
      "Submitted batch job 61797067\n",
      "Submitted batch job 61797068\n",
      "Submitted batch job 61797069\n",
      "Submitted batch job 61797070\n",
      "Submitted batch job 61797071\n",
      "Submitted batch job 61797072\n",
      "Submitted batch job 61797073\n",
      "Submitted batch job 61797074\n",
      "Submitted batch job 61797075\n",
      "Submitted batch job 61797076\n",
      "Submitted batch job 61797077\n",
      "Submitted batch job 61797078\n",
      "Submitted batch job 61797079\n",
      "Submitted batch job 61797081\n",
      "Submitted batch job 61797082\n",
      "Submitted batch job 61797083\n",
      "Submitted batch job 61797084\n",
      "Submitted batch job 61797085\n",
      "Submitted batch job 61797086\n",
      "Submitted batch job 61797087\n",
      "Submitted batch job 61797088\n",
      "Submitted batch job 61797089\n",
      "Submitted batch job 61797090\n",
      "Submitted batch job 61797091\n",
      "Submitted batch job 61797092\n",
      "Submitted batch job 61797093\n",
      "Submitted batch job 61797094\n",
      "Submitted batch job 61797095\n",
      "Submitted batch job 61797096\n",
      "Submitted batch job 61797097\n",
      "Submitted batch job 61797098\n",
      "Submitted batch job 61797099\n",
      "Submitted batch job 61797100\n",
      "Submitted batch job 61797101\n",
      "Submitted batch job 61797102\n",
      "Submitted batch job 61797103\n",
      "Submitted batch job 61797104\n",
      "Submitted batch job 61797105\n",
      "Submitted batch job 61797106\n",
      "Submitted batch job 61797107\n",
      "Submitted batch job 61797108\n",
      "Submitted batch job 61797109\n",
      "Submitted batch job 61797110\n",
      "Submitted batch job 61797111\n",
      "Submitted batch job 61797112\n",
      "Submitted batch job 61797113\n",
      "Submitted batch job 61797116\n",
      "Submitted batch job 61797118\n",
      "Submitted batch job 61797130\n",
      "Submitted batch job 61797131\n",
      "Submitted batch job 61797132\n",
      "Submitted batch job 61797133\n",
      "Submitted batch job 61797134\n",
      "Submitted batch job 61797135\n",
      "Submitted batch job 61797136\n",
      "Submitted batch job 61797137\n",
      "Submitted batch job 61797138\n",
      "Submitted batch job 61797139\n",
      "Submitted batch job 61797140\n",
      "Submitted batch job 61797141\n",
      "Submitted batch job 61797142\n",
      "Submitted batch job 61797144\n",
      "Submitted batch job 61797145\n",
      "Submitted batch job 61797147\n",
      "Submitted batch job 61797148\n",
      "Submitted batch job 61797151\n",
      "Submitted batch job 61797153\n",
      "Submitted batch job 61797155\n",
      "Submitted batch job 61797157\n",
      "Submitted batch job 61797158\n",
      "Submitted batch job 61797159\n",
      "Submitted batch job 61797163\n",
      "Submitted batch job 61797164\n",
      "Submitted batch job 61797165\n",
      "Submitted batch job 61797168\n",
      "Submitted batch job 61797169\n",
      "Submitted batch job 61797170\n",
      "Submitted batch job 61797171\n",
      "Submitted batch job 61797172\n",
      "Submitted batch job 61797173\n",
      "Submitted batch job 61797174\n",
      "Submitted batch job 61797175\n",
      "Submitted batch job 61797176\n",
      "Submitted batch job 61797177\n",
      "Submitted batch job 61797178\n",
      "Submitted batch job 61797179\n",
      "Submitted batch job 61797180\n",
      "Submitted batch job 61797181\n",
      "Submitted batch job 61797182\n",
      "Submitted batch job 61797183\n",
      "Submitted batch job 61797185\n",
      "Submitted batch job 61797186\n",
      "Submitted batch job 61797187\n",
      "Submitted batch job 61797188\n",
      "Submitted batch job 61797189\n",
      "Submitted batch job 61797190\n",
      "Submitted batch job 61797191\n",
      "Submitted batch job 61797192\n",
      "Submitted batch job 61797193\n",
      "Submitted batch job 61797194\n",
      "Submitted batch job 61797195\n",
      "Submitted batch job 61797196\n",
      "Submitted batch job 61797197\n",
      "Submitted batch job 61797198\n",
      "Submitted batch job 61797199\n",
      "Submitted batch job 61797200\n",
      "Submitted batch job 61797201\n",
      "Submitted batch job 61797202\n",
      "Submitted batch job 61797203\n",
      "Submitted batch job 61797204\n",
      "Submitted batch job 61797205\n",
      "Submitted batch job 61797206\n",
      "Submitted batch job 61797207\n",
      "Submitted batch job 61797208\n",
      "Submitted batch job 61797209\n",
      "Submitted batch job 61797210\n",
      "Submitted batch job 61797211\n",
      "Submitted batch job 61797212\n",
      "Submitted batch job 61797213\n",
      "Submitted batch job 61797214\n",
      "Submitted batch job 61797215\n",
      "Submitted batch job 61797216\n",
      "Submitted batch job 61797217\n",
      "Submitted batch job 61797218\n",
      "Submitted batch job 61797219\n",
      "Submitted batch job 61797220\n",
      "Submitted batch job 61797221\n",
      "Submitted batch job 61797222\n",
      "Submitted batch job 61797223\n",
      "Submitted batch job 61797224\n",
      "Submitted batch job 61797225\n",
      "Submitted batch job 61797226\n",
      "Submitted batch job 61797227\n",
      "Submitted batch job 61797228\n",
      "Submitted batch job 61797229\n",
      "Submitted batch job 61797230\n",
      "Submitted batch job 61797231\n",
      "Submitted batch job 61797232\n",
      "Submitted batch job 61797233\n",
      "Submitted batch job 61797234\n",
      "Submitted batch job 61797235\n",
      "Submitted batch job 61797236\n",
      "Submitted batch job 61797237\n",
      "Submitted batch job 61797239\n",
      "Submitted batch job 61797240\n",
      "Submitted batch job 61797241\n",
      "Submitted batch job 61797242\n",
      "Submitted batch job 61797243\n",
      "Submitted batch job 61797244\n",
      "Submitted batch job 61797245\n",
      "Submitted batch job 61797246\n",
      "Submitted batch job 61797247\n",
      "Submitted batch job 61797248\n",
      "Submitted batch job 61797249\n",
      "Submitted batch job 61797250\n",
      "Submitted batch job 61797251\n",
      "Submitted batch job 61797252\n",
      "Submitted batch job 61797253\n",
      "Submitted batch job 61797254\n",
      "Submitted batch job 61797255\n",
      "Submitted batch job 61797256\n",
      "Submitted batch job 61797257\n",
      "Submitted batch job 61797258\n",
      "Submitted batch job 61797259\n",
      "Submitted batch job 61797260\n",
      "Submitted batch job 61797261\n",
      "Submitted batch job 61797262\n",
      "Submitted batch job 61797263\n",
      "Submitted batch job 61797264\n",
      "Submitted batch job 61797265\n",
      "Submitted batch job 61797266\n",
      "Submitted batch job 61797267\n",
      "Submitted batch job 61797268\n",
      "Submitted batch job 61797269\n",
      "Submitted batch job 61797270\n",
      "Submitted batch job 61797271\n",
      "Submitted batch job 61797273\n",
      "Submitted batch job 61797274\n",
      "Submitted batch job 61797275\n",
      "Submitted batch job 61797276\n",
      "Submitted batch job 61797277\n",
      "Submitted batch job 61797278\n",
      "Submitted batch job 61797279\n",
      "Submitted batch job 61797280\n",
      "Submitted batch job 61797281\n",
      "Submitted batch job 61797282\n",
      "Submitted batch job 61797283\n",
      "Submitted batch job 61797284\n",
      "Submitted batch job 61797285\n",
      "Submitted batch job 61797286\n",
      "Submitted batch job 61797287\n",
      "Submitted batch job 61797288\n",
      "Submitted batch job 61797289\n",
      "Submitted batch job 61797291\n",
      "Submitted batch job 61797292\n",
      "Submitted batch job 61797293\n",
      "Submitted batch job 61797294\n",
      "Submitted batch job 61797295\n",
      "Submitted batch job 61797296\n",
      "Submitted batch job 61797297\n",
      "Submitted batch job 61797298\n",
      "Submitted batch job 61797299\n",
      "Submitted batch job 61797300\n",
      "Submitted batch job 61797302\n",
      "Submitted batch job 61797303\n",
      "Submitted batch job 61797304\n",
      "Submitted batch job 61797305\n",
      "Submitted batch job 61797306\n",
      "Submitted batch job 61797307\n",
      "Submitted batch job 61797308\n",
      "Submitted batch job 61797309\n",
      "Submitted batch job 61797310\n",
      "Submitted batch job 61797311\n",
      "Submitted batch job 61797312\n",
      "Submitted batch job 61797313\n",
      "Submitted batch job 61797314\n",
      "Submitted batch job 61797315\n",
      "Submitted batch job 61797316\n",
      "Submitted batch job 61797317\n",
      "Submitted batch job 61797318\n",
      "Submitted batch job 61797319\n",
      "Submitted batch job 61797320\n",
      "Submitted batch job 61797321\n",
      "Submitted batch job 61797322\n",
      "Submitted batch job 61797323\n",
      "Submitted batch job 61797324\n",
      "Submitted batch job 61797325\n",
      "Submitted batch job 61797326\n",
      "Submitted batch job 61797327\n",
      "Submitted batch job 61797328\n",
      "Submitted batch job 61797329\n",
      "Submitted batch job 61797330\n",
      "Submitted batch job 61797331\n",
      "Submitted batch job 61797332\n",
      "Submitted batch job 61797334\n",
      "Submitted batch job 61797335\n",
      "Submitted batch job 61797336\n",
      "Submitted batch job 61797337\n",
      "Submitted batch job 61797338\n",
      "Submitted batch job 61797339\n",
      "Submitted batch job 61797340\n",
      "Submitted batch job 61797341\n",
      "Submitted batch job 61797342\n",
      "Submitted batch job 61797343\n",
      "Submitted batch job 61797344\n",
      "Submitted batch job 61797345\n",
      "Submitted batch job 61797346\n",
      "Submitted batch job 61797347\n",
      "Submitted batch job 61797348\n",
      "Submitted batch job 61797349\n",
      "Submitted batch job 61797350\n",
      "Submitted batch job 61797351\n",
      "Submitted batch job 61797353\n",
      "Submitted batch job 61797354\n",
      "Submitted batch job 61797355\n",
      "Submitted batch job 61797356\n",
      "Submitted batch job 61797357\n",
      "Submitted batch job 61797358\n",
      "Submitted batch job 61797359\n",
      "Submitted batch job 61797360\n",
      "Submitted batch job 61797361\n",
      "Submitted batch job 61797362\n",
      "Submitted batch job 61797363\n",
      "Submitted batch job 61797364\n",
      "Submitted batch job 61797365\n",
      "Submitted batch job 61797366\n",
      "Submitted batch job 61797367\n",
      "Submitted batch job 61797368\n",
      "Submitted batch job 61797369\n",
      "Submitted batch job 61797370\n",
      "Submitted batch job 61797371\n",
      "Submitted batch job 61797372\n",
      "Submitted batch job 61797373\n",
      "Submitted batch job 61797374\n",
      "Submitted batch job 61797375\n",
      "Submitted batch job 61797376\n",
      "Submitted batch job 61797377\n",
      "Submitted batch job 61797378\n",
      "Submitted batch job 61797379\n",
      "Submitted batch job 61797380\n",
      "Submitted batch job 61797381\n",
      "Submitted batch job 61797383\n",
      "Submitted batch job 61797384\n",
      "Submitted batch job 61797387\n",
      "Submitted batch job 61797388\n",
      "Submitted batch job 61797389\n",
      "Submitted batch job 61797390\n",
      "Submitted batch job 61797391\n",
      "Submitted batch job 61797392\n",
      "Submitted batch job 61797393\n",
      "Submitted batch job 61797394\n",
      "Submitted batch job 61797395\n",
      "Submitted batch job 61797396\n",
      "Submitted batch job 61797397\n",
      "Submitted batch job 61797398\n",
      "Submitted batch job 61797400\n",
      "Submitted batch job 61797401\n",
      "Submitted batch job 61797402\n",
      "Submitted batch job 61797403\n",
      "Submitted batch job 61797404\n",
      "Submitted batch job 61797405\n",
      "Submitted batch job 61797406\n",
      "Submitted batch job 61797407\n",
      "Submitted batch job 61797408\n",
      "Submitted batch job 61797409\n",
      "Submitted batch job 61797410\n",
      "Submitted batch job 61797411\n",
      "Submitted batch job 61797412\n",
      "Submitted batch job 61797413\n",
      "Submitted batch job 61797414\n",
      "Submitted batch job 61797415\n",
      "Submitted batch job 61797416\n",
      "Submitted batch job 61797417\n",
      "Submitted batch job 61797418\n",
      "Submitted batch job 61797419\n",
      "Submitted batch job 61797420\n",
      "Submitted batch job 61797421\n",
      "Submitted batch job 61797422\n",
      "Submitted batch job 61797423\n",
      "Submitted batch job 61797424\n",
      "Submitted batch job 61797425\n",
      "Submitted batch job 61797426\n",
      "Submitted batch job 61797427\n",
      "Submitted batch job 61797428\n",
      "Submitted batch job 61797429\n",
      "Submitted batch job 61797430\n",
      "Submitted batch job 61797431\n",
      "Submitted batch job 61797432\n",
      "Submitted batch job 61797433\n",
      "Submitted batch job 61797434\n",
      "Submitted batch job 61797435\n",
      "Submitted batch job 61797436\n",
      "Submitted batch job 61797437\n",
      "Submitted batch job 61797438\n",
      "Submitted batch job 61797439\n",
      "Submitted batch job 61797440\n",
      "Submitted batch job 61797441\n",
      "Submitted batch job 61797442\n",
      "Submitted batch job 61797443\n",
      "Submitted batch job 61797444\n",
      "Submitted batch job 61797445\n",
      "Submitted batch job 61797446\n",
      "Submitted batch job 61797447\n",
      "Submitted batch job 61797448\n",
      "Submitted batch job 61797449\n",
      "Submitted batch job 61797450\n",
      "Submitted batch job 61797451\n",
      "Submitted batch job 61797452\n",
      "Submitted batch job 61797453\n",
      "Submitted batch job 61797454\n",
      "Submitted batch job 61797455\n",
      "Submitted batch job 61797456\n",
      "Submitted batch job 61797457\n",
      "Submitted batch job 61797458\n",
      "Submitted batch job 61797459\n",
      "Submitted batch job 61797460\n",
      "Submitted batch job 61797461\n",
      "Submitted batch job 61797463\n",
      "Submitted batch job 61797464\n",
      "Submitted batch job 61797466\n",
      "Submitted batch job 61797467\n",
      "Submitted batch job 61797468\n",
      "Submitted batch job 61797469\n",
      "Submitted batch job 61797470\n",
      "Submitted batch job 61797471\n",
      "Submitted batch job 61797472\n",
      "Submitted batch job 61797473\n",
      "Submitted batch job 61797474\n",
      "Submitted batch job 61797475\n",
      "Submitted batch job 61797476\n",
      "Submitted batch job 61797477\n",
      "Submitted batch job 61797478\n",
      "Submitted batch job 61797479\n",
      "Submitted batch job 61797480\n",
      "Submitted batch job 61797481\n",
      "Submitted batch job 61797482\n",
      "Submitted batch job 61797483\n",
      "Submitted batch job 61797484\n",
      "Submitted batch job 61797485\n",
      "Submitted batch job 61797486\n",
      "Submitted batch job 61797487\n",
      "Submitted batch job 61797488\n",
      "Submitted batch job 61797489\n",
      "Submitted batch job 61797490\n",
      "Submitted batch job 61797491\n",
      "Submitted batch job 61797492\n",
      "Submitted batch job 61797493\n",
      "Submitted batch job 61797494\n",
      "Submitted batch job 61797495\n",
      "Submitted batch job 61797496\n",
      "Submitted batch job 61797497\n",
      "Submitted batch job 61797498\n",
      "Submitted batch job 61797499\n",
      "Submitted batch job 61797501\n",
      "Submitted batch job 61797502\n",
      "Submitted batch job 61797503\n",
      "Submitted batch job 61797504\n",
      "Submitted batch job 61797505\n",
      "Submitted batch job 61797506\n",
      "Submitted batch job 61797507\n",
      "Submitted batch job 61797508\n",
      "Submitted batch job 61797509\n",
      "Submitted batch job 61797510\n",
      "Submitted batch job 61797512\n",
      "Submitted batch job 61797513\n",
      "Submitted batch job 61797514\n",
      "Submitted batch job 61797515\n",
      "Submitted batch job 61797516\n",
      "Submitted batch job 61797517\n",
      "Submitted batch job 61797518\n",
      "Submitted batch job 61797519\n",
      "Submitted batch job 61797520\n",
      "Submitted batch job 61797521\n",
      "Submitted batch job 61797522\n",
      "Submitted batch job 61797523\n",
      "Submitted batch job 61797524\n",
      "Submitted batch job 61797525\n",
      "Submitted batch job 61797526\n",
      "Submitted batch job 61797527\n",
      "Submitted batch job 61797528\n",
      "Submitted batch job 61797529\n",
      "Submitted batch job 61797530\n",
      "Submitted batch job 61797531\n",
      "Submitted batch job 61797532\n",
      "Submitted batch job 61797533\n",
      "Submitted batch job 61797534\n",
      "Submitted batch job 61797535\n",
      "Submitted batch job 61797536\n",
      "Submitted batch job 61797537\n",
      "Submitted batch job 61797538\n",
      "Submitted batch job 61797539\n",
      "Submitted batch job 61797540\n",
      "Submitted batch job 61797541\n",
      "Submitted batch job 61797542\n",
      "Submitted batch job 61797543\n",
      "Submitted batch job 61797544\n",
      "Submitted batch job 61797545\n",
      "Submitted batch job 61797546\n",
      "Submitted batch job 61797547\n",
      "Submitted batch job 61797548\n",
      "Submitted batch job 61797549\n",
      "Submitted batch job 61797550\n",
      "Submitted batch job 61797551\n",
      "Submitted batch job 61797552\n",
      "Submitted batch job 61797553\n",
      "Submitted batch job 61797554\n",
      "Submitted batch job 61797555\n",
      "Submitted batch job 61797556\n",
      "Submitted batch job 61797557\n",
      "Submitted batch job 61797558\n",
      "Submitted batch job 61797559\n",
      "Submitted batch job 61797560\n",
      "Submitted batch job 61797561\n",
      "Submitted batch job 61797562\n",
      "Submitted batch job 61797563\n",
      "Submitted batch job 61797564\n",
      "Submitted batch job 61797565\n",
      "Submitted batch job 61797566\n",
      "Submitted batch job 61797567\n",
      "Submitted batch job 61797568\n",
      "Submitted batch job 61797569\n",
      "Submitted batch job 61797570\n",
      "Submitted batch job 61797573\n",
      "Submitted batch job 61797574\n",
      "Submitted batch job 61797575\n",
      "Submitted batch job 61797576\n",
      "Submitted batch job 61797577\n",
      "Submitted batch job 61797578\n",
      "Submitted batch job 61797579\n",
      "Submitted batch job 61797580\n",
      "Submitted batch job 61797581\n",
      "Submitted batch job 61797582\n",
      "Submitted batch job 61797584\n",
      "Submitted batch job 61797585\n",
      "Submitted batch job 61797587\n",
      "Submitted batch job 61797588\n",
      "Submitted batch job 61797589\n",
      "Submitted batch job 61797590\n",
      "Submitted batch job 61797591\n",
      "Submitted batch job 61797592\n",
      "Submitted batch job 61797593\n",
      "Submitted batch job 61797594\n",
      "Submitted batch job 61797595\n",
      "Submitted batch job 61797596\n",
      "Submitted batch job 61797597\n",
      "Submitted batch job 61797598\n",
      "Submitted batch job 61797599\n",
      "Submitted batch job 61797600\n",
      "Submitted batch job 61797601\n",
      "Submitted batch job 61797602\n",
      "Submitted batch job 61797603\n",
      "Submitted batch job 61797604\n",
      "Submitted batch job 61797605\n",
      "Submitted batch job 61797606\n",
      "Submitted batch job 61797607\n",
      "Submitted batch job 61797608\n",
      "Submitted batch job 61797609\n",
      "Submitted batch job 61797610\n",
      "Submitted batch job 61797611\n",
      "Submitted batch job 61797612\n",
      "Submitted batch job 61797613\n",
      "Submitted batch job 61797614\n",
      "Submitted batch job 61797615\n",
      "Submitted batch job 61797616\n",
      "Submitted batch job 61797617\n",
      "Submitted batch job 61797618\n",
      "Submitted batch job 61797619\n",
      "Submitted batch job 61797620\n",
      "Submitted batch job 61797621\n",
      "Submitted batch job 61797622\n",
      "Submitted batch job 61797623\n",
      "Submitted batch job 61797624\n",
      "Submitted batch job 61797625\n",
      "Submitted batch job 61797626\n",
      "Submitted batch job 61797627\n",
      "Submitted batch job 61797628\n",
      "Submitted batch job 61797629\n",
      "Submitted batch job 61797631\n",
      "Submitted batch job 61797632\n",
      "Submitted batch job 61797633\n",
      "Submitted batch job 61797634\n",
      "Submitted batch job 61797635\n",
      "Submitted batch job 61797636\n",
      "Submitted batch job 61797637\n",
      "Submitted batch job 61797638\n",
      "Submitted batch job 61797639\n",
      "Submitted batch job 61797641\n",
      "Submitted batch job 61797642\n",
      "Submitted batch job 61797643\n",
      "Submitted batch job 61797644\n",
      "Submitted batch job 61797645\n",
      "Submitted batch job 61797646\n",
      "Submitted batch job 61797647\n",
      "Submitted batch job 61797648\n",
      "Submitted batch job 61797649\n",
      "Submitted batch job 61797650\n",
      "Submitted batch job 61797651\n",
      "Submitted batch job 61797652\n",
      "Submitted batch job 61797653\n",
      "Submitted batch job 61797654\n",
      "Submitted batch job 61797655\n",
      "Submitted batch job 61797656\n",
      "Submitted batch job 61797657\n",
      "Submitted batch job 61797658\n",
      "Submitted batch job 61797659\n",
      "Submitted batch job 61797660\n",
      "Submitted batch job 61797661\n",
      "Submitted batch job 61797663\n",
      "Submitted batch job 61797664\n",
      "Submitted batch job 61797665\n",
      "Submitted batch job 61797666\n",
      "Submitted batch job 61797667\n",
      "Submitted batch job 61797668\n",
      "Submitted batch job 61797669\n",
      "Submitted batch job 61797670\n",
      "Submitted batch job 61797671\n",
      "Submitted batch job 61797672\n",
      "Submitted batch job 61797673\n",
      "Submitted batch job 61797674\n",
      "Submitted batch job 61797675\n",
      "Submitted batch job 61797676\n",
      "Submitted batch job 61797677\n",
      "Submitted batch job 61797678\n",
      "Submitted batch job 61797679\n",
      "Submitted batch job 61797680\n",
      "Submitted batch job 61797681\n",
      "Submitted batch job 61797682\n",
      "Submitted batch job 61797683\n",
      "Submitted batch job 61797684\n",
      "Submitted batch job 61797685\n",
      "Submitted batch job 61797691\n",
      "Submitted batch job 61797693\n",
      "Submitted batch job 61797704\n",
      "Submitted batch job 61797706\n",
      "Submitted batch job 61797710\n",
      "Submitted batch job 61797712\n",
      "Submitted batch job 61797713\n",
      "Submitted batch job 61797715\n",
      "Submitted batch job 61797717\n",
      "Submitted batch job 61797718\n",
      "Submitted batch job 61797719\n",
      "Submitted batch job 61797720\n",
      "Submitted batch job 61797721\n",
      "Submitted batch job 61797722\n",
      "Submitted batch job 61797723\n",
      "Submitted batch job 61797724\n",
      "Submitted batch job 61797725\n",
      "Submitted batch job 61797726\n",
      "Submitted batch job 61797727\n",
      "Submitted batch job 61797728\n",
      "Submitted batch job 61797729\n",
      "Submitted batch job 61797730\n",
      "Submitted batch job 61797731\n",
      "Submitted batch job 61797732\n",
      "Submitted batch job 61797733\n",
      "Submitted batch job 61797734\n",
      "Submitted batch job 61797735\n",
      "Submitted batch job 61797736\n",
      "Submitted batch job 61797737\n",
      "Submitted batch job 61797738\n",
      "Submitted batch job 61797739\n",
      "Submitted batch job 61797740\n",
      "Submitted batch job 61797741\n",
      "Submitted batch job 61797742\n",
      "Submitted batch job 61797743\n",
      "Submitted batch job 61797744\n",
      "Submitted batch job 61797745\n",
      "Submitted batch job 61797746\n",
      "Submitted batch job 61797747\n",
      "Submitted batch job 61797748\n",
      "Submitted batch job 61797749\n",
      "Submitted batch job 61797750\n",
      "Submitted batch job 61797751\n",
      "Submitted batch job 61797752\n",
      "Submitted batch job 61797753\n",
      "Submitted batch job 61797754\n",
      "Submitted batch job 61797755\n",
      "Submitted batch job 61797756\n",
      "Submitted batch job 61797757\n",
      "Submitted batch job 61797758\n",
      "Submitted batch job 61797759\n",
      "Submitted batch job 61797761\n",
      "Submitted batch job 61797762\n",
      "Submitted batch job 61797763\n",
      "Submitted batch job 61797764\n",
      "Submitted batch job 61797765\n",
      "Submitted batch job 61797768\n",
      "Submitted batch job 61797769\n",
      "Submitted batch job 61797770\n",
      "Submitted batch job 61797771\n",
      "Submitted batch job 61797772\n",
      "Submitted batch job 61797773\n",
      "Submitted batch job 61797774\n",
      "Submitted batch job 61797775\n",
      "Submitted batch job 61797776\n",
      "Submitted batch job 61797777\n",
      "Submitted batch job 61797778\n",
      "Submitted batch job 61797779\n",
      "Submitted batch job 61797780\n",
      "Submitted batch job 61797781\n",
      "Submitted batch job 61797782\n",
      "Submitted batch job 61797783\n",
      "Submitted batch job 61797784\n",
      "Submitted batch job 61797785\n",
      "Submitted batch job 61797786\n",
      "Submitted batch job 61797787\n",
      "Submitted batch job 61797788\n",
      "Submitted batch job 61797789\n",
      "Submitted batch job 61797790\n",
      "Submitted batch job 61797791\n",
      "Submitted batch job 61797792\n",
      "Submitted batch job 61797793\n",
      "Submitted batch job 61797794\n",
      "Submitted batch job 61797795\n",
      "Submitted batch job 61797797\n",
      "Submitted batch job 61797798\n",
      "Submitted batch job 61797799\n",
      "Submitted batch job 61797800\n",
      "Submitted batch job 61797801\n",
      "Submitted batch job 61797802\n",
      "Submitted batch job 61797803\n",
      "Submitted batch job 61797804\n",
      "Submitted batch job 61797805\n",
      "Submitted batch job 61797806\n",
      "Submitted batch job 61797807\n",
      "Submitted batch job 61797808\n",
      "Submitted batch job 61797809\n",
      "Submitted batch job 61797810\n",
      "Submitted batch job 61797811\n",
      "Submitted batch job 61797812\n",
      "Submitted batch job 61797813\n"
     ]
    }
   ],
   "source": [
    "for n in chimera_intervals:\n",
    "    if \"MSA_hmm_output_final.fasta\" not in os.listdir(f\"{directory}/{n}\"):\n",
    "        subprocess.run([\"sbatch\", \"align_iq_pipe.sh\",n])"
   ]
  },
  {
   "cell_type": "code",
   "execution_count": 80,
   "id": "fc42d447-827f-4ff3-95ce-bdf302a1407f",
   "metadata": {},
   "outputs": [],
   "source": [
    "!cp -r /n/holyscratch01/extavour_lab/Lab/rkapoor/root_annotate_upload_trees.ipynb pipeline_final/root_annotate_upload_trees.ipynb"
   ]
  },
  {
   "cell_type": "code",
   "execution_count": 10,
   "id": "33c0c1e6-3f9f-4966-9e20-e766720ef5ff",
   "metadata": {},
   "outputs": [],
   "source": [
    "!rm -r pipeline_final/hmmer_pipe/inter_diamond2_split"
   ]
  },
  {
   "cell_type": "code",
   "execution_count": null,
   "id": "ed0ad641-b1f3-481d-b5f3-b936f2058220",
   "metadata": {},
   "outputs": [],
   "source": []
  }
 ],
 "metadata": {
  "kernelspec": {
   "display_name": "Python [conda env:.conda-rishabh]",
   "language": "python",
   "name": "conda-env-.conda-rishabh-py"
  },
  "language_info": {
   "codemirror_mode": {
    "name": "ipython",
    "version": 3
   },
   "file_extension": ".py",
   "mimetype": "text/x-python",
   "name": "python",
   "nbconvert_exporter": "python",
   "pygments_lexer": "ipython3",
   "version": "3.9.7"
  }
 },
 "nbformat": 4,
 "nbformat_minor": 5
}
