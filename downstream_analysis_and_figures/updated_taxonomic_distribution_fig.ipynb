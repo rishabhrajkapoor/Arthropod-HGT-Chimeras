{
 "cells": [
  {
   "cell_type": "code",
   "execution_count": 1,
   "id": "c647714d-0253-43e9-9e16-c7535adaec7f",
   "metadata": {},
   "outputs": [
    {
     "name": "stderr",
     "output_type": "stream",
     "text": [
      "/n/home11/rkapoor/.conda/envs/rishabh/lib/python3.9/site-packages/scipy/__init__.py:146: UserWarning: A NumPy version >=1.16.5 and <1.23.0 is required for this version of SciPy (detected version 1.26.4\n",
      "  warnings.warn(f\"A NumPy version >={np_minversion} and <{np_maxversion}\"\n"
     ]
    }
   ],
   "source": [
    "import pandas as pd\n",
    "import ete3\n",
    "from collections import Counter\n",
    "import ast"
   ]
  },
  {
   "cell_type": "markdown",
   "id": "bf4b5957-29d0-4e40-b219-34dece158ceb",
   "metadata": {},
   "source": [
    "## Prep dataframes for impage production\n"
   ]
  },
  {
   "cell_type": "code",
   "execution_count": 42,
   "id": "d2dbcc98-cb96-4a7a-89ba-0b02485fcdb9",
   "metadata": {},
   "outputs": [],
   "source": [
    "df1=pd.read_csv(\"revised_cluster_info_v3.csv\",index_col=0)"
   ]
  },
  {
   "cell_type": "code",
   "execution_count": 42,
   "id": "f7b376ea-2a6d-4a5b-ae0e-ee829e110405",
   "metadata": {
    "tags": []
   },
   "outputs": [],
   "source": [
    "from Bio import Entrez\n",
    "from ete3 import NCBITaxa\n",
    "\n",
    "# Set your email here\n",
    "Entrez.email = \"your_email@example.com\"\n",
    "\n",
    "def get_taxid_from_protein(protein_id):\n",
    "    \"\"\"Retrieve taxid for a given protein ID.\"\"\"\n",
    "    handle = Entrez.esummary(db=\"protein\", id=protein_id)\n",
    "    record = Entrez.read(handle)\n",
    "    taxid = record[0]['TaxId']\n",
    "    return taxid\n",
    "\n",
    "def get_taxonomy_lineage(taxid):\n",
    "    \"\"\"Retrieve the full lineage for a given taxid.\"\"\"\n",
    "    ncbi = NCBITaxa()\n",
    "    lineage = ncbi.get_lineage(taxid)\n",
    "  \n",
    "    names = ncbi.get_taxid_translator(lineage)\n",
    "    rank_names  = ncbi.get_rank(lineage)\n",
    "    \n",
    "    # Extract ranks and names\n",
    "    rank_dict = {}\n",
    "    for taxid in lineage:\n",
    "        rank = rank_names[taxid]\n",
    "        name = names[taxid]\n",
    "        rank_dict[rank] = name\n",
    "    \n",
    "    return rank_dict\n",
    "\n",
    "def main(protein_id):\n",
    "    taxid = get_taxid_from_protein(protein_id)\n",
    "    lineage = get_taxonomy_lineage(taxid)\n",
    "    return taxid, lineage\n",
    "\n"
   ]
  },
  {
   "cell_type": "code",
   "execution_count": 36,
   "id": "672eefd8-a1b3-449b-b3b0-fad27fd3e75c",
   "metadata": {},
   "outputs": [
    {
     "name": "stdout",
     "output_type": "stream",
     "text": [
      "XP_024873093.1\n",
      "XP_002031969.1\n",
      "CAG7835345.1\n",
      "XP_049881676.1\n"
     ]
    }
   ],
   "source": [
    "prot_df=pd.DataFrame()\n",
    "for index, row in df.iterrows():\n",
    "    \n",
    "    l=ast.literal_eval(row.secondary_chimeras)\n",
    "    for seq in l:\n",
    "        prot_df.loc[seq,[\"cluster\"]]=index\n",
    "        try:\n",
    "            prot_df.loc[seq,\"taxid\"]=get_taxid_from_protein(seq.split(\"/\")[0])\n",
    "        except:\n",
    "            time.sleep(5)\n",
    "            print(seq)\n",
    "            prot_df.loc[seq,\"taxid\"]=get_taxid_from_protein(seq.split(\"/\")[0])\n",
    "            \n"
   ]
  },
  {
   "cell_type": "code",
   "execution_count": null,
   "id": "e947585e-1052-4597-a030-b2eb97e177f9",
   "metadata": {},
   "outputs": [],
   "source": [
    "cdf=pd.read_csv(\"chimeras_per_species_v2.csv\",index_col=0)\n"
   ]
  },
  {
   "cell_type": "code",
   "execution_count": 4,
   "id": "5b53c059-da79-400e-915a-ce4ff7875f9a",
   "metadata": {},
   "outputs": [],
   "source": [
    "r=cdf[cdf.refseq_annotation]"
   ]
  },
  {
   "cell_type": "code",
   "execution_count": 5,
   "id": "0b067015-fac1-4835-b320-4b74c7b8c46c",
   "metadata": {},
   "outputs": [],
   "source": [
    "ac=[]\n",
    "for index, row in r.iterrows():\n",
    "    if \"[\" in str(row.Chimera_accessions):\n",
    "        l=ast.literal_eval(row.Chimera_accessions)\n",
    "        li=[x.split(\"(\")[0] for x in l if \"P_\" in x]\n",
    "        ac.extend(li)"
   ]
  },
  {
   "cell_type": "code",
   "execution_count": 6,
   "id": "c7ebeebd-4895-4eaa-b868-c37b44936e0f",
   "metadata": {},
   "outputs": [],
   "source": [
    "prot_df=prot_df.loc[:,[\"cluster\",\"taxid\",\"lineage\"]]"
   ]
  },
  {
   "cell_type": "code",
   "execution_count": 8,
   "id": "eed51ce4-be35-44a3-b9c3-ee027fbc31fa",
   "metadata": {},
   "outputs": [],
   "source": [
    "prot_df['in_search_set']=[x in list(ac) for x in prot_df.index]"
   ]
  },
  {
   "cell_type": "code",
   "execution_count": 9,
   "id": "9d3010b2-b250-4d3c-b6e6-57eda08a4ddb",
   "metadata": {},
   "outputs": [],
   "source": [
    "for index, row in prot_df.iterrows():\n",
    "    l=ast.literal_eval(row['lineage'])\n",
    "    prot_df.loc[index,\"tax_class\"]=l['class']\n",
    "    prot_df.loc[index,\"tax_order\"]=l['order']\n",
    "    prot_df.loc[index,\"tax_species\"]=l['species']\n"
   ]
  },
  {
   "cell_type": "code",
   "execution_count": 77,
   "id": "5721038e-e19a-4909-b24f-8b66d558242c",
   "metadata": {},
   "outputs": [],
   "source": [
    "for index, row in df.iterrows():\n",
    "    df.loc[index,'taxid_set']=str(set(prot_df[prot_df.cluster==index].taxid))\n",
    "    df.loc[index,'species_set']=str(set(prot_df[prot_df.cluster==index].tax_species))\n",
    "    df.loc[index,'order_dist']=str(dict(Counter(prot_df[prot_df.cluster==index].tax_order)))\n",
    "    df.loc[index,'class_dist']=str(dict(Counter(prot_df[prot_df.cluster==index].tax_class)))\n",
    "    "
   ]
  },
  {
   "cell_type": "code",
   "execution_count": 14,
   "id": "40a6f63c-0c42-4b2a-b43b-33e02c1ab03c",
   "metadata": {},
   "outputs": [],
   "source": [
    "prot_df=prot_df.loc[:,['in_search_set','cluster','taxid','tax_class','tax_order','tax_species','lineage']]\n",
    "prot_df.to_csv('all_protein_tax_info.csv')"
   ]
  },
  {
   "cell_type": "code",
   "execution_count": 84,
   "id": "087431cb-ef5a-4edf-ad4b-31098eb416e7",
   "metadata": {},
   "outputs": [],
   "source": [
    "df.loc[:, ['species_set', 'taxid_set', 'n_species', 'tax_span', 'tax_span_rank',\n",
    "       'order_dist', 'class_dist']].to_csv(\"tax_span_info.csv\")"
   ]
  },
  {
   "cell_type": "code",
   "execution_count": 3,
   "id": "fdc9ab7c-226e-4ee0-9c92-c99acfdd3f76",
   "metadata": {},
   "outputs": [],
   "source": [
    "from pathlib import Path\n",
    "import sys\n",
    "import matplotlib.pyplot as plt\n",
    "\n",
    "import matplotlib.font_manager\n",
    "from matplotlib.font_manager import FontProperties\n",
    "\n",
    "import matplotlib as mpl\n",
    "from matplotlib.patches import Patch\n",
    "from matplotlib.lines import Line2D\n",
    "fpath = Path(mpl.get_data_path(), \"/n/holylabs/LABS/extavour_lab/Users/rkapoor/envs/plot/fonts/arial.ttf\")\n",
    "from matplotlib.font_manager import FontProperties\n",
    "from matplotlib import font_manager\n",
    "plt.rcParams['figure.dpi'] = 300\n",
    "font_path = \"/n/holylabs/LABS/extavour_lab/Users/rkapoor/envs/plot/fonts/arial.ttf\"\n",
    "font_manager.fontManager.addfont(\"/n/holylabs/LABS/extavour_lab/Users/rkapoor/envs/plot/fonts/arial.ttf\")\n",
    "prop = font_manager.FontProperties(fname=font_path)\n",
    "plt.rcParams['font.family'] = 'sans-serif'\n",
    "plt.rcParams['font.sans-serif'] = prop.get_name()\n",
    "import numpy as np"
   ]
  },
  {
   "cell_type": "markdown",
   "id": "2f98b898-a9af-4802-b204-b06e9691b405",
   "metadata": {},
   "source": [
    "## 2A. Chimeras per genome (for species w/ refseq genomes)\n"
   ]
  },
  {
   "cell_type": "code",
   "execution_count": 14,
   "id": "afbe1f50-e8e4-4680-bf92-7ba9d089411a",
   "metadata": {},
   "outputs": [],
   "source": [
    "from Bio import Entrez\n",
    "#written with chatgpt\n",
    "def fetch_species_name_and_taxid(protein_accession):\n",
    "    # Set email address (NCBI requires this)\n",
    "    Entrez.email = \"your_email@example.com\"  # Replace with your email address\n",
    "\n",
    "    # Fetch protein record from NCBI\n",
    "    try:\n",
    "        handle = Entrez.efetch(db=\"protein\", id=protein_accession, rettype=\"gb\", retmode=\"text\")\n",
    "        data = handle.read()\n",
    "        handle.close()\n",
    "    except Exception as e:\n",
    "        print(f\"Error fetching data: {e}\")\n",
    "        return None, None\n",
    "\n",
    "    # Find species name and taxid in the record\n",
    "    import re\n",
    "    try:\n",
    "        # Regular expressions to find species name and taxid\n",
    "        species_pattern = re.compile(r'/organism=\"([^\"]+)\"')\n",
    "        taxid_pattern = re.compile(r'/db_xref=\"taxon:(\\d+)\"')\n",
    "        \n",
    "        species_match = species_pattern.search(data)\n",
    "        taxid_match = taxid_pattern.search(data)\n",
    "        \n",
    "        species_name = species_match.group(1) if species_match else \"Unknown\"\n",
    "        taxid = taxid_match.group(1) if taxid_match else \"Unknown\"\n",
    "        \n",
    "        return species_name\n",
    "    except Exception as e:\n",
    "        print(f\"Error parsing data: {e}\")\n",
    "        return None, None\n",
    "\n"
   ]
  },
  {
   "cell_type": "code",
   "execution_count": 41,
   "id": "bd949cef-198d-4554-9835-d4b944f2f37a",
   "metadata": {
    "tags": []
   },
   "outputs": [],
   "source": [
    "from Bio import Entrez\n",
    "\n",
    "def get_taxid_from_species(species_name, email):\n",
    "    \"\"\"\n",
    "    Fetches the TaxID for a given species name from NCBI.\n",
    "    \n",
    "    Parameters:\n",
    "    - species_name: The name of the species.\n",
    "    - email: Your email address (required by NCBI).\n",
    "    \n",
    "    Returns:\n",
    "    - TaxID of the species or None if not found.\n",
    "    \"\"\"\n",
    "    Entrez.email = email  # Always tell NCBI who you are\n",
    "    \n",
    "    try:\n",
    "        # Search NCBI Taxonomy database for the species\n",
    "        handle = Entrez.esearch(db=\"taxonomy\", term=species_name, retmode=\"xml\")\n",
    "        record = Entrez.read(handle)\n",
    "        handle.close()\n",
    "        \n",
    "        # Check if any results were found\n",
    "        if record[\"Count\"] == \"0\":\n",
    "            print(f\"No TaxID found for species: {species_name}\")\n",
    "            return None\n",
    "        \n",
    "        # Extract TaxID from the first result\n",
    "        taxid = record[\"IdList\"][0]\n",
    "        return taxid\n",
    "\n",
    "    except Exception as e:\n",
    "        print(f\"An error occurred: {e}\")\n",
    "        return None\n"
   ]
  },
  {
   "cell_type": "code",
   "execution_count": 24,
   "id": "c49fd5cf-203f-4e85-b1c8-3dc6ec46ed00",
   "metadata": {},
   "outputs": [],
   "source": [
    "chimeras_per_species={}\n",
    "for index, row in df.iterrows():\n",
    "    l=ast.literal_eval(row[\"secondary_chimeras\"])\n",
    "    for seq in l:\n",
    "        sp=fetch_species_name_and_taxid(seq)\n",
    "        if sp not in chimeras_per_species:\n",
    "            chimeras_per_species[sp]=[]\n",
    "     \n",
    "        spl=chimeras_per_species[sp]\n",
    "        spl.append(f\"{seq}({index})\")\n",
    "        chimeras_per_species[sp]=spl\n",
    "        \n",
    "\n",
    "\n",
    "        "
   ]
  },
  {
   "cell_type": "code",
   "execution_count": 42,
   "id": "91923cbb-25f3-4076-bca8-967368b884f4",
   "metadata": {},
   "outputs": [],
   "source": [
    "df_chimeras_per_species=pd.DataFrame()\n",
    "for sp in chimeras_per_species:\n",
    "    df_chimeras_per_species.loc[sp,\"taxid\"]=get_taxid_from_species(sp, \"your.email@example.com\")\n",
    "    df_chimeras_per_species.loc[sp,\"N_chimeras\"]=len(chimeras_per_species[sp])\n",
    "    df_chimeras_per_species.loc[sp,\"Chimera_accessions\"]=str(chimeras_per_species[sp])\n",
    "    \n"
   ]
  },
  {
   "cell_type": "code",
   "execution_count": 120,
   "id": "d6aa50fb-4997-444a-8201-1b13e7c4e3f3",
   "metadata": {},
   "outputs": [],
   "source": [
    "df_chimeras_per_species['refseq_annotation']=[int(x) in list(acdf.taxid.astype(int)) for x in df_chimeras_per_species.taxid]"
   ]
  },
  {
   "cell_type": "code",
   "execution_count": 153,
   "id": "1f549115-2494-4179-960a-d9d2e5540921",
   "metadata": {},
   "outputs": [],
   "source": [
    "for index, row in df_chimeras_per_species.iterrows():\n",
    "    l=ast.literal_eval(row[\"Chimera_accessions\"])\n",
    "    df_chimeras_per_species.loc[index,\"N_refseq_chimeras\"]=len([x for x in l if \"P_\" in x])"
   ]
  },
  {
   "cell_type": "code",
   "execution_count": 124,
   "id": "898be43e-e08b-4f3e-8e0e-f1c685bc878a",
   "metadata": {},
   "outputs": [],
   "source": [
    "df_chimeras_per_species=df_chimeras_per_species.loc[:,['taxid', 'refseq_annotation','Chimera_accessions','N_chimeras','N_refseq_chimeras']]"
   ]
  },
  {
   "cell_type": "code",
   "execution_count": 192,
   "id": "47a01350-c853-4ace-897d-93daa67bec42",
   "metadata": {},
   "outputs": [],
   "source": [
    "for x in mi:\n",
    "    name=acdf[acdf.taxid==x][\"organism\"].values[0].split(\"(\")[0]\n",
    "    df_chimeras_per_species.loc[name,[\"refseq_annotation\",\"taxid\",\"N_chimeras\",\"N_refseq_chimeras\"]]=[True,x,0,0]\n",
    "    "
   ]
  },
  {
   "cell_type": "code",
   "execution_count": 201,
   "id": "86b3463a-5886-43de-859d-8892102270c0",
   "metadata": {},
   "outputs": [],
   "source": [
    "df_chimeras_per_species.to_csv(\"chimeras_per_species_v2.csv\")"
   ]
  },
  {
   "cell_type": "code",
   "execution_count": 13,
   "id": "9d935760-6571-445e-a90a-5fc036e974cd",
   "metadata": {},
   "outputs": [],
   "source": [
    "##Load dataframe (after manual proofreading)\n",
    "df_chimeras_per_species=pd.read_csv(\"data_upload_3_24_2025/Supplementary Table III_ HGT-chimeras per species - chimeras_per_species.tsv\",sep=\"\\t\")"
   ]
  },
  {
   "cell_type": "code",
   "execution_count": 15,
   "id": "7fed9cd5-97f4-46e1-b193-9cfef2d46fd4",
   "metadata": {},
   "outputs": [
    {
     "data": {
      "image/png": "[encoded data removed]",
      "text/plain": [
       "<Figure size 432x288 with 1 Axes>"
      ]
     },
     "metadata": {
      "needs_background": "light"
     },
     "output_type": "display_data"
    }
   ],
   "source": [
    "cm=Counter(list(df_chimeras_per_species[df_chimeras_per_species.in_search_set].N_refseq_chimeras))\n",
    "bars = plt.bar([x for x in cm], [cm[x] for x in cm], color='black')\n",
    "\n",
    "# Add labels over the bars\n",
    "for bar in bars:\n",
    "    yval = bar.get_height()\n",
    "    plt.text(bar.get_x() + bar.get_width() / 2, yval, int(yval), ha='center', va='bottom', fontsize=10, color='black')\n",
    "\n",
    "plt.xlabel(\"Number of HGT-chimeras in genome annotation\", size=12)\n",
    "plt.ylabel(\"Number of species\", size=12)\n",
    "plt.savefig(\"figures/Figure2/Fig2A.HGT_chimeras_per_genome.svg\", format=\"svg\")\n",
    "plt.show()"
   ]
  },
  {
   "cell_type": "code",
   "execution_count": 18,
   "id": "90ea5ca2-62cf-436e-a767-c3ed641a5bd1",
   "metadata": {},
   "outputs": [],
   "source": [
    "r=df_chimeras_per_species[df_chimeras_per_species.in_search_set]"
   ]
  },
  {
   "cell_type": "code",
   "execution_count": 19,
   "id": "5e6cfca5-1d85-483f-a2be-1ee9b0984348",
   "metadata": {},
   "outputs": [
    {
     "data": {
      "text/plain": [
       "149"
      ]
     },
     "execution_count": 19,
     "metadata": {},
     "output_type": "execute_result"
    }
   ],
   "source": [
    "r[r.N_refseq_chimeras>0].shape[0]"
   ]
  },
  {
   "cell_type": "markdown",
   "id": "f64d95d7-a3bc-4ee8-9bfa-74bbcb796608",
   "metadata": {},
   "source": [
    "## SI Figure 4. Chimeras per taxonomic class"
   ]
  },
  {
   "cell_type": "code",
   "execution_count": 38,
   "id": "f1d89e58-2cb1-4ce2-a859-b38c36183432",
   "metadata": {},
   "outputs": [],
   "source": [
    "acdf=pd.read_csv(\"data_upload_3_24_2025/Supplementary Table I_ genome_info.csv - chromosome_scaffold_level.tsv\",sep=\"\\t\")\n",
    "df=pd.read_csv(\"data_upload_3_24_2025/Supplementary Table IV_ chimera taxonomic distribution - tax_span_info_all_genomes.tsv\",sep=\"\\t\")"
   ]
  },
  {
   "cell_type": "code",
   "execution_count": 57,
   "id": "2645fda3-5758-4556-897d-f4705ee2aca9",
   "metadata": {},
   "outputs": [],
   "source": [
    "df.to_csv(\"data_upload_3_24_2025/Supplementary Table IV_ chimera taxonomic distribution - tax_span_info_all_genomes.tsv\",sep=\"\\t\")"
   ]
  },
  {
   "cell_type": "code",
   "execution_count": 34,
   "id": "ec2f13c8-2857-4413-98bd-9924d2133836",
   "metadata": {},
   "outputs": [],
   "source": [
    "taxid_class=dict()\n",
    "for index, row in acdf.iterrows():\n",
    "    taxid_class[row.taxid]=row[\"class\"]"
   ]
  },
  {
   "cell_type": "code",
   "execution_count": 35,
   "id": "8beacaac-acb5-4de2-b287-7fa5b20f35d1",
   "metadata": {},
   "outputs": [],
   "source": [
    "taxids=[]"
   ]
  },
  {
   "cell_type": "code",
   "execution_count": 36,
   "id": "9d530d18-0b1f-47d7-9ea8-a261857c9324",
   "metadata": {},
   "outputs": [],
   "source": [
    "import ast"
   ]
  },
  {
   "cell_type": "code",
   "execution_count": 47,
   "id": "b9c5061b-fca6-415e-bdee-82c2dc564c56",
   "metadata": {
    "tags": []
   },
   "outputs": [],
   "source": [
    "for index, row in df.iterrows():\n",
    "    taxids.extend(list([int(x) for x in ast.literal_eval(row[\"taxid_set\"])]))\n",
    "    "
   ]
  },
  {
   "cell_type": "code",
   "execution_count": 48,
   "id": "bec30fea-8a72-48d1-8600-e3e76e344e39",
   "metadata": {},
   "outputs": [],
   "source": [
    "taxid_set=set(taxids)-set([\"Hexanauplia\"])"
   ]
  },
  {
   "cell_type": "code",
   "execution_count": 49,
   "id": "bc5723fc-3d12-43f0-902c-f36b2cefb66c",
   "metadata": {},
   "outputs": [],
   "source": [
    "n_datasets=Counter(acdf[\"class\"])"
   ]
  },
  {
   "cell_type": "code",
   "execution_count": 50,
   "id": "d13071a9-7921-40b6-894d-a5c5bfbcbac6",
   "metadata": {},
   "outputs": [],
   "source": [
    "class_g1chimera={}\n",
    "for x in set(acdf[\"class\"]):\n",
    "    class_g1chimera[x]=0\n",
    "for x in taxid_set:\n",
    "    if x in taxid_class:\n",
    "        class_g1chimera[taxid_class[x]]+=1"
   ]
  },
  {
   "cell_type": "code",
   "execution_count": 52,
   "id": "eb47a991-ec58-4fb6-a8c8-a82dd9d7b378",
   "metadata": {},
   "outputs": [],
   "source": [
    "n_chimera={}\n",
    "for x in set(acdf[\"class\"]):\n",
    "    n_chimera[x]=0\n",
    "for index, row in df.iterrows():\n",
    "    tids=list([int(x) for x in ast.literal_eval(row[\"taxid_set\"])])\n",
    "    classes=set([taxid_class[x] for x in tids if x in taxid_class])\n",
    "    for c in classes:\n",
    "        n_chimera[c]+=1\n",
    "        "
   ]
  },
  {
   "cell_type": "code",
   "execution_count": 53,
   "id": "5d07e274-f16b-40db-8244-7e9f2eb91c7b",
   "metadata": {},
   "outputs": [],
   "source": [
    "class_data=pd.DataFrame(index=list(n_chimera.keys()))\n",
    "for index, row in class_data.iterrows():\n",
    "    class_data.loc[index,\"N_datasets\"]=n_datasets[index]\n",
    "    class_data.loc[index,\"N_datasets_with_at_least_1_chimera\"]=class_g1chimera[index]\n",
    "    class_data.loc[index,\"N_chimeras\"]=n_chimera[index]"
   ]
  },
  {
   "cell_type": "code",
   "execution_count": 54,
   "id": "c4fde4c2-0d1c-430c-839b-2ed10b24fbba",
   "metadata": {},
   "outputs": [],
   "source": [
    "class_data = class_data.rename(index={\"Hexanauplia\": \"Copepoda\"})"
   ]
  },
  {
   "cell_type": "code",
   "execution_count": 55,
   "id": "3ef6b190-3be6-4467-8176-726490367112",
   "metadata": {},
   "outputs": [],
   "source": [
    "f=open(\"itol_pie_chart.txt\",\"a\")\n",
    "for index, row in class_data.iterrows():\n",
    "    no_chimera=int(row.N_datasets)-int(row.N_datasets_with_at_least_1_chimera)\n",
    "    at_least_one=int(row.N_datasets_with_at_least_1_chimera)\n",
    "    f.write(f\"{index},-1,10,{no_chimera},{at_least_one}\\n\")\n",
    "f.close()"
   ]
  },
  {
   "cell_type": "code",
   "execution_count": 56,
   "id": "d676b610-6740-431f-bb59-9559df1f520f",
   "metadata": {},
   "outputs": [
    {
     "data": {
      "text/html": [
       "<div>\n",
       "<style scoped>\n",
       "    .dataframe tbody tr th:only-of-type {\n",
       "        vertical-align: middle;\n",
       "    }\n",
       "\n",
       "    .dataframe tbody tr th {\n",
       "        vertical-align: top;\n",
       "    }\n",
       "\n",
       "    .dataframe thead th {\n",
       "        text-align: right;\n",
       "    }\n",
       "</style>\n",
       "<table border=\"1\" class=\"dataframe\">\n",
       "  <thead>\n",
       "    <tr style=\"text-align: right;\">\n",
       "      <th></th>\n",
       "      <th>N_datasets</th>\n",
       "      <th>N_datasets_with_at_least_1_chimera</th>\n",
       "      <th>N_chimeras</th>\n",
       "    </tr>\n",
       "  </thead>\n",
       "  <tbody>\n",
       "    <tr>\n",
       "      <th>Arachnida</th>\n",
       "      <td>13.0</td>\n",
       "      <td>4.0</td>\n",
       "      <td>5.0</td>\n",
       "    </tr>\n",
       "    <tr>\n",
       "      <th>Thecostraca</th>\n",
       "      <td>1.0</td>\n",
       "      <td>0.0</td>\n",
       "      <td>0.0</td>\n",
       "    </tr>\n",
       "    <tr>\n",
       "      <th>Insecta</th>\n",
       "      <td>207.0</td>\n",
       "      <td>134.0</td>\n",
       "      <td>26.0</td>\n",
       "    </tr>\n",
       "    <tr>\n",
       "      <th>Hexanauplia/Copepoda</th>\n",
       "      <td>2.0</td>\n",
       "      <td>1.0</td>\n",
       "      <td>1.0</td>\n",
       "    </tr>\n",
       "    <tr>\n",
       "      <th>Malacostraca</th>\n",
       "      <td>9.0</td>\n",
       "      <td>6.0</td>\n",
       "      <td>3.0</td>\n",
       "    </tr>\n",
       "    <tr>\n",
       "      <th>Branchiopoda</th>\n",
       "      <td>3.0</td>\n",
       "      <td>3.0</td>\n",
       "      <td>5.0</td>\n",
       "    </tr>\n",
       "    <tr>\n",
       "      <th>Collembola</th>\n",
       "      <td>1.0</td>\n",
       "      <td>1.0</td>\n",
       "      <td>6.0</td>\n",
       "    </tr>\n",
       "    <tr>\n",
       "      <th>Merostomata</th>\n",
       "      <td>1.0</td>\n",
       "      <td>0.0</td>\n",
       "      <td>0.0</td>\n",
       "    </tr>\n",
       "  </tbody>\n",
       "</table>\n",
       "</div>"
      ],
      "text/plain": [
       "                      N_datasets  N_datasets_with_at_least_1_chimera  \\\n",
       "Arachnida                   13.0                                 4.0   \n",
       "Thecostraca                  1.0                                 0.0   \n",
       "Insecta                    207.0                               134.0   \n",
       "Hexanauplia/Copepoda         2.0                                 1.0   \n",
       "Malacostraca                 9.0                                 6.0   \n",
       "Branchiopoda                 3.0                                 3.0   \n",
       "Collembola                   1.0                                 1.0   \n",
       "Merostomata                  1.0                                 0.0   \n",
       "\n",
       "                      N_chimeras  \n",
       "Arachnida                    5.0  \n",
       "Thecostraca                  0.0  \n",
       "Insecta                     26.0  \n",
       "Hexanauplia/Copepoda         1.0  \n",
       "Malacostraca                 3.0  \n",
       "Branchiopoda                 5.0  \n",
       "Collembola                   6.0  \n",
       "Merostomata                  0.0  "
      ]
     },
     "execution_count": 56,
     "metadata": {},
     "output_type": "execute_result"
    }
   ],
   "source": [
    "class_data"
   ]
  },
  {
   "cell_type": "markdown",
   "id": "4277da9e-d5f7-41b3-95ad-b0c97648e53d",
   "metadata": {},
   "source": [
    "## SI Figure 5 Taxonomic range of HGT-chimeras\n"
   ]
  },
  {
   "cell_type": "code",
   "execution_count": 27,
   "id": "2c48cb32-914f-4ea6-adff-9a3cf8dacc69",
   "metadata": {},
   "outputs": [],
   "source": [
    "df=pd.read_csv(\"data_upload_3_24_2025/Supplementary Table IV_ chimera taxonomic distribution - tax_span_info_all_genomes.tsv\",sep=\"\\t\")"
   ]
  },
  {
   "cell_type": "code",
   "execution_count": 28,
   "id": "458890e6-9f48-41ed-a872-73c0e9f31392",
   "metadata": {},
   "outputs": [
    {
     "data": {
      "image/png": "[encoded data removed]",
      "text/plain": [
       "<Figure size 432x288 with 1 Axes>"
      ]
     },
     "metadata": {
      "needs_background": "light"
     },
     "output_type": "display_data"
    }
   ],
   "source": [
    "import matplotlib.pyplot as plt\n",
    "from collections import Counter\n",
    "\n",
    "# Assuming df is your DataFrame\n",
    "counter = Counter(df.tax_span_rank)\n",
    "values = [\"phylum\",\"subclass\",\"infraclass\",\"order\",\"infraorder\",\"parvorder\",\"superfamily\",\"genus\",\"subgenus\",\"species\"]\n",
    "counts = [counter[x] for x in values]\n",
    "\n",
    "# Plot the histogram on the first subplot\n",
    "plt.barh(values, counts, color='black')\n",
    "plt.xlabel(\"Number of HGT-chimeras\", fontsize=12)\n",
    "plt.ylabel(\"Taxonomic group\", fontsize=12)\n",
    "plt.title(\"Broadest taxonomic group of HGT-chimeras\",fontsize=12)\n",
    "for index, value in enumerate(counts):\n",
    "    plt.text(value, index, str(value), va='center', ha='left', fontsize=12, color='black')\n",
    "plt.savefig(\"figures/Figure2/Fig2C.Broadest_taxonomic_group.png\", format=\"png\")\n",
    "plt.show()"
   ]
  },
  {
   "cell_type": "markdown",
   "id": "1db679ae-4357-48c2-b3c5-40f0ba60e051",
   "metadata": {},
   "source": [
    "## Figure 2C: Broadest taxonomic group of HGT-chimeras"
   ]
  },
  {
   "cell_type": "code",
   "execution_count": 31,
   "id": "716e6c10-a6fa-4dd5-8dd7-1089f30e68cb",
   "metadata": {},
   "outputs": [
    {
     "data": {
      "image/png": "[encoded data removed]",
      "text/plain": [
       "<Figure size 432x288 with 1 Axes>"
      ]
     },
     "metadata": {
      "needs_background": "light"
     },
     "output_type": "display_data"
    },
    {
     "data": {
      "image/png": "[encoded data removed]",
      "text/plain": [
       "<Figure size 432x288 with 1 Axes>"
      ]
     },
     "metadata": {
      "needs_background": "light"
     },
     "output_type": "display_data"
    }
   ],
   "source": [
    "plt.hist(df.n_species,color=\"black\",bins=200)\n",
    "plt.xlabel(\"Number of species in which HGT-chimera is found\")\n",
    "plt.ylabel(\"Number of HGT-chimeras\")\n",
    "plt.show()\n",
    "plt.hist(df.n_species,color=\"black\",bins=200)\n",
    "plt.xlim(0,25)\n",
    "plt.xlabel(\"Number of species in which HGT-chimera is found\")\n",
    "plt.ylabel(\"Number of HGT-chimeras\")\n",
    "plt.savefig(\"figures/Figure2/Fig2D.species_per_chimera.svg\", format=\"svg\")\n",
    "plt.show()"
   ]
  }
 ],
 "metadata": {
  "kernelspec": {
   "display_name": "Python [conda env:.conda-rishabh]",
   "language": "python",
   "name": "conda-env-.conda-rishabh-py"
  },
  "language_info": {
   "codemirror_mode": {
    "name": "ipython",
    "version": 3
   },
   "file_extension": ".py",
   "mimetype": "text/x-python",
   "name": "python",
   "nbconvert_exporter": "python",
   "pygments_lexer": "ipython3",
   "version": "3.9.7"
  }
 },
 "nbformat": 4,
 "nbformat_minor": 5
}
