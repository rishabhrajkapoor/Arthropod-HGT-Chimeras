{
 "cells": [
  {
   "cell_type": "code",
   "execution_count": 9,
   "id": "b80dc049-0a33-4187-8d68-c73cf0b04a66",
   "metadata": {},
   "outputs": [
    {
     "name": "stderr",
     "output_type": "stream",
     "text": [
      "/n/home11/rkapoor/.conda/envs/rishabh/lib/python3.9/site-packages/scipy/__init__.py:146: UserWarning: A NumPy version >=1.16.5 and <1.23.0 is required for this version of SciPy (detected version 1.26.4\n",
      "  warnings.warn(f\"A NumPy version >={np_minversion} and <{np_maxversion}\"\n"
     ]
    }
   ],
   "source": [
    "import numpy as np\n",
    "from scipy.stats import percentileofscore\n",
    "import itolapi\n",
    "from itolapi import Itol\n",
    "import os\n",
    "from pathlib import Path\n",
    "import sys\n",
    "\n",
    "import pandas as pd\n",
    "import toytree       # a tree plotting library\n",
    "import toyplot       # a general plotting library\n",
    "import numpy as np   # numerical library\n",
    "import os\n",
    "from Bio import SeqIO\n",
    "from Bio import Entrez\n",
    "import subprocess\n",
    "import toyplot.png\n",
    "import matplotlib.pyplot as plt\n",
    "import matplotlib.colors as mcolors\n",
    "import subprocess\n",
    "import multiprocessing as mp\n",
    "import ast\n",
    "from Bio.Data import CodonTable\n",
    "import ast\n"
   ]
  },
  {
   "cell_type": "code",
   "execution_count": 36,
   "id": "4d750430-8e19-403f-b071-9a15c8092a41",
   "metadata": {},
   "outputs": [],
   "source": [
    "df_cluster=pd.read_csv(\"revised_cluster_info_v3.csv\",index_col=0)"
   ]
  },
  {
   "cell_type": "code",
   "execution_count": 7,
   "id": "9df139d9-a4dc-44da-bc23-7158f07f0b13",
   "metadata": {
    "collapsed": true,
    "jupyter": {
     "outputs_hidden": true
    },
    "tags": []
   },
   "outputs": [
    {
     "name": "stdout",
     "output_type": "stream",
     "text": [
      "URL transformed to HTTPS due to an HSTS policy\n",
      "--2023-10-11 11:42:27--  https://eutils.ncbi.nlm.nih.gov/entrez/eutils/efetch.fcgi?db=protein&id=XP_025421543.1&report=gene_table&format=text\n",
      "Resolving eutils.ncbi.nlm.nih.gov... 130.14.29.110, 2607:f220:41e:4290::110\n",
      "Connecting to eutils.ncbi.nlm.nih.gov|130.14.29.110|:443... connected.\n",
      "HTTP request sent, awaiting response... 200 OK\n",
      "Length: unspecified [text/plain]\n",
      "Saving to: ‘expression_support/XP_025421543.1’\n",
      "\n",
      "expression_support/     [ <=>                ]  11.47K  --.-KB/s    in 0.01s   \n",
      "\n",
      "2023-10-11 11:42:29 (838 KB/s) - ‘expression_support/XP_025421543.1’ saved [11741]\n",
      "\n"
     ]
    }
   ],
   "source": [
    "#query ncbi for meta data file including expression support for each protein \n",
    "os.mkdir(\"expression_support\")\n",
    "for accession in dfc.index:\n",
    "    \n",
    "    !wget -O \"expression_support/$accession\" \"http://eutils.ncbi.nlm.nih.gov/entrez/eutils/efetch.fcgi?db=protein&id=$accession&report=gene_table&format=text\"\n",
    "\n",
    "# Sample data string (replace this with your actual data)\n",
    "for index,row in df_cluster.iterrows():\n",
    "    x=row.representative_seq\n",
    "    # Split the data into lines\n",
    "    lines = open(f\"expression_support/{x}\",\"r\").readlines()\n",
    "\n",
    "    for i in range(len(lines)):\n",
    "        l=lines[i]\n",
    "        if \"pct_ab_initio\" in l:\n",
    "            df_cluster.loc[index,\"pct_ab_initio\"]=ast.literal_eval(lines[i+1].strip().split()[-1])\n",
    "        if \"CDS support\" in l:\n",
    "            df_cluster.loc[index,\"CDS_support\"]=lines[i+1].strip().split()[-1]"
   ]
  },
  {
   "cell_type": "code",
   "execution_count": 38,
   "id": "d3ca6df1-cb4d-4420-8689-deadc1d2bc2b",
   "metadata": {
    "tags": []
   },
   "outputs": [],
   "source": [
    "# Sample data string (replace this with your actual data)\n",
    "for index,row in df_cluster.iterrows():\n",
    "    x=row.representative_seq\n",
    "    # Split the data into lines\n",
    "    lines = open(f\"expression_support/{x}\",\"r\").readlines()\n",
    "\n",
    "    for i in range(len(lines)):\n",
    "        l=lines[i]\n",
    "        if \"pct_ab_initio\" in l:\n",
    "            df_cluster.loc[index,\"pct_ab_initio\"]=ast.literal_eval(lines[i+1].strip().split()[-1])\n",
    "        if \"CDS support\" in l:\n",
    "            df_cluster.loc[index,\"CDS_support\"]=lines[i+1].strip().split()[-1]\n"
   ]
  },
  {
   "cell_type": "code",
   "execution_count": 46,
   "id": "7bbb1b4e-9d68-40bd-b3ca-4ee53ebf8a78",
   "metadata": {},
   "outputs": [],
   "source": [
    "df_rnaseq=df_cluster.loc[:,['pct_ab_initio','CDS_support']]\n",
    "\n",
    "df_rnaseq[\"CDS_support\"]=df_rnaseq[\"CDS_support\"].fillna(\"partial\")\n",
    "#output precursor to supplementary table X (manually add inspection results)\n",
    "df_rnaseq.to_csv(\"rnaseq_support.csv\")"
   ]
  },
  {
   "cell_type": "code",
   "execution_count": null,
   "id": "14da8047-8ebc-4247-af05-7b909dda134a",
   "metadata": {},
   "outputs": [],
   "source": []
  }
 ],
 "metadata": {
  "kernelspec": {
   "display_name": "Python [conda env:.conda-rishabh]",
   "language": "python",
   "name": "conda-env-.conda-rishabh-py"
  },
  "language_info": {
   "codemirror_mode": {
    "name": "ipython",
    "version": 3
   },
   "file_extension": ".py",
   "mimetype": "text/x-python",
   "name": "python",
   "nbconvert_exporter": "python",
   "pygments_lexer": "ipython3",
   "version": "3.9.7"
  }
 },
 "nbformat": 4,
 "nbformat_minor": 5
}
