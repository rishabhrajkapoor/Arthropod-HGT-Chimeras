{
 "cells": [
  {
   "cell_type": "code",
   "execution_count": 17,
   "id": "c647714d-0253-43e9-9e16-c7535adaec7f",
   "metadata": {},
   "outputs": [],
   "source": [
    "import pandas as pd\n",
    "import ete3"
   ]
  },
  {
   "cell_type": "code",
   "execution_count": 18,
   "id": "d2dbcc98-cb96-4a7a-89ba-0b02485fcdb9",
   "metadata": {},
   "outputs": [],
   "source": [
    "df=pd.read_csv(\"corrected_cluster_info.tsv\",sep=\"\\t\",index_col=0)"
   ]
  },
  {
   "cell_type": "code",
   "execution_count": 19,
   "id": "1ab064d6-fce2-44a1-a622-dface61849e9",
   "metadata": {},
   "outputs": [],
   "source": [
    "f=open(\"itol_metadata.txt\",\"a\")\n",
    "tot=0\n",
    "for t in set(df[df.n_species==1].tax_span):\n",
    "    ns=df[df.tax_span==t].shape[0]\n",
    "    tot+=ns\n",
    "    f.write(t+f\"*,{ns}\"+\"\\n\")\n",
    "for t in set(df[df.n_species>1].tax_span):\n",
    "    ns=df[df.tax_span==t].shape[0]\n",
    "    tot+=ns\n",
    "    f.write(t+f\",{ns}\"+\"\\n\")\n",
    "f.close()"
   ]
  },
  {
   "cell_type": "code",
   "execution_count": 22,
   "id": "0f692434-7b06-4e39-abf8-8ce527997bf3",
   "metadata": {},
   "outputs": [],
   "source": [
    "df.index=list(range(df.shape[0]))"
   ]
  },
  {
   "cell_type": "code",
   "execution_count": 24,
   "id": "5df8f376-26b1-453c-bb6b-4a3e405a609e",
   "metadata": {},
   "outputs": [],
   "source": [
    "df.to_csv(\"corrected_cluster_info.tsv\",sep=\"\\t\")"
   ]
  },
  {
   "cell_type": "code",
   "execution_count": 16,
   "id": "3c9cc2cc-502d-411a-bd46-3662e043ac82",
   "metadata": {
    "tags": []
   },
   "outputs": [],
   "source": [
    "f=open(\"itol_n_species_bar.txt\",\"r\")\n",
    "f2=open(\"itol_n_species_bar2.txt\",\"w\")\n",
    "d=False\n",
    "for x in f.readlines():\n",
    "    if '\"DATA\" keyword' in x:\n",
    "        d=True\n",
    "    if \",\" in x and d:\n",
    "        n=df[df.species_set.str.contains(x.split(\",\")[0].replace(\"*\",\"\"))].shape[0]\n",
    "        f2.write(x.split(\",\")[0]+\",\"+str(n)+\"\\n\")\n",
    "    else:\n",
    "        f2.write(x)\n",
    "f2.close()"
   ]
  },
  {
   "cell_type": "code",
   "execution_count": null,
   "id": "e723a256-b255-408e-befc-f829924ec776",
   "metadata": {},
   "outputs": [],
   "source": []
  }
 ],
 "metadata": {
  "kernelspec": {
   "display_name": "Python [conda env:.conda-rishabh]",
   "language": "python",
   "name": "conda-env-.conda-rishabh-py"
  },
  "language_info": {
   "codemirror_mode": {
    "name": "ipython",
    "version": 3
   },
   "file_extension": ".py",
   "mimetype": "text/x-python",
   "name": "python",
   "nbconvert_exporter": "python",
   "pygments_lexer": "ipython3",
   "version": "3.9.7"
  }
 },
 "nbformat": 4,
 "nbformat_minor": 5
}
